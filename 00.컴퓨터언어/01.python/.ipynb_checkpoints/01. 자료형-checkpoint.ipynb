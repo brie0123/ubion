{
 "cells": [
  {
   "cell_type": "markdown",
   "id": "97dd11d2",
   "metadata": {},
   "source": [
    "### 숫자형"
   ]
  },
  {
   "cell_type": "code",
   "execution_count": 1,
   "id": "5c03f897",
   "metadata": {
    "scrolled": true
   },
   "outputs": [
    {
     "name": "stdout",
     "output_type": "stream",
     "text": [
      "10.0\n"
     ]
    }
   ],
   "source": [
    "a = 3\n",
    "b = 7.0\n",
    "print(a+b)"
   ]
  },
  {
   "cell_type": "markdown",
   "id": "21a44abc",
   "metadata": {},
   "source": [
    "### 문자형"
   ]
  },
  {
   "cell_type": "code",
   "execution_count": 2,
   "id": "b9e27831",
   "metadata": {},
   "outputs": [
    {
     "data": {
      "text/plain": [
       "'Hello'"
      ]
     },
     "execution_count": 2,
     "metadata": {},
     "output_type": "execute_result"
    }
   ],
   "source": [
    "\"Hello\"\n",
    "'Hello'\n",
    "\"\"\"Hello\"\"\"  # <- 이 친구는 명령어 파라미터로도 쓸 수 있다\n",
    "'''Hello'''"
   ]
  },
  {
   "cell_type": "code",
   "execution_count": 3,
   "id": "a0d5534e",
   "metadata": {},
   "outputs": [
    {
     "data": {
      "text/plain": [
       "\"python's\""
      ]
     },
     "execution_count": 3,
     "metadata": {},
     "output_type": "execute_result"
    }
   ],
   "source": [
    "food = \"python's\"\n",
    "food"
   ]
  },
  {
   "cell_type": "code",
   "execution_count": 4,
   "id": "9461af15",
   "metadata": {},
   "outputs": [
    {
     "data": {
      "text/plain": [
       "'python\"s'"
      ]
     },
     "execution_count": 4,
     "metadata": {},
     "output_type": "execute_result"
    }
   ],
   "source": [
    "food = 'python\"s'\n",
    "food"
   ]
  },
  {
   "cell_type": "code",
   "execution_count": 5,
   "id": "8cbe58be",
   "metadata": {},
   "outputs": [
    {
     "ename": "SyntaxError",
     "evalue": "unterminated string literal (detected at line 2) (1867221556.py, line 2)",
     "output_type": "error",
     "traceback": [
      "\u001b[0;36m  Cell \u001b[0;32mIn[5], line 2\u001b[0;36m\u001b[0m\n\u001b[0;31m    food = \"python\"s\"\u001b[0m\n\u001b[0m                    ^\u001b[0m\n\u001b[0;31mSyntaxError\u001b[0m\u001b[0;31m:\u001b[0m unterminated string literal (detected at line 2)\n"
     ]
    }
   ],
   "source": [
    "#오류 사례 - 따옴표 안에 따옴표를 또 써서 충돌하는 경우\n",
    "food = \"python\"s\"\n",
    "food"
   ]
  },
  {
   "cell_type": "code",
   "execution_count": 1,
   "id": "4bd8af51",
   "metadata": {
    "scrolled": false
   },
   "outputs": [
    {
     "data": {
      "text/plain": [
       "'python\"s'"
      ]
     },
     "execution_count": 1,
     "metadata": {},
     "output_type": "execute_result"
    }
   ],
   "source": [
    "#위의 오류 고치기 - \\(역슬래시) + 따옴표 -> 문자열 기호랑 중복이어도 무시하게 만들어줌\n",
    "food =\"python\\\"s\"\n",
    "food"
   ]
  },
  {
   "cell_type": "code",
   "execution_count": 28,
   "id": "0b5d90f4",
   "metadata": {},
   "outputs": [
    {
     "name": "stdout",
     "output_type": "stream",
     "text": [
      "Life is \n",
      " You need\n"
     ]
    }
   ],
   "source": [
    "#역슬래시 응용 예시 ---- 이스케이프 코드 (\\ + 문자) : \\n -> 엔터처럼 한 줄 띄워줌\n",
    "#\\t == 탭\n",
    "multiline = \"Life is \\n You need\"\n",
    "print(multiline)"
   ]
  },
  {
   "cell_type": "code",
   "execution_count": 131,
   "id": "0e512a29",
   "metadata": {},
   "outputs": [
    {
     "name": "stdout",
     "output_type": "stream",
     "text": [
      "Life is\n",
      "You need\n"
     ]
    }
   ],
   "source": [
    "#이스케이프 코드 없이 엔터처리 하고 싶으면 -> 문자열을 \"\"\" \"\"\" 로 표기\n",
    "multiline = \"\"\"Life is\n",
    "You need\"\"\"\n",
    "print(multiline)"
   ]
  },
  {
   "cell_type": "markdown",
   "id": "f1830adc",
   "metadata": {},
   "source": [
    "*문자열 연산"
   ]
  },
  {
   "cell_type": "code",
   "execution_count": 27,
   "id": "53f22a95",
   "metadata": {},
   "outputs": [
    {
     "data": {
      "text/plain": [
       "'python is fun!'"
      ]
     },
     "execution_count": 27,
     "metadata": {},
     "output_type": "execute_result"
    }
   ],
   "source": [
    "head = 'python'\n",
    "tail = ' is fun!'\n",
    "head + tail"
   ]
  },
  {
   "cell_type": "code",
   "execution_count": 28,
   "id": "a3341f17",
   "metadata": {},
   "outputs": [
    {
     "data": {
      "text/plain": [
       "'pythonpython'"
      ]
     },
     "execution_count": 28,
     "metadata": {},
     "output_type": "execute_result"
    }
   ],
   "source": [
    "a = 'python'\n",
    "a*2"
   ]
  },
  {
   "cell_type": "code",
   "execution_count": 29,
   "id": "52eae54a",
   "metadata": {},
   "outputs": [
    {
     "name": "stdout",
     "output_type": "stream",
     "text": [
      "--------------------------------------------------\n"
     ]
    }
   ],
   "source": [
    "print(\"-\" * 50)"
   ]
  },
  {
   "cell_type": "markdown",
   "id": "ba9b0029",
   "metadata": {},
   "source": [
    "*문자열 인덱싱"
   ]
  },
  {
   "cell_type": "code",
   "execution_count": 30,
   "id": "cf443e94",
   "metadata": {
    "scrolled": true
   },
   "outputs": [
    {
     "data": {
      "text/plain": [
       "17"
      ]
     },
     "execution_count": 30,
     "metadata": {},
     "output_type": "execute_result"
    }
   ],
   "source": [
    "#문자열 길이 확인\n",
    "a = \"Life is too short\"\n",
    "len(a)"
   ]
  },
  {
   "cell_type": "code",
   "execution_count": 31,
   "id": "87641b4e",
   "metadata": {
    "scrolled": true
   },
   "outputs": [
    {
     "data": {
      "text/plain": [
       "('L', 's', 'n', 'L', 'o', 'y')"
      ]
     },
     "execution_count": 31,
     "metadata": {},
     "output_type": "execute_result"
    }
   ],
   "source": [
    "a = \"Life is too short, You need Python\"\n",
    "a[0], a[12],a[-1],a[-0],a[-2],a[-5]"
   ]
  },
  {
   "cell_type": "markdown",
   "id": "9f0a263d",
   "metadata": {},
   "source": [
    "*문자열 슬라이싱"
   ]
  },
  {
   "cell_type": "code",
   "execution_count": 32,
   "id": "799ae8f6",
   "metadata": {},
   "outputs": [
    {
     "data": {
      "text/plain": [
       "'Life'"
      ]
     },
     "execution_count": 32,
     "metadata": {},
     "output_type": "execute_result"
    }
   ],
   "source": [
    "b = a[0] + a[1] + a[2] + a[3]\n",
    "b"
   ]
  },
  {
   "cell_type": "code",
   "execution_count": 33,
   "id": "dce3f5e7",
   "metadata": {},
   "outputs": [
    {
     "data": {
      "text/plain": [
       "'short'"
      ]
     },
     "execution_count": 33,
     "metadata": {},
     "output_type": "execute_result"
    }
   ],
   "source": [
    "a = \"Life is too short, You need Python\"\n",
    "a[12:17]"
   ]
  },
  {
   "cell_type": "code",
   "execution_count": 34,
   "id": "912becfd",
   "metadata": {},
   "outputs": [
    {
     "data": {
      "text/plain": [
       "'You need'"
      ]
     },
     "execution_count": 34,
     "metadata": {},
     "output_type": "execute_result"
    }
   ],
   "source": [
    "a = \"Life is too short, You need Python\"\n",
    "a[19:-7]"
   ]
  },
  {
   "cell_type": "code",
   "execution_count": 35,
   "id": "738c37c3",
   "metadata": {},
   "outputs": [
    {
     "data": {
      "text/plain": [
       "('2023', '31', 'Rainy')"
      ]
     },
     "execution_count": 35,
     "metadata": {},
     "output_type": "execute_result"
    }
   ],
   "source": [
    "c = \"20230331Rainy\"\n",
    "year = c[0:4]\n",
    "day = c[6:8]\n",
    "weather = c[-5:]\n",
    "year,day,weather"
   ]
  },
  {
   "cell_type": "markdown",
   "id": "2179d1bb",
   "metadata": {},
   "source": [
    "pithon을 python으로 바꾸기"
   ]
  },
  {
   "cell_type": "code",
   "execution_count": 36,
   "id": "154a29ab",
   "metadata": {},
   "outputs": [
    {
     "ename": "TypeError",
     "evalue": "'str' object does not support item assignment",
     "output_type": "error",
     "traceback": [
      "\u001b[0;31m---------------------------------------------------------------------------\u001b[0m",
      "\u001b[0;31mTypeError\u001b[0m                                 Traceback (most recent call last)",
      "Cell \u001b[0;32mIn[36], line 3\u001b[0m\n\u001b[1;32m      1\u001b[0m \u001b[38;5;66;03m#실패 사례\u001b[39;00m\n\u001b[1;32m      2\u001b[0m a \u001b[38;5;241m=\u001b[39m \u001b[38;5;124m\"\u001b[39m\u001b[38;5;124mpithon\u001b[39m\u001b[38;5;124m\"\u001b[39m\n\u001b[0;32m----> 3\u001b[0m a[\u001b[38;5;241m1\u001b[39m] \u001b[38;5;241m=\u001b[39m \u001b[38;5;124m\"\u001b[39m\u001b[38;5;124my\u001b[39m\u001b[38;5;124m\"\u001b[39m\n",
      "\u001b[0;31mTypeError\u001b[0m: 'str' object does not support item assignment"
     ]
    }
   ],
   "source": [
    "#실패 사례\n",
    "a = \"pithon\"\n",
    "a[1] = \"y\""
   ]
  },
  {
   "cell_type": "code",
   "execution_count": 37,
   "id": "e393abf6",
   "metadata": {},
   "outputs": [
    {
     "data": {
      "text/plain": [
       "'python'"
      ]
     },
     "execution_count": 37,
     "metadata": {},
     "output_type": "execute_result"
    }
   ],
   "source": [
    "#맞는 방법 - 스트링은 수정할 수 없기 때문에 틀린 부분 앞뒤로 자르고 틀린 부분 바꿔 넣어서 수정해야함\n",
    "a = \"pithon\"\n",
    "a = a[:1] + 'y' + a[2:]\n",
    "a"
   ]
  },
  {
   "cell_type": "markdown",
   "id": "8c5517d0",
   "metadata": {},
   "source": [
    "**문자열 포매팅"
   ]
  },
  {
   "cell_type": "markdown",
   "id": "49aaa7ae",
   "metadata": {},
   "source": [
    "방법 1 : 포맷코드 %"
   ]
  },
  {
   "cell_type": "markdown",
   "id": "8cc97061",
   "metadata": {},
   "source": [
    "방법 2: .format() 함수 쓰기"
   ]
  },
  {
   "cell_type": "markdown",
   "id": "686e30aa",
   "metadata": {},
   "source": [
    "방법 3: f string(python version 3.6 이상부터 지원)"
   ]
  },
  {
   "cell_type": "code",
   "execution_count": 38,
   "id": "e74b2d7a",
   "metadata": {},
   "outputs": [
    {
     "data": {
      "text/plain": [
       "'I eat 3 apples.'"
      ]
     },
     "execution_count": 38,
     "metadata": {},
     "output_type": "execute_result"
    }
   ],
   "source": [
    "#넣으려는 데이터 타입이 숫자일 때 -> %d (digit)\n",
    "\"I eat %d apples.\" %3"
   ]
  },
  {
   "cell_type": "code",
   "execution_count": 132,
   "id": "b10a7a35",
   "metadata": {},
   "outputs": [
    {
     "data": {
      "text/plain": [
       "'I eat five apples.'"
      ]
     },
     "execution_count": 132,
     "metadata": {},
     "output_type": "execute_result"
    }
   ],
   "source": [
    "#넣으려는 데이터 타입이 문자일 때 -> %s (string) *원칙적으로 string이지만 데이터 타입에 상관 없이 다 쓸 수 있음, 변수도 가능\n",
    "\"I eat %s apples.\" %\"five\""
   ]
  },
  {
   "cell_type": "code",
   "execution_count": 40,
   "id": "def93441",
   "metadata": {},
   "outputs": [
    {
     "name": "stdout",
     "output_type": "stream",
     "text": [
      "I eat 1 apples.\n",
      "I eat 2 apples.\n",
      "I eat 3 apples.\n",
      "I eat 4 apples.\n",
      "I eat 5 apples.\n"
     ]
    }
   ],
   "source": [
    "# 포맷코드 %를 for 반복문에 응용하기 - 나\n",
    "\n",
    "for x in range(1,6):\n",
    "    sentence = 'I eat %s apples.' %x\n",
    "    print(sentence)"
   ]
  },
  {
   "cell_type": "code",
   "execution_count": 41,
   "id": "59749b0f",
   "metadata": {},
   "outputs": [
    {
     "name": "stdout",
     "output_type": "stream",
     "text": [
      "I eat 1 apples.\n",
      "I eat 2 apples.\n",
      "I eat 3 apples.\n",
      "I eat 4 apples.\n",
      "I eat 5 apples.\n"
     ]
    }
   ],
   "source": [
    "# 포맷코드 %를 for 반복문에 응용하기 - 교수님\n",
    "for x in range(1,6):\n",
    "    print('I eat %s apples.' %x)"
   ]
  },
  {
   "cell_type": "code",
   "execution_count": 42,
   "id": "6e20ea56",
   "metadata": {
    "scrolled": true
   },
   "outputs": [
    {
     "data": {
      "text/plain": [
       "'I ate 10 apples. so i was sick for three days'"
      ]
     },
     "execution_count": 42,
     "metadata": {},
     "output_type": "execute_result"
    }
   ],
   "source": [
    "# 포맷코드 %를 여러 개 사용하기\n",
    "number = 10\n",
    "day = \"three\"\n",
    "'I ate %d apples. so i was sick for %s days' % (number,day)"
   ]
  },
  {
   "cell_type": "code",
   "execution_count": 43,
   "id": "701aeacb",
   "metadata": {},
   "outputs": [
    {
     "ename": "ValueError",
     "evalue": "incomplete format",
     "output_type": "error",
     "traceback": [
      "\u001b[0;31m---------------------------------------------------------------------------\u001b[0m",
      "\u001b[0;31mValueError\u001b[0m                                Traceback (most recent call last)",
      "Cell \u001b[0;32mIn[43], line 2\u001b[0m\n\u001b[1;32m      1\u001b[0m \u001b[38;5;66;03m# 포맷코드 %와 일반문자 %를 같이 쓰기 - error\u001b[39;00m\n\u001b[0;32m----> 2\u001b[0m \u001b[38;5;124m'\u001b[39m\u001b[38;5;124merror is \u001b[39m\u001b[38;5;132;01m%d\u001b[39;00m\u001b[38;5;124m%\u001b[39m\u001b[38;5;124m'\u001b[39m \u001b[38;5;241m%\u001b[39m\u001b[38;5;241m98\u001b[39m\n",
      "\u001b[0;31mValueError\u001b[0m: incomplete format"
     ]
    }
   ],
   "source": [
    "# 포맷코드 %와 일반문자 %를 같이 쓰기 - error\n",
    "'error is %d%' %98"
   ]
  },
  {
   "cell_type": "code",
   "execution_count": 452,
   "id": "ade7b10e",
   "metadata": {
    "scrolled": false
   },
   "outputs": [
    {
     "data": {
      "text/plain": [
       "'error is 98%'"
      ]
     },
     "execution_count": 452,
     "metadata": {},
     "output_type": "execute_result"
    }
   ],
   "source": [
    "# 포맷코드 %와 일반문자 %를 같이 쓰기 - 옳은 예시 -> 이건 거의 모든 문자랑 원리가 같음\n",
    "'error is %d%%' %98"
   ]
  },
  {
   "cell_type": "code",
   "execution_count": 45,
   "id": "854e68f5",
   "metadata": {
    "scrolled": false
   },
   "outputs": [
    {
     "data": {
      "text/plain": [
       "'        hi'"
      ]
     },
     "execution_count": 45,
     "metadata": {},
     "output_type": "execute_result"
    }
   ],
   "source": [
    "#정렬과 공백 - 오른쪽 정렬\n",
    "\"%10s\" % \"hi\""
   ]
  },
  {
   "cell_type": "code",
   "execution_count": 46,
   "id": "c71a6505",
   "metadata": {},
   "outputs": [
    {
     "data": {
      "text/plain": [
       "'hi        '"
      ]
     },
     "execution_count": 46,
     "metadata": {},
     "output_type": "execute_result"
    }
   ],
   "source": [
    "#정렬과 공백 - 왼쪽 정렬\n",
    "\"%-10s\" % 'hi'"
   ]
  },
  {
   "cell_type": "code",
   "execution_count": 47,
   "id": "f3a78202",
   "metadata": {},
   "outputs": [
    {
     "data": {
      "text/plain": [
       "'3.4245'"
      ]
     },
     "execution_count": 47,
     "metadata": {},
     "output_type": "execute_result"
    }
   ],
   "source": [
    "#실수(float) 표현하기 - 소수점 아래 자릿수까지 자르기\n",
    "\"%.4f\" % 3.4245234"
   ]
  },
  {
   "cell_type": "code",
   "execution_count": 48,
   "id": "44b3ed36",
   "metadata": {},
   "outputs": [
    {
     "data": {
      "text/plain": [
       "'3.4245'"
      ]
     },
     "execution_count": 48,
     "metadata": {},
     "output_type": "execute_result"
    }
   ],
   "source": [
    "\"%0.4f\" % 3.4245234"
   ]
  },
  {
   "cell_type": "code",
   "execution_count": 49,
   "id": "e6f3fe3c",
   "metadata": {},
   "outputs": [
    {
     "data": {
      "text/plain": [
       "'    3.4245'"
      ]
     },
     "execution_count": 49,
     "metadata": {},
     "output_type": "execute_result"
    }
   ],
   "source": [
    "#실수(float) 표현하기 - 소수점 아래 자릿수까지 자르기 + 앞에 공백 넣기\n",
    "\"%10.4f\" % 3.4245234"
   ]
  },
  {
   "cell_type": "code",
   "execution_count": 50,
   "id": "d5911d5b",
   "metadata": {},
   "outputs": [
    {
     "data": {
      "text/plain": [
       "'                                                                                              3.4245'"
      ]
     },
     "execution_count": 50,
     "metadata": {},
     "output_type": "execute_result"
    }
   ],
   "source": [
    "\"%100.4f\" % 3.4245234"
   ]
  },
  {
   "cell_type": "markdown",
   "id": "fd72fd3f",
   "metadata": {},
   "source": [
    "방법 2: format() 함수 쓰기"
   ]
  },
  {
   "cell_type": "code",
   "execution_count": 51,
   "id": "c597aff4",
   "metadata": {},
   "outputs": [
    {
     "data": {
      "text/plain": [
       "'I eat 3 apples.'"
      ]
     },
     "execution_count": 51,
     "metadata": {},
     "output_type": "execute_result"
    }
   ],
   "source": [
    "'I eat {0} apples.'.format(3)"
   ]
  },
  {
   "cell_type": "code",
   "execution_count": 52,
   "id": "ef126a85",
   "metadata": {},
   "outputs": [
    {
     "data": {
      "text/plain": [
       "'I eat 3 apples and 4 oranges.'"
      ]
     },
     "execution_count": 52,
     "metadata": {},
     "output_type": "execute_result"
    }
   ],
   "source": [
    "'I eat {0} apples and {1} oranges.'.format(3,4)"
   ]
  },
  {
   "cell_type": "code",
   "execution_count": 53,
   "id": "504bed70",
   "metadata": {},
   "outputs": [
    {
     "data": {
      "text/plain": [
       "'I eat five apples.'"
      ]
     },
     "execution_count": 53,
     "metadata": {},
     "output_type": "execute_result"
    }
   ],
   "source": [
    "'I eat {0} apples.'.format(\"five\")"
   ]
  },
  {
   "cell_type": "code",
   "execution_count": 54,
   "id": "4f7087e8",
   "metadata": {},
   "outputs": [
    {
     "data": {
      "text/plain": [
       "'I eat 6 apples.'"
      ]
     },
     "execution_count": 54,
     "metadata": {},
     "output_type": "execute_result"
    }
   ],
   "source": [
    "number = 6\n",
    "'I eat {0} apples.'.format(number)"
   ]
  },
  {
   "cell_type": "code",
   "execution_count": 55,
   "id": "6363005c",
   "metadata": {},
   "outputs": [
    {
     "name": "stdout",
     "output_type": "stream",
     "text": [
      "I eat 1 apples\n",
      "I eat 2 apples\n",
      "I eat 3 apples\n",
      "I eat 4 apples\n",
      "I eat 5 apples\n"
     ]
    }
   ],
   "source": [
    "for x in range(1,6):\n",
    "    print('I eat {} apples'.format(x))"
   ]
  },
  {
   "cell_type": "code",
   "execution_count": 56,
   "id": "8d16d091",
   "metadata": {},
   "outputs": [
    {
     "data": {
      "text/plain": [
       "'I ate 3 apples so i was sick for three days'"
      ]
     },
     "execution_count": 56,
     "metadata": {},
     "output_type": "execute_result"
    }
   ],
   "source": [
    "number = 3\n",
    "day = \"three\"\n",
    "'I ate {0} apples so i was sick for {1} days'.format(number,day)"
   ]
  },
  {
   "cell_type": "code",
   "execution_count": 57,
   "id": "28a50fdd",
   "metadata": {},
   "outputs": [
    {
     "data": {
      "text/plain": [
       "'I ate 10 apples so i was sick for 3 days'"
      ]
     },
     "execution_count": 57,
     "metadata": {},
     "output_type": "execute_result"
    }
   ],
   "source": [
    "'I ate {number} apples so i was sick for {day} days'.format(number=10,day=3)"
   ]
  },
  {
   "cell_type": "code",
   "execution_count": 58,
   "id": "43d79e14",
   "metadata": {},
   "outputs": [
    {
     "name": "stdout",
     "output_type": "stream",
     "text": [
      "I ate 3 apples so i was sick for 3 days\n",
      "I ate 2 apples so i was sick for 3 days\n"
     ]
    }
   ],
   "source": [
    "sena = 'I ate {0} apples so i was sick for {day} days'.format(number,day=3)\n",
    "senb = 'I ate {0} apples so i was sick for {day} days'.format(2,day=3)\n",
    "print(sena)\n",
    "print(senb)"
   ]
  },
  {
   "cell_type": "code",
   "execution_count": 453,
   "id": "e7c84482",
   "metadata": {},
   "outputs": [
    {
     "data": {
      "text/plain": [
       "'        hi'"
      ]
     },
     "execution_count": 453,
     "metadata": {},
     "output_type": "execute_result"
    }
   ],
   "source": [
    "#format함수 정렬 - 문자열 포함 10칸 안에 오른쪽 정렬\n",
    "\"{0:>10}\".format(\"hi\")"
   ]
  },
  {
   "cell_type": "code",
   "execution_count": 60,
   "id": "2bebb92f",
   "metadata": {},
   "outputs": [
    {
     "data": {
      "text/plain": [
       "'hi        '"
      ]
     },
     "execution_count": 60,
     "metadata": {},
     "output_type": "execute_result"
    }
   ],
   "source": [
    "#format함수 정렬 - 문자열 포함 10칸 안에 왼쪽 정렬\n",
    "\"{0:<10}\".format(\"hi\")"
   ]
  },
  {
   "cell_type": "code",
   "execution_count": 61,
   "id": "4f5b98e0",
   "metadata": {},
   "outputs": [
    {
     "data": {
      "text/plain": [
       "'    hi    '"
      ]
     },
     "execution_count": 61,
     "metadata": {},
     "output_type": "execute_result"
    }
   ],
   "source": [
    "#format함수 정렬 - 문자열 포함 10칸 안에 중간 정렬\n",
    "\"{0:^10}\".format(\"hi\")"
   ]
  },
  {
   "cell_type": "code",
   "execution_count": 62,
   "id": "c2efaab1",
   "metadata": {},
   "outputs": [
    {
     "data": {
      "text/plain": [
       "'========hi'"
      ]
     },
     "execution_count": 62,
     "metadata": {},
     "output_type": "execute_result"
    }
   ],
   "source": [
    "#format함수 정렬 - 문자열 포함 10칸 안에 오른쪽정렬 + 앞에 공백들을 =으로 채우기\n",
    "\"{0:=>10}\".format(\"hi\")"
   ]
  },
  {
   "cell_type": "code",
   "execution_count": 63,
   "id": "57ff972d",
   "metadata": {},
   "outputs": [
    {
     "data": {
      "text/plain": [
       "'hi^^^^^^^^'"
      ]
     },
     "execution_count": 63,
     "metadata": {},
     "output_type": "execute_result"
    }
   ],
   "source": [
    "#format함수 정렬 - 문자열 포함 10칸 안에 왼쪽 정렬 + 공백들을 ^으로 채우기\n",
    "\"{0:^<10}\".format(\"hi\")"
   ]
  },
  {
   "cell_type": "code",
   "execution_count": 64,
   "id": "d53078eb",
   "metadata": {},
   "outputs": [
    {
     "data": {
      "text/plain": [
       "'3.4215'"
      ]
     },
     "execution_count": 64,
     "metadata": {},
     "output_type": "execute_result"
    }
   ],
   "source": [
    "y = 3.42145234\n",
    "\"{0:0.4f}\".format(y)"
   ]
  },
  {
   "cell_type": "code",
   "execution_count": 65,
   "id": "796ca6d1",
   "metadata": {},
   "outputs": [
    {
     "data": {
      "text/plain": [
       "'3.4215'"
      ]
     },
     "execution_count": 65,
     "metadata": {},
     "output_type": "execute_result"
    }
   ],
   "source": [
    "y = 3.42145234\n",
    "\"{0:0.4f}\".format(y)"
   ]
  },
  {
   "cell_type": "code",
   "execution_count": 66,
   "id": "bc6e7393",
   "metadata": {},
   "outputs": [
    {
     "data": {
      "text/plain": [
       "'{and}'"
      ]
     },
     "execution_count": 66,
     "metadata": {},
     "output_type": "execute_result"
    }
   ],
   "source": [
    "\"{{and}}\".format()"
   ]
  },
  {
   "cell_type": "markdown",
   "id": "40efc8c8",
   "metadata": {},
   "source": [
    "방법 3: f string(python version 3.6 이상부터 지원) => f'{}' 응용"
   ]
  },
  {
   "cell_type": "code",
   "execution_count": 67,
   "id": "19c8f268",
   "metadata": {},
   "outputs": [
    {
     "data": {
      "text/plain": [
       "'나의 이름은 홍길동입니다. 나이는 30입니다.'"
      ]
     },
     "execution_count": 67,
     "metadata": {},
     "output_type": "execute_result"
    }
   ],
   "source": [
    "#문자형 앞에 f 붙여서 문장 안에 {}넣기 \n",
    "name = \"홍길동\"\n",
    "age = 30\n",
    "f'나의 이름은 {name}입니다. 나이는 {age}입니다.'"
   ]
  },
  {
   "cell_type": "code",
   "execution_count": 68,
   "id": "9f7ed01f",
   "metadata": {},
   "outputs": [
    {
     "data": {
      "text/plain": [
       "'나의 이름은 홍길동입니다. 내년 나이는 31입니다.'"
      ]
     },
     "execution_count": 68,
     "metadata": {},
     "output_type": "execute_result"
    }
   ],
   "source": [
    "#문자형 앞에 f 붙여서 문장 안에 {}넣기 -> 연산 가능\n",
    "name = \"홍길동\"\n",
    "age = 30\n",
    "f'나의 이름은 {name}입니다. 내년 나이는 {age+1}입니다.'"
   ]
  },
  {
   "cell_type": "code",
   "execution_count": 69,
   "id": "7d3d4cfa",
   "metadata": {},
   "outputs": [
    {
     "data": {
      "text/plain": [
       "'나의 이름은 홍길동입니다. 내년 나이는 31입니다.'"
      ]
     },
     "execution_count": 69,
     "metadata": {},
     "output_type": "execute_result"
    }
   ],
   "source": [
    "#문자형 앞에 f 붙여서 문장 안에 {}넣기 -> 연산 가능\n",
    "name = \"홍길동\"\n",
    "age = 30\n",
    "f'나의 이름은 {name}입니다. 내년 나이는 {age+1}입니다.'"
   ]
  },
  {
   "cell_type": "code",
   "execution_count": 133,
   "id": "f3264019",
   "metadata": {},
   "outputs": [
    {
     "data": {
      "text/plain": [
       "'나의 이름은 홍길동입니다. 나이는 30입니다.'"
      ]
     },
     "execution_count": 133,
     "metadata": {},
     "output_type": "execute_result"
    }
   ],
   "source": [
    "#딕셔너리 키 값을 변수화 시켜서 밸류 추출하기\n",
    "d = {'name':'홍길동','age':30}\n",
    "\n",
    "f'나의 이름은 {d[\"name\"]}입니다. 나이는 {d[\"age\"]}입니다.'"
   ]
  },
  {
   "cell_type": "code",
   "execution_count": 71,
   "id": "ebbecc33",
   "metadata": {},
   "outputs": [
    {
     "data": {
      "text/plain": [
       "'hi        '"
      ]
     },
     "execution_count": 71,
     "metadata": {},
     "output_type": "execute_result"
    }
   ],
   "source": [
    "f'{\"hi\":<10}'"
   ]
  },
  {
   "cell_type": "code",
   "execution_count": 72,
   "id": "e775d626",
   "metadata": {},
   "outputs": [
    {
     "data": {
      "text/plain": [
       "'        hi'"
      ]
     },
     "execution_count": 72,
     "metadata": {},
     "output_type": "execute_result"
    }
   ],
   "source": [
    "f'{\"hi\":>10}'"
   ]
  },
  {
   "cell_type": "code",
   "execution_count": 73,
   "id": "46906546",
   "metadata": {},
   "outputs": [
    {
     "data": {
      "text/plain": [
       "'    hi    '"
      ]
     },
     "execution_count": 73,
     "metadata": {},
     "output_type": "execute_result"
    }
   ],
   "source": [
    "f'{\"hi\":^10}'"
   ]
  },
  {
   "cell_type": "code",
   "execution_count": 74,
   "id": "14257aed",
   "metadata": {},
   "outputs": [
    {
     "data": {
      "text/plain": [
       "'hi========'"
      ]
     },
     "execution_count": 74,
     "metadata": {},
     "output_type": "execute_result"
    }
   ],
   "source": [
    "f'{\"hi\":=<10}'"
   ]
  },
  {
   "cell_type": "code",
   "execution_count": 75,
   "id": "be4dfa73",
   "metadata": {},
   "outputs": [
    {
     "data": {
      "text/plain": [
       "'3.4213'"
      ]
     },
     "execution_count": 75,
     "metadata": {},
     "output_type": "execute_result"
    }
   ],
   "source": [
    "y = 3.42134234\n",
    "f'{y:0.4f}'"
   ]
  },
  {
   "cell_type": "markdown",
   "id": "41a5fa9b",
   "metadata": {},
   "source": [
    "문자열 관련 함수들"
   ]
  },
  {
   "cell_type": "code",
   "execution_count": 76,
   "id": "a482c6aa",
   "metadata": {},
   "outputs": [
    {
     "data": {
      "text/plain": [
       "2"
      ]
     },
     "execution_count": 76,
     "metadata": {},
     "output_type": "execute_result"
    }
   ],
   "source": [
    "# count : 문자 개수 세기\n",
    "a = \"hobby\"\n",
    "a.count('b')"
   ]
  },
  {
   "cell_type": "code",
   "execution_count": 77,
   "id": "bf578cbc",
   "metadata": {},
   "outputs": [
    {
     "data": {
      "text/plain": [
       "14"
      ]
     },
     "execution_count": 77,
     "metadata": {},
     "output_type": "execute_result"
    }
   ],
   "source": [
    "# find : 위치 알려주기 1\n",
    "a = \"Python is the best choice\"\n",
    "#찾으려는 게 있을 때\n",
    "a.find('b')"
   ]
  },
  {
   "cell_type": "code",
   "execution_count": 78,
   "id": "e5187299",
   "metadata": {},
   "outputs": [
    {
     "data": {
      "text/plain": [
       "-1"
      ]
     },
     "execution_count": 78,
     "metadata": {},
     "output_type": "execute_result"
    }
   ],
   "source": [
    "#찾으려는 게 없을 때\n",
    "a.find('k')"
   ]
  },
  {
   "cell_type": "code",
   "execution_count": 79,
   "id": "7ca6bb3e",
   "metadata": {},
   "outputs": [
    {
     "data": {
      "text/plain": [
       "8"
      ]
     },
     "execution_count": 79,
     "metadata": {},
     "output_type": "execute_result"
    }
   ],
   "source": [
    "# index: 위치 알려주기 2\n",
    "a = 'Life is too short'\n",
    "#찾으려는 게 있을 때\n",
    "a.index('t')"
   ]
  },
  {
   "cell_type": "code",
   "execution_count": 134,
   "id": "3c9b57df",
   "metadata": {
    "scrolled": true
   },
   "outputs": [
    {
     "ename": "ValueError",
     "evalue": "'k' is not in list",
     "output_type": "error",
     "traceback": [
      "\u001b[0;31m---------------------------------------------------------------------------\u001b[0m",
      "\u001b[0;31mValueError\u001b[0m                                Traceback (most recent call last)",
      "Cell \u001b[0;32mIn[134], line 2\u001b[0m\n\u001b[1;32m      1\u001b[0m \u001b[38;5;66;03m#찾으려는 게 없을 때 <-> find랑 이 차이. 오류 내기 vs 안 내기\u001b[39;00m\n\u001b[0;32m----> 2\u001b[0m a\u001b[38;5;241m.\u001b[39mindex(\u001b[38;5;124m'\u001b[39m\u001b[38;5;124mk\u001b[39m\u001b[38;5;124m'\u001b[39m)\n",
      "\u001b[0;31mValueError\u001b[0m: 'k' is not in list"
     ]
    }
   ],
   "source": [
    "#찾으려는 게 없을 때 <-> find랑 이 차이. 오류 내기 vs 안 내기\n",
    "a.index('k')"
   ]
  },
  {
   "cell_type": "code",
   "execution_count": 454,
   "id": "7c3eea46",
   "metadata": {},
   "outputs": [
    {
     "data": {
      "text/plain": [
       "'a#b#c#d'"
      ]
     },
     "execution_count": 454,
     "metadata": {},
     "output_type": "execute_result"
    }
   ],
   "source": [
    "# '사이에 넣을 것'join('문자열') : 문자열들 사이에 '사이에넣을것' 껴서 합쳐짐\n",
    "'#'.join('abcd')"
   ]
  },
  {
   "cell_type": "code",
   "execution_count": 82,
   "id": "935c4406",
   "metadata": {},
   "outputs": [
    {
     "data": {
      "text/plain": [
       "'HI'"
      ]
     },
     "execution_count": 82,
     "metadata": {},
     "output_type": "execute_result"
    }
   ],
   "source": [
    "#대소문자 바꾸기\n",
    "a = 'hi'\n",
    "a.upper()"
   ]
  },
  {
   "cell_type": "code",
   "execution_count": 83,
   "id": "ed4a6073",
   "metadata": {},
   "outputs": [
    {
     "data": {
      "text/plain": [
       "'hi'"
      ]
     },
     "execution_count": 83,
     "metadata": {},
     "output_type": "execute_result"
    }
   ],
   "source": [
    "a = 'HI'\n",
    "a.lower()"
   ]
  },
  {
   "cell_type": "code",
   "execution_count": 84,
   "id": "ef6a358c",
   "metadata": {},
   "outputs": [
    {
     "data": {
      "text/plain": [
       "'hi '"
      ]
     },
     "execution_count": 84,
     "metadata": {},
     "output_type": "execute_result"
    }
   ],
   "source": [
    "#lstrip : 왼쪽 공백 지우기\n",
    "a = ' hi '\n",
    "a.lstrip()"
   ]
  },
  {
   "cell_type": "code",
   "execution_count": 85,
   "id": "6bcc2c09",
   "metadata": {},
   "outputs": [
    {
     "data": {
      "text/plain": [
       "' hi'"
      ]
     },
     "execution_count": 85,
     "metadata": {},
     "output_type": "execute_result"
    }
   ],
   "source": [
    "#rstrip: 오른쪽 공백 지우기\n",
    "a = ' hi '\n",
    "a.rstrip()"
   ]
  },
  {
   "cell_type": "code",
   "execution_count": 86,
   "id": "60d16835",
   "metadata": {},
   "outputs": [
    {
     "data": {
      "text/plain": [
       "'hi'"
      ]
     },
     "execution_count": 86,
     "metadata": {},
     "output_type": "execute_result"
    }
   ],
   "source": [
    "#strip: 양쪽 공백 지우기\n",
    "a = ' hi '\n",
    "a.strip()"
   ]
  },
  {
   "cell_type": "code",
   "execution_count": 87,
   "id": "7690d497",
   "metadata": {},
   "outputs": [
    {
     "data": {
      "text/plain": [
       "'Your leg is too short'"
      ]
     },
     "execution_count": 87,
     "metadata": {},
     "output_type": "execute_result"
    }
   ],
   "source": [
    "#replace : 문자열 바꾸기\n",
    "a = \"Life is too short\"\n",
    "a.replace(\"Life\",\"Your leg\")"
   ]
  },
  {
   "cell_type": "code",
   "execution_count": 135,
   "id": "8d9596f5",
   "metadata": {},
   "outputs": [
    {
     "data": {
      "text/plain": [
       "['Life', 'is', 'too', 'short']"
      ]
     },
     "execution_count": 135,
     "metadata": {},
     "output_type": "execute_result"
    }
   ],
   "source": [
    "#Split : 문자열 나누기 -> 결과는 리스트로 나옴\n",
    "a = \"Life is too short\"\n",
    "a.split()\n",
    "# -> 공백 기준으로 나눔"
   ]
  },
  {
   "cell_type": "code",
   "execution_count": 89,
   "id": "0a2064df",
   "metadata": {},
   "outputs": [
    {
     "data": {
      "text/plain": [
       "['Life i', ' too ', 'hort']"
      ]
     },
     "execution_count": 89,
     "metadata": {},
     "output_type": "execute_result"
    }
   ],
   "source": [
    "a = \"Life is too short\"\n",
    "a.split('s')\n",
    "# -> 문자 's' 기준으로 나눔, 그래서 공백도 같이 출력됨"
   ]
  },
  {
   "cell_type": "code",
   "execution_count": 90,
   "id": "28a0bb54",
   "metadata": {},
   "outputs": [
    {
     "data": {
      "text/plain": [
       "['a', 'b', 'c', 'd']"
      ]
     },
     "execution_count": 90,
     "metadata": {},
     "output_type": "execute_result"
    }
   ],
   "source": [
    "b = \"a:b:c:d\"\n",
    "b.split(':')\n",
    "# -> 문자 ':' 기준으로 나눔"
   ]
  },
  {
   "cell_type": "code",
   "execution_count": 91,
   "id": "2e6a3bce",
   "metadata": {},
   "outputs": [
    {
     "data": {
      "text/plain": [
       "'hi'"
      ]
     },
     "execution_count": 91,
     "metadata": {},
     "output_type": "execute_result"
    }
   ],
   "source": [
    "#주의사항 - 아래 라인이랑 비교해보기 (새로 할당 안 했을 때)\n",
    "a = 'hi'\n",
    "a.upper()\n",
    "a"
   ]
  },
  {
   "cell_type": "code",
   "execution_count": 573,
   "id": "ee2d7ea2",
   "metadata": {
    "scrolled": true
   },
   "outputs": [
    {
     "data": {
      "text/plain": [
       "'HI'"
      ]
     },
     "execution_count": 573,
     "metadata": {},
     "output_type": "execute_result"
    }
   ],
   "source": [
    "#주의사항 - 함수 써서 변수 변환하고 새로 할당 했을 때\n",
    "a = 'hi'\n",
    "a = a.upper()\n",
    "a"
   ]
  },
  {
   "cell_type": "code",
   "execution_count": 577,
   "id": "affbd82c",
   "metadata": {},
   "outputs": [
    {
     "name": "stdout",
     "output_type": "stream",
     "text": [
      "HI\n"
     ]
    },
    {
     "data": {
      "text/plain": [
       "'hi'"
      ]
     },
     "execution_count": 577,
     "metadata": {},
     "output_type": "execute_result"
    }
   ],
   "source": [
    "# 이 차이는 무엇일까용???\n",
    "a = 'hi'\n",
    "print(a.upper())\n",
    "a"
   ]
  },
  {
   "cell_type": "markdown",
   "id": "4e42f1e1",
   "metadata": {},
   "source": [
    "# 리스트 *관련된 제어 함수가 많아서 관리하기 편함"
   ]
  },
  {
   "cell_type": "markdown",
   "id": "3445da5b",
   "metadata": {},
   "source": [
    "### 인덱싱"
   ]
  },
  {
   "cell_type": "code",
   "execution_count": 93,
   "id": "2cf1e4f7",
   "metadata": {},
   "outputs": [
    {
     "data": {
      "text/plain": [
       "[1, 2, 3]"
      ]
     },
     "execution_count": 93,
     "metadata": {},
     "output_type": "execute_result"
    }
   ],
   "source": [
    "a = [1,2,3]\n",
    "a"
   ]
  },
  {
   "cell_type": "code",
   "execution_count": 94,
   "id": "d9cb249f",
   "metadata": {},
   "outputs": [
    {
     "data": {
      "text/plain": [
       "1"
      ]
     },
     "execution_count": 94,
     "metadata": {},
     "output_type": "execute_result"
    }
   ],
   "source": [
    "a[0]"
   ]
  },
  {
   "cell_type": "code",
   "execution_count": 95,
   "id": "714acbd0",
   "metadata": {},
   "outputs": [
    {
     "data": {
      "text/plain": [
       "4"
      ]
     },
     "execution_count": 95,
     "metadata": {},
     "output_type": "execute_result"
    }
   ],
   "source": [
    "a[0] + a[2]"
   ]
  },
  {
   "cell_type": "code",
   "execution_count": 96,
   "id": "ddf8ca32",
   "metadata": {},
   "outputs": [
    {
     "data": {
      "text/plain": [
       "-2"
      ]
     },
     "execution_count": 96,
     "metadata": {},
     "output_type": "execute_result"
    }
   ],
   "source": [
    "a[0] - a[2]"
   ]
  },
  {
   "cell_type": "code",
   "execution_count": 97,
   "id": "48389910",
   "metadata": {},
   "outputs": [
    {
     "data": {
      "text/plain": [
       "3"
      ]
     },
     "execution_count": 97,
     "metadata": {},
     "output_type": "execute_result"
    }
   ],
   "source": [
    "a[-1]"
   ]
  },
  {
   "cell_type": "code",
   "execution_count": 457,
   "id": "23232f4d",
   "metadata": {},
   "outputs": [
    {
     "data": {
      "text/plain": [
       "[1, 2, 3, ['a', 'b', 'c']]"
      ]
     },
     "execution_count": 457,
     "metadata": {},
     "output_type": "execute_result"
    }
   ],
   "source": [
    "a = [1,2,3,['a','b','c']]\n",
    "a"
   ]
  },
  {
   "cell_type": "code",
   "execution_count": 458,
   "id": "7e91d8f4",
   "metadata": {},
   "outputs": [
    {
     "data": {
      "text/plain": [
       "['a', 'b', 'c']"
      ]
     },
     "execution_count": 458,
     "metadata": {},
     "output_type": "execute_result"
    }
   ],
   "source": [
    "a[3]"
   ]
  },
  {
   "cell_type": "code",
   "execution_count": 459,
   "id": "52dbcb4c",
   "metadata": {
    "scrolled": true
   },
   "outputs": [
    {
     "data": {
      "text/plain": [
       "['a', 'b', 'c']"
      ]
     },
     "execution_count": 459,
     "metadata": {},
     "output_type": "execute_result"
    }
   ],
   "source": [
    "a[-1]"
   ]
  },
  {
   "cell_type": "markdown",
   "id": "900b6377",
   "metadata": {},
   "source": [
    "슬라이싱"
   ]
  },
  {
   "cell_type": "code",
   "execution_count": 101,
   "id": "ad1f05b3",
   "metadata": {},
   "outputs": [
    {
     "data": {
      "text/plain": [
       "[1, 2, 3, 4, 5]"
      ]
     },
     "execution_count": 101,
     "metadata": {},
     "output_type": "execute_result"
    }
   ],
   "source": [
    "a = [1,2,3,4,5]\n",
    "a"
   ]
  },
  {
   "cell_type": "code",
   "execution_count": 102,
   "id": "f4379987",
   "metadata": {},
   "outputs": [
    {
     "data": {
      "text/plain": [
       "[1, 2]"
      ]
     },
     "execution_count": 102,
     "metadata": {},
     "output_type": "execute_result"
    }
   ],
   "source": [
    "a[0:2]"
   ]
  },
  {
   "cell_type": "code",
   "execution_count": 461,
   "id": "dfc4ab3d",
   "metadata": {},
   "outputs": [
    {
     "data": {
      "text/plain": [
       "[1, 2, 3, ['a', 'b', 'c'], 4, 5]"
      ]
     },
     "execution_count": 461,
     "metadata": {},
     "output_type": "execute_result"
    }
   ],
   "source": [
    "#응용 -> 다중리스트에서 자료 슬라이싱으로 뽑아내기 \n",
    "a = [1,2,3,['a','b','c'],4,5]\n",
    "a"
   ]
  },
  {
   "cell_type": "code",
   "execution_count": 462,
   "id": "d419be09",
   "metadata": {},
   "outputs": [
    {
     "data": {
      "text/plain": [
       "['a', 'b']"
      ]
     },
     "execution_count": 462,
     "metadata": {},
     "output_type": "execute_result"
    }
   ],
   "source": [
    "# 위 자료에서 'a','b'만 뽑기\n",
    "\n",
    "a[3][0:2]"
   ]
  },
  {
   "cell_type": "markdown",
   "id": "9b7e19bd",
   "metadata": {},
   "source": [
    "리스트 연산"
   ]
  },
  {
   "cell_type": "code",
   "execution_count": 19,
   "id": "6678a6d7",
   "metadata": {},
   "outputs": [
    {
     "data": {
      "text/plain": [
       "[1, 2, 3, 4, 5, 6]"
      ]
     },
     "execution_count": 19,
     "metadata": {},
     "output_type": "execute_result"
    }
   ],
   "source": [
    "a = [1,2,3]\n",
    "b = [4,5,6]\n",
    "a+b"
   ]
  },
  {
   "cell_type": "code",
   "execution_count": 20,
   "id": "73591c67",
   "metadata": {},
   "outputs": [
    {
     "data": {
      "text/plain": [
       "[1, 2, 3, 1, 2, 3, 1, 2, 3]"
      ]
     },
     "execution_count": 20,
     "metadata": {},
     "output_type": "execute_result"
    }
   ],
   "source": [
    "a*3"
   ]
  },
  {
   "cell_type": "code",
   "execution_count": 21,
   "id": "3de20b01",
   "metadata": {},
   "outputs": [
    {
     "data": {
      "text/plain": [
       "3"
      ]
     },
     "execution_count": 21,
     "metadata": {},
     "output_type": "execute_result"
    }
   ],
   "source": [
    "len(a)"
   ]
  },
  {
   "cell_type": "code",
   "execution_count": 22,
   "id": "e8ad52c0",
   "metadata": {},
   "outputs": [
    {
     "data": {
      "text/plain": [
       "3"
      ]
     },
     "execution_count": 22,
     "metadata": {},
     "output_type": "execute_result"
    }
   ],
   "source": [
    "len(b)"
   ]
  },
  {
   "cell_type": "code",
   "execution_count": 23,
   "id": "cc8e6949",
   "metadata": {},
   "outputs": [
    {
     "data": {
      "text/plain": [
       "6"
      ]
     },
     "execution_count": 23,
     "metadata": {},
     "output_type": "execute_result"
    }
   ],
   "source": [
    "len(a+b)"
   ]
  },
  {
   "cell_type": "code",
   "execution_count": 24,
   "id": "66037029",
   "metadata": {},
   "outputs": [
    {
     "ename": "TypeError",
     "evalue": "unsupported operand type(s) for +: 'int' and 'str'",
     "output_type": "error",
     "traceback": [
      "\u001b[0;31m---------------------------------------------------------------------------\u001b[0m",
      "\u001b[0;31mTypeError\u001b[0m                                 Traceback (most recent call last)",
      "Cell \u001b[0;32mIn[24], line 2\u001b[0m\n\u001b[1;32m      1\u001b[0m \u001b[38;5;66;03m#실습 -> 에러 고치기 : 얘는 정수형 데이터랑 문자형 데이터라서 연산이 안 됨\u001b[39;00m\n\u001b[0;32m----> 2\u001b[0m a[\u001b[38;5;241m2\u001b[39m] \u001b[38;5;241m+\u001b[39m \u001b[38;5;124m'\u001b[39m\u001b[38;5;124mhi\u001b[39m\u001b[38;5;124m'\u001b[39m\n",
      "\u001b[0;31mTypeError\u001b[0m: unsupported operand type(s) for +: 'int' and 'str'"
     ]
    }
   ],
   "source": [
    "#실습 -> 에러 고치기 : 얘는 정수형 데이터랑 문자형 데이터라서 연산이 안 됨\n",
    "a[2] + 'hi'"
   ]
  },
  {
   "cell_type": "code",
   "execution_count": 25,
   "id": "6b99ce95",
   "metadata": {
    "scrolled": true
   },
   "outputs": [
    {
     "data": {
      "text/plain": [
       "'3hi'"
      ]
     },
     "execution_count": 25,
     "metadata": {},
     "output_type": "execute_result"
    }
   ],
   "source": [
    "str(a[2])+'hi'"
   ]
  },
  {
   "cell_type": "code",
   "execution_count": 26,
   "id": "65d6c0c0",
   "metadata": {},
   "outputs": [
    {
     "data": {
      "text/plain": [
       "[1, 2, 3, 'hi']"
      ]
     },
     "execution_count": 26,
     "metadata": {},
     "output_type": "execute_result"
    }
   ],
   "source": [
    "#그냥해봄\n",
    "a.append('hi')\n",
    "a"
   ]
  },
  {
   "cell_type": "code",
   "execution_count": 16,
   "id": "73b1ac61",
   "metadata": {},
   "outputs": [
    {
     "data": {
      "text/plain": [
       "['3', 'h', 'i']"
      ]
     },
     "execution_count": 16,
     "metadata": {},
     "output_type": "execute_result"
    }
   ],
   "source": [
    "#그냥해봄22\n",
    "c = str(a[2])+'hi'\n",
    "d = list(c)\n",
    "d"
   ]
  },
  {
   "cell_type": "markdown",
   "id": "64b1bd6e",
   "metadata": {},
   "source": [
    "리스트 수정 삭제"
   ]
  },
  {
   "cell_type": "code",
   "execution_count": 112,
   "id": "3a41d803",
   "metadata": {},
   "outputs": [
    {
     "data": {
      "text/plain": [
       "[1, 2, 3]"
      ]
     },
     "execution_count": 112,
     "metadata": {},
     "output_type": "execute_result"
    }
   ],
   "source": [
    "a = [1,2,3]\n",
    "a"
   ]
  },
  {
   "cell_type": "code",
   "execution_count": 113,
   "id": "7bd1adc0",
   "metadata": {},
   "outputs": [
    {
     "data": {
      "text/plain": [
       "[1, 2, 4]"
      ]
     },
     "execution_count": 113,
     "metadata": {},
     "output_type": "execute_result"
    }
   ],
   "source": [
    "#인덱스 자리 자료 수정하기\n",
    "a[2] = 4\n",
    "a"
   ]
  },
  {
   "cell_type": "code",
   "execution_count": 114,
   "id": "06f23980",
   "metadata": {},
   "outputs": [
    {
     "data": {
      "text/plain": [
       "[1, 3]"
      ]
     },
     "execution_count": 114,
     "metadata": {},
     "output_type": "execute_result"
    }
   ],
   "source": [
    "#리스트 인덱스 자리 기준으로 삭제하기\n",
    "a = [1,2,3]\n",
    "del a[1]\n",
    "a"
   ]
  },
  {
   "cell_type": "code",
   "execution_count": 115,
   "id": "017cdca5",
   "metadata": {},
   "outputs": [
    {
     "data": {
      "text/plain": [
       "[1, 2]"
      ]
     },
     "execution_count": 115,
     "metadata": {},
     "output_type": "execute_result"
    }
   ],
   "source": [
    "#슬라이싱 활용해서 삭제하기\n",
    "a = [1,2,3,4,5]\n",
    "del a[2:]\n",
    "a"
   ]
  },
  {
   "cell_type": "markdown",
   "id": "85f56699",
   "metadata": {},
   "source": [
    "리스트 관련 함수"
   ]
  },
  {
   "cell_type": "code",
   "execution_count": 116,
   "id": "17a74741",
   "metadata": {},
   "outputs": [
    {
     "data": {
      "text/plain": [
       "[1, 2, 3, 4]"
      ]
     },
     "execution_count": 116,
     "metadata": {},
     "output_type": "execute_result"
    }
   ],
   "source": [
    "# .append() : 요소 추가\n",
    "a = [1,2,3]\n",
    "a.append(4)\n",
    "a"
   ]
  },
  {
   "cell_type": "code",
   "execution_count": 117,
   "id": "7fe8ca5d",
   "metadata": {},
   "outputs": [
    {
     "data": {
      "text/plain": [
       "[1, 2, 3, 4, [5, 6]]"
      ]
     },
     "execution_count": 117,
     "metadata": {},
     "output_type": "execute_result"
    }
   ],
   "source": [
    "# .append() : 요소 추가 응용\n",
    "a.append([5,6])\n",
    "a"
   ]
  },
  {
   "cell_type": "code",
   "execution_count": 139,
   "id": "21093b9e",
   "metadata": {},
   "outputs": [
    {
     "data": {
      "text/plain": [
       "[1, 4, 3, 2]"
      ]
     },
     "execution_count": 139,
     "metadata": {},
     "output_type": "execute_result"
    }
   ],
   "source": [
    "a = [1,4,3,2]\n",
    "a"
   ]
  },
  {
   "cell_type": "code",
   "execution_count": 140,
   "id": "0ca47547",
   "metadata": {},
   "outputs": [
    {
     "data": {
      "text/plain": [
       "[1, 2, 3, 4]"
      ]
     },
     "execution_count": 140,
     "metadata": {},
     "output_type": "execute_result"
    }
   ],
   "source": [
    "# .sort() : 내부 요소 >>>오름차순<<< 정렬\n",
    "a.sort()\n",
    "a"
   ]
  },
  {
   "cell_type": "code",
   "execution_count": 120,
   "id": "46e2bac4",
   "metadata": {},
   "outputs": [
    {
     "data": {
      "text/plain": [
       "['a', 'b', 'c']"
      ]
     },
     "execution_count": 120,
     "metadata": {},
     "output_type": "execute_result"
    }
   ],
   "source": [
    "# .reverse() : 자료 순서 아예 뒤집기\n",
    "a= ['a','b','c']\n",
    "a"
   ]
  },
  {
   "cell_type": "code",
   "execution_count": 121,
   "id": "5f662338",
   "metadata": {},
   "outputs": [
    {
     "data": {
      "text/plain": [
       "['c', 'b', 'a']"
      ]
     },
     "execution_count": 121,
     "metadata": {},
     "output_type": "execute_result"
    }
   ],
   "source": [
    "a.reverse()\n",
    "a"
   ]
  },
  {
   "cell_type": "code",
   "execution_count": 122,
   "id": "adafa6d9",
   "metadata": {},
   "outputs": [
    {
     "data": {
      "text/plain": [
       "2"
      ]
     },
     "execution_count": 122,
     "metadata": {},
     "output_type": "execute_result"
    }
   ],
   "source": [
    "# .index(x): x라는 값의 인덱스 위치 반환 * x라는 값이 리스트 안에 없으면 에러 <- 변수[] 요렇게 아예 인덱스 부르는 거랑 헷갈리면 안 됨\n",
    "a = [1,2,3]\n",
    "a.index(3)"
   ]
  },
  {
   "cell_type": "code",
   "execution_count": 123,
   "id": "3f30874d",
   "metadata": {},
   "outputs": [
    {
     "data": {
      "text/plain": [
       "[1, 2, 3]"
      ]
     },
     "execution_count": 123,
     "metadata": {},
     "output_type": "execute_result"
    }
   ],
   "source": [
    "# .insert(n,x) : n번째 자리에 x값을 넣어라\n",
    "a = [1,2,3]\n",
    "a"
   ]
  },
  {
   "cell_type": "code",
   "execution_count": 124,
   "id": "99f5cb7b",
   "metadata": {
    "scrolled": true
   },
   "outputs": [
    {
     "data": {
      "text/plain": [
       "[4, 1, 2, 3]"
      ]
     },
     "execution_count": 124,
     "metadata": {},
     "output_type": "execute_result"
    }
   ],
   "source": [
    "a.insert(0,4)\n",
    "a"
   ]
  },
  {
   "cell_type": "code",
   "execution_count": 125,
   "id": "6a98efed",
   "metadata": {},
   "outputs": [
    {
     "data": {
      "text/plain": [
       "[4, 1, 2, 5, 3]"
      ]
     },
     "execution_count": 125,
     "metadata": {},
     "output_type": "execute_result"
    }
   ],
   "source": [
    "a.insert(3,5)\n",
    "a"
   ]
  },
  {
   "cell_type": "code",
   "execution_count": 126,
   "id": "d974eb24",
   "metadata": {},
   "outputs": [
    {
     "data": {
      "text/plain": [
       "[1, 2, 3, 1, 2, 3]"
      ]
     },
     "execution_count": 126,
     "metadata": {},
     "output_type": "execute_result"
    }
   ],
   "source": [
    "# .remove(x) : 자료에서 첫번째로 찾아지는 x값 지우기\n",
    "a = [1,2,3,1,2,3]\n",
    "a"
   ]
  },
  {
   "cell_type": "code",
   "execution_count": 127,
   "id": "cb5d02a5",
   "metadata": {},
   "outputs": [
    {
     "data": {
      "text/plain": [
       "[1, 2, 1, 2, 3]"
      ]
     },
     "execution_count": 127,
     "metadata": {},
     "output_type": "execute_result"
    }
   ],
   "source": [
    "a.remove(3)\n",
    "a\n",
    "# -> 첫번째로 찾는 '3' 삭제하기"
   ]
  },
  {
   "cell_type": "code",
   "execution_count": 128,
   "id": "da4e876a",
   "metadata": {},
   "outputs": [
    {
     "data": {
      "text/plain": [
       "[1, 2, 1, 2]"
      ]
     },
     "execution_count": 128,
     "metadata": {},
     "output_type": "execute_result"
    }
   ],
   "source": [
    "a.remove(3)\n",
    "a\n",
    "# -> 여전히 첫번째로 찾는 '3'삭제, 근데 아까 index 2 위치에 있던 3이 삭제되어 이번에는 index 4의 자리에 있던 3이 사라짐"
   ]
  },
  {
   "cell_type": "markdown",
   "id": "aeba4bcb",
   "metadata": {},
   "source": [
    " "
   ]
  },
  {
   "cell_type": "markdown",
   "id": "1c4696c2",
   "metadata": {},
   "source": [
    " "
   ]
  },
  {
   "cell_type": "markdown",
   "id": "af04c9d4",
   "metadata": {},
   "source": [
    "# 11월 2일"
   ]
  },
  {
   "cell_type": "code",
   "execution_count": 143,
   "id": "0d6db937",
   "metadata": {},
   "outputs": [
    {
     "data": {
      "text/plain": [
       "list"
      ]
     },
     "execution_count": 143,
     "metadata": {},
     "output_type": "execute_result"
    }
   ],
   "source": [
    "#type(): 어떤 변수의 데이터 타입을 알려주는 함수\n",
    "type(a)"
   ]
  },
  {
   "cell_type": "code",
   "execution_count": 463,
   "id": "644c1637",
   "metadata": {},
   "outputs": [
    {
     "data": {
      "text/plain": [
       "2"
      ]
     },
     "execution_count": 463,
     "metadata": {},
     "output_type": "execute_result"
    }
   ],
   "source": [
    "# .pop() 함수 : 가장 마지막에 넣은 데이터 추출\n",
    "# .pop(인덱스넘버) : ''자리에 맞는 값 추출 + 리스트에서 삭제\n",
    "a = [1,2,3]\n",
    "a.pop(1)"
   ]
  },
  {
   "cell_type": "code",
   "execution_count": 474,
   "id": "d2bc45e2",
   "metadata": {},
   "outputs": [
    {
     "data": {
      "text/plain": [
       "3"
      ]
     },
     "execution_count": 474,
     "metadata": {},
     "output_type": "execute_result"
    }
   ],
   "source": [
    "a = [1,2,3]\n",
    "a.pop()\n",
    "\n",
    "#.pop() -> 아무것도 안 넣었는데 3이 나오는 이유 -> 노션 참고"
   ]
  },
  {
   "cell_type": "code",
   "execution_count": 145,
   "id": "aa52119d",
   "metadata": {},
   "outputs": [
    {
     "data": {
      "text/plain": [
       "[1, 2, 3, 4, 5]"
      ]
     },
     "execution_count": 145,
     "metadata": {},
     "output_type": "execute_result"
    }
   ],
   "source": [
    "# extend 함수 : 리스트 확장  = 리스트와 리스트 결합. <-> append(리스트에 요소 추가)\n",
    "a = [1,2,3]\n",
    "a.extend([4,5])\n",
    "a"
   ]
  },
  {
   "cell_type": "code",
   "execution_count": 147,
   "id": "eb262526",
   "metadata": {},
   "outputs": [
    {
     "data": {
      "text/plain": [
       "[1, 2, 3, 4, 5, 6, 7]"
      ]
     },
     "execution_count": 147,
     "metadata": {},
     "output_type": "execute_result"
    }
   ],
   "source": [
    "b = [6,7]\n",
    "a.extend(b)\n",
    "a"
   ]
  },
  {
   "cell_type": "code",
   "execution_count": 148,
   "id": "8b5bc9d6",
   "metadata": {},
   "outputs": [
    {
     "data": {
      "text/plain": [
       "[1, 2, 3, 4, 5, 6, 7, 9, 5]"
      ]
     },
     "execution_count": 148,
     "metadata": {},
     "output_type": "execute_result"
    }
   ],
   "source": [
    "a += [9,5]\n",
    "a"
   ]
  },
  {
   "cell_type": "code",
   "execution_count": 154,
   "id": "2a2a0e83",
   "metadata": {},
   "outputs": [
    {
     "data": {
      "text/plain": [
       "[1, 2, 3, 4, 5, 6, 7, 9, 5, 3, 4, 3, 4, [6, 8], 3, 4, [6, 8]]"
      ]
     },
     "execution_count": 154,
     "metadata": {},
     "output_type": "execute_result"
    }
   ],
   "source": [
    "# extend 괄호 안에는 하나의 리스트만 들어가고, 해당 리스트의 요소들이 기존 리스트의 개별 요소로 들어가게 된다 -> 사례\n",
    "a.extend([3,4,[6,8]])\n",
    "a"
   ]
  },
  {
   "cell_type": "markdown",
   "id": "390352cc",
   "metadata": {},
   "source": [
    "### 튜플"
   ]
  },
  {
   "cell_type": "code",
   "execution_count": 428,
   "id": "65d8dbc3",
   "metadata": {},
   "outputs": [],
   "source": [
    "#기본적인 튜플 구조 : 소괄호 + 쉼표로 요소 구분\n",
    "t1 = ()\n",
    "t2 = (1,2,'a','b')\n",
    "t3 = (2,) # -> 자료가 하나인 튜플의 경우 쉼표를 꼭 넣어주어야 함 (자료,)"
   ]
  },
  {
   "cell_type": "code",
   "execution_count": 467,
   "id": "4beac74e",
   "metadata": {},
   "outputs": [
    {
     "ename": "TypeError",
     "evalue": "'tuple' object doesn't support item deletion",
     "output_type": "error",
     "traceback": [
      "\u001b[0;31m---------------------------------------------------------------------------\u001b[0m",
      "\u001b[0;31mTypeError\u001b[0m                                 Traceback (most recent call last)",
      "Cell \u001b[0;32mIn[467], line 2\u001b[0m\n\u001b[1;32m      1\u001b[0m \u001b[38;5;66;03m# 튜플 특징 1: 삭제 불가\u001b[39;00m\n\u001b[0;32m----> 2\u001b[0m \u001b[38;5;28;01mdel\u001b[39;00m t2[\u001b[38;5;241m0\u001b[39m]\n\u001b[1;32m      3\u001b[0m t2[\u001b[38;5;241m0\u001b[39m] \u001b[38;5;241m=\u001b[39m \u001b[38;5;124m'\u001b[39m\u001b[38;5;124mc\u001b[39m\u001b[38;5;124m'\u001b[39m\n",
      "\u001b[0;31mTypeError\u001b[0m: 'tuple' object doesn't support item deletion"
     ]
    }
   ],
   "source": [
    "# 튜플 특징 1: 삭제 불가\n",
    "del t2[0]\n",
    "t2[0] = 'c'"
   ]
  },
  {
   "cell_type": "code",
   "execution_count": 468,
   "id": "dba5fa7e",
   "metadata": {},
   "outputs": [
    {
     "ename": "TypeError",
     "evalue": "'tuple' object does not support item assignment",
     "output_type": "error",
     "traceback": [
      "\u001b[0;31m---------------------------------------------------------------------------\u001b[0m",
      "\u001b[0;31mTypeError\u001b[0m                                 Traceback (most recent call last)",
      "Cell \u001b[0;32mIn[468], line 2\u001b[0m\n\u001b[1;32m      1\u001b[0m \u001b[38;5;66;03m# 튜플 특징 2: 수정 불가\u001b[39;00m\n\u001b[0;32m----> 2\u001b[0m t2[\u001b[38;5;241m0\u001b[39m] \u001b[38;5;241m=\u001b[39m \u001b[38;5;124m'\u001b[39m\u001b[38;5;124mc\u001b[39m\u001b[38;5;124m'\u001b[39m\n",
      "\u001b[0;31mTypeError\u001b[0m: 'tuple' object does not support item assignment"
     ]
    }
   ],
   "source": [
    "# 튜플 특징 2: 수정 불가\n",
    "t2[0] = 'c'"
   ]
  },
  {
   "cell_type": "code",
   "execution_count": 469,
   "id": "2ca115d1",
   "metadata": {},
   "outputs": [
    {
     "data": {
      "text/plain": [
       "(1, 'b')"
      ]
     },
     "execution_count": 469,
     "metadata": {},
     "output_type": "execute_result"
    }
   ],
   "source": [
    "#튜플 특징 3: 인덱싱 가능\n",
    "t2[0], t2[3]"
   ]
  },
  {
   "cell_type": "code",
   "execution_count": 471,
   "id": "70761238",
   "metadata": {},
   "outputs": [
    {
     "data": {
      "text/plain": [
       "(1, 2)"
      ]
     },
     "execution_count": 471,
     "metadata": {},
     "output_type": "execute_result"
    }
   ],
   "source": [
    "#튜플 특징 4: 슬라이싱 가능\n",
    "t2[0:2]"
   ]
  },
  {
   "cell_type": "code",
   "execution_count": 475,
   "id": "23e557ac",
   "metadata": {},
   "outputs": [
    {
     "data": {
      "text/plain": [
       "(1, 2, 'a', 'b', 3, 4)"
      ]
     },
     "execution_count": 475,
     "metadata": {},
     "output_type": "execute_result"
    }
   ],
   "source": [
    "#튜플 특징 5: 연산 가능_더하기 예시\n",
    "t1 = (1,2,'a','b')\n",
    "t2 = (3,4)\n",
    "t3 = t1 + t2 #있던 튜플에 요소를 더해서 재할당한 게 아니라 새로운 튜플을 만들었기 때문에 연산 가능\n",
    "t3"
   ]
  },
  {
   "cell_type": "code",
   "execution_count": 476,
   "id": "ce83791f",
   "metadata": {},
   "outputs": [
    {
     "data": {
      "text/plain": [
       "(3, 4, 3, 4, 3, 4, 3, 4)"
      ]
     },
     "execution_count": 476,
     "metadata": {},
     "output_type": "execute_result"
    }
   ],
   "source": [
    "#튜플 특징 6: 연산 가능_곱하기 예시 *가능한 이유 -> 위랑 같음\n",
    "t4 = t2*4\n",
    "t4"
   ]
  },
  {
   "cell_type": "code",
   "execution_count": 177,
   "id": "1df77c93",
   "metadata": {},
   "outputs": [
    {
     "data": {
      "text/plain": [
       "8"
      ]
     },
     "execution_count": 177,
     "metadata": {},
     "output_type": "execute_result"
    }
   ],
   "source": [
    "#len 함수 사용 가능\n",
    "len(t4)"
   ]
  },
  {
   "cell_type": "markdown",
   "id": "ec519870",
   "metadata": {},
   "source": [
    "## 딕셔너리"
   ]
  },
  {
   "cell_type": "code",
   "execution_count": 487,
   "id": "061316a2",
   "metadata": {},
   "outputs": [],
   "source": [
    "#딕셔너리 기본 구조: {} 안에 키값:밸류값 **키값은 수정할 수 없는 값 (= 리스트는 키값으로 못 씀)\n",
    "a = {1 : 'hi'} #키값 자리에 숫자형 O\n",
    "a = {'a':[1,2,3]} #밸류값 자리에 리스트 O"
   ]
  },
  {
   "cell_type": "code",
   "execution_count": 493,
   "id": "2543a985",
   "metadata": {
    "scrolled": true
   },
   "outputs": [],
   "source": [
    "#딕셔너리[키값] = [밸류값] : 딕셔너리에 값 추가\n",
    "a[2] = 'b'"
   ]
  },
  {
   "cell_type": "code",
   "execution_count": 503,
   "id": "bade482f",
   "metadata": {},
   "outputs": [
    {
     "data": {
      "text/plain": [
       "{'a': [1, 2, 3], 4: [1, 2, 3]}"
      ]
     },
     "execution_count": 503,
     "metadata": {},
     "output_type": "execute_result"
    }
   ],
   "source": [
    "#딕셔너리[키값] = [밸류값] : 딕셔너리에 값 추가\n",
    "a[4] = [1,2,3]\n",
    "a"
   ]
  },
  {
   "cell_type": "code",
   "execution_count": 505,
   "id": "b7b7b4b2",
   "metadata": {},
   "outputs": [
    {
     "data": {
      "text/plain": [
       "{'a': [1, 2, 3]}"
      ]
     },
     "execution_count": 505,
     "metadata": {},
     "output_type": "execute_result"
    }
   ],
   "source": [
    "#del a['키값']: 딕셔너리에서 '키값'으로 검색해서 이에 맞는 item 전체 삭제하기\n",
    "a = {'a':[1,2,3]}\n",
    "a[4] = [1,2,3]\n",
    "del a[4]\n",
    "a"
   ]
  },
  {
   "cell_type": "code",
   "execution_count": 510,
   "id": "9b4eefcf",
   "metadata": {},
   "outputs": [
    {
     "ename": "KeyError",
     "evalue": "'name'",
     "output_type": "error",
     "traceback": [
      "\u001b[0;31m---------------------------------------------------------------------------\u001b[0m",
      "\u001b[0;31mKeyError\u001b[0m                                  Traceback (most recent call last)",
      "Cell \u001b[0;32mIn[510], line 2\u001b[0m\n\u001b[1;32m      1\u001b[0m \u001b[38;5;66;03m#아래 코드가 에러뜨는 이유 -> 'name'을 키로 갖고 있는 아이템이 이미 삭제됨\u001b[39;00m\n\u001b[0;32m----> 2\u001b[0m \u001b[38;5;28;01mdel\u001b[39;00m a[\u001b[38;5;124m'\u001b[39m\u001b[38;5;124mname\u001b[39m\u001b[38;5;124m'\u001b[39m]\n\u001b[1;32m      3\u001b[0m a\n",
      "\u001b[0;31mKeyError\u001b[0m: 'name'"
     ]
    }
   ],
   "source": [
    "#아래 코드가 에러뜨는 이유 -> 'name'을 키로 갖고 있는 아이템이 이미 삭제됨\n",
    "del a['name']\n",
    "a"
   ]
  },
  {
   "cell_type": "code",
   "execution_count": 496,
   "id": "9cff9dd8",
   "metadata": {},
   "outputs": [
    {
     "data": {
      "text/plain": [
       "10"
      ]
     },
     "execution_count": 496,
     "metadata": {},
     "output_type": "execute_result"
    }
   ],
   "source": [
    "#검색 grade : grade[키값]: 검색한 키값에 대한 밸류 추출\n",
    "grade = {'pey':10,'juliet':99}\n",
    "grade['pey']"
   ]
  },
  {
   "cell_type": "code",
   "execution_count": 497,
   "id": "683272c3",
   "metadata": {},
   "outputs": [
    {
     "data": {
      "text/plain": [
       "99"
      ]
     },
     "execution_count": 497,
     "metadata": {},
     "output_type": "execute_result"
    }
   ],
   "source": [
    "grade['juliet']"
   ]
  },
  {
   "cell_type": "code",
   "execution_count": 198,
   "id": "678893cb",
   "metadata": {},
   "outputs": [
    {
     "data": {
      "text/plain": [
       "{1: 'b'}"
      ]
     },
     "execution_count": 198,
     "metadata": {},
     "output_type": "execute_result"
    }
   ],
   "source": [
    "#주의사항 1: 키값은 유니크해야함. 중복 허용 X\n",
    "a = {1:'a',1:'b'}\n",
    "a"
   ]
  },
  {
   "cell_type": "code",
   "execution_count": 199,
   "id": "7fe096bd",
   "metadata": {},
   "outputs": [
    {
     "ename": "TypeError",
     "evalue": "unhashable type: 'list'",
     "output_type": "error",
     "traceback": [
      "\u001b[0;31m---------------------------------------------------------------------------\u001b[0m",
      "\u001b[0;31mTypeError\u001b[0m                                 Traceback (most recent call last)",
      "Cell \u001b[0;32mIn[199], line 2\u001b[0m\n\u001b[1;32m      1\u001b[0m \u001b[38;5;66;03m#주의사항 2: 키는 수정 삭제가 안 되는 type이어야 함.\u001b[39;00m\n\u001b[0;32m----> 2\u001b[0m a \u001b[38;5;241m=\u001b[39m {[\u001b[38;5;241m1\u001b[39m,\u001b[38;5;241m2\u001b[39m]:\u001b[38;5;124m'\u001b[39m\u001b[38;5;124mhi\u001b[39m\u001b[38;5;124m'\u001b[39m}\n\u001b[1;32m      3\u001b[0m a\n",
      "\u001b[0;31mTypeError\u001b[0m: unhashable type: 'list'"
     ]
    }
   ],
   "source": [
    "#주의사항 2: 키는 수정 삭제가 안 되는 type이어야 함. -> 리스트 불가능\n",
    "a = {[1,2]:'hi'}\n",
    "a"
   ]
  },
  {
   "cell_type": "code",
   "execution_count": 204,
   "id": "2e7834da",
   "metadata": {},
   "outputs": [
    {
     "data": {
      "text/plain": [
       "{(1, 2): 'hi'}"
      ]
     },
     "execution_count": 204,
     "metadata": {},
     "output_type": "execute_result"
    }
   ],
   "source": [
    "#주의사항 2: 키는 수정 삭제가 안 되는 type이어야 함. -> 튜플 가능\n",
    "a = {(1,2):'hi'}\n",
    "a"
   ]
  },
  {
   "cell_type": "code",
   "execution_count": 209,
   "id": "96f191e5",
   "metadata": {
    "scrolled": true
   },
   "outputs": [
    {
     "data": {
      "text/plain": [
       "dict_keys(['name', 'phone', 'birth'])"
      ]
     },
     "execution_count": 209,
     "metadata": {},
     "output_type": "execute_result"
    }
   ],
   "source": [
    "# 딕셔너리에서 객체 return하기 *리스트처럼 보이지만 리스트는 아님\n",
    "# -> .keys() .values() .items() \n",
    "a = {'name':'pey','phone':'010-9999-1234','birth':'1118'}\n",
    "a.keys()"
   ]
  },
  {
   "cell_type": "code",
   "execution_count": 210,
   "id": "9d92c07f",
   "metadata": {},
   "outputs": [
    {
     "data": {
      "text/plain": [
       "['name', 'phone', 'birth']"
      ]
     },
     "execution_count": 210,
     "metadata": {},
     "output_type": "execute_result"
    }
   ],
   "source": [
    "# .keys()로 나온 리턴값은 리스트가 아니기 때문에 리스트로 쓰려면 변환함수 list()써줘야 함\n",
    "list(a.keys())"
   ]
  },
  {
   "cell_type": "code",
   "execution_count": 214,
   "id": "37621179",
   "metadata": {},
   "outputs": [
    {
     "name": "stdout",
     "output_type": "stream",
     "text": [
      "name\n",
      "phone\n",
      "birth\n"
     ]
    }
   ],
   "source": [
    "for x in a.keys():\n",
    "    print(x)"
   ]
  },
  {
   "cell_type": "code",
   "execution_count": 215,
   "id": "988ede31",
   "metadata": {},
   "outputs": [
    {
     "data": {
      "text/plain": [
       "dict_values(['pey', '010-9999-1234', '1118'])"
      ]
     },
     "execution_count": 215,
     "metadata": {},
     "output_type": "execute_result"
    }
   ],
   "source": [
    "#밸류 값 리턴하기\n",
    "a.values()"
   ]
  },
  {
   "cell_type": "code",
   "execution_count": 216,
   "id": "a87d978a",
   "metadata": {},
   "outputs": [
    {
     "data": {
      "text/plain": [
       "dict_items([('name', 'pey'), ('phone', '010-9999-1234'), ('birth', '1118')])"
      ]
     },
     "execution_count": 216,
     "metadata": {},
     "output_type": "execute_result"
    }
   ],
   "source": [
    "#아이템 리턴하기\n",
    "a.items()"
   ]
  },
  {
   "cell_type": "code",
   "execution_count": 217,
   "id": "188d0d22",
   "metadata": {},
   "outputs": [
    {
     "data": {
      "text/plain": [
       "{}"
      ]
     },
     "execution_count": 217,
     "metadata": {},
     "output_type": "execute_result"
    }
   ],
   "source": [
    "# .clear()함수 -> 요소 다 지우기\n",
    "a.clear()\n",
    "a"
   ]
  },
  {
   "cell_type": "code",
   "execution_count": 224,
   "id": "8a382afd",
   "metadata": {},
   "outputs": [
    {
     "data": {
      "text/plain": [
       "'pey'"
      ]
     },
     "execution_count": 224,
     "metadata": {},
     "output_type": "execute_result"
    }
   ],
   "source": [
    "# .get()함수 -> 키값을 넣어 밸류 값 가져오기\n",
    "a.get('name')"
   ]
  },
  {
   "cell_type": "code",
   "execution_count": 231,
   "id": "1cb372fc",
   "metadata": {},
   "outputs": [
    {
     "name": "stdout",
     "output_type": "stream",
     "text": [
      "pey\n"
     ]
    }
   ],
   "source": [
    "# .get()함수 <-> print()에 딕셔너리인덱싱 넣기 비교하기\n",
    "print(a['name'])"
   ]
  },
  {
   "cell_type": "code",
   "execution_count": 232,
   "id": "077e1cc0",
   "metadata": {},
   "outputs": [
    {
     "ename": "KeyError",
     "evalue": "'nokey'",
     "output_type": "error",
     "traceback": [
      "\u001b[0;31m---------------------------------------------------------------------------\u001b[0m",
      "\u001b[0;31mKeyError\u001b[0m                                  Traceback (most recent call last)",
      "Cell \u001b[0;32mIn[232], line 1\u001b[0m\n\u001b[0;32m----> 1\u001b[0m \u001b[38;5;28mprint\u001b[39m(a[\u001b[38;5;124m'\u001b[39m\u001b[38;5;124mnokey\u001b[39m\u001b[38;5;124m'\u001b[39m])\n",
      "\u001b[0;31mKeyError\u001b[0m: 'nokey'"
     ]
    }
   ],
   "source": [
    "print(a['nokey'])"
   ]
  },
  {
   "cell_type": "code",
   "execution_count": 234,
   "id": "71cc26ff",
   "metadata": {},
   "outputs": [
    {
     "data": {
      "text/plain": [
       "'없음'"
      ]
     },
     "execution_count": 234,
     "metadata": {},
     "output_type": "execute_result"
    }
   ],
   "source": [
    "# .get('검색할 키값',없는 경우 지정할 리턴값) 함수 응용: 만약 검색한 키가 딕셔너리 안에 없는 경우 리턴값 지정하기\n",
    "a.get('nokey','없음')"
   ]
  },
  {
   "cell_type": "code",
   "execution_count": 235,
   "id": "99cc25d0",
   "metadata": {},
   "outputs": [
    {
     "data": {
      "text/plain": [
       "0"
      ]
     },
     "execution_count": 235,
     "metadata": {},
     "output_type": "execute_result"
    }
   ],
   "source": [
    "# .get('검색할 키값',없는 경우 지정할 리턴값) 함수 응용: 만약 검색한 키가 딕셔너리 안에 없는 경우 리턴값 지정하기\n",
    "a.get('nokey',0)"
   ]
  },
  {
   "cell_type": "code",
   "execution_count": 228,
   "id": "b78c1f75",
   "metadata": {},
   "outputs": [
    {
     "data": {
      "text/plain": [
       "True"
      ]
     },
     "execution_count": 228,
     "metadata": {},
     "output_type": "execute_result"
    }
   ],
   "source": [
    "# '키값 in 딕셔너리 이름: in 명령어를 써서 딕셔너리 안에 키 값이 있는지 찾아보기 -> 있는 경우\n",
    "a = {'name':'pey','phone':'010-9999-1234','birth':'1118'}\n",
    "'name' in a"
   ]
  },
  {
   "cell_type": "code",
   "execution_count": 229,
   "id": "03c0f56f",
   "metadata": {},
   "outputs": [
    {
     "data": {
      "text/plain": [
       "False"
      ]
     },
     "execution_count": 229,
     "metadata": {},
     "output_type": "execute_result"
    }
   ],
   "source": [
    "#검색한 키값이 딕셔너리 안에 없는 경우\n",
    "'nokey' in a"
   ]
  },
  {
   "cell_type": "markdown",
   "id": "08d38b21",
   "metadata": {},
   "source": [
    "### 집합 자료형 Set\n",
    "중복 허용 안함\n",
    "순서 없음"
   ]
  },
  {
   "cell_type": "code",
   "execution_count": 251,
   "id": "e07b9172",
   "metadata": {},
   "outputs": [
    {
     "data": {
      "text/plain": [
       "set"
      ]
     },
     "execution_count": 251,
     "metadata": {},
     "output_type": "execute_result"
    }
   ],
   "source": [
    "#set 기본 구조: set([리스트]) 또는 set((튜플))\n",
    "s1 = set([1,2,3])\n",
    "type(s1)"
   ]
  },
  {
   "cell_type": "code",
   "execution_count": 238,
   "id": "d5756a68",
   "metadata": {},
   "outputs": [
    {
     "data": {
      "text/plain": [
       "{1, 2, 3}"
      ]
     },
     "execution_count": 238,
     "metadata": {},
     "output_type": "execute_result"
    }
   ],
   "source": [
    "s1"
   ]
  },
  {
   "cell_type": "code",
   "execution_count": 246,
   "id": "44e466af",
   "metadata": {},
   "outputs": [
    {
     "data": {
      "text/plain": [
       "{'H', 'e', 'l', 'o'}"
      ]
     },
     "execution_count": 246,
     "metadata": {},
     "output_type": "execute_result"
    }
   ],
   "source": [
    "#문자형을 세트로 지정했을 때 -> 문자 하나하나를 한 요소로 취급, 자동으로 중복 제거\n",
    "s2 = set('Hello')\n",
    "s2"
   ]
  },
  {
   "cell_type": "code",
   "execution_count": 241,
   "id": "68d12946",
   "metadata": {},
   "outputs": [],
   "source": [
    "s = set()"
   ]
  },
  {
   "cell_type": "code",
   "execution_count": 243,
   "id": "dfcc1aa2",
   "metadata": {},
   "outputs": [
    {
     "data": {
      "text/plain": [
       "[1, 2, 3]"
      ]
     },
     "execution_count": 243,
     "metadata": {},
     "output_type": "execute_result"
    }
   ],
   "source": [
    "s1 = set([1,2,3])\n",
    "l1 = list(s1)\n",
    "l1"
   ]
  },
  {
   "cell_type": "code",
   "execution_count": 244,
   "id": "92de986e",
   "metadata": {},
   "outputs": [
    {
     "data": {
      "text/plain": [
       "(1, 2, 3)"
      ]
     },
     "execution_count": 244,
     "metadata": {},
     "output_type": "execute_result"
    }
   ],
   "source": [
    "t1 = tuple(s1)\n",
    "t1"
   ]
  },
  {
   "cell_type": "markdown",
   "id": "5e5ee8ee",
   "metadata": {},
   "source": [
    "##### 교집합 합집합 차집합"
   ]
  },
  {
   "cell_type": "code",
   "execution_count": 247,
   "id": "dfe112e8",
   "metadata": {},
   "outputs": [],
   "source": [
    "s1 = set([1,2,3,4,5,6])\n",
    "s2 = set([4,5,6,7,8,9])"
   ]
  },
  {
   "cell_type": "code",
   "execution_count": 248,
   "id": "01b802cf",
   "metadata": {},
   "outputs": [
    {
     "data": {
      "text/plain": [
       "{4, 5, 6}"
      ]
     },
     "execution_count": 248,
     "metadata": {},
     "output_type": "execute_result"
    }
   ],
   "source": [
    "#교집합 1\n",
    "s1 & s2"
   ]
  },
  {
   "cell_type": "code",
   "execution_count": 250,
   "id": "c54f845f",
   "metadata": {},
   "outputs": [
    {
     "data": {
      "text/plain": [
       "{4, 5, 6}"
      ]
     },
     "execution_count": 250,
     "metadata": {},
     "output_type": "execute_result"
    }
   ],
   "source": [
    "#교집합 2\n",
    "s1.intersection(s2)"
   ]
  },
  {
   "cell_type": "code",
   "execution_count": 253,
   "id": "5e710679",
   "metadata": {},
   "outputs": [
    {
     "data": {
      "text/plain": [
       "{1, 2, 3, 4, 5, 6, 7, 8, 9}"
      ]
     },
     "execution_count": 253,
     "metadata": {},
     "output_type": "execute_result"
    }
   ],
   "source": [
    "#합집합 1\n",
    "s1 | s2"
   ]
  },
  {
   "cell_type": "code",
   "execution_count": 255,
   "id": "4cf6f51f",
   "metadata": {},
   "outputs": [
    {
     "data": {
      "text/plain": [
       "{1, 2, 3, 4, 5, 6, 7, 8, 9}"
      ]
     },
     "execution_count": 255,
     "metadata": {},
     "output_type": "execute_result"
    }
   ],
   "source": [
    "#합집합 2\n",
    "s1.union(s2)"
   ]
  },
  {
   "cell_type": "code",
   "execution_count": 511,
   "id": "be4a67e9",
   "metadata": {},
   "outputs": [
    {
     "data": {
      "text/plain": [
       "{1, 2, 3}"
      ]
     },
     "execution_count": 511,
     "metadata": {},
     "output_type": "execute_result"
    }
   ],
   "source": [
    "#차집합\n",
    "s1 = set([1,2,3,4,5,6])\n",
    "s2 = set([4,5,6,7,8,9])\n",
    "s1 - s2"
   ]
  },
  {
   "cell_type": "code",
   "execution_count": 513,
   "id": "c5893819",
   "metadata": {},
   "outputs": [
    {
     "data": {
      "text/plain": [
       "{7, 8, 9}"
      ]
     },
     "execution_count": 513,
     "metadata": {},
     "output_type": "execute_result"
    }
   ],
   "source": [
    "#차집합\n",
    "s1 = set([1,2,3,4,5,6])\n",
    "s2 = set([4,5,6,7,8,9])\n",
    "s2 - s1"
   ]
  },
  {
   "cell_type": "code",
   "execution_count": 264,
   "id": "1102787f",
   "metadata": {},
   "outputs": [
    {
     "data": {
      "text/plain": [
       "{1, 2, 3}"
      ]
     },
     "execution_count": 264,
     "metadata": {},
     "output_type": "execute_result"
    }
   ],
   "source": [
    "#차집합 2\n",
    "s1 = set([1,2,3,4,5,6])\n",
    "s2 = set([4,5,6,7,8,9])\n",
    "s1.difference(s2)"
   ]
  },
  {
   "cell_type": "code",
   "execution_count": 265,
   "id": "6298c8b8",
   "metadata": {},
   "outputs": [
    {
     "data": {
      "text/plain": [
       "{7, 8, 9}"
      ]
     },
     "execution_count": 265,
     "metadata": {},
     "output_type": "execute_result"
    }
   ],
   "source": [
    "#차집합 2 .difference()\n",
    "s1 = set([1,2,3,4,5,6])\n",
    "s2 = set([4,5,6,7,8,9])\n",
    "s2.difference(s1)"
   ]
  },
  {
   "cell_type": "markdown",
   "id": "76725690",
   "metadata": {},
   "source": [
    "## 집합 자료형 관련 함수"
   ]
  },
  {
   "cell_type": "code",
   "execution_count": 273,
   "id": "4ec526db",
   "metadata": {},
   "outputs": [
    {
     "data": {
      "text/plain": [
       "{1, 2, 3, 4}"
      ]
     },
     "execution_count": 273,
     "metadata": {},
     "output_type": "execute_result"
    }
   ],
   "source": [
    "# .add() : 값 1개 추가\n",
    "s1 = set([1,2,3])\n",
    "s1.add(4)\n",
    "s1"
   ]
  },
  {
   "cell_type": "code",
   "execution_count": 271,
   "id": "ea64d92f",
   "metadata": {},
   "outputs": [
    {
     "data": {
      "text/plain": [
       "{1, 2, 3, 4, 5, 6}"
      ]
     },
     "execution_count": 271,
     "metadata": {},
     "output_type": "execute_result"
    }
   ],
   "source": [
    "# .update(): 값 여러 개 추가\n",
    "s1.update([4,5,6])\n",
    "s1"
   ]
  },
  {
   "cell_type": "code",
   "execution_count": 272,
   "id": "8cc3f893",
   "metadata": {},
   "outputs": [
    {
     "data": {
      "text/plain": [
       "{1, 3}"
      ]
     },
     "execution_count": 272,
     "metadata": {},
     "output_type": "execute_result"
    }
   ],
   "source": [
    "# .remove() :값 제거\n",
    "s1 = set([1,2,3])\n",
    "s1.remove(2)\n",
    "s1"
   ]
  },
  {
   "cell_type": "code",
   "execution_count": 281,
   "id": "a9c35193",
   "metadata": {},
   "outputs": [
    {
     "data": {
      "text/plain": [
       "{1, 2, 3, 4}"
      ]
     },
     "execution_count": 281,
     "metadata": {},
     "output_type": "execute_result"
    }
   ],
   "source": [
    "# .add() : 값 1개 추가 -> 추가할 때 데이터 타입은 기존 데이터 타입에 영향을 안 주나용?\n",
    "s1 = set([1,2,3])\n",
    "s1.add(4)\n",
    "s1"
   ]
  },
  {
   "cell_type": "code",
   "execution_count": 280,
   "id": "467def7b",
   "metadata": {},
   "outputs": [
    {
     "data": {
      "text/plain": [
       "{1, 2, 3, 4, 5, 6}"
      ]
     },
     "execution_count": 280,
     "metadata": {},
     "output_type": "execute_result"
    }
   ],
   "source": [
    "# .update(): 값 여러 개 추가\n",
    "s1.update((4,5,6))\n",
    "s1"
   ]
  },
  {
   "cell_type": "markdown",
   "id": "3fdecb13",
   "metadata": {},
   "source": [
    "### bool 자료형"
   ]
  },
  {
   "cell_type": "code",
   "execution_count": 283,
   "id": "457f96de",
   "metadata": {},
   "outputs": [
    {
     "data": {
      "text/plain": [
       "True"
      ]
     },
     "execution_count": 283,
     "metadata": {},
     "output_type": "execute_result"
    }
   ],
   "source": [
    "#기본 구조: 기본적으로 값이 있으면 True, 비어 있으면 False\n",
    "bool('python')"
   ]
  },
  {
   "cell_type": "code",
   "execution_count": 284,
   "id": "bf1694c7",
   "metadata": {},
   "outputs": [
    {
     "data": {
      "text/plain": [
       "False"
      ]
     },
     "execution_count": 284,
     "metadata": {},
     "output_type": "execute_result"
    }
   ],
   "source": [
    "bool('')"
   ]
  },
  {
   "cell_type": "code",
   "execution_count": 285,
   "id": "ac428681",
   "metadata": {},
   "outputs": [
    {
     "data": {
      "text/plain": [
       "True"
      ]
     },
     "execution_count": 285,
     "metadata": {},
     "output_type": "execute_result"
    }
   ],
   "source": [
    "bool([1,2,3])"
   ]
  },
  {
   "cell_type": "code",
   "execution_count": 290,
   "id": "832dd513",
   "metadata": {},
   "outputs": [
    {
     "data": {
      "text/plain": [
       "False"
      ]
     },
     "execution_count": 290,
     "metadata": {},
     "output_type": "execute_result"
    }
   ],
   "source": [
    "bool([])"
   ]
  },
  {
   "cell_type": "code",
   "execution_count": 291,
   "id": "9e3c5b4d",
   "metadata": {},
   "outputs": [
    {
     "data": {
      "text/plain": [
       "True"
      ]
     },
     "execution_count": 291,
     "metadata": {},
     "output_type": "execute_result"
    }
   ],
   "source": [
    "bool(3)"
   ]
  },
  {
   "cell_type": "code",
   "execution_count": 292,
   "id": "605904fc",
   "metadata": {},
   "outputs": [
    {
     "data": {
      "text/plain": [
       "False"
      ]
     },
     "execution_count": 292,
     "metadata": {},
     "output_type": "execute_result"
    }
   ],
   "source": [
    "bool(0)"
   ]
  },
  {
   "cell_type": "markdown",
   "id": "6a77ddc5",
   "metadata": {},
   "source": [
    "⬆︎ 여기까지 bool()의 여러 가지 경우 ⬆︎"
   ]
  },
  {
   "cell_type": "markdown",
   "id": "b4c1b757",
   "metadata": {},
   "source": [
    "##### id 공유 이슈"
   ]
  },
  {
   "cell_type": "code",
   "execution_count": 552,
   "id": "cb6995bb",
   "metadata": {},
   "outputs": [
    {
     "data": {
      "text/plain": [
       "4478247936"
      ]
     },
     "execution_count": 552,
     "metadata": {},
     "output_type": "execute_result"
    }
   ],
   "source": [
    "# 변수 = 다른 변수로 할당했을 때 id공유 이슈 -> 그렇기 때문에 변수를 복사해서 써야 함\n",
    "a = [1,2,3]\n",
    "id(a)"
   ]
  },
  {
   "cell_type": "code",
   "execution_count": 553,
   "id": "28a7c63b",
   "metadata": {
    "scrolled": true
   },
   "outputs": [
    {
     "data": {
      "text/plain": [
       "4478247936"
      ]
     },
     "execution_count": 553,
     "metadata": {},
     "output_type": "execute_result"
    }
   ],
   "source": [
    "b = a\n",
    "id(b)"
   ]
  },
  {
   "cell_type": "code",
   "execution_count": 554,
   "id": "02055cdc",
   "metadata": {},
   "outputs": [
    {
     "data": {
      "text/plain": [
       "True"
      ]
     },
     "execution_count": 554,
     "metadata": {},
     "output_type": "execute_result"
    }
   ],
   "source": [
    "a is b"
   ]
  },
  {
   "cell_type": "code",
   "execution_count": 555,
   "id": "c0ba5c60",
   "metadata": {},
   "outputs": [
    {
     "data": {
      "text/plain": [
       "[1, 4, 3]"
      ]
     },
     "execution_count": 555,
     "metadata": {},
     "output_type": "execute_result"
    }
   ],
   "source": [
    "a[1] = 4\n",
    "a"
   ]
  },
  {
   "cell_type": "code",
   "execution_count": 556,
   "id": "b95d7ae6",
   "metadata": {},
   "outputs": [
    {
     "data": {
      "text/plain": [
       "[1, 4, 3]"
      ]
     },
     "execution_count": 556,
     "metadata": {},
     "output_type": "execute_result"
    }
   ],
   "source": [
    "# b는 안건들였는데도 b라는 변수에 a 변수 자체를 할당해서 같이 바뀜\n",
    "b"
   ]
  },
  {
   "cell_type": "code",
   "execution_count": 558,
   "id": "e29dd555",
   "metadata": {},
   "outputs": [
    {
     "name": "stdout",
     "output_type": "stream",
     "text": [
      "[1, 4, 3]\n",
      "[1, 4, 3]\n"
     ]
    },
    {
     "data": {
      "text/plain": [
       "True"
      ]
     },
     "execution_count": 558,
     "metadata": {},
     "output_type": "execute_result"
    }
   ],
   "source": [
    "print(a)\n",
    "print(b)\n",
    "b is a"
   ]
  },
  {
   "cell_type": "code",
   "execution_count": 532,
   "id": "681f4d76",
   "metadata": {},
   "outputs": [
    {
     "data": {
      "text/plain": [
       "[1, 4, 3]"
      ]
     },
     "execution_count": 532,
     "metadata": {},
     "output_type": "execute_result"
    }
   ],
   "source": [
    "#변수 복제 1 - colon : 쓰기\n",
    "a = [1,2,3]\n",
    "b = a[:]\n",
    "a[1] = 4 #변수 b에 변수 a를 복사해서 붙여넣기 했기 때문에 a의 데이터를 그대로 가져오긴 했으나 같은 id를 공유하지 않기 때문에 a를 수정해도 b는 변하지 않는다\n",
    "a"
   ]
  },
  {
   "cell_type": "code",
   "execution_count": 533,
   "id": "0776aff3",
   "metadata": {},
   "outputs": [
    {
     "data": {
      "text/plain": [
       "[1, 2, 3]"
      ]
     },
     "execution_count": 533,
     "metadata": {},
     "output_type": "execute_result"
    }
   ],
   "source": [
    "b"
   ]
  },
  {
   "cell_type": "code",
   "execution_count": 531,
   "id": "0e1535a8",
   "metadata": {},
   "outputs": [
    {
     "data": {
      "text/plain": [
       "False"
      ]
     },
     "execution_count": 531,
     "metadata": {},
     "output_type": "execute_result"
    }
   ],
   "source": [
    "a is b"
   ]
  },
  {
   "cell_type": "code",
   "execution_count": 528,
   "id": "8e2478ec",
   "metadata": {},
   "outputs": [],
   "source": [
    "#변수 복제 2 : Copy 모듈 이용하기 *'copy'라는 모듈 안에 'copy'라는 함수 있음\n",
    "from copy import copy\n",
    "\n",
    "a = [1,2,3]\n",
    "b = copy(a)"
   ]
  },
  {
   "cell_type": "code",
   "execution_count": 546,
   "id": "b003df08",
   "metadata": {},
   "outputs": [
    {
     "name": "stdout",
     "output_type": "stream",
     "text": [
      "[1, 2, 3]\n",
      "[1, 2, 3]\n"
     ]
    },
    {
     "data": {
      "text/plain": [
       "False"
      ]
     },
     "execution_count": 546,
     "metadata": {},
     "output_type": "execute_result"
    }
   ],
   "source": [
    "print(a)\n",
    "print(b)\n",
    "b is a"
   ]
  },
  {
   "cell_type": "code",
   "execution_count": 547,
   "id": "8708ed7c",
   "metadata": {},
   "outputs": [
    {
     "name": "stdout",
     "output_type": "stream",
     "text": [
      "[1, 2, 3]\n",
      "[1, 2, 3]\n"
     ]
    },
    {
     "data": {
      "text/plain": [
       "False"
      ]
     },
     "execution_count": 547,
     "metadata": {},
     "output_type": "execute_result"
    }
   ],
   "source": [
    "#변수 복제 3 - list copy 함수 사용\n",
    "a = [1,2,3]\n",
    "b = a.copy()\n",
    "print(a)\n",
    "print(b)\n",
    "b is a"
   ]
  },
  {
   "cell_type": "markdown",
   "id": "bdbbcd67",
   "metadata": {},
   "source": [
    "# 연습문제"
   ]
  },
  {
   "cell_type": "code",
   "execution_count": 442,
   "id": "7cafa130",
   "metadata": {},
   "outputs": [],
   "source": [
    "#Q1. 홍길동 씨의 과목별 점수는 다음과 같다. 홍길동 씨의 평균 점수를 구해보자.\n",
    "#국어 - 80 / 영어 - 75 / 수학 - 55"
   ]
  },
  {
   "cell_type": "code",
   "execution_count": 345,
   "id": "757ad9eb",
   "metadata": {
    "scrolled": true
   },
   "outputs": [
    {
     "data": {
      "text/plain": [
       "dict_values([80, 75, 55])"
      ]
     },
     "execution_count": 345,
     "metadata": {},
     "output_type": "execute_result"
    }
   ],
   "source": [
    "hong = {'국어':80,'영어':75,'수학':55}\n",
    "hong.values()"
   ]
  },
  {
   "cell_type": "code",
   "execution_count": 347,
   "id": "ece39958",
   "metadata": {
    "scrolled": true
   },
   "outputs": [
    {
     "name": "stdout",
     "output_type": "stream",
     "text": [
      "70.0\n"
     ]
    }
   ],
   "source": [
    "grades = list(hong.values())\n",
    "mean = sum(grades)/3\n",
    "print(mean)"
   ]
  },
  {
   "cell_type": "code",
   "execution_count": 344,
   "id": "d7828578",
   "metadata": {},
   "outputs": [
    {
     "data": {
      "text/plain": [
       "False"
      ]
     },
     "execution_count": 344,
     "metadata": {},
     "output_type": "execute_result"
    }
   ],
   "source": [
    "#Q2. 13 -> 홀수 짝수?\n",
    "bool(13%2 == 0)"
   ]
  },
  {
   "cell_type": "code",
   "execution_count": 355,
   "id": "6080e38c",
   "metadata": {},
   "outputs": [],
   "source": [
    "#Q3. 홍길동 씨의 주민등록번호가 881120-1069234일 때, \n",
    "#연원일 부분과 그 뒤의 숫자 부분으로 나누어 출력\n",
    "pin = '881120-1069234'"
   ]
  },
  {
   "cell_type": "code",
   "execution_count": 449,
   "id": "84841d8f",
   "metadata": {},
   "outputs": [
    {
     "name": "stdout",
     "output_type": "stream",
     "text": [
      "881120\n",
      "1068234\n"
     ]
    }
   ],
   "source": [
    "yyyyddmm = pin[:6]\n",
    "num = pin[7:]\n",
    "print(yyyyddmm)\n",
    "print(num)"
   ]
  },
  {
   "cell_type": "code",
   "execution_count": 538,
   "id": "998ca395",
   "metadata": {},
   "outputs": [
    {
     "data": {
      "text/plain": [
       "['881120', '1068234']"
      ]
     },
     "execution_count": 538,
     "metadata": {},
     "output_type": "execute_result"
    }
   ],
   "source": [
    "#split 활용해보기\n",
    "pin.split('-')\n",
    "a = pin.split('-')\n",
    "a"
   ]
  },
  {
   "cell_type": "code",
   "execution_count": 539,
   "id": "0ee05020",
   "metadata": {},
   "outputs": [
    {
     "name": "stdout",
     "output_type": "stream",
     "text": [
      "881120\n",
      "1068234\n"
     ]
    }
   ],
   "source": [
    "print(a[0])\n",
    "print(a[1])"
   ]
  },
  {
   "cell_type": "code",
   "execution_count": 446,
   "id": "3eb27d16",
   "metadata": {},
   "outputs": [],
   "source": [
    "#Q4. 주민등록번호의 성별을 나타내는 숫자 출력하기\n",
    "pin = \"881120-1068234\""
   ]
  },
  {
   "cell_type": "code",
   "execution_count": 358,
   "id": "8c1076e2",
   "metadata": {},
   "outputs": [
    {
     "data": {
      "text/plain": [
       "'1'"
      ]
     },
     "execution_count": 358,
     "metadata": {},
     "output_type": "execute_result"
    }
   ],
   "source": [
    "pin[7]"
   ]
  },
  {
   "cell_type": "code",
   "execution_count": 397,
   "id": "6a5cd45f",
   "metadata": {},
   "outputs": [],
   "source": [
    "#Q5. 문자열 함수 replace 사용하기\n",
    "q5 = \"a:b:c:d\""
   ]
  },
  {
   "cell_type": "code",
   "execution_count": 398,
   "id": "68040860",
   "metadata": {},
   "outputs": [
    {
     "data": {
      "text/plain": [
       "'a#b#c#d'"
      ]
     },
     "execution_count": 398,
     "metadata": {},
     "output_type": "execute_result"
    }
   ],
   "source": [
    "q5.replace(':','#')"
   ]
  },
  {
   "cell_type": "code",
   "execution_count": 394,
   "id": "18d3c02c",
   "metadata": {},
   "outputs": [],
   "source": [
    "#Q6. [1,3,5,4,2] 리스트를 [5,4,3,2,1]로 만들기\n",
    "q6 = [1,3,5,4,2]"
   ]
  },
  {
   "cell_type": "code",
   "execution_count": 395,
   "id": "4b5c59eb",
   "metadata": {},
   "outputs": [
    {
     "data": {
      "text/plain": [
       "[1, 2, 3, 4, 5]"
      ]
     },
     "execution_count": 395,
     "metadata": {},
     "output_type": "execute_result"
    }
   ],
   "source": [
    "q6 = [1,3,5,4,2]\n",
    "q6.sort()\n",
    "q6"
   ]
  },
  {
   "cell_type": "code",
   "execution_count": 399,
   "id": "57c8e4bf",
   "metadata": {},
   "outputs": [
    {
     "data": {
      "text/plain": [
       "[1, 2, 3, 4, 5]"
      ]
     },
     "execution_count": 399,
     "metadata": {},
     "output_type": "execute_result"
    }
   ],
   "source": [
    "q6.reverse()\n",
    "q6"
   ]
  },
  {
   "cell_type": "code",
   "execution_count": 421,
   "id": "c00e6dc7",
   "metadata": {},
   "outputs": [
    {
     "data": {
      "text/plain": [
       "'Life is too short'"
      ]
     },
     "execution_count": 421,
     "metadata": {},
     "output_type": "execute_result"
    }
   ],
   "source": [
    "#Q7. ['Life','is','too','short'] 리스트를 문자열로 만들어 출력하기\n",
    "a = ['Life','is','too','short']\n",
    "' '.join(a)"
   ]
  },
  {
   "cell_type": "code",
   "execution_count": 424,
   "id": "4efdf6a1",
   "metadata": {},
   "outputs": [
    {
     "data": {
      "text/plain": [
       "(1, 2, 3)"
      ]
     },
     "execution_count": 424,
     "metadata": {},
     "output_type": "execute_result"
    }
   ],
   "source": [
    "#Q8 (1,2,3) 튜플에 값 4 추가하기\n",
    "t1 = (1,2,3)\n",
    "t1"
   ]
  },
  {
   "cell_type": "code",
   "execution_count": 425,
   "id": "c014fc9b",
   "metadata": {},
   "outputs": [
    {
     "data": {
      "text/plain": [
       "(4,)"
      ]
     },
     "execution_count": 425,
     "metadata": {},
     "output_type": "execute_result"
    }
   ],
   "source": [
    "t2 = (4,)\n",
    "t2"
   ]
  },
  {
   "cell_type": "code",
   "execution_count": 427,
   "id": "268e1a6d",
   "metadata": {},
   "outputs": [
    {
     "data": {
      "text/plain": [
       "(1, 2, 3, 4)"
      ]
     },
     "execution_count": 427,
     "metadata": {},
     "output_type": "execute_result"
    }
   ],
   "source": [
    "t3 = t1 + t2\n",
    "t3"
   ]
  },
  {
   "cell_type": "code",
   "execution_count": 429,
   "id": "ae5a774f",
   "metadata": {},
   "outputs": [],
   "source": [
    "#Q9. 딕셔너리 오류가 나는 경우\n",
    "# 3번 : 딕셔너리 키 값은 수정할 수 없으므로 수정가능한리스트가키값으로올수없다"
   ]
  },
  {
   "cell_type": "code",
   "execution_count": 439,
   "id": "1cb8f76c",
   "metadata": {},
   "outputs": [
    {
     "data": {
      "text/plain": [
       "80"
      ]
     },
     "execution_count": 439,
     "metadata": {},
     "output_type": "execute_result"
    }
   ],
   "source": [
    "#Q10. 딕셔너리 a에서 'B'에 해당하는 값 추출하기\n",
    "a = {'A':90,'B':80,'C':70}\n",
    "a.pop('B')"
   ]
  },
  {
   "cell_type": "code",
   "execution_count": 440,
   "id": "7d710bcb",
   "metadata": {},
   "outputs": [
    {
     "data": {
      "text/plain": [
       "[1, 2, 3, 4, 5]"
      ]
     },
     "execution_count": 440,
     "metadata": {},
     "output_type": "execute_result"
    }
   ],
   "source": [
    "#Q11. 리스트에서 중복 제거하기 - set자료형의 특징 활용하기\n",
    "a = [1,1,1,2,2,3,3,3,4,4,5]\n",
    "b = set(a)\n",
    "a = list(b)\n",
    "a"
   ]
  },
  {
   "cell_type": "code",
   "execution_count": 549,
   "id": "ca305b4f",
   "metadata": {},
   "outputs": [
    {
     "name": "stdout",
     "output_type": "stream",
     "text": [
      "[1, 4, 3]\n"
     ]
    }
   ],
   "source": [
    "#Q12.다음과 같이 동일한 값에 여러 개의 변수를 선언했을 경우 결과와 그 이유\n",
    "a = b = [1,2,3]\n",
    "a[1] = 4\n",
    "print(b)\n"
   ]
  },
  {
   "cell_type": "code",
   "execution_count": 550,
   "id": "66e31551",
   "metadata": {},
   "outputs": [
    {
     "name": "stdout",
     "output_type": "stream",
     "text": [
      "True\n",
      "True\n"
     ]
    }
   ],
   "source": [
    "#변수 할당할 때 같은 위치에 저장되어서\n",
    "print(id(a) == id(b))\n",
    "print(a is b)"
   ]
  },
  {
   "cell_type": "code",
   "execution_count": 571,
   "id": "1992f3a5",
   "metadata": {},
   "outputs": [
    {
     "data": {
      "text/plain": [
       "[1, 2, 3, 4, 5]"
      ]
     },
     "execution_count": 571,
     "metadata": {},
     "output_type": "execute_result"
    }
   ],
   "source": [
    "a=[3,2,1,4,5]\n",
    "a.sort()\n",
    "a"
   ]
  },
  {
   "cell_type": "code",
   "execution_count": 572,
   "id": "b0694edb",
   "metadata": {},
   "outputs": [
    {
     "name": "stdout",
     "output_type": "stream",
     "text": [
      "[1, 2, 3, 4, 5]\n"
     ]
    }
   ],
   "source": [
    "a = [3,2,1,4,5]\n",
    "a.sort()\n",
    "print(a)"
   ]
  },
  {
   "cell_type": "code",
   "execution_count": null,
   "id": "d23bb5e5",
   "metadata": {},
   "outputs": [],
   "source": []
  },
  {
   "cell_type": "code",
   "execution_count": null,
   "id": "07e5db54",
   "metadata": {},
   "outputs": [],
   "source": []
  },
  {
   "cell_type": "code",
   "execution_count": null,
   "id": "c472ad57",
   "metadata": {},
   "outputs": [],
   "source": []
  },
  {
   "cell_type": "code",
   "execution_count": null,
   "id": "5ec96428",
   "metadata": {},
   "outputs": [],
   "source": []
  },
  {
   "cell_type": "code",
   "execution_count": null,
   "id": "f0179f6b",
   "metadata": {},
   "outputs": [],
   "source": []
  },
  {
   "cell_type": "code",
   "execution_count": null,
   "id": "b37e2329",
   "metadata": {},
   "outputs": [],
   "source": []
  }
 ],
 "metadata": {
  "kernelspec": {
   "display_name": "Python 3 (ipykernel)",
   "language": "python",
   "name": "python3"
  },
  "language_info": {
   "codemirror_mode": {
    "name": "ipython",
    "version": 3
   },
   "file_extension": ".py",
   "mimetype": "text/x-python",
   "name": "python",
   "nbconvert_exporter": "python",
   "pygments_lexer": "ipython3",
   "version": "3.11.5"
  }
 },
 "nbformat": 4,
 "nbformat_minor": 5
}
