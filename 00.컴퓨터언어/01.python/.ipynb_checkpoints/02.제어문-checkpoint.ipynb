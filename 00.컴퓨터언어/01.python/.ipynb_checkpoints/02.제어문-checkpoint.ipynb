{
 "cells": [
  {
   "cell_type": "markdown",
   "id": "d3cd8a16",
   "metadata": {},
   "source": [
    "# 조건문 : if"
   ]
  },
  {
   "cell_type": "code",
   "execution_count": 4,
   "id": "db89c0a2",
   "metadata": {},
   "outputs": [
    {
     "name": "stdout",
     "output_type": "stream",
     "text": [
      "택시 타고 가라\n"
     ]
    }
   ],
   "source": [
    "#돈 있으면 택시, 없으면 걸어가려 할 때\n",
    "\n",
    "money = True\n",
    "if money:\n",
    "    print('택시 타고 가라')\n",
    "else:\n",
    "    print('걸어 가라')"
   ]
  },
  {
   "cell_type": "code",
   "execution_count": 5,
   "id": "4a71fe86",
   "metadata": {},
   "outputs": [
    {
     "name": "stdout",
     "output_type": "stream",
     "text": [
      "걸어 가라\n"
     ]
    }
   ],
   "source": [
    "money = False\n",
    "if money:\n",
    "    print('택시 타고 가라')\n",
    "else:\n",
    "    print('걸어 가라')"
   ]
  },
  {
   "cell_type": "code",
   "execution_count": 8,
   "id": "541875df",
   "metadata": {},
   "outputs": [
    {
     "name": "stdout",
     "output_type": "stream",
     "text": [
      "걷기\n"
     ]
    }
   ],
   "source": [
    "#만약 3000원 이상의 돈을 가지고 있으면 택시를 타고, 그렇지 않으면 걸어 가라\n",
    "money = 2000\n",
    "\n",
    "if money >= 3000:\n",
    "    print('택시 타기')\n",
    "else:\n",
    "    print('걷기')"
   ]
  },
  {
   "cell_type": "code",
   "execution_count": 19,
   "id": "a47f6b77",
   "metadata": {
    "scrolled": true
   },
   "outputs": [
    {
     "name": "stdout",
     "output_type": "stream",
     "text": [
      "가지고 있는 돈을 입력해주세요: \n",
      "None3000\n",
      "택시 타기\n"
     ]
    }
   ],
   "source": [
    "money = int(input(print('가지고 있는 돈을 입력해주세요: ')))\n",
    "if money >= 3000:\n",
    "    print('택시 타기')\n",
    "else:\n",
    "    print('걷기')"
   ]
  },
  {
   "cell_type": "markdown",
   "id": "d2f12087",
   "metadata": {},
   "source": [
    "##### 다양한 형태의 ??문"
   ]
  },
  {
   "cell_type": "code",
   "execution_count": 10,
   "id": "0b609629",
   "metadata": {},
   "outputs": [
    {
     "data": {
      "text/plain": [
       "True"
      ]
     },
     "execution_count": 10,
     "metadata": {},
     "output_type": "execute_result"
    }
   ],
   "source": [
    "1 in [1,2,3]"
   ]
  },
  {
   "cell_type": "code",
   "execution_count": 11,
   "id": "127a0bb3",
   "metadata": {},
   "outputs": [
    {
     "data": {
      "text/plain": [
       "False"
      ]
     },
     "execution_count": 11,
     "metadata": {},
     "output_type": "execute_result"
    }
   ],
   "source": [
    "1 not in [1,2,3]"
   ]
  },
  {
   "cell_type": "code",
   "execution_count": 12,
   "id": "e094301a",
   "metadata": {},
   "outputs": [
    {
     "data": {
      "text/plain": [
       "False"
      ]
     },
     "execution_count": 12,
     "metadata": {},
     "output_type": "execute_result"
    }
   ],
   "source": [
    "a in ('a','b','c')"
   ]
  },
  {
   "cell_type": "code",
   "execution_count": 13,
   "id": "bac0f687",
   "metadata": {},
   "outputs": [
    {
     "data": {
      "text/plain": [
       "True"
      ]
     },
     "execution_count": 13,
     "metadata": {},
     "output_type": "execute_result"
    }
   ],
   "source": [
    "'i' not in 'python'"
   ]
  },
  {
   "cell_type": "code",
   "execution_count": 22,
   "id": "d1aebd27",
   "metadata": {},
   "outputs": [
    {
     "name": "stdout",
     "output_type": "stream",
     "text": [
      "택시 타기\n"
     ]
    }
   ],
   "source": [
    "# 주머니에 돈 있으면 택시 타고 없으면 걷기 -> 코딩\n",
    "pocket = ['paper','cellphone','money']\n",
    "if 'money' in pocket:\n",
    "    print('택시 타기')\n",
    "else: \n",
    "    print('걷기')"
   ]
  },
  {
   "cell_type": "code",
   "execution_count": 27,
   "id": "64d21b8c",
   "metadata": {},
   "outputs": [
    {
     "name": "stdout",
     "output_type": "stream",
     "text": [
      "pass\n"
     ]
    }
   ],
   "source": [
    "# 주머니에 돈 있으면 가만히 있고 없으면 카드 꺼내기\n",
    "if 'money' in pocket:\n",
    "    pass\n",
    "    print('pass')\n",
    "else:\n",
    "    print('카드 꺼내기')"
   ]
  },
  {
   "cell_type": "code",
   "execution_count": 43,
   "id": "3383e693",
   "metadata": {},
   "outputs": [
    {
     "name": "stdout",
     "output_type": "stream",
     "text": [
      "카드 꺼내기\n"
     ]
    }
   ],
   "source": [
    "if 'money' in pocket:pass\n",
    "else:                print('카드 꺼내기')"
   ]
  },
  {
   "cell_type": "code",
   "execution_count": 37,
   "id": "d64803f0",
   "metadata": {},
   "outputs": [
    {
     "name": "stdout",
     "output_type": "stream",
     "text": [
      "택시 타기\n"
     ]
    }
   ],
   "source": [
    "#if문 중복사용하기 -> 돈이 있는 경우\n",
    "\n",
    "pocket = ['paper','cellphone','money']\n",
    "if 'money' in pocket:\n",
    "     print('택시 타기')\n",
    "else:\n",
    "    if 'card' in pocket:\n",
    "        print('택시 타기')\n",
    "    else:\n",
    "        print('걸어 가기')"
   ]
  },
  {
   "cell_type": "code",
   "execution_count": 38,
   "id": "353f920e",
   "metadata": {},
   "outputs": [
    {
     "name": "stdout",
     "output_type": "stream",
     "text": [
      "택시 타기\n"
     ]
    }
   ],
   "source": [
    "#if문 중복사용하기 -> 돈은 없지만 카드는 있는 경우\n",
    "\n",
    "pocket = ['paper','cellphone','card']\n",
    "if 'money' in pocket:\n",
    "     print('택시 타기')\n",
    "else:\n",
    "    if 'card' in pocket:\n",
    "        print('택시 타기')\n",
    "    else:\n",
    "        print('걸어 가기')\n",
    "    "
   ]
  },
  {
   "cell_type": "code",
   "execution_count": 40,
   "id": "049d1473",
   "metadata": {},
   "outputs": [
    {
     "name": "stdout",
     "output_type": "stream",
     "text": [
      "걸어 가기\n"
     ]
    }
   ],
   "source": [
    "#if문 중복사용하기 -> 돈도 없고 카드도 없음\n",
    "pocket = ['paper','cellphone','pouch']\n",
    "if 'money' in pocket:\n",
    "     print('택시 타기')\n",
    "else:\n",
    "    if 'card' in pocket:\n",
    "        print('택시 타기')\n",
    "    else:\n",
    "        print('걸어 가기')"
   ]
  },
  {
   "cell_type": "code",
   "execution_count": 42,
   "id": "f6aa5b53",
   "metadata": {},
   "outputs": [
    {
     "name": "stdout",
     "output_type": "stream",
     "text": [
      "걸어 가기\n"
     ]
    }
   ],
   "source": [
    "# ⬆︎ 위에 코드가 다소 조잡하여 elif문으로 처리해주기\n",
    "pocket = ['paper','cellphone','pouch']\n",
    "if 'money' in pocket:\n",
    "     print('택시 타기')\n",
    "elif 'card' in pocket:\n",
    "    print('택시 타기')\n",
    "else:\n",
    "    print('걸어 가기')"
   ]
  },
  {
   "cell_type": "markdown",
   "id": "22e939a7",
   "metadata": {},
   "source": [
    "조건부 표현식"
   ]
  },
  {
   "cell_type": "code",
   "execution_count": 62,
   "id": "ccc8f09d",
   "metadata": {},
   "outputs": [
    {
     "name": "stdout",
     "output_type": "stream",
     "text": [
      "success\n"
     ]
    }
   ],
   "source": [
    "score = 60\n",
    "if score >= 60:\n",
    "    message = 'success'\n",
    "else:\n",
    "    message = 'failure'\n",
    "print(message)"
   ]
  },
  {
   "cell_type": "code",
   "execution_count": 63,
   "id": "807ecf6a",
   "metadata": {},
   "outputs": [
    {
     "name": "stdout",
     "output_type": "stream",
     "text": [
      "점수를 입력하세요: 60\n",
      "success\n"
     ]
    }
   ],
   "source": [
    "score = int(input('점수를 입력하세요: '))\n",
    "\n",
    "if score >= 60:\n",
    "    message = 'success'\n",
    "else:\n",
    "    message = 'failure'\n",
    "\n",
    "print(message)"
   ]
  },
  {
   "cell_type": "code",
   "execution_count": 64,
   "id": "f264f63a",
   "metadata": {},
   "outputs": [
    {
     "name": "stdout",
     "output_type": "stream",
     "text": [
      "60\n",
      "success\n"
     ]
    }
   ],
   "source": [
    "score = int(input())\n",
    "message = 'success'if score >= 60 else 'failure'\n",
    "print(message)"
   ]
  },
  {
   "cell_type": "markdown",
   "id": "1be06fd1",
   "metadata": {},
   "source": [
    "input 명령어 **기본적으로 string"
   ]
  },
  {
   "cell_type": "code",
   "execution_count": 55,
   "id": "e7d47ddc",
   "metadata": {},
   "outputs": [
    {
     "name": "stdout",
     "output_type": "stream",
     "text": [
      "4\n"
     ]
    }
   ],
   "source": [
    "a = input()"
   ]
  },
  {
   "cell_type": "code",
   "execution_count": 56,
   "id": "cd4a26c7",
   "metadata": {},
   "outputs": [
    {
     "data": {
      "text/plain": [
       "'4'"
      ]
     },
     "execution_count": 56,
     "metadata": {},
     "output_type": "execute_result"
    }
   ],
   "source": [
    "a"
   ]
  },
  {
   "cell_type": "code",
   "execution_count": 67,
   "id": "865ccbd6",
   "metadata": {},
   "outputs": [
    {
     "name": "stdout",
     "output_type": "stream",
     "text": [
      "값을 입력하세요: 345\n"
     ]
    },
    {
     "data": {
      "text/plain": [
       "'345'"
      ]
     },
     "execution_count": 67,
     "metadata": {},
     "output_type": "execute_result"
    }
   ],
   "source": [
    "# 기본적으로 input함수로 입력받은 데이터는 문자형으로 처리된다\n",
    "a = input('값을 입력하세요: ')\n",
    "a"
   ]
  },
  {
   "cell_type": "code",
   "execution_count": 69,
   "id": "e9d1cdd6",
   "metadata": {},
   "outputs": [
    {
     "name": "stdout",
     "output_type": "stream",
     "text": [
      "첫번째 숫자 입력: 10\n",
      "두번째 숫자 입력: 25\n"
     ]
    },
    {
     "data": {
      "text/plain": [
       "35"
      ]
     },
     "execution_count": 69,
     "metadata": {},
     "output_type": "execute_result"
    }
   ],
   "source": [
    "# input으로 입력받은 데이터 정수 취급하기 - 캐스팅 함수 중 int() 함수 사용\n",
    "a = int(input('첫번째 숫자 입력: '))\n",
    "b = int(input('두번째 숫자 입력: '))\n",
    "a+b"
   ]
  },
  {
   "cell_type": "markdown",
   "id": "ed0bed1c",
   "metadata": {},
   "source": [
    "# 반복문 : for\n",
    "기본적으로 for 변수 in 범위"
   ]
  },
  {
   "cell_type": "code",
   "execution_count": 72,
   "id": "39166acd",
   "metadata": {},
   "outputs": [
    {
     "name": "stdout",
     "output_type": "stream",
     "text": [
      "one\n",
      "two\n",
      "three\n"
     ]
    }
   ],
   "source": [
    "test_list = ['one','two','three']\n",
    "for i in test_list:\n",
    "    print(i)"
   ]
  },
  {
   "cell_type": "code",
   "execution_count": 87,
   "id": "c0637a4c",
   "metadata": {},
   "outputs": [
    {
     "name": "stdout",
     "output_type": "stream",
     "text": [
      "3\n",
      "7\n",
      "11\n"
     ]
    }
   ],
   "source": [
    "# 리스트 안에 튜플이 있을 때 -> 튜플 안의 요소에 '자리 위치' 이름을 정해주면 for 문에서 사용 가능\n",
    "a = [(1,2),(3,4),(5,6)]\n",
    "for (first, last) in a:\n",
    "    print(first + last)"
   ]
  },
  {
   "cell_type": "code",
   "execution_count": 91,
   "id": "7a74bc49",
   "metadata": {
    "scrolled": true
   },
   "outputs": [
    {
     "name": "stdout",
     "output_type": "stream",
     "text": [
      "4\n",
      "8\n",
      "12\n"
     ]
    }
   ],
   "source": [
    "#리스트 안에 튜플이 있을 때 -> 튜플 안의 요소에 '자리 위치' 이름을 정해주면 for 문에서 사용 가능\n",
    "a = [(1,2,3),(3,4,5),(5,6,7)]\n",
    "for (a,b,c) in a:\n",
    "    print(b + b)"
   ]
  },
  {
   "cell_type": "code",
   "execution_count": 98,
   "id": "aa9c3428",
   "metadata": {},
   "outputs": [
    {
     "name": "stdout",
     "output_type": "stream",
     "text": [
      "4\n",
      "8\n"
     ]
    },
    {
     "ename": "ValueError",
     "evalue": "not enough values to unpack (expected 3, got 2)",
     "output_type": "error",
     "traceback": [
      "\u001b[0;31m---------------------------------------------------------------------------\u001b[0m",
      "\u001b[0;31mValueError\u001b[0m                                Traceback (most recent call last)",
      "Cell \u001b[0;32mIn[98], line 3\u001b[0m\n\u001b[1;32m      1\u001b[0m \u001b[38;5;66;03m#리스트 안에 튜플이 있을 때 -> 튜플 안의 요소에 '자리 위치' 이름을 정해주면 for 문에서 사용 가능\u001b[39;00m\n\u001b[1;32m      2\u001b[0m a \u001b[38;5;241m=\u001b[39m [(\u001b[38;5;241m1\u001b[39m,\u001b[38;5;241m2\u001b[39m,\u001b[38;5;241m3\u001b[39m),(\u001b[38;5;241m3\u001b[39m,\u001b[38;5;241m4\u001b[39m,\u001b[38;5;241m5\u001b[39m),(\u001b[38;5;241m5\u001b[39m,\u001b[38;5;241m6\u001b[39m)]\n\u001b[0;32m----> 3\u001b[0m \u001b[38;5;28;01mfor\u001b[39;00m (a,b,c) \u001b[38;5;129;01min\u001b[39;00m a:\n\u001b[1;32m      4\u001b[0m     \u001b[38;5;28mprint\u001b[39m(b \u001b[38;5;241m+\u001b[39m b)\n",
      "\u001b[0;31mValueError\u001b[0m: not enough values to unpack (expected 3, got 2)"
     ]
    }
   ],
   "source": [
    "#리스트 안에 튜플이 있을 때 -> 튜플 안의 요소에 '자리 위치' 이름을 정해주면 for 문에서 사용 가능\n",
    "a = [(1,2,3),(3,4,5),(5,6)]\n",
    "for (a,b,c) in a:\n",
    "    print(b + b)\n",
    "\n",
    "\n",
    "# 에러 -> a 안의 세번째 튜플(5,6)의 경우 for문에서 정의한 자리 이름(?) 수랑 튜플 안의 요소 수랑 맞지 않아서 에러일어남"
   ]
  },
  {
   "cell_type": "code",
   "execution_count": 82,
   "id": "96d6241a",
   "metadata": {
    "scrolled": true
   },
   "outputs": [
    {
     "name": "stdout",
     "output_type": "stream",
     "text": [
      "1번째 학생은 합격입니다.\n",
      "2번째 학생은 불합격입니다.\n",
      "3번째 학생은 합격입니다.\n",
      "4번째 학생은 불합격입니다.\n",
      "5번째 학생은 합격입니다.\n"
     ]
    }
   ],
   "source": [
    "# 연습문제 1: 5명의 학생이 시험을 보았는데 시험 점수가 60점 이상이면 불합격 표시하기\n",
    "marks = [90,25,67,45,80]\n",
    "n = 0\n",
    "for x in marks:\n",
    "    if x >= 60:\n",
    "        print('{}번째 학생은 합격입니다.'.format(n+1))\n",
    "    else:\n",
    "        print(f'{n+1}번째 학생은 불합격입니다.')\n",
    "    n += 1"
   ]
  },
  {
   "cell_type": "code",
   "execution_count": 99,
   "id": "7609cbbf",
   "metadata": {},
   "outputs": [
    {
     "name": "stdout",
     "output_type": "stream",
     "text": [
      "1번째 학생은 합격입니다.\n",
      "2번째 학생은 불합격입니다.\n",
      "3번째 학생은 합격입니다.\n",
      "4번째 학생은 불합격입니다.\n",
      "5번째 학생은 합격입니다.\n"
     ]
    }
   ],
   "source": [
    "# 연습문제 1 교수님 버전\n",
    "marks = [90,25,67,45,80]\n",
    "n = 0\n",
    "for mark in marks:\n",
    "    n = n+1\n",
    "    if mark >= 60:\n",
    "        print('{}번째 학생은 합격입니다.'.format(n))\n",
    "    else:\n",
    "        print(f'{n}번째 학생은 불합격입니다.')"
   ]
  },
  {
   "cell_type": "code",
   "execution_count": 105,
   "id": "fde0b45b",
   "metadata": {},
   "outputs": [],
   "source": [
    "# 연습문제 2 : 60 이상인 사람한테는 축하 메세지, 아니면 메세지 전하지 않기 - continue 활용\n",
    "marks = [90,25,67,45,80]\n",
    "n = 0"
   ]
  },
  {
   "cell_type": "code",
   "execution_count": 106,
   "id": "916c4b37",
   "metadata": {},
   "outputs": [
    {
     "name": "stdout",
     "output_type": "stream",
     "text": [
      "축하합니다. 1번 학생은 합격입니다.\n",
      "축하합니다. 3번 학생은 합격입니다.\n",
      "축하합니다. 5번 학생은 합격입니다.\n"
     ]
    }
   ],
   "source": [
    "marks = [90,25,67,45,80]\n",
    "n = 0\n",
    "\n",
    "for mark in marks:\n",
    "    n = n + 1\n",
    "    if mark < 60:\n",
    "        continue\n",
    "    else :\n",
    "        print(f'축하합니다. {n}번 학생은 합격입니다.')\n",
    "        "
   ]
  },
  {
   "cell_type": "code",
   "execution_count": 247,
   "id": "23e1d81b",
   "metadata": {},
   "outputs": [
    {
     "ename": "IndentationError",
     "evalue": "expected an indented block after 'if' statement on line 7 (3902286745.py, line 9)",
     "output_type": "error",
     "traceback": [
      "\u001b[0;36m  Cell \u001b[0;32mIn[247], line 9\u001b[0;36m\u001b[0m\n\u001b[0;31m    else :\u001b[0m\n\u001b[0m    ^\u001b[0m\n\u001b[0;31mIndentationError\u001b[0m\u001b[0;31m:\u001b[0m expected an indented block after 'if' statement on line 7\n"
     ]
    }
   ],
   "source": [
    "# continue 없으면 -> 조건에 맞을 때 할 게 없어서 에러 뜸\n",
    "marks = [90,25,67,45,80]\n",
    "n = 0\n",
    "\n",
    "for mark in marks:\n",
    "    n = n + 1\n",
    "    if mark < 60:\n",
    "    \n",
    "    else :\n",
    "        print(f'축하합니다. {n}번 학생은 합격입니다.')\n",
    "        "
   ]
  },
  {
   "cell_type": "code",
   "execution_count": 108,
   "id": "14b327ce",
   "metadata": {},
   "outputs": [
    {
     "name": "stdout",
     "output_type": "stream",
     "text": [
      "축하합니다. 1번 학생은 합격입니다.\n",
      "축하합니다. 3번 학생은 합격입니다.\n",
      "축하합니다. 5번 학생은 합격입니다.\n"
     ]
    }
   ],
   "source": [
    "#continue <-> pass 비교 (?????) pass는 해당 조건문을 아예 종료하고, continue는 조건문 안에서 다음 스텝으로 넘어가나봄(내 추측)\n",
    "marks = [90,25,67,45,80]\n",
    "n = 0\n",
    "\n",
    "for mark in marks:\n",
    "    n = n + 1\n",
    "    if mark < 60:\n",
    "        pass\n",
    "    else :\n",
    "        print(f'축하합니다. {n}번 학생은 합격입니다.')"
   ]
  },
  {
   "cell_type": "code",
   "execution_count": 244,
   "id": "e2e15c38",
   "metadata": {},
   "outputs": [
    {
     "name": "stdout",
     "output_type": "stream",
     "text": [
      "축하합니다. 1번 학생은 합격입니다.\n",
      "축하합니다. 3번 학생은 합격입니다.\n",
      "축하합니다. 5번 학생은 합격입니다.\n"
     ]
    }
   ],
   "source": [
    "#continue <-> pass 비교 (?????)\n",
    "marks = [90,25,67,45,80]\n",
    "n = 0\n",
    "\n",
    "for mark in marks:\n",
    "    n = n + 1\n",
    "    if mark < 60:\n",
    "        continue\n",
    "    else :\n",
    "        print(f'축하합니다. {n}번 학생은 합격입니다.')"
   ]
  },
  {
   "cell_type": "code",
   "execution_count": 248,
   "id": "78a5d273",
   "metadata": {
    "scrolled": true
   },
   "outputs": [
    {
     "name": "stdout",
     "output_type": "stream",
     "text": [
      "축하합니다. 1번 학생은 합격입니다.\n",
      "축하합니다. 2번 학생은 합격입니다.\n",
      "축하합니다. 3번 학생은 합격입니다.\n",
      "축하합니다. 4번 학생은 합격입니다.\n",
      "축하합니다. 5번 학생은 합격입니다.\n"
     ]
    }
   ],
   "source": [
    "#????????\n",
    "\n",
    "marks = [90,25,67,45,80]\n",
    "\n",
    "\n",
    "for number in range(len(marks)):\n",
    "    if marks[number] < 60:\n",
    "        pass\n",
    "    \n",
    "    print('축하합니다. %d번 학생은 합격입니다.' %(number + 1))"
   ]
  },
  {
   "cell_type": "code",
   "execution_count": 245,
   "id": "376b6add",
   "metadata": {},
   "outputs": [
    {
     "name": "stdout",
     "output_type": "stream",
     "text": [
      "축하합니다. 1번 학생은 합격입니다.\n",
      "축하합니다. 3번 학생은 합격입니다.\n",
      "축하합니다. 5번 학생은 합격입니다.\n"
     ]
    }
   ],
   "source": [
    "marks = [90,25,67,45,80]\n",
    "\n",
    "\n",
    "for number in range(len(marks)):\n",
    "    if marks[number] < 60:\n",
    "        print('')\n",
    "        continue\n",
    "    \n",
    "    print('축하합니다. %d번 학생은 합격입니다.' %(number + 1))"
   ]
  },
  {
   "cell_type": "code",
   "execution_count": 184,
   "id": "773bbe2f",
   "metadata": {},
   "outputs": [
    {
     "name": "stdout",
     "output_type": "stream",
     "text": [
      "[2, 4, 6, 8, 10, 12, 14, 16, 18] \n",
      "[3, 6, 9, 12, 15, 18, 21, 24, 27] \n",
      "[4, 8, 12, 16, 20, 24, 28, 32, 36] \n",
      "[5, 10, 15, 20, 25, 30, 35, 40, 45] \n",
      "[6, 12, 18, 24, 30, 36, 42, 48, 54] \n",
      "[7, 14, 21, 28, 35, 42, 49, 56, 63] \n",
      "[8, 16, 24, 32, 40, 48, 56, 64, 72] \n",
      "[9, 18, 27, 36, 45, 54, 63, 72, 81] \n"
     ]
    }
   ],
   "source": [
    "#연습문제 구구단 만들기 - 내 버전\n",
    "\n",
    "for x in range(2,10):\n",
    "    low = []\n",
    "    \n",
    "    for n in range(1,10):\n",
    "        result = (x * n)\n",
    "        low.append(result)\n",
    "    print(low,end=\" \")\n",
    "    print()"
   ]
  },
  {
   "cell_type": "code",
   "execution_count": 174,
   "id": "a64dfb7c",
   "metadata": {},
   "outputs": [
    {
     "name": "stdout",
     "output_type": "stream",
     "text": [
      "x= 2\n",
      "2 * 1 = 2\n",
      "2 * 2 = 4\n",
      "2 * 3 = 6\n",
      "2 * 4 = 8\n",
      "2 * 5 = 10\n",
      "2 * 6 = 12\n",
      "2 * 7 = 14\n",
      "2 * 8 = 16\n",
      "2 * 9 = 18\n",
      "[2, 4, 6, 8, 10, 12, 14, 16, 18] \n",
      "x= 3\n",
      "3 * 1 = 3\n",
      "3 * 2 = 6\n",
      "3 * 3 = 9\n",
      "3 * 4 = 12\n",
      "3 * 5 = 15\n",
      "3 * 6 = 18\n",
      "3 * 7 = 21\n",
      "3 * 8 = 24\n",
      "3 * 9 = 27\n",
      "[3, 6, 9, 12, 15, 18, 21, 24, 27] \n",
      "x= 4\n",
      "4 * 1 = 4\n",
      "4 * 2 = 8\n",
      "4 * 3 = 12\n",
      "4 * 4 = 16\n",
      "4 * 5 = 20\n",
      "4 * 6 = 24\n",
      "4 * 7 = 28\n",
      "4 * 8 = 32\n",
      "4 * 9 = 36\n",
      "[4, 8, 12, 16, 20, 24, 28, 32, 36] \n",
      "x= 5\n",
      "5 * 1 = 5\n",
      "5 * 2 = 10\n",
      "5 * 3 = 15\n",
      "5 * 4 = 20\n",
      "5 * 5 = 25\n",
      "5 * 6 = 30\n",
      "5 * 7 = 35\n",
      "5 * 8 = 40\n",
      "5 * 9 = 45\n",
      "[5, 10, 15, 20, 25, 30, 35, 40, 45] \n",
      "x= 6\n",
      "6 * 1 = 6\n",
      "6 * 2 = 12\n",
      "6 * 3 = 18\n",
      "6 * 4 = 24\n",
      "6 * 5 = 30\n",
      "6 * 6 = 36\n",
      "6 * 7 = 42\n",
      "6 * 8 = 48\n",
      "6 * 9 = 54\n",
      "[6, 12, 18, 24, 30, 36, 42, 48, 54] \n",
      "x= 7\n",
      "7 * 1 = 7\n",
      "7 * 2 = 14\n",
      "7 * 3 = 21\n",
      "7 * 4 = 28\n",
      "7 * 5 = 35\n",
      "7 * 6 = 42\n",
      "7 * 7 = 49\n",
      "7 * 8 = 56\n",
      "7 * 9 = 63\n",
      "[7, 14, 21, 28, 35, 42, 49, 56, 63] \n",
      "x= 8\n",
      "8 * 1 = 8\n",
      "8 * 2 = 16\n",
      "8 * 3 = 24\n",
      "8 * 4 = 32\n",
      "8 * 5 = 40\n",
      "8 * 6 = 48\n",
      "8 * 7 = 56\n",
      "8 * 8 = 64\n",
      "8 * 9 = 72\n",
      "[8, 16, 24, 32, 40, 48, 56, 64, 72] \n",
      "x= 9\n",
      "9 * 1 = 9\n",
      "9 * 2 = 18\n",
      "9 * 3 = 27\n",
      "9 * 4 = 36\n",
      "9 * 5 = 45\n",
      "9 * 6 = 54\n",
      "9 * 7 = 63\n",
      "9 * 8 = 72\n",
      "9 * 9 = 81\n",
      "[9, 18, 27, 36, 45, 54, 63, 72, 81] \n"
     ]
    }
   ],
   "source": [
    "#수정중\n",
    "\n",
    "for x in range(2,10):\n",
    "    print('x=',x)\n",
    "    low = []\n",
    "    for n in range(1,10):\n",
    "        print(x,'*',n,'=',x * n)\n",
    "        result = (x * n)\n",
    "        low.append(result)\n",
    "    print(low,end=\" \")\n",
    "    print()"
   ]
  },
  {
   "cell_type": "code",
   "execution_count": 1,
   "id": "398c6848",
   "metadata": {},
   "outputs": [
    {
     "name": "stdout",
     "output_type": "stream",
     "text": [
      "2 4 6 8 10 12 14 16 18 \n",
      "3 6 9 12 15 18 21 24 27 \n",
      "4 8 12 16 20 24 28 32 36 \n",
      "5 10 15 20 25 30 35 40 45 \n",
      "6 12 18 24 30 36 42 48 54 \n",
      "7 14 21 28 35 42 49 56 63 \n",
      "8 16 24 32 40 48 56 64 72 \n",
      "9 18 27 36 45 54 63 72 81 \n"
     ]
    }
   ],
   "source": [
    "#실습 교수님 ver\n",
    "for x in range(2,10):\n",
    "    for n in range(1,10):\n",
    "        print(x * n,end = \" \")\n",
    "    \n",
    "    print()"
   ]
  },
  {
   "cell_type": "code",
   "execution_count": 161,
   "id": "573523fb",
   "metadata": {},
   "outputs": [
    {
     "name": "stdout",
     "output_type": "stream",
     "text": [
      "단수를 값을 입력하세요:19\n",
      "19 38 57 76 95 114 133 152 171 "
     ]
    }
   ],
   "source": [
    "# 인풋 받은 수의 구구단 출력하기\n",
    "x = int(input('단수를 값을 입력하세요:'))\n",
    "\n",
    "for n in range(1,10):\n",
    "    print(x * n,end = \" \")"
   ]
  },
  {
   "cell_type": "markdown",
   "id": "f6de8408",
   "metadata": {},
   "source": [
    "##### 리스트 컴프리헨션****** 다소 어려움"
   ]
  },
  {
   "cell_type": "code",
   "execution_count": 189,
   "id": "7722a3eb",
   "metadata": {},
   "outputs": [
    {
     "data": {
      "text/plain": [
       "[3, 6, 9, 12]"
      ]
     },
     "execution_count": 189,
     "metadata": {},
     "output_type": "execute_result"
    }
   ],
   "source": [
    "# 아래 코딩의 경우 -> result 리스트를 네 번 만들어냄(==업데이트함)\n",
    "a = [1,2,3,4]\n",
    "result = []\n",
    "\n",
    "for num in a:\n",
    "    result.append(num * 3)\n",
    "\n",
    "result"
   ]
  },
  {
   "cell_type": "code",
   "execution_count": 203,
   "id": "dc559953",
   "metadata": {},
   "outputs": [
    {
     "data": {
      "text/plain": [
       "[3, 6, 9, 12]"
      ]
     },
     "execution_count": 203,
     "metadata": {},
     "output_type": "execute_result"
    }
   ],
   "source": [
    "#이게 리스트 컴프리헨션 -> for문이 반복되면서 나온 값들을 대기시켰다가 한번에 리스트를 만들어냄 + 코드가 깔끔해짐\n",
    "#리스트 안에 조건문 다 우겨넣기\n",
    "a = [1,2,3,4]\n",
    "result = [num * 3 for num in a]\n",
    "result"
   ]
  },
  {
   "cell_type": "code",
   "execution_count": 181,
   "id": "9c4e4e28",
   "metadata": {},
   "outputs": [
    {
     "data": {
      "text/plain": [
       "[6, 12]"
      ]
     },
     "execution_count": 181,
     "metadata": {},
     "output_type": "execute_result"
    }
   ],
   "source": [
    "a = [1,2,3,4]\n",
    "result = []\n",
    "\n",
    "for num in a:\n",
    "    if num % 2 == 0:\n",
    "        result.append(num * 3)\n",
    "\n",
    "result"
   ]
  },
  {
   "cell_type": "code",
   "execution_count": 182,
   "id": "2b301896",
   "metadata": {},
   "outputs": [
    {
     "data": {
      "text/plain": [
       "[6, 12]"
      ]
     },
     "execution_count": 182,
     "metadata": {},
     "output_type": "execute_result"
    }
   ],
   "source": [
    "a = [1,2,3,4]\n",
    "result = [num * 3 for num in a if num % 2 == 0]\n",
    "result"
   ]
  },
  {
   "cell_type": "code",
   "execution_count": 251,
   "id": "9746bf3d",
   "metadata": {},
   "outputs": [
    {
     "data": {
      "text/plain": [
       "[6, 10, 6, 8]"
      ]
     },
     "execution_count": 251,
     "metadata": {},
     "output_type": "execute_result"
    }
   ],
   "source": [
    "#나만의 실습\n",
    "a = [1,3,5,3,4]\n",
    "result = [b*2 for b in a if b >= 3 ]\n",
    "result"
   ]
  },
  {
   "cell_type": "code",
   "execution_count": 250,
   "id": "128c4722",
   "metadata": {},
   "outputs": [
    {
     "data": {
      "text/plain": [
       "[10, 8]"
      ]
     },
     "execution_count": 250,
     "metadata": {},
     "output_type": "execute_result"
    }
   ],
   "source": [
    "a = [1,3,5,3,4]\n",
    "result2 = [b*2 for b in a if b > 3 ]\n",
    "result2"
   ]
  },
  {
   "cell_type": "code",
   "execution_count": 196,
   "id": "a6b947e1",
   "metadata": {},
   "outputs": [
    {
     "name": "stdout",
     "output_type": "stream",
     "text": [
      "[2, 4, 6, 8, 10, 12, 14, 16, 18, 3, 6, 9, 12, 15, 18, 21, 24, 27, 4, 8, 12, 16, 20, 24, 28, 32, 36, 5, 10, 15, 20, 25, 30, 35, 40, 45, 6, 12, 18, 24, 30, 36, 42, 48, 54, 7, 14, 21, 28, 35, 42, 49, 56, 63, 8, 16, 24, 32, 40, 48, 56, 64, 72, 9, 18, 27, 36, 45, 54, 63, 72, 81]\n"
     ]
    }
   ],
   "source": [
    "#구구단 다시 하기\n",
    "result = [x*y for x in range(2,10) for y in range(1,10)]\n",
    "print(result)"
   ]
  },
  {
   "cell_type": "code",
   "execution_count": 200,
   "id": "9419f0e0",
   "metadata": {},
   "outputs": [
    {
     "name": "stdout",
     "output_type": "stream",
     "text": [
      "값을 입력해주세요: 9\n",
      "[9, 18, 27, 36, 45, 54, 63, 72, 81]\n"
     ]
    }
   ],
   "source": [
    "#구구단 다다시\n",
    "y = int(input('값을 입력해주세요: '))\n",
    "result = [x*y for x in range(1,10)]\n",
    "print(result)"
   ]
  },
  {
   "cell_type": "markdown",
   "id": "39b708e1",
   "metadata": {},
   "source": [
    "# 반복문 : while"
   ]
  },
  {
   "cell_type": "code",
   "execution_count": 202,
   "id": "b17ce542",
   "metadata": {},
   "outputs": [
    {
     "name": "stdout",
     "output_type": "stream",
     "text": [
      "나무가 1번 찍혔습니다.\n",
      "나무가 2번 찍혔습니다.\n",
      "나무가 3번 찍혔습니다.\n",
      "나무가 4번 찍혔습니다.\n",
      "나무가 5번 찍혔습니다.\n",
      "나무가 6번 찍혔습니다.\n",
      "나무가 7번 찍혔습니다.\n",
      "나무가 8번 찍혔습니다.\n",
      "나무가 9번 찍혔습니다.\n",
      "나무가 10번 찍혔습니다.\n",
      "나무 넘어갑니다.\n"
     ]
    }
   ],
   "source": [
    "#기본 구조 while 옆에 바로 조건 -> 조건이 참인 동안 무한반복\n",
    "treehit = 0\n",
    "while treehit < 10:\n",
    "    treehit += 1  #<- 이 구문 없으면 treehit이 영원히 10보다 작기 때문에 while 조건문 무한반복함\n",
    "    print('나무가 %d번 찍혔습니다.' %treehit)\n",
    "    if treehit == 10:\n",
    "        print('나무 넘어갑니다.')"
   ]
  },
  {
   "cell_type": "code",
   "execution_count": 206,
   "id": "785b71ad",
   "metadata": {},
   "outputs": [
    {
     "name": "stdout",
     "output_type": "stream",
     "text": [
      "\n",
      "    1. 바비\n",
      "    2. 조커\n",
      "    3. 본 투 플라이\n",
      "    4. 종료\n",
      "    \n",
      "...번호를 입력하세요 : \n",
      "4\n"
     ]
    }
   ],
   "source": [
    "#프롬프트를 활용한 while 반복문\n",
    "\n",
    "prompt = \"\"\"\n",
    "    1. 바비\n",
    "    2. 조커\n",
    "    3. 본 투 플라이\n",
    "    4. 종료\n",
    "    \n",
    "...번호를 입력하세요 : \"\"\"\n",
    "\n",
    "number = 0\n",
    "while number != 4:\n",
    "    print(prompt)\n",
    "    number = int(input())"
   ]
  },
  {
   "cell_type": "code",
   "execution_count": 213,
   "id": "77030cf9",
   "metadata": {},
   "outputs": [
    {
     "name": "stdout",
     "output_type": "stream",
     "text": [
      "\n",
      "\n",
      "    1. 그대는 어쩌고\n",
      "    2. 포뇨\n",
      "    3. 센치행\n",
      "    4. 없음\n",
      "    \n",
      "    \n",
      "영화 번호를 눌러주세요: 4\n"
     ]
    }
   ],
   "source": [
    "prompt = '''\n",
    "\n",
    "    1. 그대는 어쩌고\n",
    "    2. 포뇨\n",
    "    3. 센치행\n",
    "    4. 없음\n",
    "    \n",
    "    '''\n",
    "num = 0\n",
    "\n",
    "while num != 4:\n",
    "    print(prompt)\n",
    "    num = int(input('영화 번호를 눌러주세요: '))\n",
    "    "
   ]
  },
  {
   "cell_type": "code",
   "execution_count": 239,
   "id": "ab0d20d0",
   "metadata": {
    "scrolled": true
   },
   "outputs": [
    {
     "name": "stdout",
     "output_type": "stream",
     "text": [
      "주문할 수 있는 커피는 10잔 입니다.\n",
      "주문할 수 있는 커피는 9잔 입니다.\n",
      "주문할 수 있는 커피는 8잔 입니다.\n",
      "주문할 수 있는 커피는 7잔 입니다.\n",
      "주문할 수 있는 커피는 6잔 입니다.\n",
      "주문할 수 있는 커피는 5잔 입니다.\n",
      "주문할 수 있는 커피는 4잔 입니다.\n",
      "주문할 수 있는 커피는 3잔 입니다.\n",
      "주문할 수 있는 커피는 2잔 입니다.\n",
      "주문할 수 있는 커피는 1잔 입니다.\n",
      "주문할 수 있는 커피는 0잔 입니다.\n",
      "더 이상 커피를 주문할 수 없습니다.\n"
     ]
    }
   ],
   "source": [
    "#실습 : 커피자판기 총 커피는 10잔, 한 잔에 300원\n",
    "\n",
    "coffee = 10\n",
    "money = 300\n",
    "\n",
    "while coffee != 0:\n",
    "    print(f'주문할 수 있는 커피는 {coffee}잔 입니다.')\n",
    "    for x in range(1,11):\n",
    "        \n",
    "        coffee = coffee - 1\n",
    "        money = 300 * x\n",
    "        print(f'주문할 수 있는 커피는 {coffee}잔 입니다.')\n",
    "    \n",
    "    break\n",
    "    \n",
    "print('더 이상 커피를 주문할 수 없습니다.')    \n",
    "    "
   ]
  },
  {
   "cell_type": "code",
   "execution_count": 242,
   "id": "fdedca60",
   "metadata": {},
   "outputs": [
    {
     "name": "stdout",
     "output_type": "stream",
     "text": [
      "남은 커피는 9잔 입니다.\n",
      "남은 커피는 8잔 입니다.\n",
      "남은 커피는 7잔 입니다.\n",
      "남은 커피는 6잔 입니다.\n",
      "남은 커피는 5잔 입니다.\n",
      "남은 커피는 4잔 입니다.\n",
      "남은 커피는 3잔 입니다.\n",
      "남은 커피는 2잔 입니다.\n",
      "남은 커피는 1잔 입니다.\n",
      "남은 커피는 0잔 입니다.\n",
      "커피가 다 떨어졌습니다. 판매를 중지합니다.\n"
     ]
    }
   ],
   "source": [
    "#실습 : 커피자판기 - 교수님 ver.\n",
    "coffee = 10\n",
    "money = 300\n",
    "\n",
    "while money: # <- 영원히 True\n",
    "\n",
    "    coffee -= 1\n",
    "    print(f'남은 커피는 {coffee}잔 입니다.')\n",
    "        \n",
    "    if coffee == 0:    #<- while문을 빠져나갈 수 있는 유일한 방법\n",
    "        print('커피가 다 떨어졌습니다. 판매를 중지합니다.')\n",
    "        break"
   ]
  },
  {
   "cell_type": "code",
   "execution_count": 243,
   "id": "464d9b0a",
   "metadata": {},
   "outputs": [
    {
     "name": "stdout",
     "output_type": "stream",
     "text": [
      "주문할 수 있는 커피는 10잔 입니다.\n",
      "몇 잔의 커피를 주문하시겠습니까?: 10\n",
      "10잔 주문 받았습니다. 총 금액은 3000입니다. 더 이상 커피를 주문할 수 없습니다.\n"
     ]
    }
   ],
   "source": [
    "#실습: 커피자판기 - 혼자 놀기\n",
    "coffee = 10\n",
    "pay = 300\n",
    "money = 0\n",
    "\n",
    "while money != 3000:\n",
    "    \n",
    "    print(f'주문할 수 있는 커피는 {coffee}잔 입니다.')\n",
    "    order = int(input('몇 잔의 커피를 주문하시겠습니까?: '))\n",
    "    pay = pay * order\n",
    "    coffee = coffee - order\n",
    "    money = money + pay\n",
    "    \n",
    "    print(f'{order}잔 주문 받았습니다. 총 금액은 {pay}입니다.',end=\" \")\n",
    "    \n",
    "    break\n",
    "    \n",
    "print('더 이상 커피를 주문할 수 없습니다.')    "
   ]
  },
  {
   "cell_type": "code",
   "execution_count": null,
   "id": "6b1b4ed7",
   "metadata": {},
   "outputs": [],
   "source": [
    "coffee = 10\n",
    "pay = 300\n",
    "money = 0\n",
    "\n",
    "while money != 3000:\n",
    "    \n",
    "    print(f'주문할 수 있는 커피는 {coffee}잔 입니다.')\n",
    "    order = int(input('몇 잔의 커피를 주문하시겠습니까?: '))\n",
    "    pay = pay * order\n",
    "    coffee = coffee - order\n",
    "    money = money + pay\n",
    "    \n",
    "    print(f'{order}잔 주문 받았습니다. 총 금액은 {pay}입니다.',end=\" \")\n",
    "    \n",
    "    break\n",
    "    \n",
    "print('더 이상 커피를 주문할 수 없습니다.')    "
   ]
  },
  {
   "cell_type": "code",
   "execution_count": 257,
   "id": "3fd95538",
   "metadata": {},
   "outputs": [
    {
     "name": "stdout",
     "output_type": "stream",
     "text": [
      "돈을 넣어주세요: 300\n",
      "커피 한 잔 드립니다.\n",
      "남은 커피는 9잔입니다.\n",
      "\n",
      "돈을 넣어주세요: 900\n",
      "커피와 잔돈 600원을 거슬러드립니다.\n",
      "남은 커피는 8잔입니다.\n",
      "\n",
      "돈을 넣어주세요: 200\n",
      "돈이 모자랍니다. 지불하신 200원 다시 돌려드립니다.\n",
      "남은 커피는 8잔입니다.\n",
      "\n",
      "돈을 넣어주세요: 300\n",
      "커피 한 잔 드립니다.\n",
      "남은 커피는 7잔입니다.\n",
      "\n",
      "돈을 넣어주세요: 300\n",
      "커피 한 잔 드립니다.\n",
      "남은 커피는 6잔입니다.\n",
      "\n",
      "돈을 넣어주세요: 300\n",
      "커피 한 잔 드립니다.\n",
      "남은 커피는 5잔입니다.\n",
      "\n",
      "돈을 넣어주세요: 300\n",
      "커피 한 잔 드립니다.\n",
      "남은 커피는 4잔입니다.\n",
      "\n",
      "돈을 넣어주세요: 400\n",
      "커피와 잔돈 100원을 거슬러드립니다.\n",
      "남은 커피는 3잔입니다.\n",
      "\n",
      "돈을 넣어주세요: 300\n",
      "커피 한 잔 드립니다.\n",
      "남은 커피는 2잔입니다.\n",
      "\n",
      "돈을 넣어주세요: 300\n",
      "커피 한 잔 드립니다.\n",
      "남은 커피는 1잔입니다.\n",
      "\n",
      "돈을 넣어주세요: 300\n",
      "커피 한 잔 드립니다.\n",
      "남은 커피는 0잔입니다.\n",
      "\n",
      "돈을 넣어주세요: 900\n",
      "커피가 없습니다.\n"
     ]
    }
   ],
   "source": [
    "#실습 - 커피자판기2 : 내 버전\n",
    "'''money를 input으로 받아서\n",
    "- 돈이 남으면 : 거슬러주고 커피한 잔 주기\n",
    "- 돈이 300원이면 : 커피 한 잔 주기\n",
    "- 돈이 모자라면: 돈 돌려주고 커피 주지 않기\n",
    "- 커피 떨어지면 : 판매 중지'''\n",
    "\n",
    "\n",
    "coffee = 10\n",
    "change = 0\n",
    "while True:\n",
    "    \n",
    "    pay = int(input('돈을 넣어주세요: '))\n",
    "    if coffee != 0:\n",
    "       \n",
    "        \n",
    "        if pay > 300:\n",
    "            coffee = coffee - 1\n",
    "            change = pay -300\n",
    "            print(f'커피와 잔돈 {change}원을 거슬러드립니다.')\n",
    "\n",
    "        elif pay == 300:\n",
    "            coffee = coffee - 1\n",
    "            change = 0\n",
    "            print('커피 한 잔 드립니다.')\n",
    "\n",
    "        else:\n",
    "            print(f'돈이 모자랍니다. 지불하신 {pay}원 다시 돌려드립니다.')\n",
    "          \n",
    "        print(f'남은 커피는 {coffee}잔입니다.')\n",
    "        print()\n",
    "        \n",
    "    else:\n",
    "        print('커피가 없습니다.')\n",
    "        break"
   ]
  },
  {
   "cell_type": "markdown",
   "id": "12990a2f",
   "metadata": {},
   "source": [
    "### "
   ]
  },
  {
   "cell_type": "code",
   "execution_count": null,
   "id": "16118066",
   "metadata": {},
   "outputs": [],
   "source": [
    "#실습 - 커피자판기2 교수님 첨삭\n",
    "'''money를 input으로 받아서\n",
    "- 돈이 남으면 : 거슬러주고 커피한 잔 주기\n",
    "- 돈이 300원이면 : 커피 한 잔 주기\n",
    "- 돈이 모자라면: 돈 돌려주고 커피 주지 않기\n",
    "- 커피 떨어지면 : 판매 중지'''\n",
    "\n",
    "\n",
    "coffee = 10\n",
    "change = 0\n",
    "while True: \n",
    "    pay = int(input('돈을 넣어주세요: '))\n",
    "    if coffee == 0:\n",
    "        print('커피가 없습니다.')\n",
    "        break\n",
    "        \n",
    "    if pay > 300:\n",
    "        coffee = coffee - 1\n",
    "        change = pay -300\n",
    "        print(f'커피와 잔돈 {change}원을 거슬러드립니다.')\n",
    "    elif pay == 300:\n",
    "        coffee = coffee - 1\n",
    "        change = 0\n",
    "        print('커피 한 잔 드립니다.')\n",
    "    else:\n",
    "        print(f'돈이 모자랍니다. 지불하신 {pay}원 다시 돌려드립니다.')\n",
    "\n",
    "    print(f'남은 커피는 {coffee}잔입니다.')\n",
    "    print()\n"
   ]
  },
  {
   "cell_type": "code",
   "execution_count": null,
   "id": "b8905183",
   "metadata": {},
   "outputs": [],
   "source": []
  },
  {
   "cell_type": "markdown",
   "id": "2a4a5389",
   "metadata": {},
   "source": [
    "# 11월 3일"
   ]
  },
  {
   "cell_type": "markdown",
   "id": "4a5d1012",
   "metadata": {},
   "source": [
    "### 랜덤 (=난수)"
   ]
  },
  {
   "cell_type": "code",
   "execution_count": 2,
   "id": "88c53807",
   "metadata": {},
   "outputs": [
    {
     "name": "stdout",
     "output_type": "stream",
     "text": [
      "0.24351266975678554\n",
      "0.783144249307012\n",
      "0.7195877636865172\n",
      "0.72206128078663\n",
      "0.2145349735077936\n"
     ]
    }
   ],
   "source": [
    "import random\n",
    "\n",
    "for x in range(5):\n",
    "    print(random.random())"
   ]
  },
  {
   "cell_type": "code",
   "execution_count": 11,
   "id": "828beecd",
   "metadata": {},
   "outputs": [
    {
     "name": "stdout",
     "output_type": "stream",
     "text": [
      "50.24961777814591\n",
      "6.4120510224956\n",
      "7.8450413498852924\n",
      "82.10030693275397\n",
      "93.82581270305839\n"
     ]
    }
   ],
   "source": [
    "# .uniform(시작수, 마지막수) : 시작수에서 마지막 수 사이 랜덤으로 실수 추출\n",
    "for x in range(5):\n",
    "    print(random.uniform(1,100))"
   ]
  },
  {
   "cell_type": "code",
   "execution_count": 7,
   "id": "e15f7f55",
   "metadata": {},
   "outputs": [
    {
     "name": "stdout",
     "output_type": "stream",
     "text": [
      "52\n",
      "20\n",
      "40\n",
      "84\n",
      "27\n"
     ]
    }
   ],
   "source": [
    "# .randint(범위) : 범위 안에서 정수 랜덤으로 추출하기\n",
    "\n",
    "for x in range(5):\n",
    "    print(random.randint(1,100))"
   ]
  },
  {
   "cell_type": "code",
   "execution_count": 10,
   "id": "79a8e869",
   "metadata": {},
   "outputs": [
    {
     "name": "stdout",
     "output_type": "stream",
     "text": [
      "31\n",
      "91\n",
      "81\n",
      "41\n",
      "61\n"
     ]
    }
   ],
   "source": [
    "# .randrange(시작수,마지막수,단위) : 시작수에서 마지막수 사이 >> 시작수+n'단위' << 조건에 맞는 수 랜덤 추출\n",
    "\n",
    "for x in range(5):\n",
    "    print(random.randrange(1,100,10))"
   ]
  },
  {
   "cell_type": "code",
   "execution_count": null,
   "id": "c08789dd",
   "metadata": {},
   "outputs": [],
   "source": []
  },
  {
   "cell_type": "markdown",
   "id": "50df8c29",
   "metadata": {},
   "source": [
    "### 연습문제"
   ]
  },
  {
   "cell_type": "code",
   "execution_count": 12,
   "id": "a54a2174",
   "metadata": {
    "scrolled": true
   },
   "outputs": [
    {
     "name": "stdout",
     "output_type": "stream",
     "text": [
      "shirt\n"
     ]
    }
   ],
   "source": [
    "# Q1. 다음 코드의 결괏값은 무엇일까? shirt\n",
    "\n",
    "a = \"Life is too short, you need python\"\n",
    "\n",
    "if \"wife\" in a : print(\"wife\")\n",
    "elif \"python\" in a and \"you\" not in a: print(\"python\")\n",
    "elif \"shirt\" not in a: print(\"shirt\")\n",
    "elif \"need\" in a : print(\"need\")\n",
    "else: print(\"none\")"
   ]
  },
  {
   "cell_type": "code",
   "execution_count": 40,
   "id": "4627358d",
   "metadata": {},
   "outputs": [
    {
     "name": "stdout",
     "output_type": "stream",
     "text": [
      "166833\n"
     ]
    }
   ],
   "source": [
    "#Q2. while문을 사용해 1~1000까지 3의 배수의 합을 구해 보자\n",
    "\n",
    "total = 0\n",
    "x = 0\n",
    "\n",
    "while x <= 1000:\n",
    "    x = x + 1\n",
    "    if x % 3 == 0:\n",
    "        total = total + x # <- 누적 꿀팁: 좌항과 우항에 같은 변수가 보여야 됨\n",
    "    else:\n",
    "        pass\n",
    "    \n",
    "print(total)\n",
    "        "
   ]
  },
  {
   "cell_type": "code",
   "execution_count": 47,
   "id": "67c2fdfd",
   "metadata": {
    "scrolled": true
   },
   "outputs": [
    {
     "name": "stdout",
     "output_type": "stream",
     "text": [
      "7864404421193770495457012546487234597549449973991023224447237234812102748378870249696474141053675840631514896467743362824103675226185117638801931454171678365562951273382211054152675497190348929675110626850667911634523490432588300211387408823696716316810547669923667301043945289242630103541421839917164564236645739717182232155358539885493239304112803418644333412349734245377364997148862608594689980721760683061506364518960892715965677511795753254289198006570696416286523989604526002461882228716063082096734344310278156970541687408909428699073707165878603198299955533556004956201356159747588615198111441498521861616671354078057606222958709440340387793501132883208225726257113731409152776747316056311004185727905575723946895575688731140388725325082355791037491901148838475333632000000000000000000000000000000000000000000000000000000000000000000000000000000000\n"
     ]
    }
   ],
   "source": [
    "#Q2-2. while문을 사용해 1~1000까지 3의 배수의 곱을 구해 보자\n",
    "\n",
    "total = 1\n",
    "x = 0\n",
    "\n",
    "while x <= 1000:\n",
    "    x = x + 1\n",
    "    if x % 3 == 0:\n",
    "        total = total * x\n",
    "    \n",
    "print(total)"
   ]
  },
  {
   "cell_type": "code",
   "execution_count": 46,
   "id": "c0ff70cb",
   "metadata": {},
   "outputs": [
    {
     "name": "stdout",
     "output_type": "stream",
     "text": [
      "33165\n"
     ]
    }
   ],
   "source": [
    "#Q2-3. while문을 사용해 1~1000까지 3의 배수이고 5의 배수인 수의 합을 구해 보자\n",
    "\n",
    "total = 0\n",
    "x = 0\n",
    "\n",
    "while x <= 1000:\n",
    "    x = x + 1\n",
    "    if x % 3 == 0 and x % 5 == 0:\n",
    "        total = total + x\n",
    "    \n",
    "print(total)"
   ]
  },
  {
   "cell_type": "code",
   "execution_count": 44,
   "id": "2a2bff0b",
   "metadata": {},
   "outputs": [
    {
     "name": "stdout",
     "output_type": "stream",
     "text": [
      "*\n",
      "**\n",
      "***\n",
      "****\n",
      "*****\n"
     ]
    }
   ],
   "source": [
    "#Q3. while문 사용해서 *이 1부터 5까지 증가하는 코드 만들기\n",
    "\n",
    "x = 0\n",
    "while < 5:\n",
    "    x = x + 1\n",
    "    print('*' * x)"
   ]
  },
  {
   "cell_type": "code",
   "execution_count": 49,
   "id": "1bc67496",
   "metadata": {},
   "outputs": [
    {
     "name": "stdout",
     "output_type": "stream",
     "text": [
      "*\n",
      "**\n",
      "***\n",
      "****\n",
      "*****\n"
     ]
    }
   ],
   "source": [
    "#Q3. 교수님과 함께하는 while True: 무한루프 응용\n",
    "\n",
    "x = 0\n",
    "\n",
    "while True:\n",
    "    x = x + 1\n",
    "    if x > 5:    break # <- 무한루프 탈출 조건\n",
    "    print('*' * x)"
   ]
  },
  {
   "cell_type": "code",
   "execution_count": 54,
   "id": "f823ff9e",
   "metadata": {},
   "outputs": [
    {
     "name": "stdout",
     "output_type": "stream",
     "text": [
      "**\n",
      "***\n",
      "****\n",
      "*****\n",
      "******\n"
     ]
    }
   ],
   "source": [
    "#Q3-3. 별을 2 -> 6 증가하게 만들기\n",
    "x = 0\n",
    "\n",
    "while True:\n",
    "    x = x + 1\n",
    "    if x > 5:    break # <- 무한루프 탈출 조건\n",
    "    print('*' * (x+1))"
   ]
  },
  {
   "cell_type": "code",
   "execution_count": 45,
   "id": "649d0cf0",
   "metadata": {},
   "outputs": [
    {
     "name": "stdout",
     "output_type": "stream",
     "text": [
      "1 2 3 4 5 6 7 8 9 10 11 12 13 14 15 16 17 18 19 20 21 22 23 24 25 26 27 28 29 30 31 32 33 34 35 36 37 38 39 40 41 42 43 44 45 46 47 48 49 50 51 52 53 54 55 56 57 58 59 60 61 62 63 64 65 66 67 68 69 70 71 72 73 74 75 76 77 78 79 80 81 82 83 84 85 86 87 88 89 90 91 92 93 94 95 96 97 98 99 100 "
     ]
    }
   ],
   "source": [
    "# Q4. for문을 사용해 1부터 100까지의 숫자 출력하기\n",
    "\n",
    "for x in range(1,101):\n",
    "    print(x,end=\" \")"
   ]
  },
  {
   "cell_type": "code",
   "execution_count": 71,
   "id": "f0eea3e0",
   "metadata": {},
   "outputs": [
    {
     "name": "stdout",
     "output_type": "stream",
     "text": [
      "79.0\n"
     ]
    }
   ],
   "source": [
    "#Q5. for문 사용해서 학급 평균 구하기\n",
    "\n",
    "marks = [70,60,55,75,95,90,80,80,85,100]\n",
    "total = 0\n",
    "\n",
    "for mark in marks:\n",
    "    total = total + mark\n",
    "\n",
    "avg = total/len(marks)\n",
    "print(avg)\n"
   ]
  },
  {
   "cell_type": "code",
   "execution_count": 72,
   "id": "c529afe5",
   "metadata": {},
   "outputs": [
    {
     "name": "stdout",
     "output_type": "stream",
     "text": [
      "79.0\n"
     ]
    }
   ],
   "source": [
    "marks = [70,60,55,75,95,90,80,80,85,100]\n",
    "total = 0\n",
    "\n",
    "for x in range(0,10):\n",
    "    total = total + marks[x]\n",
    "\n",
    "avg = total/len(marks)\n",
    "print(avg)"
   ]
  },
  {
   "cell_type": "code",
   "execution_count": 73,
   "id": "db3b015e",
   "metadata": {},
   "outputs": [
    {
     "data": {
      "text/plain": [
       "[2, 6, 10]"
      ]
     },
     "execution_count": 73,
     "metadata": {},
     "output_type": "execute_result"
    }
   ],
   "source": [
    "# Q6. 다음 코드를 리스트 컴프리헨션으로 표현해보기\n",
    "\n",
    "'''\n",
    "numbers = [1,2,3,4,5]\n",
    "result = []\n",
    "for n in numbers:\n",
    "    if n % 2 == 1:\n",
    "        result.append(n*2)\n",
    "'''\n",
    "\n",
    "numbers = [1,2,3,4,5]\n",
    "result = [n*2 for n in numbers if n % 2 == 1]\n",
    "\n",
    "result\n"
   ]
  },
  {
   "cell_type": "code",
   "execution_count": 80,
   "id": "6c8ed2fc",
   "metadata": {},
   "outputs": [
    {
     "data": {
      "text/plain": [
       "[2, 6, 10]"
      ]
     },
     "execution_count": 80,
     "metadata": {},
     "output_type": "execute_result"
    }
   ],
   "source": [
    "# Q6 .혼자 놀기\n",
    "\n",
    "numbers = [1,2,3,4,5]\n",
    "result = [n*2 for n in numbers if n % 2 == 1]\n",
    "\n",
    "result"
   ]
  },
  {
   "cell_type": "code",
   "execution_count": null,
   "id": "0d72494c",
   "metadata": {},
   "outputs": [],
   "source": []
  },
  {
   "cell_type": "code",
   "execution_count": null,
   "id": "423413e9",
   "metadata": {},
   "outputs": [],
   "source": []
  },
  {
   "cell_type": "code",
   "execution_count": null,
   "id": "f85f797b",
   "metadata": {},
   "outputs": [],
   "source": []
  },
  {
   "cell_type": "code",
   "execution_count": null,
   "id": "557af703",
   "metadata": {},
   "outputs": [],
   "source": []
  },
  {
   "cell_type": "code",
   "execution_count": null,
   "id": "6f7f576b",
   "metadata": {},
   "outputs": [],
   "source": []
  }
 ],
 "metadata": {
  "kernelspec": {
   "display_name": "Python 3 (ipykernel)",
   "language": "python",
   "name": "python3"
  },
  "language_info": {
   "codemirror_mode": {
    "name": "ipython",
    "version": 3
   },
   "file_extension": ".py",
   "mimetype": "text/x-python",
   "name": "python",
   "nbconvert_exporter": "python",
   "pygments_lexer": "ipython3",
   "version": "3.11.5"
  }
 },
 "nbformat": 4,
 "nbformat_minor": 5
}
