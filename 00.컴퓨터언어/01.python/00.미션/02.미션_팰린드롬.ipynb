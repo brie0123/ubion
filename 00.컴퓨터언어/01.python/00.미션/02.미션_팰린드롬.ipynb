{
 "cells": [
  {
   "cell_type": "markdown",
   "metadata": {},
   "source": [
    "### 짰던 흔적"
   ]
  },
  {
   "cell_type": "code",
   "execution_count": 26,
   "metadata": {},
   "outputs": [
    {
     "name": "stdout",
     "output_type": "stream",
     "text": [
      "['l', 'o', 'l', 'o', 'l']\n",
      "['l', 'o', 'l', 'o', 'l']\n",
      "True\n"
     ]
    }
   ],
   "source": [
    "#대소문자 구분, 기호 제외하게 만들기\n",
    "\n",
    "\n",
    "message = input('문장을 입력하세요: ')\n",
    "a = list(message)\n",
    "\n",
    "new_message = []\n",
    "\n",
    "for i in range(len(a)):\n",
    "    a.reverse()\n",
    "    a.lower()\n",
    "    new_message += a[i]\n",
    "\n",
    "print(a)\n",
    "print(new_message)  \n",
    "\n",
    "if a[:]==new_message[:]:\n",
    "    print(True)\n",
    "else:\n",
    "    print(False)"
   ]
  },
  {
   "cell_type": "code",
   "execution_count": 24,
   "metadata": {},
   "outputs": [
    {
     "ename": "SyntaxError",
     "evalue": "'return' outside function (852123916.py, line 9)",
     "output_type": "error",
     "traceback": [
      "\u001b[0;36m  Cell \u001b[0;32mIn[24], line 9\u001b[0;36m\u001b[0m\n\u001b[0;31m    return True\u001b[0m\n\u001b[0m    ^\u001b[0m\n\u001b[0;31mSyntaxError\u001b[0m\u001b[0;31m:\u001b[0m 'return' outside function\n"
     ]
    }
   ],
   "source": [
    "palindrome = True\n",
    "\n",
    "while palindrome:\n",
    "    for i in range(len(a)):\n",
    "        if a[i] == new_message[i]:\n",
    "            pass\n",
    "        else:\n",
    "            False\n"
   ]
  },
  {
   "cell_type": "markdown",
   "metadata": {},
   "source": [
    "### 완성본"
   ]
  },
  {
   "cell_type": "code",
   "execution_count": 1,
   "metadata": {},
   "outputs": [],
   "source": [
    "\n",
    "\n",
    "def palindrome(): \n",
    "    message = input('문장을 입력하세요: ')\n",
    "    message = message.replace(\" \",\"\")\n",
    "    message = message.replace(\",\",\"\")\n",
    "    message = message.replace(\":\",\"\")\n",
    "    message = message.replace('\"','')\n",
    "    message = message.upper()\n",
    "    b = list(message)\n",
    "\n",
    "\n",
    "    new_message = []\n",
    "\n",
    "    for i in range(len(b)):\n",
    "        b.reverse()\n",
    "        new_message += b[i]\n",
    "\n",
    "    print(b)\n",
    "    print(new_message)  \n",
    "\n",
    "    if b[:]==new_message[:]:\n",
    "        print(True)\n",
    "    else:\n",
    "        print(False)"
   ]
  },
  {
   "cell_type": "code",
   "execution_count": 2,
   "metadata": {},
   "outputs": [
    {
     "name": "stdout",
     "output_type": "stream",
     "text": [
      "['L', 'O', 'L', 'O', 'L']\n",
      "['L', 'O', 'L', 'O', 'L']\n",
      "True\n"
     ]
    }
   ],
   "source": [
    "palindrome()"
   ]
  },
  {
   "cell_type": "code",
   "execution_count": null,
   "metadata": {},
   "outputs": [],
   "source": []
  }
 ],
 "metadata": {
  "kernelspec": {
   "display_name": "base",
   "language": "python",
   "name": "python3"
  },
  "language_info": {
   "codemirror_mode": {
    "name": "ipython",
    "version": 3
   },
   "file_extension": ".py",
   "mimetype": "text/x-python",
   "name": "python",
   "nbconvert_exporter": "python",
   "pygments_lexer": "ipython3",
   "version": "3.11.5"
  }
 },
 "nbformat": 4,
 "nbformat_minor": 2
}
