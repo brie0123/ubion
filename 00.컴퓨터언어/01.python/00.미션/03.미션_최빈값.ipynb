{
 "cells": [
  {
   "cell_type": "markdown",
   "metadata": {},
   "source": []
  },
  {
   "cell_type": "code",
   "execution_count": 2,
   "metadata": {},
   "outputs": [
    {
     "name": "stdout",
     "output_type": "stream",
     "text": [
      "['bob', 'the', 'far', 'away', 'ball', 'a', 'after', 'hit', 'was', 'it', 'flew']\n"
     ]
    }
   ],
   "source": [
    "# paragraph = \"Bob hit a ball, the hit Ball flew far after it was hit.\"\n",
    "\n",
    "paragraph = input('문장을 입력해주세요: ')\n",
    "banned = \"hit\"\n",
    "\n",
    "paragraph = paragraph.lower()\n",
    "paragraph = paragraph.replace(\",\",\"\")\n",
    "paragraph = paragraph.replace(\".\",\"\")\n",
    "paragraph = paragraph.replace('\"','')\n",
    "\n",
    "b = paragraph.split(\" \")\n",
    "c= set(b)\n",
    "d = list(c)\n",
    "\n",
    "print(d)\n",
    "\n"
   ]
  },
  {
   "cell_type": "code",
   "execution_count": 14,
   "metadata": {},
   "outputs": [
    {
     "name": "stdout",
     "output_type": "stream",
     "text": [
      "['bob', 'hit', 'a', 'ball', 'the', 'hit', 'ball', 'flew', 'far', 'away', 'after', 'it', 'was', 'hit']\n"
     ]
    }
   ],
   "source": [
    "#문장 안에 들어가 있는 단어들 리스트로 만들기\n",
    "\n",
    "f = list(b)\n",
    "print(f)"
   ]
  },
  {
   "cell_type": "code",
   "execution_count": 13,
   "metadata": {},
   "outputs": [
    {
     "name": "stdout",
     "output_type": "stream",
     "text": [
      "{'bob': 1, 'the': 1, 'far': 1, 'away': 1, 'ball': 2, 'a': 1, 'after': 1, 'hit': 3, 'was': 1, 'it': 1, 'flew': 1}\n"
     ]
    }
   ],
   "source": [
    "wordcounts = {}\n",
    "for i in range(len(d)):\n",
    "    word = d[i]\n",
    "    e = f.count(word)\n",
    "    wordcounts[word] = e\n",
    "print(wordcounts)"
   ]
  },
  {
   "cell_type": "code",
   "execution_count": null,
   "metadata": {},
   "outputs": [],
   "source": []
  }
 ],
 "metadata": {
  "kernelspec": {
   "display_name": "base",
   "language": "python",
   "name": "python3"
  },
  "language_info": {
   "codemirror_mode": {
    "name": "ipython",
    "version": 3
   },
   "file_extension": ".py",
   "mimetype": "text/x-python",
   "name": "python",
   "nbconvert_exporter": "python",
   "pygments_lexer": "ipython3",
   "version": "3.11.5"
  }
 },
 "nbformat": 4,
 "nbformat_minor": 2
}
