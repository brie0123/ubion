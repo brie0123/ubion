{
 "cells": [
  {
   "cell_type": "code",
   "execution_count": 8,
   "metadata": {},
   "outputs": [
    {
     "name": "stdout",
     "output_type": "stream",
     "text": [
      "홍길동 통장\n",
      "\n",
      "        ------------------\n",
      "        1. 잔액확인\n",
      "        2. 입금\n",
      "        3. 출금\n",
      "        4. 종료\n",
      "        ------------------\n",
      "        \n",
      "잔액은 1000 입니다.\n"
     ]
    }
   ],
   "source": [
    "class CAccount:\n",
    "    def __init__(self, owner, amount=0, password = '1111'):\n",
    "        self.owner = owner\n",
    "        self.balance = amount\n",
    "        self.password = password\n",
    "        self.message =\"\"\"\n",
    "        ------------------\n",
    "        1. 잔액확인\n",
    "        2. 입금\n",
    "        3. 출금\n",
    "        4. 종료\n",
    "        ------------------\n",
    "        \"\"\"\n",
    "        \n",
    "        self.dispTitleMsg()\n",
    "        \n",
    "    def bankTransaction(self): \n",
    "        inPass = input(\"계좌 비밀번호를 입력해 주세요.\")            \n",
    "        if inPass != self.password:\n",
    "            self.dispPassErr()\n",
    "            return\n",
    "        \n",
    "        inNum = int(input(\"메뉴를 선택해 주세요.\"))\n",
    "        \n",
    "        if inNum == 4:\n",
    "            self.dispEndBanking()\n",
    "            return\n",
    "        \n",
    "        if inNum == 1:\n",
    "            self.dispBalance()\n",
    "        elif inNum == 2:\n",
    "            self.deposit()    \n",
    "        elif inNum == 3:\n",
    "            self.withdraw()   \n",
    "        \n",
    "    def deposit(self):\n",
    "        inAmount = int(input(\"입금할 금액을 알려주세요.\"))                    \n",
    "        if inAmount < 0:\n",
    "            self.dispAmountErr()\n",
    "        else:\n",
    "            self.balance += inAmount\n",
    "            self.dispDepositSucc(inAmount)\n",
    "            self.dispBalance()\n",
    "        \n",
    "    def withdraw(self):\n",
    "        inAmount = int(input(\"출금할 금액을 알려주세요.\"))      \n",
    "        if inAmount < 0:\n",
    "            self.dispAmountErr()\n",
    "        elif self.balance < inAmount:            \n",
    "            self.dispLackbalance()\n",
    "        else:\n",
    "            self.balance -= inAmount\n",
    "            self.dispWithdrawSucc(inAmount)\n",
    "            self.dispBalance()\n",
    "    \n",
    "    # Display message\n",
    "    def dispTitleMsg(self):\n",
    "        print(\"%s 통장\" % self.owner)\n",
    "        print(self.message) \n",
    "    \n",
    "    def dispBalance(self):\n",
    "        print(\"잔액은 %d 입니다.\" % self.balance)\n",
    "    \n",
    "    def dispAmountErr(self):\n",
    "        print(\"정확한 금액을 입력해주세요.\")\n",
    "    \n",
    "    def dispLackbalance(self):\n",
    "        print(\"잔액부족, 거래가 거절되었습니다.\")\n",
    "        \n",
    "    def dispDepositSucc(self, amount):        \n",
    "        print(amount, \"원이 성공적으로 입금되었습니다.\")\n",
    "        \n",
    "    def dispWithdrawSucc(self, amount):\n",
    "        print(amount, \"원이 성공적으로 인출되었습니다.\")\n",
    "        \n",
    "    def dispPassErr(self):\n",
    "        print(\"%s님은 거래할 수 없습니다.\" % self.owner) \n",
    "        \n",
    "    def dispEndBanking(self):\n",
    "        print(\"은행 업무를 종료합니다.\")\n",
    "\n",
    "# Implementation\n",
    "amounHong = CAccount(\"홍길동\", 1000)\n",
    "amounHong.bankTransaction()\n",
    "        "
   ]
  },
  {
   "cell_type": "markdown",
   "metadata": {},
   "source": [
    "# 은행업무"
   ]
  },
  {
   "cell_type": "code",
   "execution_count": null,
   "metadata": {},
   "outputs": [],
   "source": []
  },
  {
   "cell_type": "code",
   "execution_count": null,
   "metadata": {},
   "outputs": [],
   "source": []
  }
 ],
 "metadata": {
  "kernelspec": {
   "display_name": "base",
   "language": "python",
   "name": "python3"
  },
  "language_info": {
   "codemirror_mode": {
    "name": "ipython",
    "version": 3
   },
   "file_extension": ".py",
   "mimetype": "text/x-python",
   "name": "python",
   "nbconvert_exporter": "python",
   "pygments_lexer": "ipython3",
   "version": "3.11.4"
  }
 },
 "nbformat": 4,
 "nbformat_minor": 2
}
