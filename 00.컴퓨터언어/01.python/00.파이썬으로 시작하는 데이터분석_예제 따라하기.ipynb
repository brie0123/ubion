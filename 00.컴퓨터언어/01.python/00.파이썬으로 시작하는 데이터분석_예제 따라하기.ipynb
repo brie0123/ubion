{
 "cells": [
  {
   "cell_type": "code",
   "execution_count": 3,
   "id": "aabd3ff8",
   "metadata": {},
   "outputs": [
    {
     "data": {
      "text/plain": [
       "5"
      ]
     },
     "execution_count": 3,
     "metadata": {},
     "output_type": "execute_result"
    }
   ],
   "source": [
    "a=5\n",
    "a"
   ]
  },
  {
   "cell_type": "code",
   "execution_count": 5,
   "id": "1227f976",
   "metadata": {},
   "outputs": [
    {
     "data": {
      "text/plain": [
       "4515212400"
      ]
     },
     "execution_count": 5,
     "metadata": {},
     "output_type": "execute_result"
    }
   ],
   "source": [
    "x = y = z = 'DOG'\n",
    "id(x)"
   ]
  },
  {
   "cell_type": "code",
   "execution_count": 6,
   "id": "24f82b4a",
   "metadata": {},
   "outputs": [
    {
     "data": {
      "text/plain": [
       "4515212400"
      ]
     },
     "execution_count": 6,
     "metadata": {},
     "output_type": "execute_result"
    }
   ],
   "source": [
    "id(y)"
   ]
  },
  {
   "cell_type": "code",
   "execution_count": 7,
   "id": "826eae7c",
   "metadata": {},
   "outputs": [
    {
     "data": {
      "text/plain": [
       "4515212400"
      ]
     },
     "execution_count": 7,
     "metadata": {},
     "output_type": "execute_result"
    }
   ],
   "source": [
    "id(z)"
   ]
  },
  {
   "cell_type": "code",
   "execution_count": 9,
   "id": "6dcf7137",
   "metadata": {},
   "outputs": [
    {
     "data": {
      "text/plain": [
       "['apple', 'strawberry', 'mango', 'blueberry']"
      ]
     },
     "execution_count": 9,
     "metadata": {},
     "output_type": "execute_result"
    }
   ],
   "source": [
    "fruit = ['apple','strawberry','blueberry']\n",
    "fruit.insert(2,'mango')\n",
    "fruit"
   ]
  },
  {
   "cell_type": "code",
   "execution_count": 11,
   "id": "bab0e1c1",
   "metadata": {},
   "outputs": [
    {
     "data": {
      "text/plain": [
       "['apple', 'strawberry', 'mango', 'blueberry', 'watermelon', 'watermelon']"
      ]
     },
     "execution_count": 11,
     "metadata": {},
     "output_type": "execute_result"
    }
   ],
   "source": [
    "fruit.append('watermelon')\n",
    "fruit"
   ]
  },
  {
   "cell_type": "code",
   "execution_count": 12,
   "id": "a819d026",
   "metadata": {},
   "outputs": [
    {
     "data": {
      "text/plain": [
       "['apple',\n",
       " 'strawberry',\n",
       " 'mango',\n",
       " 'blueberry',\n",
       " 'watermelon',\n",
       " 'watermelon',\n",
       " 'carrot',\n",
       " 'tomato',\n",
       " 'onion']"
      ]
     },
     "execution_count": 12,
     "metadata": {},
     "output_type": "execute_result"
    }
   ],
   "source": [
    "vege = ['carrot','tomato','onion']\n",
    "fruit.extend(vege)\n",
    "fruit"
   ]
  },
  {
   "cell_type": "code",
   "execution_count": 13,
   "id": "c53fe992",
   "metadata": {},
   "outputs": [
    {
     "data": {
      "text/plain": [
       "[1, 2, 3, '가', '나', '다']"
      ]
     },
     "execution_count": 13,
     "metadata": {},
     "output_type": "execute_result"
    }
   ],
   "source": [
    "list_1 = [1,2,3]\n",
    "list_2 = ['가','나','다']\n",
    "list_3 = list_1 + list_2\n",
    "list_3"
   ]
  },
  {
   "cell_type": "code",
   "execution_count": 14,
   "id": "09dc187f",
   "metadata": {},
   "outputs": [
    {
     "data": {
      "text/plain": [
       "['carrot', 'onion']"
      ]
     },
     "execution_count": 14,
     "metadata": {},
     "output_type": "execute_result"
    }
   ],
   "source": [
    "vege.remove('tomato')\n",
    "vege"
   ]
  },
  {
   "cell_type": "code",
   "execution_count": 15,
   "id": "ff29c08a",
   "metadata": {},
   "outputs": [
    {
     "data": {
      "text/plain": [
       "['apple',\n",
       " 'strawberry',\n",
       " 'mango',\n",
       " 'blueberry',\n",
       " 'watermelon',\n",
       " 'watermelon',\n",
       " 'carrot',\n",
       " 'tomato']"
      ]
     },
     "execution_count": 15,
     "metadata": {},
     "output_type": "execute_result"
    }
   ],
   "source": [
    "del fruit[-1]\n",
    "fruit"
   ]
  },
  {
   "cell_type": "code",
   "execution_count": 17,
   "id": "549f6a13",
   "metadata": {},
   "outputs": [
    {
     "ename": "NameError",
     "evalue": "name 'fruit' is not defined",
     "output_type": "error",
     "traceback": [
      "\u001b[0;31m---------------------------------------------------------------------------\u001b[0m",
      "\u001b[0;31mNameError\u001b[0m                                 Traceback (most recent call last)",
      "Cell \u001b[0;32mIn[17], line 1\u001b[0m\n\u001b[0;32m----> 1\u001b[0m \u001b[38;5;28;01mdel\u001b[39;00m fruit\n\u001b[1;32m      2\u001b[0m fruit\n",
      "\u001b[0;31mNameError\u001b[0m: name 'fruit' is not defined"
     ]
    }
   ],
   "source": [
    "del fruit\n",
    "fruit"
   ]
  },
  {
   "cell_type": "code",
   "execution_count": 19,
   "id": "d52393d1",
   "metadata": {},
   "outputs": [
    {
     "data": {
      "text/plain": [
       "[]"
      ]
     },
     "execution_count": 19,
     "metadata": {},
     "output_type": "execute_result"
    }
   ],
   "source": [
    "fruit =['apple','banana','orange']\n",
    "fruit.clear()\n",
    "fruit"
   ]
  },
  {
   "cell_type": "code",
   "execution_count": 23,
   "id": "610e91f2",
   "metadata": {},
   "outputs": [
    {
     "data": {
      "text/plain": [
       "['apple', 'strawberry', 'mango', 'blueberry', 'carrot', 'tomato', 'onion']"
      ]
     },
     "execution_count": 23,
     "metadata": {},
     "output_type": "execute_result"
    }
   ],
   "source": [
    "fruit = ['apple','strawberry','blueberry']\n",
    "fruit.insert(2,'mango')\n",
    "fruit\n",
    "\n",
    "vege = ['carrot','tomato','onion']\n",
    "fruit.extend(vege)\n",
    "fruit"
   ]
  },
  {
   "cell_type": "code",
   "execution_count": 24,
   "id": "b274f798",
   "metadata": {},
   "outputs": [
    {
     "data": {
      "text/plain": [
       "['tomato', 'strawberry', 'onion', 'mango', 'carrot', 'blueberry', 'apple']"
      ]
     },
     "execution_count": 24,
     "metadata": {},
     "output_type": "execute_result"
    }
   ],
   "source": [
    "fruit.sort(reverse=True)\n",
    "fruit"
   ]
  },
  {
   "cell_type": "code",
   "execution_count": null,
   "id": "f4fe6771",
   "metadata": {},
   "outputs": [],
   "source": []
  }
 ],
 "metadata": {
  "kernelspec": {
   "display_name": "Python 3 (ipykernel)",
   "language": "python",
   "name": "python3"
  },
  "language_info": {
   "codemirror_mode": {
    "name": "ipython",
    "version": 3
   },
   "file_extension": ".py",
   "mimetype": "text/x-python",
   "name": "python",
   "nbconvert_exporter": "python",
   "pygments_lexer": "ipython3",
   "version": "3.11.5"
  }
 },
 "nbformat": 4,
 "nbformat_minor": 5
}
