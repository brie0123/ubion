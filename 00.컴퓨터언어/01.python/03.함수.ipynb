{
 "cells": [
  {
   "cell_type": "markdown",
   "id": "46ffe94e",
   "metadata": {},
   "source": [
    "# 함수 function"
   ]
  },
  {
   "cell_type": "markdown",
   "id": "084a901b",
   "metadata": {},
   "source": [
    "### type 1: 입력값(=매개변수=파라미터=input) / 결괏값이 없는 함수"
   ]
  },
  {
   "cell_type": "code",
   "execution_count": 1,
   "id": "79a54970",
   "metadata": {},
   "outputs": [],
   "source": [
    "def say():\n",
    "    print('hi')"
   ]
  },
  {
   "cell_type": "code",
   "execution_count": 2,
   "id": "1b137200",
   "metadata": {
    "scrolled": false
   },
   "outputs": [
    {
     "name": "stdout",
     "output_type": "stream",
     "text": [
      "hi\n"
     ]
    }
   ],
   "source": [
    "say()"
   ]
  },
  {
   "cell_type": "markdown",
   "id": "88e950a4",
   "metadata": {},
   "source": [
    "### type 2: 입력값만 있는 함수"
   ]
  },
  {
   "cell_type": "code",
   "execution_count": 3,
   "id": "329c3402",
   "metadata": {},
   "outputs": [
    {
     "name": "stdout",
     "output_type": "stream",
     "text": [
      "7\n"
     ]
    }
   ],
   "source": [
    "def add(a,b):\n",
    "    result = a + b\n",
    "    print(result)\n",
    "\n",
    "add(3,4)"
   ]
  },
  {
   "cell_type": "markdown",
   "id": "60ef516d",
   "metadata": {},
   "source": [
    "### type 3: 결괏값(return)만 있는 함수"
   ]
  },
  {
   "cell_type": "code",
   "execution_count": 28,
   "id": "77db46cd",
   "metadata": {
    "scrolled": true
   },
   "outputs": [
    {
     "name": "stdout",
     "output_type": "stream",
     "text": [
      "hi\n",
      "hi\n",
      "None\n"
     ]
    }
   ],
   "source": [
    "# 함수 안에 return이 있는 함수와 없는 함수\n",
    "def say():\n",
    "    print('hi') #그냥 'hi'를 모니터에 보여줄 뿐이지 '반환'하지 않음(=메모리에 기록을 남기지 않음)\n",
    "\n",
    "    \n",
    "say()\n",
    "a = say() #<- 반환된 값이 없었기 때문에 a에 할당된 값이 없다\n",
    "print(a)  #<- a에 할당된 게 없는데 print를 실행. 보여줄 게 없음"
   ]
  },
  {
   "cell_type": "code",
   "execution_count": 24,
   "id": "7ffe8f17",
   "metadata": {},
   "outputs": [
    {
     "name": "stdout",
     "output_type": "stream",
     "text": [
      "hi\n",
      "None\n"
     ]
    }
   ],
   "source": [
    "a = print('hi')\n",
    "print(a)"
   ]
  },
  {
   "cell_type": "code",
   "execution_count": 27,
   "id": "aa69dca1",
   "metadata": {
    "scrolled": true
   },
   "outputs": [
    {
     "data": {
      "text/plain": [
       "'hi'"
      ]
     },
     "execution_count": 27,
     "metadata": {},
     "output_type": "execute_result"
    }
   ],
   "source": [
    "## 변수(입력값)는 없고 결괏값(return)은 있는 함수 예시\n",
    "\n",
    "def say():\n",
    "    return 'hi' # <- return: 반환된 값이 있다(=메모리에 무언가를 남긴다)\n",
    "\n",
    "say()"
   ]
  },
  {
   "cell_type": "code",
   "execution_count": 19,
   "id": "19bb7b24",
   "metadata": {},
   "outputs": [
    {
     "data": {
      "text/plain": [
       "6"
      ]
     },
     "execution_count": 19,
     "metadata": {},
     "output_type": "execute_result"
    }
   ],
   "source": [
    "def cal(choice,a,b):\n",
    "    if choice == 0:        #add\n",
    "        result = a + b\n",
    "    elif choice == 1:      #mul\n",
    "        result = a * b\n",
    "    elif choice == 2:      #div\n",
    "        result = a / b\n",
    "    else:                  #sub\n",
    "        result = a - b\n",
    "        \n",
    "    return result\n",
    "\n",
    "cal(0,2,4)"
   ]
  },
  {
   "cell_type": "markdown",
   "id": "1d221bef",
   "metadata": {},
   "source": [
    "### type 4: 입력값 있고 결괏값(return) 있는 함수"
   ]
  },
  {
   "cell_type": "code",
   "execution_count": 20,
   "id": "0dde7dc7",
   "metadata": {},
   "outputs": [
    {
     "data": {
      "text/plain": [
       "8"
      ]
     },
     "execution_count": 20,
     "metadata": {},
     "output_type": "execute_result"
    }
   ],
   "source": [
    "def add(a,b):\n",
    "    result = a + b\n",
    "    return result\n",
    "\n",
    "c = add(3,5)\n",
    "c"
   ]
  },
  {
   "cell_type": "markdown",
   "id": "f9bf4d7f",
   "metadata": {},
   "source": [
    "##### 매개변수를 지정해서 함수 호출하기"
   ]
  },
  {
   "cell_type": "code",
   "execution_count": 36,
   "id": "ba966336",
   "metadata": {},
   "outputs": [],
   "source": [
    "# 매개변수가 있는 함수를 준비한다\n",
    "\n",
    "def add(a,b):   # <- 소괄호 안의 매개변수 a와 b가 있다.\n",
    "    return a+b"
   ]
  },
  {
   "cell_type": "code",
   "execution_count": 33,
   "id": "7853d0d6",
   "metadata": {},
   "outputs": [
    {
     "name": "stdout",
     "output_type": "stream",
     "text": [
      "10\n"
     ]
    }
   ],
   "source": [
    "# 매개변수를 지정하는 법\n",
    "\n",
    "result = add(a=3,b=7)  # <- add(함수 안에 할당기호를 통해 변수 a랑 b에 값 할당)\n",
    "print(result)"
   ]
  },
  {
   "cell_type": "markdown",
   "id": "bb167d9a",
   "metadata": {},
   "source": [
    "##### 입력값이 몇 개가 될지 모를 때: *활용"
   ]
  },
  {
   "cell_type": "code",
   "execution_count": 44,
   "id": "b6026207",
   "metadata": {},
   "outputs": [
    {
     "name": "stdout",
     "output_type": "stream",
     "text": [
      "(1, 2, 3, 4, 5, 6, 6)\n",
      "27\n"
     ]
    }
   ],
   "source": [
    "def add_many(*args): # <- 변수 앞에 *를 붙여 다수의 변수를 하나의 변수 취급 가능\n",
    "    print(args)\n",
    "    result = 0\n",
    "    for i in args:\n",
    "        result = result + i\n",
    "    return result\n",
    "    \n",
    "result = add_many(1,2,3,4,5,6,6)\n",
    "print(result)"
   ]
  },
  {
   "cell_type": "code",
   "execution_count": 64,
   "id": "874f8636",
   "metadata": {
    "scrolled": false
   },
   "outputs": [
    {
     "name": "stdout",
     "output_type": "stream",
     "text": [
      "24\n"
     ]
    }
   ],
   "source": [
    "def add_mul(choice, *args): \n",
    "    if choice == 'add':              #add\n",
    "        result = 0\n",
    "        for i in args:\n",
    "            result = result + i\n",
    "    elif choice == 'mul' :           #mul\n",
    "        result = 1\n",
    "        for i in args:\n",
    "            result = result * i\n",
    "    return result\n",
    "\n",
    "new_result = add_mul('mul',1,2,3,4)\n",
    "print(new_result)"
   ]
  },
  {
   "cell_type": "markdown",
   "id": "0d80daa5",
   "metadata": {},
   "source": [
    "##### **(*두개)를 활용해 변수 딕셔너리처럼 만들기"
   ]
  },
  {
   "cell_type": "code",
   "execution_count": 67,
   "id": "129a93e6",
   "metadata": {},
   "outputs": [
    {
     "name": "stdout",
     "output_type": "stream",
     "text": [
      "{'a': 1}\n"
     ]
    }
   ],
   "source": [
    "def print_kwargs(**kwargs):\n",
    "    print(kwargs)\n",
    "    \n",
    "print_kwargs(a=1)"
   ]
  },
  {
   "cell_type": "code",
   "execution_count": 72,
   "id": "d367f152",
   "metadata": {},
   "outputs": [],
   "source": [
    "# return이 두 개인 경우\n",
    "def add_and_mul(a,b):   \n",
    "    return a+b, a*b"
   ]
  },
  {
   "cell_type": "code",
   "execution_count": 76,
   "id": "5ef592e6",
   "metadata": {},
   "outputs": [
    {
     "name": "stdout",
     "output_type": "stream",
     "text": [
      "(7, 12)\n"
     ]
    }
   ],
   "source": [
    "#return값이 두 개인 함수를 변수 하나에 할당한 경우 -> 튜플로 나옴\n",
    "\n",
    "result = add_and_mul(3,4)\n",
    "print(result)"
   ]
  },
  {
   "cell_type": "code",
   "execution_count": 77,
   "id": "0f9cb081",
   "metadata": {},
   "outputs": [
    {
     "name": "stdout",
     "output_type": "stream",
     "text": [
      "7\n",
      "12\n"
     ]
    }
   ],
   "source": [
    "#return값이 두 개인 함수를 변수 두개로 할당한 경우 -> 각각 나옴\n",
    "\n",
    "result1,result2 = add_and_mul(3,4)\n",
    "print(result1)\n",
    "print(result2)"
   ]
  },
  {
   "cell_type": "code",
   "execution_count": 80,
   "id": "245761fc",
   "metadata": {},
   "outputs": [
    {
     "name": "stdout",
     "output_type": "stream",
     "text": [
      "7\n"
     ]
    }
   ],
   "source": [
    "# return이 두 개인 경우 : return을 만난 순간 함수를 빠져나오게 되기 때문에(함수 종료) 맨 위의 return에 해당하는 a+b만 실행된다\n",
    "def add_and_mul(a,b):   \n",
    "    return a+b\n",
    "    return a*b  #위의 return 값을 들고 종료되기 때문에 이 친구는 실행되지 않고 무시된다\n",
    "\n",
    "result = add_and_mul(3,4)\n",
    "print(result)"
   ]
  },
  {
   "cell_type": "code",
   "execution_count": 84,
   "id": "4a7f08b2",
   "metadata": {},
   "outputs": [
    {
     "name": "stdout",
     "output_type": "stream",
     "text": [
      "나의 별명은 야호입니다\n"
     ]
    }
   ],
   "source": [
    "#return의 함수 종료 기능\n",
    "\n",
    "def say_nick(nick):\n",
    "    if nick == '바보':\n",
    "        return\n",
    "    print('나의 별명은 %s입니다' %nick)\n",
    "\n",
    "say_nick('야호')\n",
    "say_nick('바보')"
   ]
  },
  {
   "cell_type": "markdown",
   "id": "9d0869a8",
   "metadata": {},
   "source": [
    "### 매개변수 초깃값 미리 설정 -> 입력하지 않는 경우 초깃값으로 실행"
   ]
  },
  {
   "cell_type": "code",
   "execution_count": 86,
   "id": "6fca6cbd",
   "metadata": {
    "scrolled": true
   },
   "outputs": [
    {
     "name": "stdout",
     "output_type": "stream",
     "text": [
      "나의 이름은 ㅇㅅㅇ입니다.\n",
      "나의 나이는 24입니다.\n",
      "나는 남자입니다.\n"
     ]
    }
   ],
   "source": [
    "def say_myself(name,age,man=True):\n",
    "    print('나의 이름은 %s입니다.' %name)\n",
    "    print('나의 나이는 %d입니다.' %age)\n",
    "    if man:\n",
    "        print('나는 남자입니다.')\n",
    "    else:\n",
    "        print('여자입니다.')\n",
    "        \n",
    "say_myself('ㅇㅅㅇ',24)"
   ]
  },
  {
   "cell_type": "code",
   "execution_count": 88,
   "id": "c4af48e9",
   "metadata": {},
   "outputs": [
    {
     "name": "stdout",
     "output_type": "stream",
     "text": [
      "나의 이름은 ㅇㅅㅇ입니다.\n",
      "나의 나이는 24입니다.\n",
      "나는 남자입니다.\n",
      "나의 이름은 ㅇㅅㅇ입니다.\n",
      "나의 나이는 24입니다.\n",
      "여자입니다.\n",
      "나의 이름은 ㅇㅅㅇ입니다.\n",
      "나의 나이는 24입니다.\n",
      "나는 남자입니다.\n"
     ]
    }
   ],
   "source": [
    "say_myself('ㅇㅅㅇ',24,True)\n",
    "say_myself('ㅇㅅㅇ',24,False)\n",
    "say_myself('ㅇㅅㅇ',24,'고양이')"
   ]
  },
  {
   "cell_type": "code",
   "execution_count": 90,
   "id": "8903aba0",
   "metadata": {},
   "outputs": [
    {
     "ename": "SyntaxError",
     "evalue": "non-default argument follows default argument (3605189239.py, line 2)",
     "output_type": "error",
     "traceback": [
      "\u001b[0;36m  Cell \u001b[0;32mIn[90], line 2\u001b[0;36m\u001b[0m\n\u001b[0;31m    def say_myself(name,man=True,age):\u001b[0m\n\u001b[0m                                 ^\u001b[0m\n\u001b[0;31mSyntaxError\u001b[0m\u001b[0;31m:\u001b[0m non-default argument follows default argument\n"
     ]
    }
   ],
   "source": [
    "#주의사항 - 초깃값 설정을 하려면 끝 쪽으로 몰아줘야 함. 중간에 초깃값 설정이 끼면 뭐가 생략된건지 몰라서 오류 발생\n",
    "def say_myself(name,man=True,age):\n",
    "    print('나의 이름은 %s입니다.' %name)\n",
    "    print('나의 나이는 %d입니다.' %age)\n",
    "    if man:\n",
    "        print('나는 남자입니다.')\n",
    "    else:\n",
    "        print('여자입니다.')\n",
    "        \n",
    "say_myself('ㅇㅅㅇ',24)"
   ]
  },
  {
   "cell_type": "markdown",
   "id": "2ee9d3e6",
   "metadata": {},
   "source": [
    "### 함수 안에서 선언한 변수의 효력 범위"
   ]
  },
  {
   "cell_type": "code",
   "execution_count": 92,
   "id": "482232ea",
   "metadata": {},
   "outputs": [
    {
     "name": "stdout",
     "output_type": "stream",
     "text": [
      "1\n"
     ]
    }
   ],
   "source": [
    "a = 1\n",
    "def vartest(a):\n",
    "    a = a + 1\n",
    "    \n",
    "vartest(a)\n",
    "print(a)"
   ]
  },
  {
   "cell_type": "markdown",
   "id": "471d6315",
   "metadata": {},
   "source": [
    "### 함수 안에서 함수 밖의 변수를 변경하는 방법"
   ]
  },
  {
   "cell_type": "code",
   "execution_count": 94,
   "id": "3c602157",
   "metadata": {},
   "outputs": [
    {
     "name": "stdout",
     "output_type": "stream",
     "text": [
      "2\n"
     ]
    }
   ],
   "source": [
    "# 1. return 활용하기\n",
    "\n",
    "a = 1\n",
    "def vartest(a):\n",
    "    a = a + 1\n",
    "    return a # <- 값 반환 = 함수 밖으로 꺼냄\n",
    "\n",
    "a = vartest(a)\n",
    "print(a)"
   ]
  },
  {
   "cell_type": "code",
   "execution_count": 96,
   "id": "3c7a19bc",
   "metadata": {},
   "outputs": [
    {
     "name": "stdout",
     "output_type": "stream",
     "text": [
      "1\n"
     ]
    }
   ],
   "source": [
    "# 2. global 명령어 사용하기\n",
    "\n",
    "a = 1\n",
    "def vartest():\n",
    "    global a   # <- 함수 외부에서 선언된 변수를 그대로 가져다 쓴다는 뜻\n",
    "    a = a + 1\n",
    "    \n",
    "vartest\n",
    "print(a)"
   ]
  },
  {
   "cell_type": "code",
   "execution_count": 97,
   "id": "0ce49646",
   "metadata": {},
   "outputs": [
    {
     "name": "stdout",
     "output_type": "stream",
     "text": [
      "7\n"
     ]
    }
   ],
   "source": [
    "# 3. lambda 람다 함수\n",
    "\n",
    "add = lambda a,b: a+b #<- 람다함수 자체에 변수설정, 연산 리턴까지 포함됨\n",
    "\n",
    "'''\n",
    "=\n",
    "def add(a,b):\n",
    "    return (a+b)\n",
    "\n",
    "'''\n",
    "\n",
    "\n",
    "result = add(3,4)\n",
    "print(result)"
   ]
  },
  {
   "cell_type": "code",
   "execution_count": 98,
   "id": "40577abc",
   "metadata": {},
   "outputs": [
    {
     "name": "stdout",
     "output_type": "stream",
     "text": [
      "7\n"
     ]
    }
   ],
   "source": [
    "def add(a,b):\n",
    "    return (a+b)\n",
    "\n",
    "result = add(3,4)\n",
    "print(result)"
   ]
  },
  {
   "cell_type": "markdown",
   "id": "428f00b7",
   "metadata": {},
   "source": [
    "### 미션"
   ]
  },
  {
   "cell_type": "code",
   "execution_count": 103,
   "id": "59b64286",
   "metadata": {
    "scrolled": true
   },
   "outputs": [
    {
     "name": "stdout",
     "output_type": "stream",
     "text": [
      "\n",
      "==========영화 목록==========\n",
      "Dark Knight\n",
      "Harry Porter\n",
      "Parasite\n",
      "Matrix\n",
      "La La Land\n",
      "============================\n",
      "예매하실 영화를 입력해주세요: Iron man\n",
      "\n",
      "예매할 수 없는 영화입니다\n",
      "예매하실 영화를 다시 선택해주세요: Dark Knight\n",
      "Dark Knight를 선택하셨습니다.\n"
     ]
    }
   ],
   "source": [
    "movies = ['Dark Knight','Harry Porter','Parasite','Matrix','La La Land']\n",
    "\n",
    "print()\n",
    "print('==========영화 목록==========')\n",
    "for movie in movies:\n",
    "    print(movie,end=\"\\n\")\n",
    "print('============================')\n",
    "\n",
    "choice = input('예매하실 영화를 입력해주세요: ')\n",
    "\n",
    "while choice not in movies:\n",
    "    print()\n",
    "    print('예매할 수 없는 영화입니다')\n",
    "    choice = input('예매하실 영화를 다시 선택해주세요: ')\n",
    "    \n",
    "print('%s를 선택하셨습니다.' %choice)\n"
   ]
  },
  {
   "cell_type": "code",
   "execution_count": 140,
   "id": "3dd58c7c",
   "metadata": {},
   "outputs": [
    {
     "name": "stdout",
     "output_type": "stream",
     "text": [
      "관람 인원 수를 입력해주세요: -10\n",
      "관람 인원 수는 양수만 가능합니다.\n",
      "관람 인원 수는 정수만 가능합니다\n",
      "관람 인원 수를 입력해주세요: -2\n",
      "관람 인원 수는 양수만 가능합니다.\n",
      "관람 인원 수는 정수만 가능합니다\n",
      "관람 인원 수를 입력해주세요: 0\n",
      "관람 인원 수는 양수만 가능합니다.\n",
      "관람 인원 수는 정수만 가능합니다\n",
      "관람 인원 수를 입력해주세요: 3\n",
      "\n",
      "관람할 인원 수는 3명입니다.\n"
     ]
    }
   ],
   "source": [
    "check = False\n",
    "while(not(check)):\n",
    "    people = int(input('관람 인원 수를 입력해주세요: '))\n",
    "    if not people > 0:\n",
    "        print('관람 인원 수는 양수만 가능합니다.')\n",
    "    else:\n",
    "        break\n",
    "    print('관람 인원 수는 정수만 가능합니다')\n",
    "print()\n",
    "print('관람할 인원 수는 %s명입니다.' % people)\n",
    "            "
   ]
  },
  {
   "cell_type": "code",
   "execution_count": 145,
   "id": "144c49c8",
   "metadata": {},
   "outputs": [
    {
     "name": "stdout",
     "output_type": "stream",
     "text": [
      "관람 인원 수를 입력해주세요: -10\n",
      "관람 인원 수는 양수만 가능합니다.\n",
      "관람 인원 수를 입력해주세요: -3.4\n",
      "관람 인원 수는 정수만 가능합니다\n",
      "관람 인원 수를 입력해주세요: 2\n",
      "\n",
      "관람할 인원 수는 2명입니다.\n"
     ]
    }
   ],
   "source": [
    "#교수님과 함께하는 예외처리\n",
    "\n",
    "check = False\n",
    "while(not(check)):\n",
    "    try:\n",
    "        people = int(input('관람 인원 수를 입력해주세요: '))\n",
    "        if not people > 0:\n",
    "            print('관람 인원 수는 양수만 가능합니다.')\n",
    "        else:\n",
    "            break\n",
    "            \n",
    "    except ValueError:        \n",
    "        print('관람 인원 수는 정수만 가능합니다')\n",
    "print()\n",
    "print('관람할 인원 수는 %s명입니다.' % people)\n"
   ]
  },
  {
   "cell_type": "code",
   "execution_count": 142,
   "id": "c7409b7a",
   "metadata": {},
   "outputs": [
    {
     "name": "stdout",
     "output_type": "stream",
     "text": [
      "할인권을 사용하시려면 y, 금액 확인으로 넘어가시려면 n을 입력해주세요: ㅓ\n",
      "잘못된 입력입니다. 할인권을 사용하시려면 y, 금액 확인으로 넘어가시려면 n을 입력해주세요: y\n",
      "쿠폰 코드를 입력해주세요: WELCOME\n",
      "한 사람 당 2000원 할인됩니다.\n"
     ]
    }
   ],
   "source": [
    "coupon_dic = {'WELCOME':2000,'VALENTINE':3000,'CHRISTMAS':4000,'INDEPENDENCE':5000}\n",
    "process = True\n",
    "\n",
    "usage = input('할인권을 사용하시려면 y, 금액 확인으로 넘어가시려면 n을 입력해주세요: ')\n",
    "\n",
    "while process:\n",
    "    if usage == 'y':\n",
    "        coupon = input('쿠폰 코드를 입력해주세요: ')\n",
    "        if coupon in coupon_dic:\n",
    "            sale = coupon_dic.get(coupon)\n",
    "            print('한 사람 당 %d원 할인됩니다.' %sale)\n",
    "            break\n",
    "        else:\n",
    "            print('존재하지 않는 쿠폰 코드입니다.')\n",
    "            usage = input('다른 쿠폰 코드를 입력하려면 y, 아니면 n를 입력해주세요: ')\n",
    "    elif usage == 'n':\n",
    "        sale = 0\n",
    "        print('할인권을 사용하지 않았습니다.')\n",
    "        break\n",
    "    else:\n",
    "        usage = input('잘못된 입력입니다. 할인권을 사용하시려면 y, 금액 확인으로 넘어가시려면 n을 입력해주세요: ')\n",
    "    \n",
    "            "
   ]
  },
  {
   "cell_type": "code",
   "execution_count": 137,
   "id": "2f57ea49",
   "metadata": {},
   "outputs": [
    {
     "name": "stdout",
     "output_type": "stream",
     "text": [
      "\n",
      "          <예매 상세 내역>          \n",
      "==============================\n",
      "  예매 영화: La La Land\n",
      "  관람 인원 : 5\n",
      "  합산 금액: 60000\n",
      "  할인 금액: 20000\n",
      "  -------------------------   \n",
      "  실 결제액을 출력합니다: 40000\n",
      "==============================\n"
     ]
    }
   ],
   "source": [
    "choice = \"La La Land\"\n",
    "people = 5\n",
    "sale = 4000\n",
    "\n",
    "origin_price = 12000 * people\n",
    "sale_price = people * sale\n",
    "total_price = origin_price - sale_price\n",
    "\n",
    "print('')\n",
    "print('{0:^30}'.format('<예매 상세 내역>'))\n",
    "print('{0:^30}'.format('=============================='))\n",
    "print(f'  예매 영화: {choice}')\n",
    "print(f'  관람 인원 : {people}')\n",
    "print('  합산 금액: %d' % origin_price)\n",
    "print('  할인 금액: %d' % sale_price)\n",
    "print('{0:^30}'.format('-------------------------'))\n",
    "print('  실 결제액을 출력합니다: %d' % total_price)\n",
    "print('{0:^30}'.format('=============================='))"
   ]
  },
  {
   "cell_type": "code",
   "execution_count": 163,
   "id": "5448a304",
   "metadata": {
    "scrolled": true
   },
   "outputs": [
    {
     "name": "stdout",
     "output_type": "stream",
     "text": [
      "\n",
      "       ==========영화 목록==========        \n",
      "\n",
      "              Dark Knight               \n",
      "\n",
      "              Harry Porter              \n",
      "\n",
      "                Parasite                \n",
      "\n",
      "                 Matrix                 \n",
      "\n",
      "               La La Land               \n",
      "      ============================      \n",
      "예매하실 영화를 입력해주세요: Matrix\n",
      "\n",
      "Matrix를 선택하셨습니다.\n",
      "관람 인원 수를 입력해주세요: 3\n",
      "\n",
      "관람할 인원 수는 3명입니다.\n",
      "\n",
      "할인권을 사용하시려면 y, 금액 확인으로 넘어가시려면 n을 입력해주세요: n\n",
      "할인권을 사용하지 않았습니다.\n",
      "\n",
      "          <예매 상세 내역>          \n",
      "==============================\n",
      "  예매 영화: Matrix\n",
      "  관람 인원 : 3\n",
      "  합산 금액: 36000\n",
      "  할인 금액: 0\n",
      "  -------------------------   \n",
      "  실 결제액을 출력합니다: 36000\n",
      "==============================\n",
      "예매 상세 내역을 확인해주세요. 맞으면 y, 틀리면 n을 입력해주세요: n\n",
      "다시 예매해주세요.\n",
      "\n",
      "예매가 종료되었습니다. 시작 화면으로 돌아갑니다.\n"
     ]
    }
   ],
   "source": [
    "customer_check = 'none'\n",
    "\n",
    "while customer_check == 'none':\n",
    "    movies = ['Dark Knight','Harry Porter','Parasite','Matrix','La La Land']\n",
    "\n",
    "    print()\n",
    "    print('{0:^40}'.format('==========영화 목록=========='))\n",
    "    for movie in movies:\n",
    "        formatted = print('')\n",
    "        print('{0:^40}'.format(movie),end=\"\\n\")\n",
    "    print('{0:^40}'.format('============================'))\n",
    "\n",
    "    choice = input('예매하실 영화를 입력해주세요: ')\n",
    "\n",
    "    while choice not in movies:\n",
    "        print()\n",
    "        print('예매할 수 없는 영화입니다')\n",
    "        choice = input('예매하실 영화를 다시 선택해주세요: ')\n",
    "    print()\n",
    "    print('%s를 선택하셨습니다.' %choice)\n",
    "\n",
    "    check = False\n",
    "    while(not(check)):\n",
    "        try:\n",
    "            people = int(input('관람 인원 수를 입력해주세요: '))\n",
    "            if not people > 0:\n",
    "                print('관람 인원 수는 양수만 가능합니다.')\n",
    "            else:\n",
    "                break\n",
    "\n",
    "        except ValueError:        \n",
    "            print('관람 인원 수는 정수만 가능합니다')\n",
    "    print()\n",
    "    print('관람할 인원 수는 %s명입니다.' % people)\n",
    "    print()\n",
    "\n",
    "    coupon_dic = {'WELCOME':2000,'VALENTINE':3000,'CHRISTMAS':4000,'INDEPENDENCE':5000}\n",
    "    process = True\n",
    "\n",
    "    usage = input('할인권을 사용하시려면 y, 금액 확인으로 넘어가시려면 n을 입력해주세요: ')\n",
    "\n",
    "    while process:\n",
    "        if usage == 'y':\n",
    "            coupon = input('쿠폰 코드를 입력해주세요: ')\n",
    "            if coupon in coupon_dic:\n",
    "                sale = coupon_dic.get(coupon)\n",
    "                print('한 사람 당 %d원 할인됩니다.' %sale)\n",
    "                process = False\n",
    "            else:\n",
    "                print('존재하지 않는 쿠폰 코드입니다.')\n",
    "                usage = input('다른 쿠폰 코드를 입력하려면 y, 아니면 n를 입력해주세요: ')\n",
    "                process = False\n",
    "        elif usage == 'n':\n",
    "            sale = 0\n",
    "            print('할인권을 사용하지 않았습니다.')\n",
    "            process = False\n",
    "        else:\n",
    "            usage = input('잘못된 입력입니다. 할인권을 사용하시려면 y, 금액 확인으로 넘어가시려면 n을 입력해주세요: ')\n",
    "\n",
    "\n",
    "    origin_price = 12000 * people\n",
    "    sale_price = people * sale\n",
    "    total_price = origin_price - sale_price\n",
    "\n",
    "    print('')\n",
    "    print('{0:^30}'.format('<예매 상세 내역>'))\n",
    "    print('{0:^30}'.format('=============================='))\n",
    "    print(f'  예매 영화: {choice}')\n",
    "    print(f'  관람 인원 : {people}')\n",
    "    print('  합산 금액: %d' % origin_price)\n",
    "    print('  할인 금액: %d' % sale_price)\n",
    "    print('{0:^30}'.format('-------------------------'))\n",
    "    print('  실 결제액을 출력합니다: %d' % total_price)\n",
    "    print('{0:^30}'.format('=============================='))            \n",
    "    \n",
    "    checking = True\n",
    "    customer_check = input('예매 상세 내역을 확인해주세요. 맞으면 y, 틀리면 n을 입력해주세요: ')\n",
    "\n",
    "    while checking :\n",
    "        if customer_check == 'n':\n",
    "            print('다시 예매해주세요.')\n",
    "            break\n",
    "        elif customer_check == 'y':\n",
    "            print()\n",
    "            print('티켓이 출력됩니다. 즐거운 관람 되세요')\n",
    "            break \n",
    "        else:\n",
    "            input('예매 상세 내역이 맞으면 y, 틀리면 n를 입력해주세요: ')\n",
    "\n",
    "print()\n",
    "print('예매가 종료되었습니다. 시작 화면으로 돌아갑니다.')"
   ]
  },
  {
   "cell_type": "code",
   "execution_count": null,
   "id": "574400ef",
   "metadata": {},
   "outputs": [],
   "source": []
  },
  {
   "cell_type": "code",
   "execution_count": null,
   "id": "d9aa247d",
   "metadata": {},
   "outputs": [],
   "source": []
  },
  {
   "cell_type": "code",
   "execution_count": null,
   "id": "6b430408",
   "metadata": {},
   "outputs": [],
   "source": []
  },
  {
   "cell_type": "code",
   "execution_count": null,
   "id": "5ba1f0f9",
   "metadata": {},
   "outputs": [],
   "source": []
  },
  {
   "cell_type": "code",
   "execution_count": null,
   "id": "bfc60ec5",
   "metadata": {},
   "outputs": [],
   "source": []
  }
 ],
 "metadata": {
  "kernelspec": {
   "display_name": "Python 3 (ipykernel)",
   "language": "python",
   "name": "python3"
  },
  "language_info": {
   "codemirror_mode": {
    "name": "ipython",
    "version": 3
   },
   "file_extension": ".py",
   "mimetype": "text/x-python",
   "name": "python",
   "nbconvert_exporter": "python",
   "pygments_lexer": "ipython3",
   "version": "3.11.5"
  }
 },
 "nbformat": 4,
 "nbformat_minor": 5
}
