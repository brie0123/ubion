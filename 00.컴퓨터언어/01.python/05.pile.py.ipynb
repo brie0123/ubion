{
 "cells": [
  {
   "cell_type": "markdown",
   "metadata": {},
   "source": [
    "# 11월 6일"
   ]
  },
  {
   "cell_type": "markdown",
   "metadata": {},
   "source": [
    "### 파일 생성"
   ]
  },
  {
   "cell_type": "code",
   "execution_count": 38,
   "metadata": {},
   "outputs": [],
   "source": [
    "# ctrl + shift + p : 사용할 수 있는 모든 명령어 목록 열기\n",
    "\n",
    "\n",
    "# 파일 경로 설정 -> 상대경로\n",
    "f = open(\"./new_file_02.txt\",\"w\")  # <- ./의 의미 : 현재 폴더와 같은 위치\n",
    "f.close()"
   ]
  },
  {
   "cell_type": "code",
   "execution_count": 39,
   "metadata": {},
   "outputs": [],
   "source": [
    "f = open(\"../../00.컴퓨터언어/test_file.txt\",\"w\")  # <- ../의 의미 : 현재 폴더보다 상위 위치\n",
    "f.close()"
   ]
  },
  {
   "cell_type": "markdown",
   "metadata": {},
   "source": [
    "상대경로 연습"
   ]
  },
  {
   "cell_type": "code",
   "execution_count": 40,
   "metadata": {},
   "outputs": [],
   "source": [
    "# -> 현재 폴더 a.txt\n",
    "\n",
    "f = open(\"./a.txt\",\"w\")\n",
    "f.close()"
   ]
  },
  {
   "cell_type": "code",
   "execution_count": 41,
   "metadata": {},
   "outputs": [],
   "source": [
    "# -> 현재폴더/사과/b.txt\n",
    "\n",
    "f = open(\"./사과/b.txt\",\"w\")\n",
    "f.close()"
   ]
  },
  {
   "cell_type": "code",
   "execution_count": 42,
   "metadata": {},
   "outputs": [],
   "source": [
    "# -> 이전폴더/바나나/c.txt\n",
    "\n",
    "f = open(\"../바나나/c.txt\",\"w\")\n",
    "f.close()"
   ]
  },
  {
   "cell_type": "code",
   "execution_count": 43,
   "metadata": {},
   "outputs": [],
   "source": [
    "#절대경로 -> 파일 경로 복사해서 붙이면 됨^^\n",
    "f = open(\"/Users/brielle/Desktop/Career/02.Side Project/00.In Progress/01.Ubion/03.Offline/00.컴퓨터언어/01.python/사과/bb.txt\",\"w\")\n",
    "f.close()"
   ]
  },
  {
   "cell_type": "code",
   "execution_count": 44,
   "metadata": {},
   "outputs": [],
   "source": [
    "f = open(\"/Users/brielle/Desktop/Career/02.Side Project/00.In Progress/01.Ubion/03.Offline/00.컴퓨터언어/01.python/사과/bbb.txt\",\"w\")\n",
    "f.close()"
   ]
  },
  {
   "cell_type": "markdown",
   "metadata": {},
   "source": [
    " ### 파일 쓰기"
   ]
  },
  {
   "cell_type": "code",
   "execution_count": 58,
   "metadata": {},
   "outputs": [],
   "source": [
    "#파일 생성 후 쓰기\n",
    "\n",
    "f = open(\"새파일.txt\",\"w\")\n",
    "for i in range(1,11):\n",
    "    data = '%d번째 줄입니다.\\n' %i\n",
    "    f.write(data)\n",
    "f.close()"
   ]
  },
  {
   "cell_type": "code",
   "execution_count": 59,
   "metadata": {},
   "outputs": [
    {
     "name": "stdout",
     "output_type": "stream",
     "text": [
      "1번째 줄입니다.\n",
      "\n",
      "2번째 줄입니다.\n",
      "\n",
      "3번째 줄입니다.\n",
      "\n",
      "4번째 줄입니다.\n",
      "\n",
      "5번째 줄입니다.\n",
      "\n",
      "6번째 줄입니다.\n",
      "\n",
      "7번째 줄입니다.\n",
      "\n",
      "8번째 줄입니다.\n",
      "\n",
      "9번째 줄입니다.\n",
      "\n",
      "10번째 줄입니다.\n",
      "\n"
     ]
    }
   ],
   "source": [
    "# .readline() : 파일 내용 읽기\n",
    "\n",
    "f = open(\"새파일.txt\",\"r\")\n",
    "while True:\n",
    "    line = f.readline()\n",
    "    if not line: break\n",
    "    print(line)\n",
    "f.close()\n"
   ]
  },
  {
   "cell_type": "code",
   "execution_count": 47,
   "metadata": {},
   "outputs": [
    {
     "ename": "UnsupportedOperation",
     "evalue": "not readable",
     "output_type": "error",
     "traceback": [
      "\u001b[0;31m---------------------------------------------------------------------------\u001b[0m",
      "\u001b[0;31mUnsupportedOperation\u001b[0m                      Traceback (most recent call last)",
      "\u001b[1;32m/Users/brielle/Desktop/Career/02.Side Project/00.In Progress/01.Ubion/03.Offline/00.컴퓨터언어/01.python/05.pile.py.ipynb 셀 14\u001b[0m line \u001b[0;36m5\n\u001b[1;32m      <a href='vscode-notebook-cell:/Users/brielle/Desktop/Career/02.Side%20Project/00.In%20Progress/01.Ubion/03.Offline/00.%EC%BB%B4%ED%93%A8%ED%84%B0%EC%96%B8%EC%96%B4/01.python/05.pile.py.ipynb#X20sZmlsZQ%3D%3D?line=2'>3</a>\u001b[0m f \u001b[39m=\u001b[39m \u001b[39mopen\u001b[39m(\u001b[39m\"\u001b[39m\u001b[39m새파일.txt\u001b[39m\u001b[39m\"\u001b[39m,\u001b[39m\"\u001b[39m\u001b[39mw\u001b[39m\u001b[39m\"\u001b[39m)  \u001b[39m# <- 새파일을 'w'타입으로 열었기 때문에 작성만 가능함\u001b[39;00m\n\u001b[1;32m      <a href='vscode-notebook-cell:/Users/brielle/Desktop/Career/02.Side%20Project/00.In%20Progress/01.Ubion/03.Offline/00.%EC%BB%B4%ED%93%A8%ED%84%B0%EC%96%B8%EC%96%B4/01.python/05.pile.py.ipynb#X20sZmlsZQ%3D%3D?line=3'>4</a>\u001b[0m \u001b[39mwhile\u001b[39;00m \u001b[39mTrue\u001b[39;00m:\n\u001b[0;32m----> <a href='vscode-notebook-cell:/Users/brielle/Desktop/Career/02.Side%20Project/00.In%20Progress/01.Ubion/03.Offline/00.%EC%BB%B4%ED%93%A8%ED%84%B0%EC%96%B8%EC%96%B4/01.python/05.pile.py.ipynb#X20sZmlsZQ%3D%3D?line=4'>5</a>\u001b[0m     line \u001b[39m=\u001b[39m f\u001b[39m.\u001b[39mreadline()   \u001b[39m# <- 작성 버전인데 readline을 시켜서 충돌\u001b[39;00m\n\u001b[1;32m      <a href='vscode-notebook-cell:/Users/brielle/Desktop/Career/02.Side%20Project/00.In%20Progress/01.Ubion/03.Offline/00.%EC%BB%B4%ED%93%A8%ED%84%B0%EC%96%B8%EC%96%B4/01.python/05.pile.py.ipynb#X20sZmlsZQ%3D%3D?line=5'>6</a>\u001b[0m     \u001b[39mif\u001b[39;00m \u001b[39mnot\u001b[39;00m line: \u001b[39mbreak\u001b[39;00m\n\u001b[1;32m      <a href='vscode-notebook-cell:/Users/brielle/Desktop/Career/02.Side%20Project/00.In%20Progress/01.Ubion/03.Offline/00.%EC%BB%B4%ED%93%A8%ED%84%B0%EC%96%B8%EC%96%B4/01.python/05.pile.py.ipynb#X20sZmlsZQ%3D%3D?line=6'>7</a>\u001b[0m     \u001b[39mprint\u001b[39m(line)\n",
      "\u001b[0;31mUnsupportedOperation\u001b[0m: not readable"
     ]
    }
   ],
   "source": [
    "# 파일 유형(?)에 따른 오류\n",
    "\n",
    "f = open(\"새파일.txt\",\"w\")  # <- 새파일을 'w'타입으로 열었기 때문에 작성만 가능함\n",
    "while True:\n",
    "    line = f.readline()   # <- 작성 버전인데 readline을 시켜서 충돌\n",
    "    if not line: break\n",
    "    print(line)\n",
    "f.close()\n"
   ]
  },
  {
   "cell_type": "code",
   "execution_count": 60,
   "metadata": {},
   "outputs": [
    {
     "name": "stdout",
     "output_type": "stream",
     "text": [
      "1번째 줄입니다.\n",
      "2번째 줄입니다.\n",
      "3번째 줄입니다.\n",
      "4번째 줄입니다.\n",
      "5번째 줄입니다.\n",
      "6번째 줄입니다.\n",
      "7번째 줄입니다.\n",
      "8번째 줄입니다.\n",
      "9번째 줄입니다.\n",
      "10번째 줄입니다.\n"
     ]
    }
   ],
   "source": [
    "f = open(\"새파일.txt\",\"r\")\n",
    "lines = f.readlines()\n",
    "for line in lines:\n",
    "    line = line.strip()\n",
    "    print(line)\n",
    "f.close()"
   ]
  },
  {
   "cell_type": "code",
   "execution_count": 61,
   "metadata": {},
   "outputs": [
    {
     "name": "stdout",
     "output_type": "stream",
     "text": [
      "1번째 줄입니다.\n",
      "2번째 줄입니다.\n",
      "3번째 줄입니다.\n",
      "4번째 줄입니다.\n",
      "5번째 줄입니다.\n",
      "6번째 줄입니다.\n",
      "7번째 줄입니다.\n",
      "8번째 줄입니다.\n",
      "9번째 줄입니다.\n",
      "10번째 줄입니다.\n",
      "\n"
     ]
    }
   ],
   "source": [
    "f = open(\"새파일.txt\",\"r\")\n",
    "data = f.read()\n",
    "print(data)\n",
    "f.close()"
   ]
  },
  {
   "cell_type": "code",
   "execution_count": 62,
   "metadata": {},
   "outputs": [
    {
     "name": "stdout",
     "output_type": "stream",
     "text": [
      "1번째 줄입니다.\n",
      "\n",
      "2번째 줄입니다.\n",
      "\n",
      "3번째 줄입니다.\n",
      "\n",
      "4번째 줄입니다.\n",
      "\n",
      "5번째 줄입니다.\n",
      "\n",
      "6번째 줄입니다.\n",
      "\n",
      "7번째 줄입니다.\n",
      "\n",
      "8번째 줄입니다.\n",
      "\n",
      "9번째 줄입니다.\n",
      "\n",
      "10번째 줄입니다.\n",
      "\n"
     ]
    }
   ],
   "source": [
    "f = open(\"새파일.txt\",\"r\")\n",
    "for line in f:\n",
    "    print(line)\n",
    "f.close()"
   ]
  },
  {
   "cell_type": "markdown",
   "metadata": {},
   "source": [
    "### 파일 수정하기"
   ]
  },
  {
   "cell_type": "code",
   "execution_count": 63,
   "metadata": {},
   "outputs": [],
   "source": [
    "# 'a' : 파일 수정\n",
    "f = open(\"새파일.txt\",'a')\n",
    "for i in range(11,20):\n",
    "    data = \"%d번째 줄입니다.\\n\" % i\n",
    "    f.write(data)\n",
    "f.close()"
   ]
  },
  {
   "cell_type": "code",
   "execution_count": 68,
   "metadata": {},
   "outputs": [],
   "source": [
    "f = open(\"foo.txt\",\"w\")\n",
    "f.write(\"Life is to short, you need python\")\n",
    "f.close()"
   ]
  },
  {
   "cell_type": "markdown",
   "metadata": {},
   "source": [
    "##### with 문과 함께 사용해서 파일 수정하기"
   ]
  },
  {
   "cell_type": "code",
   "execution_count": 67,
   "metadata": {},
   "outputs": [],
   "source": [
    "#오픈하고 대기 상태\n",
    "\n",
    "with open(\"foo.txt\",\"w\") as f:\n",
    "    f.write(\"Life is too short, you need python\")"
   ]
  }
 ],
 "metadata": {
  "kernelspec": {
   "display_name": "base",
   "language": "python",
   "name": "python3"
  },
  "language_info": {
   "codemirror_mode": {
    "name": "ipython",
    "version": 3
   },
   "file_extension": ".py",
   "mimetype": "text/x-python",
   "name": "python",
   "nbconvert_exporter": "python",
   "pygments_lexer": "ipython3",
   "version": "3.11.5"
  }
 },
 "nbformat": 4,
 "nbformat_minor": 2
}
