{
 "cells": [
  {
   "cell_type": "markdown",
   "metadata": {},
   "source": [
    "# 클래스"
   ]
  },
  {
   "cell_type": "markdown",
   "metadata": {},
   "source": [
    "### 기본 구조:\n",
    "class + 선언할클래스이름"
   ]
  },
  {
   "cell_type": "code",
   "execution_count": 1,
   "metadata": {},
   "outputs": [],
   "source": [
    "class Cookie:\n",
    "    pass"
   ]
  },
  {
   "cell_type": "code",
   "execution_count": 2,
   "metadata": {},
   "outputs": [],
   "source": [
    "a = Cookie()\n",
    "b = Cookie()"
   ]
  },
  {
   "cell_type": "code",
   "execution_count": 4,
   "metadata": {},
   "outputs": [
    {
     "name": "stdout",
     "output_type": "stream",
     "text": [
      "3\n",
      "7\n",
      "3\n",
      "10\n"
     ]
    }
   ],
   "source": [
    "# 클래스 선언 후 활용하기\n",
    "\n",
    "\n",
    "class Calculator:\n",
    "    def __init__(self): # __무언가__ : 내장함수, 특히 __init__이라는 함수는 클래스의 초기 세팅값을 잡아준다\n",
    "        self.result = 0\n",
    "    \n",
    "    def add(self,num):\n",
    "        self.result += num\n",
    "        return self.result\n",
    "\n",
    "cal1 = Calculator()\n",
    "cal2 = Calculator()\n",
    "\n",
    "print(cal1.add(3))  # <- cal1이라는 메모리를 지정해서 .add함수 호출하기\n",
    "print(cal1.add(4))\n",
    "print(cal2.add(3))\n",
    "print(cal2.add(7))\n",
    "\n"
   ]
  },
  {
   "cell_type": "code",
   "execution_count": 5,
   "metadata": {},
   "outputs": [
    {
     "name": "stdout",
     "output_type": "stream",
     "text": [
      "-1\n"
     ]
    }
   ],
   "source": [
    "class Calculator:\n",
    "    def __init__(self): # <-self:객체명 \n",
    "        self.result = 0\n",
    "    \n",
    "    def add(self,num):\n",
    "        self.result += num\n",
    "        return self.result\n",
    "    \n",
    "    def sub(self,num):\n",
    "        self.result -= num\n",
    "        return self.result\n",
    "\n",
    "cal3 = Calculator()\n",
    "print(cal3.sub(1))"
   ]
  },
  {
   "cell_type": "markdown",
   "metadata": {},
   "source": [
    "##### self의 이해"
   ]
  },
  {
   "cell_type": "code",
   "execution_count": 49,
   "metadata": {},
   "outputs": [],
   "source": [
    "# self = 그냥 변수인데 이름을 self로 지정함으로서 클래스를 활용하는(?) 변수 자기자신을 클래스 안에서도 변수로 활동할 수 있게 만든다.\n",
    "# 클래스가 수정되면 클래스를 호출해서 사용한 모든 다른 친구들도 다시 선언해줘야된다\n",
    "\n",
    "class FourCal:\n",
    "    def setdata(self,first,second):\n",
    "        self.first = first\n",
    "        self.second = second\n",
    "        \n",
    "    def add(self):\n",
    "        result = self.first + self.second\n",
    "        return result\n",
    "    \n",
    "    def sub(self):\n",
    "        result = self.first - self.second\n",
    "        return result\n",
    "    \n",
    "    def mul(self):\n",
    "        result = self.first * self.second\n",
    "        return result\n",
    "    \n",
    "    def div(self):\n",
    "        result = self.first / self.second\n",
    "        return result"
   ]
  },
  {
   "cell_type": "code",
   "execution_count": 50,
   "metadata": {},
   "outputs": [
    {
     "name": "stdout",
     "output_type": "stream",
     "text": [
      "<__main__.FourCal object at 0x116cd4610>\n"
     ]
    }
   ],
   "source": [
    "# a 변수에 클래스를 이용해 데이터를 입력하는 방법 1\n",
    "\n",
    "FourCal.setdata(a,4,5) # <- 함수 부르면서 변수로 지정할 애 이름 'a' 넣어줌\n",
    "a\n",
    "print(a)"
   ]
  },
  {
   "cell_type": "code",
   "execution_count": 51,
   "metadata": {},
   "outputs": [
    {
     "data": {
      "text/plain": [
       "(4, 5)"
      ]
     },
     "execution_count": 51,
     "metadata": {},
     "output_type": "execute_result"
    }
   ],
   "source": [
    "# a 변수에 클래스를 이용해 데이터를 입력하는 방법 2\n",
    "# self 생략 객체 지정 예시 1\n",
    "a = FourCal() # <- 객체 a 선언 했음\n",
    "a.setdata(4,5) # <- 객체 변수 self 생략 가능\n",
    "a.first, a.second"
   ]
  },
  {
   "cell_type": "code",
   "execution_count": 52,
   "metadata": {},
   "outputs": [
    {
     "data": {
      "text/plain": [
       "(1, 2)"
      ]
     },
     "execution_count": 52,
     "metadata": {},
     "output_type": "execute_result"
    }
   ],
   "source": [
    "# self 생략 객체 지정 예시 2\n",
    "\n",
    "b = FourCal()\n",
    "b.setdata(1,2)\n",
    "b.first,b.second"
   ]
  },
  {
   "cell_type": "code",
   "execution_count": 47,
   "metadata": {},
   "outputs": [
    {
     "name": "stdout",
     "output_type": "stream",
     "text": [
      "9\n",
      "-1\n",
      "20\n",
      "0.8\n"
     ]
    }
   ],
   "source": [
    "print(a.add())\n",
    "print(a.sub())\n",
    "print(a.mul())\n",
    "print(a.div())"
   ]
  },
  {
   "cell_type": "code",
   "execution_count": 48,
   "metadata": {},
   "outputs": [
    {
     "name": "stdout",
     "output_type": "stream",
     "text": [
      "3\n",
      "-1\n",
      "2\n",
      "0.5\n"
     ]
    }
   ],
   "source": [
    "print(b.add())\n",
    "print(b.sub())\n",
    "print(b.mul())\n",
    "print(b.div())"
   ]
  },
  {
   "cell_type": "markdown",
   "metadata": {},
   "source": [
    "#### 생성자 __init__"
   ]
  },
  {
   "cell_type": "code",
   "execution_count": 59,
   "metadata": {},
   "outputs": [],
   "source": [
    "class FourCal:\n",
    "    \n",
    "    def setdata(self,first,second):\n",
    "        self.first = first\n",
    "        self.second = second\n",
    "        \n",
    "    def add(self):\n",
    "        result = self.first + self.second\n",
    "        return result\n",
    "    \n",
    "    def sub(self):\n",
    "        result = self.first - self.second\n",
    "        return result\n",
    "    \n",
    "    def mul(self):\n",
    "        result = self.first * self.second\n",
    "        return result\n",
    "    \n",
    "    def div(self):\n",
    "        result = self.first / self.second\n",
    "        return result"
   ]
  },
  {
   "cell_type": "code",
   "execution_count": 60,
   "metadata": {},
   "outputs": [
    {
     "ename": "TypeError",
     "evalue": "FourCal() takes no arguments",
     "output_type": "error",
     "traceback": [
      "\u001b[0;31m---------------------------------------------------------------------------\u001b[0m",
      "\u001b[0;31mTypeError\u001b[0m                                 Traceback (most recent call last)",
      "\u001b[1;32m/Users/brielle/Desktop/Career/02.Side Project/00.In Progress/01.Ubion/03.Offline/00.컴퓨터언어/01.python/07.클래스.ipynb 셀 16\u001b[0m line \u001b[0;36m3\n\u001b[1;32m      <a href='vscode-notebook-cell:/Users/brielle/Desktop/Career/02.Side%20Project/00.In%20Progress/01.Ubion/03.Offline/00.%EC%BB%B4%ED%93%A8%ED%84%B0%EC%96%B8%EC%96%B4/01.python/07.%ED%81%B4%EB%9E%98%EC%8A%A4.ipynb#X40sZmlsZQ%3D%3D?line=0'>1</a>\u001b[0m \u001b[39m# 생성자가 없는 경우\u001b[39;00m\n\u001b[0;32m----> <a href='vscode-notebook-cell:/Users/brielle/Desktop/Career/02.Side%20Project/00.In%20Progress/01.Ubion/03.Offline/00.%EC%BB%B4%ED%93%A8%ED%84%B0%EC%96%B8%EC%96%B4/01.python/07.%ED%81%B4%EB%9E%98%EC%8A%A4.ipynb#X40sZmlsZQ%3D%3D?line=2'>3</a>\u001b[0m a \u001b[39m=\u001b[39m FourCal(\u001b[39m3\u001b[39m,\u001b[39m4\u001b[39m)\n\u001b[1;32m      <a href='vscode-notebook-cell:/Users/brielle/Desktop/Career/02.Side%20Project/00.In%20Progress/01.Ubion/03.Offline/00.%EC%BB%B4%ED%93%A8%ED%84%B0%EC%96%B8%EC%96%B4/01.python/07.%ED%81%B4%EB%9E%98%EC%8A%A4.ipynb#X40sZmlsZQ%3D%3D?line=3'>4</a>\u001b[0m a\u001b[39m.\u001b[39madd()\n",
      "\u001b[0;31mTypeError\u001b[0m: FourCal() takes no arguments"
     ]
    }
   ],
   "source": [
    "# 생성자가 없는 경우\n",
    "\n",
    "a = FourCal(3,4)\n",
    "a.add()"
   ]
  },
  {
   "cell_type": "code",
   "execution_count": 61,
   "metadata": {},
   "outputs": [],
   "source": [
    "class FourCal:\n",
    "    def __init__(self,first,second):  # __init__ <- 생성자\n",
    "        self.first = first\n",
    "        self.second = second\n",
    "    \n",
    "    def setdata(self,first,second):\n",
    "        self.first = first\n",
    "        self.second = second\n",
    "        \n",
    "    def add(self):\n",
    "        result = self.first + self.second\n",
    "        return result\n",
    "    \n",
    "    def sub(self):\n",
    "        result = self.first - self.second\n",
    "        return result\n",
    "    \n",
    "    def mul(self):\n",
    "        result = self.first * self.second\n",
    "        return result\n",
    "    \n",
    "    def div(self):\n",
    "        result = self.first / self.second\n",
    "        return result"
   ]
  },
  {
   "cell_type": "code",
   "execution_count": 62,
   "metadata": {},
   "outputs": [
    {
     "data": {
      "text/plain": [
       "7"
      ]
     },
     "execution_count": 62,
     "metadata": {},
     "output_type": "execute_result"
    }
   ],
   "source": [
    "a = FourCal(3,4)\n",
    "a.add()"
   ]
  },
  {
   "cell_type": "markdown",
   "metadata": {},
   "source": [
    "### 클래스의 상속 \n",
    ": 한 클래스(== 부모 클래스)의 함수와 변수들을 다른 클래스(== 자식 클래스)에서 그대로 쓸 수 있도록 하는 방법\n",
    "\n",
    "활용 1. 특정 클래스의 기능들을 공개하지 않으면서 쓰고 싶을 때"
   ]
  },
  {
   "cell_type": "code",
   "execution_count": 68,
   "metadata": {},
   "outputs": [
    {
     "data": {
      "text/plain": [
       "6"
      ]
     },
     "execution_count": 68,
     "metadata": {},
     "output_type": "execute_result"
    }
   ],
   "source": [
    "# 클래스의 상속 기본 구조 -> class 자식클래스(부모클래스):\n",
    "\n",
    "class MoreFourCal(FourCal):\n",
    "    def pow(self):\n",
    "        result = self.first** self.second\n",
    "        return result\n",
    "\n",
    "a = MoreFourCal(4,2)\n",
    "a.add()"
   ]
  },
  {
   "cell_type": "code",
   "execution_count": 69,
   "metadata": {},
   "outputs": [
    {
     "data": {
      "text/plain": [
       "16"
      ]
     },
     "execution_count": 69,
     "metadata": {},
     "output_type": "execute_result"
    }
   ],
   "source": [
    "a.pow()"
   ]
  },
  {
   "cell_type": "markdown",
   "metadata": {},
   "source": [
    "#### 매서드 오버라이딩\n",
    "\n",
    ": 부모 클래스 안에서 선언된 함수를 자식 클래스 안에서 재선언해서 사용하는 방법"
   ]
  },
  {
   "cell_type": "code",
   "execution_count": 70,
   "metadata": {},
   "outputs": [
    {
     "ename": "ZeroDivisionError",
     "evalue": "division by zero",
     "output_type": "error",
     "traceback": [
      "\u001b[0;31m---------------------------------------------------------------------------\u001b[0m",
      "\u001b[0;31mZeroDivisionError\u001b[0m                         Traceback (most recent call last)",
      "\u001b[1;32m/Users/brielle/Desktop/Career/02.Side Project/00.In Progress/01.Ubion/03.Offline/00.컴퓨터언어/01.python/07.클래스.ipynb 셀 23\u001b[0m line \u001b[0;36m2\n\u001b[1;32m      <a href='vscode-notebook-cell:/Users/brielle/Desktop/Career/02.Side%20Project/00.In%20Progress/01.Ubion/03.Offline/00.%EC%BB%B4%ED%93%A8%ED%84%B0%EC%96%B8%EC%96%B4/01.python/07.%ED%81%B4%EB%9E%98%EC%8A%A4.ipynb#X44sZmlsZQ%3D%3D?line=0'>1</a>\u001b[0m a \u001b[39m=\u001b[39m FourCal(\u001b[39m4\u001b[39m,\u001b[39m0\u001b[39m)\n\u001b[0;32m----> <a href='vscode-notebook-cell:/Users/brielle/Desktop/Career/02.Side%20Project/00.In%20Progress/01.Ubion/03.Offline/00.%EC%BB%B4%ED%93%A8%ED%84%B0%EC%96%B8%EC%96%B4/01.python/07.%ED%81%B4%EB%9E%98%EC%8A%A4.ipynb#X44sZmlsZQ%3D%3D?line=1'>2</a>\u001b[0m a\u001b[39m.\u001b[39mdiv()\n",
      "\u001b[1;32m/Users/brielle/Desktop/Career/02.Side Project/00.In Progress/01.Ubion/03.Offline/00.컴퓨터언어/01.python/07.클래스.ipynb 셀 23\u001b[0m line \u001b[0;36m2\n\u001b[1;32m     <a href='vscode-notebook-cell:/Users/brielle/Desktop/Career/02.Side%20Project/00.In%20Progress/01.Ubion/03.Offline/00.%EC%BB%B4%ED%93%A8%ED%84%B0%EC%96%B8%EC%96%B4/01.python/07.%ED%81%B4%EB%9E%98%EC%8A%A4.ipynb#X44sZmlsZQ%3D%3D?line=21'>22</a>\u001b[0m \u001b[39mdef\u001b[39;00m \u001b[39mdiv\u001b[39m(\u001b[39mself\u001b[39m):\n\u001b[0;32m---> <a href='vscode-notebook-cell:/Users/brielle/Desktop/Career/02.Side%20Project/00.In%20Progress/01.Ubion/03.Offline/00.%EC%BB%B4%ED%93%A8%ED%84%B0%EC%96%B8%EC%96%B4/01.python/07.%ED%81%B4%EB%9E%98%EC%8A%A4.ipynb#X44sZmlsZQ%3D%3D?line=22'>23</a>\u001b[0m     result \u001b[39m=\u001b[39m \u001b[39mself\u001b[39m\u001b[39m.\u001b[39mfirst \u001b[39m/\u001b[39m \u001b[39mself\u001b[39m\u001b[39m.\u001b[39msecond\n\u001b[1;32m     <a href='vscode-notebook-cell:/Users/brielle/Desktop/Career/02.Side%20Project/00.In%20Progress/01.Ubion/03.Offline/00.%EC%BB%B4%ED%93%A8%ED%84%B0%EC%96%B8%EC%96%B4/01.python/07.%ED%81%B4%EB%9E%98%EC%8A%A4.ipynb#X44sZmlsZQ%3D%3D?line=23'>24</a>\u001b[0m     \u001b[39mreturn\u001b[39;00m result\n",
      "\u001b[0;31mZeroDivisionError\u001b[0m: division by zero"
     ]
    }
   ],
   "source": [
    "a = FourCal(4,0)  #0으로 나누기를 할 수 없기 때문에 에러가 나타남\n",
    "a.div()"
   ]
  },
  {
   "cell_type": "code",
   "execution_count": 71,
   "metadata": {},
   "outputs": [],
   "source": [
    "# 아래 코드는 SafeFourCal이라는 자식 클래스에서 FourCal이라는 부모 클래스 안에 있는 div 함수를 재선언해서 사용한다.\n",
    "\n",
    "class SafeFourCal(FourCal):\n",
    "    def div(self):\n",
    "        if self.second == 0:\n",
    "            return 0\n",
    "        else:\n",
    "            return self.first / self.second"
   ]
  },
  {
   "cell_type": "code",
   "execution_count": 72,
   "metadata": {},
   "outputs": [
    {
     "data": {
      "text/plain": [
       "0"
      ]
     },
     "execution_count": 72,
     "metadata": {},
     "output_type": "execute_result"
    }
   ],
   "source": [
    "a = SafeFourCal(4,0)\n",
    "a.div()"
   ]
  },
  {
   "cell_type": "markdown",
   "metadata": {},
   "source": [
    "#### 매서드 오버로드 -> 나중에 찾아서 읽어보기^^"
   ]
  },
  {
   "cell_type": "markdown",
   "metadata": {},
   "source": [
    "#### 클래스 변수"
   ]
  },
  {
   "cell_type": "code",
   "execution_count": 76,
   "metadata": {},
   "outputs": [],
   "source": [
    "# 클래스변수 선언 : class 클래스이름 : 변수이름 = 할당데이터값\n",
    "# -> 클래스변수를 호출하면 클래스변수에 할당한 값이 호출된다\n",
    "\n",
    "class Family:\n",
    "    lastname = \"김\"  # Family 클래스 안에 lastname이라는 변수 선언\n",
    "    "
   ]
  },
  {
   "cell_type": "code",
   "execution_count": 77,
   "metadata": {},
   "outputs": [
    {
     "data": {
      "text/plain": [
       "'김'"
      ]
     },
     "execution_count": 77,
     "metadata": {},
     "output_type": "execute_result"
    }
   ],
   "source": [
    "# 호출 구조 : 클래스이름.클래스변수이름\n",
    "Family.lastname"
   ]
  },
  {
   "cell_type": "code",
   "execution_count": 78,
   "metadata": {},
   "outputs": [
    {
     "data": {
      "text/plain": [
       "('김', '김')"
      ]
     },
     "execution_count": 78,
     "metadata": {},
     "output_type": "execute_result"
    }
   ],
   "source": [
    "a = Family()\n",
    "b = Family()\n",
    "\n",
    "a.lastname, b.lastname\n"
   ]
  },
  {
   "cell_type": "code",
   "execution_count": 79,
   "metadata": {},
   "outputs": [
    {
     "data": {
      "text/plain": [
       "('박', '박')"
      ]
     },
     "execution_count": 79,
     "metadata": {},
     "output_type": "execute_result"
    }
   ],
   "source": [
    "# 클래스변수 수정\n",
    "Family.lastname = '박'\n",
    "a.lastname, b.lastname  # <- 이 lastname 들은 Family 클래스 안에 설정된 lastname변수를 끌어다 씀"
   ]
  },
  {
   "cell_type": "code",
   "execution_count": 81,
   "metadata": {},
   "outputs": [
    {
     "data": {
      "text/plain": [
       "('최', '박')"
      ]
     },
     "execution_count": 81,
     "metadata": {},
     "output_type": "execute_result"
    }
   ],
   "source": [
    "# 클래스변수 수정 에러(?) 혹은 예외\n",
    "a.lastname = '최'  # <= 이 순간 Family 클래스 안에 a.lastname이라는 변수가 새로이 생성됨 -> a.lastname은 더 이상 Family의 lastname 변수를 끌어다쓰지 않음\n",
    "\n",
    "a.lastname, b.lastname # <= 새롭게 생성된 a.lastname과 여전히 Family클래스의 lastname변수를 끌어다쓰고 있는 b.lastname의 데이터값이 달라짐"
   ]
  },
  {
   "cell_type": "code",
   "execution_count": 82,
   "metadata": {},
   "outputs": [],
   "source": [
    "f = open('./07.클래스_미션.py',\"w\")\n",
    "f.close()"
   ]
  }
 ],
 "metadata": {
  "kernelspec": {
   "display_name": "base",
   "language": "python",
   "name": "python3"
  },
  "language_info": {
   "codemirror_mode": {
    "name": "ipython",
    "version": 3
   },
   "file_extension": ".py",
   "mimetype": "text/x-python",
   "name": "python",
   "nbconvert_exporter": "python",
   "pygments_lexer": "ipython3",
   "version": "3.11.5"
  }
 },
 "nbformat": 4,
 "nbformat_minor": 2
}
