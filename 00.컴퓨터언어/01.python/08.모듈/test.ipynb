{
 "cells": [
  {
   "cell_type": "code",
   "execution_count": 1,
   "metadata": {},
   "outputs": [
    {
     "name": "stdout",
     "output_type": "stream",
     "text": [
      "7\n",
      "2\n"
     ]
    }
   ],
   "source": [
    "#.py 확장자로 저장한 모듈 불러서 활용하기 *예전에 turtle 썼던 방법이랑 같음\n",
    "import mod1  # <- 모듈 전체를 import함\n",
    "\n",
    "print(mod1.add(3,4))\n",
    "print(mod1.sub(4,2))\n"
   ]
  },
  {
   "cell_type": "code",
   "execution_count": 3,
   "metadata": {},
   "outputs": [],
   "source": [
    "# from 구문을 써서 특정 함수만 import 해오기\n",
    "\n",
    "from mod1 import add,sub # <- mod1 모듈에서 add랑 sub 함수만 가져오기\n",
    "from mod1 import * # <- mod1 모듈에서 전체 (== *)를 가져오기"
   ]
  },
  {
   "cell_type": "markdown",
   "metadata": {},
   "source": [
    "### if name == \"main\"의 의미\n",
    ": 자주 나오는 구문 name이라는 변수가 문자열 \"main\"이랑 같다면"
   ]
  },
  {
   "cell_type": "code",
   "execution_count": 6,
   "metadata": {},
   "outputs": [],
   "source": [
    "import mod1"
   ]
  },
  {
   "cell_type": "code",
   "execution_count": null,
   "metadata": {},
   "outputs": [],
   "source": []
  },
  {
   "cell_type": "code",
   "execution_count": null,
   "metadata": {},
   "outputs": [],
   "source": []
  }
 ],
 "metadata": {
  "kernelspec": {
   "display_name": "base",
   "language": "python",
   "name": "python3"
  },
  "language_info": {
   "codemirror_mode": {
    "name": "ipython",
    "version": 3
   },
   "file_extension": ".py",
   "mimetype": "text/x-python",
   "name": "python",
   "nbconvert_exporter": "python",
   "pygments_lexer": "ipython3",
   "version": "3.11.5"
  }
 },
 "nbformat": 4,
 "nbformat_minor": 2
}
