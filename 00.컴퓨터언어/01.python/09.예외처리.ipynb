{
 "cells": [
  {
   "cell_type": "markdown",
   "metadata": {},
   "source": [
    "# 11월 7일\n"
   ]
  },
  {
   "cell_type": "markdown",
   "metadata": {},
   "source": [
    "## 모듈"
   ]
  },
  {
   "cell_type": "markdown",
   "metadata": {},
   "source": [
    "08.모듈 폴더 참고"
   ]
  },
  {
   "cell_type": "markdown",
   "metadata": {},
   "source": [
    "## 패키지 \n",
    ": 일단 건너뜀"
   ]
  },
  {
   "cell_type": "markdown",
   "metadata": {},
   "source": [
    "## 예외처리"
   ]
  },
  {
   "cell_type": "markdown",
   "metadata": {},
   "source": [
    "#### 예외의 예시들"
   ]
  },
  {
   "cell_type": "code",
   "execution_count": 1,
   "metadata": {},
   "outputs": [
    {
     "ename": "FileNotFoundError",
     "evalue": "[Errno 2] No such file or directory: '나없는파일'",
     "output_type": "error",
     "traceback": [
      "\u001b[0;31m---------------------------------------------------------------------------\u001b[0m",
      "\u001b[0;31mFileNotFoundError\u001b[0m                         Traceback (most recent call last)",
      "\u001b[1;32m/Users/brielle/Desktop/Career/02.Side Project/00.In Progress/01.Ubion/03.Offline/00.컴퓨터언어/01.python/08.예외처리.ipynb 셀 6\u001b[0m line \u001b[0;36m1\n\u001b[0;32m----> <a href='vscode-notebook-cell:/Users/brielle/Desktop/Career/02.Side%20Project/00.In%20Progress/01.Ubion/03.Offline/00.%EC%BB%B4%ED%93%A8%ED%84%B0%EC%96%B8%EC%96%B4/01.python/08.%EC%98%88%EC%99%B8%EC%B2%98%EB%A6%AC.ipynb#W5sZmlsZQ%3D%3D?line=0'>1</a>\u001b[0m f \u001b[39m=\u001b[39m \u001b[39mopen\u001b[39m(\u001b[39m\"\u001b[39m\u001b[39m나없는파일\u001b[39m\u001b[39m\"\u001b[39m,\u001b[39m\"\u001b[39m\u001b[39mr\u001b[39m\u001b[39m\"\u001b[39m)\n",
      "File \u001b[0;32m~/anaconda3/lib/python3.11/site-packages/IPython/core/interactiveshell.py:286\u001b[0m, in \u001b[0;36m_modified_open\u001b[0;34m(file, *args, **kwargs)\u001b[0m\n\u001b[1;32m    279\u001b[0m \u001b[39mif\u001b[39;00m file \u001b[39min\u001b[39;00m {\u001b[39m0\u001b[39m, \u001b[39m1\u001b[39m, \u001b[39m2\u001b[39m}:\n\u001b[1;32m    280\u001b[0m     \u001b[39mraise\u001b[39;00m \u001b[39mValueError\u001b[39;00m(\n\u001b[1;32m    281\u001b[0m         \u001b[39mf\u001b[39m\u001b[39m\"\u001b[39m\u001b[39mIPython won\u001b[39m\u001b[39m'\u001b[39m\u001b[39mt let you open fd=\u001b[39m\u001b[39m{\u001b[39;00mfile\u001b[39m}\u001b[39;00m\u001b[39m by default \u001b[39m\u001b[39m\"\u001b[39m\n\u001b[1;32m    282\u001b[0m         \u001b[39m\"\u001b[39m\u001b[39mas it is likely to crash IPython. If you know what you are doing, \u001b[39m\u001b[39m\"\u001b[39m\n\u001b[1;32m    283\u001b[0m         \u001b[39m\"\u001b[39m\u001b[39myou can use builtins\u001b[39m\u001b[39m'\u001b[39m\u001b[39m open.\u001b[39m\u001b[39m\"\u001b[39m\n\u001b[1;32m    284\u001b[0m     )\n\u001b[0;32m--> 286\u001b[0m \u001b[39mreturn\u001b[39;00m io_open(file, \u001b[39m*\u001b[39margs, \u001b[39m*\u001b[39m\u001b[39m*\u001b[39mkwargs)\n",
      "\u001b[0;31mFileNotFoundError\u001b[0m: [Errno 2] No such file or directory: '나없는파일'"
     ]
    }
   ],
   "source": [
    "f = open(\"나없는파일\",\"r\")"
   ]
  },
  {
   "cell_type": "code",
   "execution_count": 2,
   "metadata": {},
   "outputs": [
    {
     "ename": "ZeroDivisionError",
     "evalue": "division by zero",
     "output_type": "error",
     "traceback": [
      "\u001b[0;31m---------------------------------------------------------------------------\u001b[0m",
      "\u001b[0;31mZeroDivisionError\u001b[0m                         Traceback (most recent call last)",
      "\u001b[1;32m/Users/brielle/Desktop/Career/02.Side Project/00.In Progress/01.Ubion/03.Offline/00.컴퓨터언어/01.python/08.예외처리.ipynb 셀 7\u001b[0m line \u001b[0;36m1\n\u001b[0;32m----> <a href='vscode-notebook-cell:/Users/brielle/Desktop/Career/02.Side%20Project/00.In%20Progress/01.Ubion/03.Offline/00.%EC%BB%B4%ED%93%A8%ED%84%B0%EC%96%B8%EC%96%B4/01.python/08.%EC%98%88%EC%99%B8%EC%B2%98%EB%A6%AC.ipynb#W6sZmlsZQ%3D%3D?line=0'>1</a>\u001b[0m \u001b[39m4\u001b[39m \u001b[39m/\u001b[39m \u001b[39m0\u001b[39m\n",
      "\u001b[0;31mZeroDivisionError\u001b[0m: division by zero"
     ]
    }
   ],
   "source": [
    "4 / 0"
   ]
  },
  {
   "cell_type": "code",
   "execution_count": 3,
   "metadata": {},
   "outputs": [
    {
     "ename": "IndexError",
     "evalue": "list index out of range",
     "output_type": "error",
     "traceback": [
      "\u001b[0;31m---------------------------------------------------------------------------\u001b[0m",
      "\u001b[0;31mIndexError\u001b[0m                                Traceback (most recent call last)",
      "\u001b[1;32m/Users/brielle/Desktop/Career/02.Side Project/00.In Progress/01.Ubion/03.Offline/00.컴퓨터언어/01.python/08.예외처리.ipynb 셀 8\u001b[0m line \u001b[0;36m2\n\u001b[1;32m      <a href='vscode-notebook-cell:/Users/brielle/Desktop/Career/02.Side%20Project/00.In%20Progress/01.Ubion/03.Offline/00.%EC%BB%B4%ED%93%A8%ED%84%B0%EC%96%B8%EC%96%B4/01.python/08.%EC%98%88%EC%99%B8%EC%B2%98%EB%A6%AC.ipynb#X10sZmlsZQ%3D%3D?line=0'>1</a>\u001b[0m a \u001b[39m=\u001b[39m [\u001b[39m1\u001b[39m,\u001b[39m2\u001b[39m,\u001b[39m3\u001b[39m]\n\u001b[0;32m----> <a href='vscode-notebook-cell:/Users/brielle/Desktop/Career/02.Side%20Project/00.In%20Progress/01.Ubion/03.Offline/00.%EC%BB%B4%ED%93%A8%ED%84%B0%EC%96%B8%EC%96%B4/01.python/08.%EC%98%88%EC%99%B8%EC%B2%98%EB%A6%AC.ipynb#X10sZmlsZQ%3D%3D?line=1'>2</a>\u001b[0m a[\u001b[39m4\u001b[39m]\n",
      "\u001b[0;31mIndexError\u001b[0m: list index out of range"
     ]
    }
   ],
   "source": [
    "a = [1,2,3]\n",
    "a[4]"
   ]
  },
  {
   "cell_type": "markdown",
   "metadata": {
    "vscode": {
     "languageId": "plaintext"
    }
   },
   "source": [
    "### 예외처리 방법"
   ]
  },
  {
   "cell_type": "markdown",
   "metadata": {
    "vscode": {
     "languageId": "plaintext"
    }
   },
   "source": [
    "#### 1. try - except"
   ]
  },
  {
   "cell_type": "code",
   "execution_count": 6,
   "metadata": {},
   "outputs": [
    {
     "name": "stdout",
     "output_type": "stream",
     "text": [
      "error입니다\n"
     ]
    }
   ],
   "source": [
    "# try문에서 뭔가 오류가 남 -> Except문에 별다른 조건이 없기 때문에 모든 예외에 공통적으로 except문 실행\n",
    "try:\n",
    "    4/0\n",
    "except:\n",
    "    print('error입니다')"
   ]
  },
  {
   "cell_type": "markdown",
   "metadata": {
    "vscode": {
     "languageId": "plaintext"
    }
   },
   "source": [
    "#### 2. 발생 오류만 포함한 except 문"
   ]
  },
  {
   "cell_type": "code",
   "execution_count": 8,
   "metadata": {},
   "outputs": [
    {
     "name": "stdout",
     "output_type": "stream",
     "text": [
      "dddd\n",
      "e\n"
     ]
    }
   ],
   "source": [
    "#뭔가 에러가 남 -> except문에 발생한 오류조건을 걸어놓으면 해당 오류일 때 except문 실행\n",
    "\n",
    "\n",
    "try:\n",
    "    4/0\n",
    "#f = open(\"나없는파일\",\"r\")\n",
    "except ZeroDivisionError as e:\n",
    "    print(\"dddd\")\n",
    "    print('e')"
   ]
  },
  {
   "cell_type": "code",
   "execution_count": 14,
   "metadata": {},
   "outputs": [
    {
     "ename": "FileNotFoundError",
     "evalue": "[Errno 2] No such file or directory: '나없는파일'",
     "output_type": "error",
     "traceback": [
      "\u001b[0;31m---------------------------------------------------------------------------\u001b[0m",
      "\u001b[0;31mFileNotFoundError\u001b[0m                         Traceback (most recent call last)",
      "\u001b[1;32m/Users/brielle/Desktop/Career/02.Side Project/00.In Progress/01.Ubion/03.Offline/00.컴퓨터언어/01.python/08.예외처리.ipynb 셀 15\u001b[0m line \u001b[0;36m3\n\u001b[1;32m      <a href='vscode-notebook-cell:/Users/brielle/Desktop/Career/02.Side%20Project/00.In%20Progress/01.Ubion/03.Offline/00.%EC%BB%B4%ED%93%A8%ED%84%B0%EC%96%B8%EC%96%B4/01.python/08.%EC%98%88%EC%99%B8%EC%B2%98%EB%A6%AC.ipynb#X32sZmlsZQ%3D%3D?line=0'>1</a>\u001b[0m \u001b[39mtry\u001b[39;00m:\n\u001b[1;32m      <a href='vscode-notebook-cell:/Users/brielle/Desktop/Career/02.Side%20Project/00.In%20Progress/01.Ubion/03.Offline/00.%EC%BB%B4%ED%93%A8%ED%84%B0%EC%96%B8%EC%96%B4/01.python/08.%EC%98%88%EC%99%B8%EC%B2%98%EB%A6%AC.ipynb#X32sZmlsZQ%3D%3D?line=1'>2</a>\u001b[0m \u001b[39m#    4/0\u001b[39;00m\n\u001b[0;32m----> <a href='vscode-notebook-cell:/Users/brielle/Desktop/Career/02.Side%20Project/00.In%20Progress/01.Ubion/03.Offline/00.%EC%BB%B4%ED%93%A8%ED%84%B0%EC%96%B8%EC%96%B4/01.python/08.%EC%98%88%EC%99%B8%EC%B2%98%EB%A6%AC.ipynb#X32sZmlsZQ%3D%3D?line=2'>3</a>\u001b[0m     f \u001b[39m=\u001b[39m \u001b[39mopen\u001b[39m(\u001b[39m\"\u001b[39m\u001b[39m나없는파일\u001b[39m\u001b[39m\"\u001b[39m,\u001b[39m\"\u001b[39m\u001b[39mr\u001b[39m\u001b[39m\"\u001b[39m)\n\u001b[1;32m      <a href='vscode-notebook-cell:/Users/brielle/Desktop/Career/02.Side%20Project/00.In%20Progress/01.Ubion/03.Offline/00.%EC%BB%B4%ED%93%A8%ED%84%B0%EC%96%B8%EC%96%B4/01.python/08.%EC%98%88%EC%99%B8%EC%B2%98%EB%A6%AC.ipynb#X32sZmlsZQ%3D%3D?line=3'>4</a>\u001b[0m \u001b[39mexcept\u001b[39;00m \u001b[39mZeroDivisionError\u001b[39;00m \u001b[39mas\u001b[39;00m e:\n\u001b[1;32m      <a href='vscode-notebook-cell:/Users/brielle/Desktop/Career/02.Side%20Project/00.In%20Progress/01.Ubion/03.Offline/00.%EC%BB%B4%ED%93%A8%ED%84%B0%EC%96%B8%EC%96%B4/01.python/08.%EC%98%88%EC%99%B8%EC%B2%98%EB%A6%AC.ipynb#X32sZmlsZQ%3D%3D?line=4'>5</a>\u001b[0m     \u001b[39mprint\u001b[39m(\u001b[39m\"\u001b[39m\u001b[39mdddd\u001b[39m\u001b[39m\"\u001b[39m)\n",
      "File \u001b[0;32m~/anaconda3/lib/python3.11/site-packages/IPython/core/interactiveshell.py:286\u001b[0m, in \u001b[0;36m_modified_open\u001b[0;34m(file, *args, **kwargs)\u001b[0m\n\u001b[1;32m    279\u001b[0m \u001b[39mif\u001b[39;00m file \u001b[39min\u001b[39;00m {\u001b[39m0\u001b[39m, \u001b[39m1\u001b[39m, \u001b[39m2\u001b[39m}:\n\u001b[1;32m    280\u001b[0m     \u001b[39mraise\u001b[39;00m \u001b[39mValueError\u001b[39;00m(\n\u001b[1;32m    281\u001b[0m         \u001b[39mf\u001b[39m\u001b[39m\"\u001b[39m\u001b[39mIPython won\u001b[39m\u001b[39m'\u001b[39m\u001b[39mt let you open fd=\u001b[39m\u001b[39m{\u001b[39;00mfile\u001b[39m}\u001b[39;00m\u001b[39m by default \u001b[39m\u001b[39m\"\u001b[39m\n\u001b[1;32m    282\u001b[0m         \u001b[39m\"\u001b[39m\u001b[39mas it is likely to crash IPython. If you know what you are doing, \u001b[39m\u001b[39m\"\u001b[39m\n\u001b[1;32m    283\u001b[0m         \u001b[39m\"\u001b[39m\u001b[39myou can use builtins\u001b[39m\u001b[39m'\u001b[39m\u001b[39m open.\u001b[39m\u001b[39m\"\u001b[39m\n\u001b[1;32m    284\u001b[0m     )\n\u001b[0;32m--> 286\u001b[0m \u001b[39mreturn\u001b[39;00m io_open(file, \u001b[39m*\u001b[39margs, \u001b[39m*\u001b[39m\u001b[39m*\u001b[39mkwargs)\n",
      "\u001b[0;31mFileNotFoundError\u001b[0m: [Errno 2] No such file or directory: '나없는파일'"
     ]
    }
   ],
   "source": [
    "# except문에 에러유형을 지정한 경우, 실제 실행한 에러와 유형이 맞지 않으면 에러메세지출력이 아니라 그냥 시스템에러가 남 == 예외처리 실패\n",
    "\n",
    "try:\n",
    "#    4/0\n",
    "    f = open(\"나없는파일\",\"r\")\n",
    "except ZeroDivisionError as e:\n",
    "    print(\"dddd\")\n",
    "    print('e')"
   ]
  },
  {
   "cell_type": "markdown",
   "metadata": {
    "vscode": {
     "languageId": "plaintext"
    }
   },
   "source": [
    "#### 3. 발생 오류와 오류 변수까지 포함한 except문"
   ]
  },
  {
   "cell_type": "code",
   "execution_count": 11,
   "metadata": {},
   "outputs": [
    {
     "name": "stdout",
     "output_type": "stream",
     "text": [
      "division by zero\n"
     ]
    }
   ],
   "source": [
    "#컴퓨터 자체에 이미 설정되어있는 에러메세지 출력\n",
    "\n",
    "try:\n",
    "    4/0\n",
    "\n",
    "except ZeroDivisionError as e: # as e -> e가 컴퓨터에서 자체 설정한 에러 메세지인지\n",
    "    print(e)"
   ]
  },
  {
   "cell_type": "markdown",
   "metadata": {},
   "source": [
    "#### try-finally 문\n",
    "finally문은 에러가 나도 무시하고 실행된다"
   ]
  },
  {
   "cell_type": "code",
   "execution_count": 20,
   "metadata": {},
   "outputs": [
    {
     "name": "stdout",
     "output_type": "stream",
     "text": [
      "finally문은어쨌든실행된다\n"
     ]
    },
    {
     "ename": "FileNotFoundError",
     "evalue": "[Errno 2] No such file or directory: '나없는파일'",
     "output_type": "error",
     "traceback": [
      "\u001b[0;31m---------------------------------------------------------------------------\u001b[0m",
      "\u001b[0;31mFileNotFoundError\u001b[0m                         Traceback (most recent call last)",
      "\u001b[1;32m/Users/brielle/Desktop/Career/02.Side Project/00.In Progress/01.Ubion/03.Offline/00.컴퓨터언어/01.python/08.예외처리.ipynb 셀 19\u001b[0m line \u001b[0;36m8\n\u001b[1;32m      <a href='vscode-notebook-cell:/Users/brielle/Desktop/Career/02.Side%20Project/00.In%20Progress/01.Ubion/03.Offline/00.%EC%BB%B4%ED%93%A8%ED%84%B0%EC%96%B8%EC%96%B4/01.python/08.%EC%98%88%EC%99%B8%EC%B2%98%EB%A6%AC.ipynb#X34sZmlsZQ%3D%3D?line=0'>1</a>\u001b[0m \u001b[39m'''\u001b[39;00m\n\u001b[1;32m      <a href='vscode-notebook-cell:/Users/brielle/Desktop/Career/02.Side%20Project/00.In%20Progress/01.Ubion/03.Offline/00.%EC%BB%B4%ED%93%A8%ED%84%B0%EC%96%B8%EC%96%B4/01.python/08.%EC%98%88%EC%99%B8%EC%B2%98%EB%A6%AC.ipynb#X34sZmlsZQ%3D%3D?line=1'>2</a>\u001b[0m \u001b[39mtry:\u001b[39;00m\n\u001b[1;32m      <a href='vscode-notebook-cell:/Users/brielle/Desktop/Career/02.Side%20Project/00.In%20Progress/01.Ubion/03.Offline/00.%EC%BB%B4%ED%93%A8%ED%84%B0%EC%96%B8%EC%96%B4/01.python/08.%EC%98%88%EC%99%B8%EC%B2%98%EB%A6%AC.ipynb#X34sZmlsZQ%3D%3D?line=2'>3</a>\u001b[0m \u001b[39m    f = open(\"나없는파일\",\"r\")\u001b[39;00m\n\u001b[1;32m      <a href='vscode-notebook-cell:/Users/brielle/Desktop/Career/02.Side%20Project/00.In%20Progress/01.Ubion/03.Offline/00.%EC%BB%B4%ED%93%A8%ED%84%B0%EC%96%B8%EC%96%B4/01.python/08.%EC%98%88%EC%99%B8%EC%B2%98%EB%A6%AC.ipynb#X34sZmlsZQ%3D%3D?line=3'>4</a>\u001b[0m \u001b[39mfinally:\u001b[39;00m\n\u001b[1;32m      <a href='vscode-notebook-cell:/Users/brielle/Desktop/Career/02.Side%20Project/00.In%20Progress/01.Ubion/03.Offline/00.%EC%BB%B4%ED%93%A8%ED%84%B0%EC%96%B8%EC%96%B4/01.python/08.%EC%98%88%EC%99%B8%EC%B2%98%EB%A6%AC.ipynb#X34sZmlsZQ%3D%3D?line=4'>5</a>\u001b[0m \u001b[39m    f.close() #위에서 오픈한 파일을 안 열려도 일단 닫아줌(???)'''\u001b[39;00m \u001b[39m# <- 파일 하나라서 안 열리면 절대 안 닫혀서 에러남. 근데 이런 식으로 뭔가 꼭 해줘야하는 후속조치를 finally문으로 처리해주면 좋음\u001b[39;00m\n\u001b[1;32m      <a href='vscode-notebook-cell:/Users/brielle/Desktop/Career/02.Side%20Project/00.In%20Progress/01.Ubion/03.Offline/00.%EC%BB%B4%ED%93%A8%ED%84%B0%EC%96%B8%EC%96%B4/01.python/08.%EC%98%88%EC%99%B8%EC%B2%98%EB%A6%AC.ipynb#X34sZmlsZQ%3D%3D?line=6'>7</a>\u001b[0m \u001b[39mtry\u001b[39;00m:\n\u001b[0;32m----> <a href='vscode-notebook-cell:/Users/brielle/Desktop/Career/02.Side%20Project/00.In%20Progress/01.Ubion/03.Offline/00.%EC%BB%B4%ED%93%A8%ED%84%B0%EC%96%B8%EC%96%B4/01.python/08.%EC%98%88%EC%99%B8%EC%B2%98%EB%A6%AC.ipynb#X34sZmlsZQ%3D%3D?line=7'>8</a>\u001b[0m     f \u001b[39m=\u001b[39m \u001b[39mopen\u001b[39m(\u001b[39m\"\u001b[39m\u001b[39m나없는파일\u001b[39m\u001b[39m\"\u001b[39m,\u001b[39m\"\u001b[39m\u001b[39mr\u001b[39m\u001b[39m\"\u001b[39m)\n\u001b[1;32m      <a href='vscode-notebook-cell:/Users/brielle/Desktop/Career/02.Side%20Project/00.In%20Progress/01.Ubion/03.Offline/00.%EC%BB%B4%ED%93%A8%ED%84%B0%EC%96%B8%EC%96%B4/01.python/08.%EC%98%88%EC%99%B8%EC%B2%98%EB%A6%AC.ipynb#X34sZmlsZQ%3D%3D?line=8'>9</a>\u001b[0m \u001b[39mfinally\u001b[39;00m:\n\u001b[1;32m     <a href='vscode-notebook-cell:/Users/brielle/Desktop/Career/02.Side%20Project/00.In%20Progress/01.Ubion/03.Offline/00.%EC%BB%B4%ED%93%A8%ED%84%B0%EC%96%B8%EC%96%B4/01.python/08.%EC%98%88%EC%99%B8%EC%B2%98%EB%A6%AC.ipynb#X34sZmlsZQ%3D%3D?line=9'>10</a>\u001b[0m     \u001b[39mprint\u001b[39m(\u001b[39m\"\u001b[39m\u001b[39mfinally문은어쨌든실행된다\u001b[39m\u001b[39m\"\u001b[39m)\n",
      "File \u001b[0;32m~/anaconda3/lib/python3.11/site-packages/IPython/core/interactiveshell.py:286\u001b[0m, in \u001b[0;36m_modified_open\u001b[0;34m(file, *args, **kwargs)\u001b[0m\n\u001b[1;32m    279\u001b[0m \u001b[39mif\u001b[39;00m file \u001b[39min\u001b[39;00m {\u001b[39m0\u001b[39m, \u001b[39m1\u001b[39m, \u001b[39m2\u001b[39m}:\n\u001b[1;32m    280\u001b[0m     \u001b[39mraise\u001b[39;00m \u001b[39mValueError\u001b[39;00m(\n\u001b[1;32m    281\u001b[0m         \u001b[39mf\u001b[39m\u001b[39m\"\u001b[39m\u001b[39mIPython won\u001b[39m\u001b[39m'\u001b[39m\u001b[39mt let you open fd=\u001b[39m\u001b[39m{\u001b[39;00mfile\u001b[39m}\u001b[39;00m\u001b[39m by default \u001b[39m\u001b[39m\"\u001b[39m\n\u001b[1;32m    282\u001b[0m         \u001b[39m\"\u001b[39m\u001b[39mas it is likely to crash IPython. If you know what you are doing, \u001b[39m\u001b[39m\"\u001b[39m\n\u001b[1;32m    283\u001b[0m         \u001b[39m\"\u001b[39m\u001b[39myou can use builtins\u001b[39m\u001b[39m'\u001b[39m\u001b[39m open.\u001b[39m\u001b[39m\"\u001b[39m\n\u001b[1;32m    284\u001b[0m     )\n\u001b[0;32m--> 286\u001b[0m \u001b[39mreturn\u001b[39;00m io_open(file, \u001b[39m*\u001b[39margs, \u001b[39m*\u001b[39m\u001b[39m*\u001b[39mkwargs)\n",
      "\u001b[0;31mFileNotFoundError\u001b[0m: [Errno 2] No such file or directory: '나없는파일'"
     ]
    }
   ],
   "source": [
    "'''\n",
    "try:\n",
    "    f = open(\"나없는파일\",\"r\")\n",
    "finally:\n",
    "    f.close() #위에서 오픈한 파일을 안 열려도 일단 닫아줌(???)''' # <- 파일 하나라서 안 열리면 절대 안 닫혀서 에러남. 근데 이런 식으로 뭔가 꼭 해줘야하는 후속조치를 finally문으로 처리해주면 좋음\n",
    "\n",
    "try:\n",
    "    f = open(\"나없는파일\",\"r\")\n",
    "finally:\n",
    "    print(\"finally문은어쨌든실행된다\")\n",
    "    \n",
    "    \n",
    "    \n",
    "    "
   ]
  },
  {
   "cell_type": "code",
   "execution_count": 17,
   "metadata": {},
   "outputs": [
    {
     "name": "stdout",
     "output_type": "stream",
     "text": [
      "인덱싱할 수 없습니다.\n"
     ]
    }
   ],
   "source": [
    "#에러가 두 개 인 경우 -> 첫 번째 에러에서 시스템이 종료되기 때문에 두 번재 에러까지 실행되지 않음\n",
    "\n",
    "try:\n",
    "    a = [1,2]\n",
    "    print(a[3])  #첫번째에러 <- 여기서 이미 시스템에러발생. 시스템 멈춤.\n",
    "    4/0 #두번째에러 <- 여기까지 안 옴.\n",
    "except ZeroDivisionError:\n",
    "    print('0으로 나눌 수 없습니다.')\n",
    "except IndexError:\n",
    "    print('인덱싱할 수 없습니다.')"
   ]
  },
  {
   "cell_type": "code",
   "execution_count": 19,
   "metadata": {},
   "outputs": [
    {
     "name": "stdout",
     "output_type": "stream",
     "text": [
      "list index out of range\n"
     ]
    }
   ],
   "source": [
    "#에러가 두 개 인 경우에도 시스템사전설정에러메세제 출력 가능\n",
    "\n",
    "try:\n",
    "    a = [1,2]\n",
    "    print(a[3])  #\n",
    "    4/0\n",
    "except ZeroDivisionError as e:\n",
    "    print(e)\n",
    "except IndexError as e:\n",
    "    print(e)"
   ]
  },
  {
   "cell_type": "code",
   "execution_count": 21,
   "metadata": {},
   "outputs": [
    {
     "name": "stdout",
     "output_type": "stream",
     "text": [
      "list index out of range\n"
     ]
    }
   ],
   "source": [
    "#에러가 두 개 인 경우 -> 시스템사전설정에러메세지를 출력할 때 에러유형마다 따로 안 하고 묶어서 처리하는 예시\n",
    "\n",
    "try:\n",
    "    a = [1,2]\n",
    "    print(a[3])  #\n",
    "    4/0\n",
    "except (ZeroDivisionError, IndexError) as e:\n",
    "    print(e)"
   ]
  },
  {
   "cell_type": "code",
   "execution_count": 22,
   "metadata": {},
   "outputs": [
    {
     "name": "stdout",
     "output_type": "stream",
     "text": [
      "division by zero\n"
     ]
    }
   ],
   "source": [
    "try:\n",
    "    a = [1,2]\n",
    "    4/0\n",
    "except (ZeroDivisionError, IndexError) as e:\n",
    "    print(e)"
   ]
  },
  {
   "cell_type": "markdown",
   "metadata": {},
   "source": [
    "#### try-else 문\n",
    ": try - else문에서 else문은 시스템에러가 발생하지 않은 경우 수행된다"
   ]
  },
  {
   "cell_type": "code",
   "execution_count": 27,
   "metadata": {},
   "outputs": [
    {
     "name": "stdout",
     "output_type": "stream",
     "text": [
      "미성년자는 출입금지입니다.\n"
     ]
    }
   ],
   "source": [
    "try:\n",
    "    age = int(input('나이를 입력하세요:'))\n",
    "except: # 입력 실패\n",
    "    print('입력이 정확하지 않습니다.')\n",
    "else: # 입력 성공\n",
    "    if age<=18:\n",
    "        print(\"미성년자는 출입금지입니다.\")\n",
    "    else:\n",
    "        print('환영합니다.')"
   ]
  },
  {
   "cell_type": "markdown",
   "metadata": {},
   "source": [
    "* 오류 회피"
   ]
  },
  {
   "cell_type": "code",
   "execution_count": 28,
   "metadata": {},
   "outputs": [],
   "source": [
    "\n",
    "try:\n",
    "    f = open('나없는 파일','r')\n",
    "except FileNotFoundError: #에러 조건\n",
    "    pass                  #패스시키기"
   ]
  },
  {
   "cell_type": "markdown",
   "metadata": {},
   "source": [
    "#### raise: 오류 일부러 발생시키기"
   ]
  },
  {
   "cell_type": "code",
   "execution_count": 29,
   "metadata": {},
   "outputs": [],
   "source": [
    "class Bird:\n",
    "    def fly(self):\n",
    "        raise NotImplementedError "
   ]
  },
  {
   "cell_type": "code",
   "execution_count": 30,
   "metadata": {},
   "outputs": [
    {
     "ename": "NotImplementedError",
     "evalue": "",
     "output_type": "error",
     "traceback": [
      "\u001b[0;31m---------------------------------------------------------------------------\u001b[0m",
      "\u001b[0;31mNotImplementedError\u001b[0m                       Traceback (most recent call last)",
      "\u001b[1;32m/Users/brielle/Desktop/Career/02.Side Project/00.In Progress/01.Ubion/03.Offline/00.컴퓨터언어/01.python/08.예외처리.ipynb 셀 30\u001b[0m line \u001b[0;36m8\n\u001b[1;32m      <a href='vscode-notebook-cell:/Users/brielle/Desktop/Career/02.Side%20Project/00.In%20Progress/01.Ubion/03.Offline/00.%EC%BB%B4%ED%93%A8%ED%84%B0%EC%96%B8%EC%96%B4/01.python/08.%EC%98%88%EC%99%B8%EC%B2%98%EB%A6%AC.ipynb#X56sZmlsZQ%3D%3D?line=4'>5</a>\u001b[0m     \u001b[39mpass\u001b[39;00m\n\u001b[1;32m      <a href='vscode-notebook-cell:/Users/brielle/Desktop/Career/02.Side%20Project/00.In%20Progress/01.Ubion/03.Offline/00.%EC%BB%B4%ED%93%A8%ED%84%B0%EC%96%B8%EC%96%B4/01.python/08.%EC%98%88%EC%99%B8%EC%B2%98%EB%A6%AC.ipynb#X56sZmlsZQ%3D%3D?line=6'>7</a>\u001b[0m eagle\u001b[39m=\u001b[39m Eagle()\n\u001b[0;32m----> <a href='vscode-notebook-cell:/Users/brielle/Desktop/Career/02.Side%20Project/00.In%20Progress/01.Ubion/03.Offline/00.%EC%BB%B4%ED%93%A8%ED%84%B0%EC%96%B8%EC%96%B4/01.python/08.%EC%98%88%EC%99%B8%EC%B2%98%EB%A6%AC.ipynb#X56sZmlsZQ%3D%3D?line=7'>8</a>\u001b[0m eagle\u001b[39m.\u001b[39mfly()\n",
      "\u001b[1;32m/Users/brielle/Desktop/Career/02.Side Project/00.In Progress/01.Ubion/03.Offline/00.컴퓨터언어/01.python/08.예외처리.ipynb 셀 30\u001b[0m line \u001b[0;36m3\n\u001b[1;32m      <a href='vscode-notebook-cell:/Users/brielle/Desktop/Career/02.Side%20Project/00.In%20Progress/01.Ubion/03.Offline/00.%EC%BB%B4%ED%93%A8%ED%84%B0%EC%96%B8%EC%96%B4/01.python/08.%EC%98%88%EC%99%B8%EC%B2%98%EB%A6%AC.ipynb#X56sZmlsZQ%3D%3D?line=1'>2</a>\u001b[0m \u001b[39mdef\u001b[39;00m \u001b[39mfly\u001b[39m(\u001b[39mself\u001b[39m):\n\u001b[0;32m----> <a href='vscode-notebook-cell:/Users/brielle/Desktop/Career/02.Side%20Project/00.In%20Progress/01.Ubion/03.Offline/00.%EC%BB%B4%ED%93%A8%ED%84%B0%EC%96%B8%EC%96%B4/01.python/08.%EC%98%88%EC%99%B8%EC%B2%98%EB%A6%AC.ipynb#X56sZmlsZQ%3D%3D?line=2'>3</a>\u001b[0m     \u001b[39mraise\u001b[39;00m \u001b[39mNotImplementedError\u001b[39;00m\n",
      "\u001b[0;31mNotImplementedError\u001b[0m: "
     ]
    }
   ],
   "source": [
    "# 오버라이딩 자식이 부모꺼 상속 받을 때, 자식만의 함수를 재정의 하라는 목적으로...\n",
    "# Bird 가 부모, Eagle 이 자식.\n",
    "\n",
    "class Eagle(Bird):\n",
    "    pass\n",
    "\n",
    "eagle= Eagle()\n",
    "eagle.fly()"
   ]
  },
  {
   "cell_type": "code",
   "execution_count": 31,
   "metadata": {},
   "outputs": [
    {
     "name": "stdout",
     "output_type": "stream",
     "text": [
      "very fast\n"
     ]
    }
   ],
   "source": [
    "class Eagle(Bird):\n",
    "    def fly(self):\n",
    "        print('very fast')\n",
    "\n",
    "eagle= Eagle()\n",
    "eagle.fly()"
   ]
  },
  {
   "cell_type": "markdown",
   "metadata": {},
   "source": [
    "* 예외 만들기"
   ]
  },
  {
   "cell_type": "code",
   "execution_count": 38,
   "metadata": {},
   "outputs": [
    {
     "ename": "SyntaxError",
     "evalue": "incomplete input (3668013183.py, line 1)",
     "output_type": "error",
     "traceback": [
      "\u001b[0;36m  Cell \u001b[0;32mIn[38], line 1\u001b[0;36m\u001b[0m\n\u001b[0;31m    class MyError(Exception): # exception은 내장함수같은 느낌인듯, 안쓰면 적어내라고 함.\u001b[0m\n\u001b[0m                                                                    ^\u001b[0m\n\u001b[0;31mSyntaxError\u001b[0m\u001b[0;31m:\u001b[0m incomplete input\n"
     ]
    }
   ],
   "source": [
    "# class 에러이름(Exception)이라는 명령어를 통해 시스템에러가 아닌 사용자지정 에러 관리 가능\n",
    "\n",
    "class MyError(Exception): # exception은 내장함수같은 느낌인듯, 안쓰면 적어내라고 함.\n",
    "    pass"
   ]
  },
  {
   "cell_type": "code",
   "execution_count": 33,
   "metadata": {},
   "outputs": [],
   "source": [
    "def say_nick(nick):\n",
    "    if nick == '바보':\n",
    "        raise MyError()\n",
    "    print(nick)"
   ]
  },
  {
   "cell_type": "code",
   "execution_count": 34,
   "metadata": {},
   "outputs": [
    {
     "name": "stdout",
     "output_type": "stream",
     "text": [
      "천사\n"
     ]
    },
    {
     "ename": "MyError",
     "evalue": "",
     "output_type": "error",
     "traceback": [
      "\u001b[0;31m---------------------------------------------------------------------------\u001b[0m",
      "\u001b[0;31mMyError\u001b[0m                                   Traceback (most recent call last)",
      "\u001b[1;32m/Users/brielle/Desktop/Career/02.Side Project/00.In Progress/01.Ubion/03.Offline/00.컴퓨터언어/01.python/08.예외처리.ipynb 셀 35\u001b[0m line \u001b[0;36m2\n\u001b[1;32m      <a href='vscode-notebook-cell:/Users/brielle/Desktop/Career/02.Side%20Project/00.In%20Progress/01.Ubion/03.Offline/00.%EC%BB%B4%ED%93%A8%ED%84%B0%EC%96%B8%EC%96%B4/01.python/08.%EC%98%88%EC%99%B8%EC%B2%98%EB%A6%AC.ipynb#X64sZmlsZQ%3D%3D?line=0'>1</a>\u001b[0m say_nick(\u001b[39m'\u001b[39m\u001b[39m천사\u001b[39m\u001b[39m'\u001b[39m)\n\u001b[0;32m----> <a href='vscode-notebook-cell:/Users/brielle/Desktop/Career/02.Side%20Project/00.In%20Progress/01.Ubion/03.Offline/00.%EC%BB%B4%ED%93%A8%ED%84%B0%EC%96%B8%EC%96%B4/01.python/08.%EC%98%88%EC%99%B8%EC%B2%98%EB%A6%AC.ipynb#X64sZmlsZQ%3D%3D?line=1'>2</a>\u001b[0m say_nick(\u001b[39m'\u001b[39m\u001b[39m바보\u001b[39m\u001b[39m'\u001b[39m)\n",
      "\u001b[1;32m/Users/brielle/Desktop/Career/02.Side Project/00.In Progress/01.Ubion/03.Offline/00.컴퓨터언어/01.python/08.예외처리.ipynb 셀 35\u001b[0m line \u001b[0;36m3\n\u001b[1;32m      <a href='vscode-notebook-cell:/Users/brielle/Desktop/Career/02.Side%20Project/00.In%20Progress/01.Ubion/03.Offline/00.%EC%BB%B4%ED%93%A8%ED%84%B0%EC%96%B8%EC%96%B4/01.python/08.%EC%98%88%EC%99%B8%EC%B2%98%EB%A6%AC.ipynb#X64sZmlsZQ%3D%3D?line=0'>1</a>\u001b[0m \u001b[39mdef\u001b[39;00m \u001b[39msay_nick\u001b[39m(nick):\n\u001b[1;32m      <a href='vscode-notebook-cell:/Users/brielle/Desktop/Career/02.Side%20Project/00.In%20Progress/01.Ubion/03.Offline/00.%EC%BB%B4%ED%93%A8%ED%84%B0%EC%96%B8%EC%96%B4/01.python/08.%EC%98%88%EC%99%B8%EC%B2%98%EB%A6%AC.ipynb#X64sZmlsZQ%3D%3D?line=1'>2</a>\u001b[0m     \u001b[39mif\u001b[39;00m nick \u001b[39m==\u001b[39m \u001b[39m'\u001b[39m\u001b[39m바보\u001b[39m\u001b[39m'\u001b[39m:\n\u001b[0;32m----> <a href='vscode-notebook-cell:/Users/brielle/Desktop/Career/02.Side%20Project/00.In%20Progress/01.Ubion/03.Offline/00.%EC%BB%B4%ED%93%A8%ED%84%B0%EC%96%B8%EC%96%B4/01.python/08.%EC%98%88%EC%99%B8%EC%B2%98%EB%A6%AC.ipynb#X64sZmlsZQ%3D%3D?line=2'>3</a>\u001b[0m         \u001b[39mraise\u001b[39;00m MyError()\n\u001b[1;32m      <a href='vscode-notebook-cell:/Users/brielle/Desktop/Career/02.Side%20Project/00.In%20Progress/01.Ubion/03.Offline/00.%EC%BB%B4%ED%93%A8%ED%84%B0%EC%96%B8%EC%96%B4/01.python/08.%EC%98%88%EC%99%B8%EC%B2%98%EB%A6%AC.ipynb#X64sZmlsZQ%3D%3D?line=3'>4</a>\u001b[0m     \u001b[39mprint\u001b[39m(nick)\n",
      "\u001b[0;31mMyError\u001b[0m: "
     ]
    }
   ],
   "source": [
    "say_nick('천사')\n",
    "say_nick('바보')"
   ]
  },
  {
   "cell_type": "code",
   "execution_count": 35,
   "metadata": {},
   "outputs": [
    {
     "name": "stdout",
     "output_type": "stream",
     "text": [
      "천사\n",
      "허용되지 않은 별명입니다.\n"
     ]
    }
   ],
   "source": [
    "try:\n",
    "    say_nick('천사')\n",
    "    say_nick('바보')\n",
    "except MyError:\n",
    "    print(\"허용되지 않은 별명입니다.\")"
   ]
  },
  {
   "cell_type": "code",
   "execution_count": 36,
   "metadata": {},
   "outputs": [],
   "source": [
    "# 자기 별명 만들기\n",
    "class MyError(Exception):\n",
    "    def __str__(self):   # __str__ : 내장변수, 문자열 형태의 모든 변수\n",
    "        return \"허용되지 않는 별명이란다.\""
   ]
  },
  {
   "cell_type": "code",
   "execution_count": 37,
   "metadata": {},
   "outputs": [
    {
     "name": "stdout",
     "output_type": "stream",
     "text": [
      "천사\n",
      "허용되지 않는 별명이란다.\n"
     ]
    }
   ],
   "source": [
    "try:\n",
    "    say_nick('천사')\n",
    "    say_nick('바보')\n",
    "except MyError as e:\n",
    "    print(e)"
   ]
  },
  {
   "cell_type": "markdown",
   "metadata": {},
   "source": [
    "##### 예외 만들기 내버전"
   ]
  },
  {
   "cell_type": "code",
   "execution_count": 44,
   "metadata": {},
   "outputs": [],
   "source": [
    "class MeError(Exception):\n",
    "    def __str__ (self):\n",
    "        return '바보라니'\n",
    "    "
   ]
  },
  {
   "cell_type": "code",
   "execution_count": 46,
   "metadata": {},
   "outputs": [
    {
     "ename": "MeError",
     "evalue": "바보라니",
     "output_type": "error",
     "traceback": [
      "\u001b[0;31m---------------------------------------------------------------------------\u001b[0m",
      "\u001b[0;31mMeError\u001b[0m                                   Traceback (most recent call last)",
      "\u001b[1;32m/Users/brielle/Desktop/Career/02.Side Project/00.In Progress/01.Ubion/03.Offline/00.컴퓨터언어/01.python/08.예외처리.ipynb 셀 40\u001b[0m line \u001b[0;36m7\n\u001b[1;32m      <a href='vscode-notebook-cell:/Users/brielle/Desktop/Career/02.Side%20Project/00.In%20Progress/01.Ubion/03.Offline/00.%EC%BB%B4%ED%93%A8%ED%84%B0%EC%96%B8%EC%96%B4/01.python/08.%EC%98%88%EC%99%B8%EC%B2%98%EB%A6%AC.ipynb#X44sZmlsZQ%3D%3D?line=4'>5</a>\u001b[0m \u001b[39melse\u001b[39;00m:\n\u001b[1;32m      <a href='vscode-notebook-cell:/Users/brielle/Desktop/Career/02.Side%20Project/00.In%20Progress/01.Ubion/03.Offline/00.%EC%BB%B4%ED%93%A8%ED%84%B0%EC%96%B8%EC%96%B4/01.python/08.%EC%98%88%EC%99%B8%EC%B2%98%EB%A6%AC.ipynb#X44sZmlsZQ%3D%3D?line=5'>6</a>\u001b[0m     \u001b[39mif\u001b[39;00m nick \u001b[39m==\u001b[39m \u001b[39m'\u001b[39m\u001b[39m바보\u001b[39m\u001b[39m'\u001b[39m:\n\u001b[0;32m----> <a href='vscode-notebook-cell:/Users/brielle/Desktop/Career/02.Side%20Project/00.In%20Progress/01.Ubion/03.Offline/00.%EC%BB%B4%ED%93%A8%ED%84%B0%EC%96%B8%EC%96%B4/01.python/08.%EC%98%88%EC%99%B8%EC%B2%98%EB%A6%AC.ipynb#X44sZmlsZQ%3D%3D?line=6'>7</a>\u001b[0m         \u001b[39mraise\u001b[39;00m MeError\n",
      "\u001b[0;31mMeError\u001b[0m: 바보라니"
     ]
    }
   ],
   "source": [
    "try:\n",
    "    nick = input('별명을 입력하세요: ')\n",
    "except MeError:\n",
    "    print('바보?')\n",
    "else:\n",
    "    if nick == '바보':\n",
    "        raise MeError"
   ]
  },
  {
   "cell_type": "code",
   "execution_count": null,
   "metadata": {},
   "outputs": [],
   "source": []
  }
 ],
 "metadata": {
  "kernelspec": {
   "display_name": "base",
   "language": "python",
   "name": "python3"
  },
  "language_info": {
   "codemirror_mode": {
    "name": "ipython",
    "version": 3
   },
   "file_extension": ".py",
   "mimetype": "text/x-python",
   "name": "python",
   "nbconvert_exporter": "python",
   "pygments_lexer": "ipython3",
   "version": "3.11.5"
  }
 },
 "nbformat": 4,
 "nbformat_minor": 2
}
