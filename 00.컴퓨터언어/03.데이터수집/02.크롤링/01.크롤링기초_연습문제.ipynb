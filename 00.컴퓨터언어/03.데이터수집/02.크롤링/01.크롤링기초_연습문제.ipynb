{
 "cells": [
  {
   "cell_type": "markdown",
   "metadata": {},
   "source": [
    "### 연습문제 - 쿠팡\n",
    "크롤링할 정보 : 상품명, 가격 등등"
   ]
  },
  {
   "cell_type": "code",
   "execution_count": 1,
   "metadata": {},
   "outputs": [],
   "source": [
    "from selenium import webdriver\n",
    "from webdriver_manager.chrome import ChromeDriverManager\n",
    "from selenium.webdriver.chrome.service import Service\n",
    "import time"
   ]
  },
  {
   "cell_type": "code",
   "execution_count": 2,
   "metadata": {},
   "outputs": [],
   "source": [
    "from selenium.webdriver.common.by import By\n",
    "from selenium.webdriver.common.keys import Keys\n",
    "service = Service()\n",
    "options = webdriver.ChromeOptions()\n",
    "driver = webdriver.Chrome(service=service,options=options)\n",
    "\n",
    "url = \"https://www.coupang.com/np/categories/194276\"\n",
    "driver.get(url)\n",
    "\n",
    "productList = driver.find_element(By.ID,\"productList\")\n",
    "# lis = productList.find_elements(By.TAG_NAME,\"li\")\n",
    "productNames = productList.find_elements(By.CLASS_NAME,\"name\")\n",
    "productPrices = productList.find_elements(By.CLASS_NAME,\"price-value\")\n",
    "productDelivery = productList.find_elements(By.TAG_NAME,\"em\")\n",
    "productRating = productList.find_elements(By.CLASS_NAME,\"rating\")\n",
    "productLinks = productList.find_elements(By.CLASS_NAME,\"baby-product-link\")  #상품링크\n"
   ]
  },
  {
   "cell_type": "code",
   "execution_count": 3,
   "metadata": {},
   "outputs": [
    {
     "name": "stdout",
     "output_type": "stream",
     "text": [
      "목우촌 국내산 소고기 안심 (냉장), 300g, 1개\n",
      "청정원순창 100% 현미 태양초 찰고추장, 3kg, 1개\n",
      "고래사어묵 풍성한 꼬치어묵 (냉동), 1020g, 1개\n",
      "매일유업 어메이징 오트 바리스타, 950ml, 10개\n",
      "매일유업 매일야채 고농축 토마토의 힘, 125ml, 24개\n",
      "양반 현미밥, 130g, 24개\n",
      "곰곰 돌돌말이 무연골 대패 삼겹살 (냉동), 1kg, 1개입\n",
      "페레로로쉐 초콜릿 3p, 38g, 16개\n",
      "본죽 아침엔 쇠고기죽, 271.5g, 6개\n",
      "목우촌 국내산 소고기 양지 세절 국거리용 (냉장), 300g, 1개\n",
      "팔도 밥알없는 비락 식혜, 175ml, 90개\n",
      "셀렉스 프로핏 웨이프로틴 초콜릿, 330ml, 24개\n",
      "모산김치 갓담근 배추 겉절이 김치, 1.5kg, 1개\n",
      "담백한 베지밀 두유 에이, 190ml, 48개\n",
      "한양식품 숏다리, 20g, 30개\n",
      "베지밀 달콤한 비 두유, 190ml, 48개\n",
      "도드람 한돈 1등급 목심 구이용 (냉장), 1kg, 1개\n",
      "상하목장 유기농 멸균 바나나우유, 바나나맛, 125ml, 24개\n",
      "종근당건강 락토핏 골드, 160g, 1개\n",
      "상하목장 유기농 코코아 우유, 125ml, 24팩\n",
      "파스퇴르 무항생제 인증 바른목장 우유, 125ml, 24개입\n",
      "매일 소화가 잘되는 우유, 190ml, 24개\n",
      "퀘이커 오트밀 오리지널, 1kg, 2개\n",
      "하루틴 리포좀 비타민C 1100mg x 90정 3개월 틴케이스 단품, 1개\n",
      "종근당건강 프로메가 알티지 오메가3 듀얼 플러스, 60정, 3개\n",
      "하림 자연실록 무항생제 인증 닭봉 윗날개 (냉장), 350g, 2팩\n",
      "청정원 감칠맛나는미원, 500g, 2개\n",
      "트와이닝 얼그레이 티백, 2g, 100개입, 1개\n",
      "곰곰 갈비탕, 600g, 5개\n",
      "청정원 순수천혜염 천일염 굵은소금, 2.5kg, 1개\n",
      "얼라이브 원스데일리 포맨 멀티비타민, 80정, 1개\n",
      "종근당건강 헬씨칸 로얄 밀크시슬, 30정, 3개\n",
      "대상 종가 포기김치 비닐, 1.9kg, 1개\n",
      "포카리스웨트, 48개, 340ml\n",
      "잇메이트 닭가슴살 스테이크 혼합 구성 18팩 (냉동), 1세트\n",
      "하림 닭볶음탕용 닭고기 2개입 (냉장), 2000g, 1개\n",
      "동원 쎈쿡 100% 발아현미밥, 195g, 24개\n",
      "루카스나인 시그니처 더블샷 라떼, 14.9g, 50개입, 2개\n",
      "종가 총각김치, 2.5kg, 1개\n",
      "오뚜기 오뚜기밥 찰현미, 210g, 24개\n",
      "뉴트리디데이 칼슘 마그네슘 아연 비타민D, 90정, 3개\n",
      "재로우 우먼스 펨 도필러스 프로바이오틱스 유산균, 60정, 1개\n",
      "달콤한 베지밀 비 검은콩 두유, 145ml, 24개입\n",
      "루솔 진한 배도라지즙 선물세트, 40개, 100ml\n",
      "블루다이아몬드 아몬드 브리즈 오리지널, 950ml, 10개\n",
      "얼라이브 원스 데일리 포맨 멀티 비타민, 60정, 1개\n",
      "하림 커플치킨 통닭 백숙용 (냉장), 550g, 2개\n",
      "웅진 빅토리아 청포도 스파클링 음료, 500ml, 40개\n",
      "김수미 엄마생각 포기김치, 2kg, 1개\n",
      "곰곰 배추 김치, 10kg, 1개\n",
      "프로메가 오메가3 트리플 장용성 39.24g, 60정, 3개\n",
      "맥심 모카골드 마일드 커피믹스 12g x 320p + 화이트골드 커피믹스 11.7g x 20p, 340개입, 1세트\n",
      "맛있는 오뚜기밥 발아현미, 210g, 18개\n",
      "3분 쇠고기카레 200g X 8개, 10개\n",
      "핫식스 더킹 러쉬 탄산음료, 355ml, 24개\n",
      "파스퇴르 무항생제 인증 바른목장 우유, 흰우유, 125ml, 24개\n",
      "곰곰 체다치즈 슬라이스, 1.8kg, 1개\n",
      "종근당건강 원데이21 멀티비타민 & 미네랄, 60정, 2개\n",
      "농협 무항생제 특란, 60구, 1개\n",
      "동아오츠카 포카리스웨트, 500ml, 20개\n"
     ]
    }
   ],
   "source": [
    "#상품명\n",
    "\n",
    "for idx, e in enumerate(productNames):\n",
    "    names = e.text\n",
    "    print(names)\n",
    "    time.sleep(0.5)"
   ]
  },
  {
   "cell_type": "code",
   "execution_count": null,
   "metadata": {},
   "outputs": [],
   "source": [
    "#가격\n",
    "\n",
    "for idx, e in enumerate(productPrices):\n",
    "    prices = e.text\n",
    "    print(prices)\n",
    "    time.sleep(0.5)"
   ]
  },
  {
   "cell_type": "code",
   "execution_count": null,
   "metadata": {},
   "outputs": [],
   "source": [
    "#도착예정일\n",
    "\n",
    "for idx, e in enumerate(productDelivery):\n",
    "    delivery = e.text\n",
    "    print(delivery)\n",
    "    time.sleep(0.5)"
   ]
  },
  {
   "cell_type": "code",
   "execution_count": null,
   "metadata": {},
   "outputs": [],
   "source": [
    "#평점\n",
    "\n",
    "for idx, e in enumerate(productRating):\n",
    "    rates = e.text\n",
    "    print(rates)\n",
    "    time.sleep(0.5)"
   ]
  },
  {
   "cell_type": "code",
   "execution_count": null,
   "metadata": {},
   "outputs": [],
   "source": [
    "#상품링크\n",
    "\n",
    "for idx, e in enumerate(productLinks):\n",
    "    links = e.get_attribute(\"href\")\n",
    "    \n",
    "    print(links)\n",
    "    time.sleep(0.5)\n",
    "\n"
   ]
  },
  {
   "cell_type": "code",
   "execution_count": null,
   "metadata": {},
   "outputs": [],
   "source": [
    "#상품이미지 \n",
    "\n",
    "productimgs = driver.find_elements(By.CLASS_NAME,\"image\")\n",
    "print(productimgs)"
   ]
  },
  {
   "cell_type": "code",
   "execution_count": null,
   "metadata": {},
   "outputs": [],
   "source": [
    "\n",
    "for idx, e in enumerate(productimgs):\n",
    "    srcs = e.get_attribute(\"src\")\n",
    "    \n",
    "    print(srcs)\n",
    "    time.sleep(0.5)\n",
    "    \n",
    "    f = open(\"image{o}\".format(e),\"wb\")\n",
    "    f.write(srcs.content)\n",
    "    f.close()\n"
   ]
  },
  {
   "cell_type": "code",
   "execution_count": null,
   "metadata": {},
   "outputs": [],
   "source": []
  },
  {
   "cell_type": "code",
   "execution_count": null,
   "metadata": {},
   "outputs": [],
   "source": [
    "\n",
    "for idx, li in enumerate(productList):\n",
    "    productNames = li.find_elements(By.CLASS_NAME,\"name\")\n",
    "    productPrices = li.find_elements(By.CLASS_NAME,\"price-value\")\n",
    "    productDelivery = li.find_elements(By.TAG_NAME,\"em\")\n",
    "    productRating = li.find_elements(By.CLASS_NAME,\"rating\")\n",
    "    productLinks = li.find_elements(By.CLASS_NAME,\"baby-product-link\")  #상품링크\n",
    "    e = li.find_elments(By.TAG_NAME,\"img\")\n",
    "   \n",
    "    print(e.get_attribute('src'))\n",
    "    print(productNames)\n"
   ]
  }
 ],
 "metadata": {
  "kernelspec": {
   "display_name": "base",
   "language": "python",
   "name": "python3"
  },
  "language_info": {
   "codemirror_mode": {
    "name": "ipython",
    "version": 3
   },
   "file_extension": ".py",
   "mimetype": "text/x-python",
   "name": "python",
   "nbconvert_exporter": "python",
   "pygments_lexer": "ipython3",
   "version": "3.11.5"
  }
 },
 "nbformat": 4,
 "nbformat_minor": 2
}
