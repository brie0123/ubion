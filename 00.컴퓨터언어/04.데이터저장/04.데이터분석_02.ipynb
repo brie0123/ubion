{
 "cells": [
  {
   "cell_type": "code",
   "execution_count": 4,
   "metadata": {},
   "outputs": [
    {
     "name": "stdout",
     "output_type": "stream",
     "text": [
      "사용자ID 사용자이름 이메일 출생연도\n",
      "--------------------------------------\n",
      "john John Bann jphn@naver.com 1990\n",
      "kim kim mike kim@naver.com 1980\n",
      "park park minseo park@naver.com 2000\n"
     ]
    }
   ],
   "source": [
    "import pymysql\n",
    "conn = pymysql.connect(host = 'localhost',user = 'root',password = 'apple123!!',db = 'shoppingDB',charset='utf8')\n",
    "cur = conn.cursor()\n",
    "\n",
    "cur.execute(\"SELECT * FROM userTable\")\n",
    "\n",
    "print(\"사용자ID 사용자이름 이메일 출생연도\")\n",
    "print(\"--------------------------------------\")\n",
    "\n",
    "while (True):\n",
    "    row = cur.fetchone()\n",
    "    if row == None:\n",
    "        break\n",
    "    data1 = row[0]\n",
    "    data2 = row[1]\n",
    "    data3 = row[2]\n",
    "    data4 = row[3]\n",
    "    print(\"%s %s %s %d\" %(data1, data2, data3, data4))\n",
    "    \n",
    "conn.close()\n",
    "\n"
   ]
  },
  {
   "cell_type": "code",
   "execution_count": 9,
   "metadata": {},
   "outputs": [
    {
     "ename": "UnicodeDecodeError",
     "evalue": "'utf-8' codec can't decode byte 0xc0 in position 0: invalid start byte",
     "output_type": "error",
     "traceback": [
      "\u001b[0;31m---------------------------------------------------------------------------\u001b[0m",
      "\u001b[0;31mUnicodeDecodeError\u001b[0m                        Traceback (most recent call last)",
      "\u001b[1;32m/Users/brielle/Desktop/Career/02.Side Project/00.In Progress/01.Ubion/03.Offline/00.컴퓨터언어/04.데이터 분석/04.데이터분석_02.ipynb 셀 2\u001b[0m line \u001b[0;36m1\n\u001b[1;32m      <a href='vscode-notebook-cell:/Users/brielle/Desktop/Career/02.Side%20Project/00.In%20Progress/01.Ubion/03.Offline/00.%EC%BB%B4%ED%93%A8%ED%84%B0%EC%96%B8%EC%96%B4/04.%EB%8D%B0%EC%9D%B4%ED%84%B0%20%EB%B6%84%EC%84%9D/04.%EB%8D%B0%EC%9D%B4%ED%84%B0%EB%B6%84%EC%84%9D_02.ipynb#W1sZmlsZQ%3D%3D?line=4'>5</a>\u001b[0m cur \u001b[39m=\u001b[39m conn\u001b[39m.\u001b[39mcursor()\n\u001b[1;32m      <a href='vscode-notebook-cell:/Users/brielle/Desktop/Career/02.Side%20Project/00.In%20Progress/01.Ubion/03.Offline/00.%EC%BB%B4%ED%93%A8%ED%84%B0%EC%96%B8%EC%96%B4/04.%EB%8D%B0%EC%9D%B4%ED%84%B0%20%EB%B6%84%EC%84%9D/04.%EB%8D%B0%EC%9D%B4%ED%84%B0%EB%B6%84%EC%84%9D_02.ipynb#W1sZmlsZQ%3D%3D?line=7'>8</a>\u001b[0m f \u001b[39m=\u001b[39m \u001b[39mopen\u001b[39m(\u001b[39m\"\u001b[39m\u001b[39m./data/data.csv\u001b[39m\u001b[39m\"\u001b[39m,\u001b[39m\"\u001b[39m\u001b[39mr\u001b[39m\u001b[39m\"\u001b[39m)\n\u001b[0;32m---> <a href='vscode-notebook-cell:/Users/brielle/Desktop/Career/02.Side%20Project/00.In%20Progress/01.Ubion/03.Offline/00.%EC%BB%B4%ED%93%A8%ED%84%B0%EC%96%B8%EC%96%B4/04.%EB%8D%B0%EC%9D%B4%ED%84%B0%20%EB%B6%84%EC%84%9D/04.%EB%8D%B0%EC%9D%B4%ED%84%B0%EB%B6%84%EC%84%9D_02.ipynb#W1sZmlsZQ%3D%3D?line=9'>10</a>\u001b[0m csvReader \u001b[39m=\u001b[39m \u001b[39mlist\u001b[39m(csv\u001b[39m.\u001b[39mreader(f))\n\u001b[1;32m     <a href='vscode-notebook-cell:/Users/brielle/Desktop/Career/02.Side%20Project/00.In%20Progress/01.Ubion/03.Offline/00.%EC%BB%B4%ED%93%A8%ED%84%B0%EC%96%B8%EC%96%B4/04.%EB%8D%B0%EC%9D%B4%ED%84%B0%20%EB%B6%84%EC%84%9D/04.%EB%8D%B0%EC%9D%B4%ED%84%B0%EB%B6%84%EC%84%9D_02.ipynb#W1sZmlsZQ%3D%3D?line=10'>11</a>\u001b[0m cur\u001b[39m.\u001b[39mexecute(\u001b[39m\"\u001b[39m\u001b[39mcreate table if not exists person (num char(10), sex char(1), class char(1), attend char(1))\u001b[39m\u001b[39m\"\u001b[39m)\n\u001b[1;32m     <a href='vscode-notebook-cell:/Users/brielle/Desktop/Career/02.Side%20Project/00.In%20Progress/01.Ubion/03.Offline/00.%EC%BB%B4%ED%93%A8%ED%84%B0%EC%96%B8%EC%96%B4/04.%EB%8D%B0%EC%9D%B4%ED%84%B0%20%EB%B6%84%EC%84%9D/04.%EB%8D%B0%EC%9D%B4%ED%84%B0%EB%B6%84%EC%84%9D_02.ipynb#W1sZmlsZQ%3D%3D?line=12'>13</a>\u001b[0m \u001b[39mfor\u001b[39;00m data \u001b[39min\u001b[39;00m csvReader[\u001b[39m1\u001b[39m:]:\n",
      "File \u001b[0;32m<frozen codecs>:322\u001b[0m, in \u001b[0;36mdecode\u001b[0;34m(self, input, final)\u001b[0m\n",
      "\u001b[0;31mUnicodeDecodeError\u001b[0m: 'utf-8' codec can't decode byte 0xc0 in position 0: invalid start byte"
     ]
    }
   ],
   "source": [
    "import csv\n",
    "import pymysql\n",
    "\n",
    "conn = pymysql.connect(host = 'localhost',user = 'root',password = 'apple123!!',db = 'shoppingDB',charset='utf8')\n",
    "cur = conn.cursor()\n",
    "\n",
    "\n",
    "f = open(\"./data/data.csv\",\"r\")\n",
    "\n",
    "csvReader = list(csv.reader(f))\n",
    "cur.execute(\"create table if not exists person (num char(10), sex char(1), class char(1), attend char(1))\")\n",
    "\n",
    "for data in csvReader[1:]:\n",
    "    row1 = data[0]\n",
    "    row2 = data[1]\n",
    "    row3 = data[2]\n",
    "    row4 = data[3]\n",
    "    \n",
    "    sql = \"\"\"insert into person (name, sex, class, attend) values( %s, %s, %s, %s)\"\"\"\n",
    "    cur.execute(sql(row1, row2, row3, row4))\n",
    "    \n",
    "f.close()\n",
    "conn.commit()\n",
    "\n",
    "conn.close()\n",
    "\n",
    "\n"
   ]
  },
  {
   "cell_type": "code",
   "execution_count": null,
   "metadata": {},
   "outputs": [],
   "source": []
  }
 ],
 "metadata": {
  "kernelspec": {
   "display_name": "base",
   "language": "python",
   "name": "python3"
  },
  "language_info": {
   "codemirror_mode": {
    "name": "ipython",
    "version": 3
   },
   "file_extension": ".py",
   "mimetype": "text/x-python",
   "name": "python",
   "nbconvert_exporter": "python",
   "pygments_lexer": "ipython3",
   "version": "3.11.5"
  }
 },
 "nbformat": 4,
 "nbformat_minor": 2
}
