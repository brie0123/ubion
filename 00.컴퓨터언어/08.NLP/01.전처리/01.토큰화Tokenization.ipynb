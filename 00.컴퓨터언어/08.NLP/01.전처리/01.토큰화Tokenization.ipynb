{
 "cells": [
  {
   "cell_type": "markdown",
   "metadata": {},
   "source": [
    "# NLP를 위한 데이터 전처리 단계\n",
    "    순서: \n",
    "* 토큰화\n",
    "* 정제 / 정규화\n",
    "* 어간추출, 표제어 추출\n",
    "* 불용어\n",
    "* 정규 표현\n",
    "* 정수 인코딩\n",
    "* 패딩\n",
    "* 원-핫 인코딩\n",
    "* 데이터의 분리"
   ]
  },
  {
   "cell_type": "markdown",
   "metadata": {},
   "source": [
    "## 단어 토큰화 Word Tokenization:\n",
    "    주의 사항:\n",
    "1. 문장 부호 및 특수 문자: 토큰화 과정에서 문장 부호나 특수 문자가 포함되어야 하는 경우 의미 있는 단위로 처리 필요\n",
    "    * ex) Ph.D, $(달러), 날짜를 표시하는 hyphen or slash (1997-02-17), 가격에 포함된 쉼표(49,999 원) 등\n",
    "2. 줄임말 및 단어 내에서 띄어쓰기\n",
    "    * ex) I'll, I'd, what're, 'New York'\n"
   ]
  },
  {
   "cell_type": "markdown",
   "metadata": {},
   "source": [
    "### nlkt"
   ]
  },
  {
   "cell_type": "code",
   "execution_count": 2,
   "metadata": {},
   "outputs": [
    {
     "name": "stdout",
     "output_type": "stream",
     "text": [
      "word Tokenized in English:  ['NLTK', 'provides', 'various', 'tokenizers', 'in', 'English']\n"
     ]
    }
   ],
   "source": [
    "from nltk.tokenize import word_tokenize\n",
    "\n",
    "text = \"NLTK provides various tokenizers in English\"\n",
    "tokens = word_tokenize(text)\n",
    "print('word Tokenized in English: ', tokens)"
   ]
  },
  {
   "cell_type": "markdown",
   "metadata": {},
   "source": [
    "* word_tokenize"
   ]
  },
  {
   "cell_type": "code",
   "execution_count": 3,
   "metadata": {},
   "outputs": [
    {
     "name": "stdout",
     "output_type": "stream",
     "text": [
      "word tokenized in English:  ['Do', \"n't\", 'fool', 'yourself', ',', 'John', \"'s\", 'orpahnage', 'has', 'as', 'much', 'fun', 'as', 'a', 'trip', 'to', 'the', 'bakery', '.']\n"
     ]
    }
   ],
   "source": [
    "text = \"Don't fool yourself, John's orpahnage \\\n",
    "    has as much fun as a trip to the bakery.\"\n",
    "tokens = word_tokenize(text)\n",
    "print('word tokenized in English: ', tokens)"
   ]
  },
  {
   "cell_type": "markdown",
   "metadata": {},
   "source": [
    "* wordpunct_tokenize"
   ]
  },
  {
   "cell_type": "code",
   "execution_count": 4,
   "metadata": {},
   "outputs": [
    {
     "name": "stdout",
     "output_type": "stream",
     "text": [
      "word tokenized in English:  ['Don', \"'\", 't', 'fool', 'yourself', ',', 'John', \"'\", 's', 'orpahnage', 'has', 'as', 'much', 'fun', 'as', 'a', 'trip', 'to', 'the', 'bakery', '.']\n"
     ]
    }
   ],
   "source": [
    "from nltk.tokenize import wordpunct_tokenize\n",
    "\n",
    "text = \"Don't fool yourself, John's orpahnage \\\n",
    "    has as much fun as a trip to the bakery.\"\n",
    "tokens = wordpunct_tokenize(text)\n",
    "print('word tokenized in English: ', tokens)"
   ]
  },
  {
   "cell_type": "markdown",
   "metadata": {},
   "source": [
    "### keras text_to_word_sequence\n",
    ": 전부 대문자 변환 + comma, period, exclamation mark 등은 삭제, apostrophe는 보존"
   ]
  },
  {
   "cell_type": "code",
   "execution_count": 5,
   "metadata": {},
   "outputs": [
    {
     "name": "stdout",
     "output_type": "stream",
     "text": [
      "word tokenized in English:  [\"don't\", 'fool', 'yourself', \"john's\", 'orpahnage', 'has', 'as', 'much', 'fun', 'as', 'a', 'trip', 'to', 'the', 'bakery']\n"
     ]
    }
   ],
   "source": [
    "from tensorflow.keras.preprocessing.text import text_to_word_sequence\n",
    "\n",
    "text = \"Don't fool yourself, John's orpahnage \\\n",
    "    has as much fun as a trip to the bakery.\"\n",
    "tokens = text_to_word_sequence(text)\n",
    "print('word tokenized in English: ', tokens)"
   ]
  },
  {
   "cell_type": "markdown",
   "metadata": {},
   "source": [
    "### 표준 토큰화:\n",
    "* Penn Treebank Tokenization 규칙:\n",
    "    - 문장 부호 유지: 마침표나 쉼표 등의 문장 부호는 개별 토큰으로 유지\n",
    "    - apostrophe 활용: 약어나 축약된 단어의 apostrophe는 해당 언어의 일부로 유지 (can't -> can't)\n",
    "    - 큰따옴표 내부: 큰따옴표 안에 있는 내용은 하나의 토큰으로 취급\n",
    "    - 특수문자 : 개별적으로 처리되거나 단어에 포함 ($29,99 -> $29,99)"
   ]
  },
  {
   "cell_type": "code",
   "execution_count": 12,
   "metadata": {},
   "outputs": [
    {
     "name": "stdout",
     "output_type": "stream",
     "text": [
      "TreebankwordTokenizer:  ['The', 'small', 'bookstore', 'on', 'the', 'corner', 'can', 'be', 'a', 'thrilling', 'space', 'for', 'reading', 'enthusiatsts.', 'Having', 'their', 'own', 'little', 'reading-nook', 'will', 'be', 'a', 'really', 'special', 'experience.', 'It', 'does', \"n't\", 'have', 'a', 'food', '.']\n"
     ]
    }
   ],
   "source": [
    "from nltk.tokenize import TreebankWordTokenizer\n",
    "\n",
    "tokenizer = TreebankWordTokenizer()\n",
    "text = \"The small bookstore on the corner can be a thrilling space for reading enthusiatsts. Having their own little reading-nook will be a really special experience. It doesn't have a food.\"\n",
    "\n",
    "print('TreebankwordTokenizer: ', tokenizer.tokenize(text))\n"
   ]
  },
  {
   "cell_type": "markdown",
   "metadata": {},
   "source": [
    "## 문장 토큰화 Sentence Tokenization"
   ]
  },
  {
   "cell_type": "code",
   "execution_count": 13,
   "metadata": {},
   "outputs": [
    {
     "name": "stdout",
     "output_type": "stream",
     "text": [
      "문장 토큰화 1:  ['His barber kept his word.', 'But keeping such a huge secret to himself was driving him crazy.', 'Finally, the barber went up a mountain and almost to the edge of a cliff.', 'He dug a hole in the midst of some reeds.', 'He looked about, to make sure        no one was near.']\n"
     ]
    }
   ],
   "source": [
    "from nltk.tokenize import sent_tokenize\n",
    "\n",
    "text = \"His barber kept his word. But keeping such a huge secret to himself was driving him crazy. \\\n",
    "        Finally, the barber went up a mountain and almost to the edge of a cliff. \\\n",
    "        He dug a hole in the midst of some reeds. He looked about, to make sure\\\n",
    "        no one was near.\"\n",
    "        \n",
    "print('문장 토큰화 1: ', sent_tokenize(text))"
   ]
  },
  {
   "cell_type": "code",
   "execution_count": 15,
   "metadata": {},
   "outputs": [
    {
     "name": "stdout",
     "output_type": "stream",
     "text": [
      "문장 토큰화 2:  ['I am actively looking for Ph.D students.', 'and you are a Ph.D student.']\n"
     ]
    }
   ],
   "source": [
    "text = \"I am actively looking for Ph.D students. and you are a Ph.D student.\"\n",
    "print('문장 토큰화 2: ', sent_tokenize(text))"
   ]
  },
  {
   "cell_type": "markdown",
   "metadata": {},
   "source": [
    "## 품사 태깅 Part-of-Speech Tagging"
   ]
  },
  {
   "cell_type": "code",
   "execution_count": 16,
   "metadata": {},
   "outputs": [
    {
     "name": "stdout",
     "output_type": "stream",
     "text": [
      "단어 토큰화:  ['I', 'am', 'actively', 'lokking', 'for', 'Ph.D', 'students', '.', 'and', 'you', 'are', 'a', 'Ph.D', 'student', '.']\n",
      "품사 태깅:  [('I', 'PRP'), ('am', 'VBP'), ('actively', 'RB'), ('lokking', 'VBG'), ('for', 'IN'), ('Ph.D', 'NNP'), ('students', 'NNS'), ('.', '.'), ('and', 'CC'), ('you', 'PRP'), ('are', 'VBP'), ('a', 'DT'), ('Ph.D', 'NNP'), ('student', 'NN'), ('.', '.')]\n"
     ]
    }
   ],
   "source": [
    "from nltk.tokenize import word_tokenize\n",
    "from nltk.tag import pos_tag\n",
    "\n",
    "text = 'I am actively lokking for Ph.D students. and you are a Ph.D student.'\n",
    "tokenized_sentence = word_tokenize(text)\n",
    "\n",
    "print('단어 토큰화: ', tokenized_sentence)\n",
    "print('품사 태깅: ', pos_tag(tokenized_sentence))"
   ]
  },
  {
   "cell_type": "markdown",
   "metadata": {},
   "source": [
    "## 한국어 자연어 처리 도구:\n",
    "1. OKT 형태소 분쇄기\n",
    "    * Open Korean Text 오픈소스 한국어 텍스트, 간단하면서도 빠르게 동작\n",
    "2. KKMA 형태소 분쇄기\n",
    "    * Korean University Morphological Analyzer(고려대학교 형태소 분쇄기)\n",
    "    * 정교하고 상세한 분석, 정확한 분석을 위해 더 많은 리소스와 시간 필요"
   ]
  },
  {
   "cell_type": "code",
   "execution_count": 24,
   "metadata": {},
   "outputs": [
    {
     "name": "stdout",
     "output_type": "stream",
     "text": [
      "OKT 형태소 분석:  ['열심히', '코딩', '한', '당신', ',', '연휴', '에는', '여행', '을', '가봐요']\n",
      "OKT 품사 태깅:  [('열심히', 'Adverb'), ('코딩', 'Noun'), ('한', 'Josa'), ('당신', 'Noun'), (',', 'Punctuation'), ('연휴', 'Noun'), ('에는', 'Josa'), ('여행', 'Noun'), ('을', 'Josa'), ('가봐요', 'Verb')]\n",
      "OKT 명사 추출:  ['코딩', '당신', '연휴', '여행']\n"
     ]
    }
   ],
   "source": [
    "from konlpy.tag import Okt\n",
    "from konlpy.tag import Kkma\n",
    "\n",
    "okt = Okt()\n",
    "\n",
    "print('OKT 형태소 분석: ',okt.morphs(\"열심히 코딩한 당신, 연휴에는 여행을 가봐요\"))\n",
    "print('OKT 품사 태깅: ',okt.pos(\"열심히 코딩한 당신, 연휴에는 여행을 가봐요\"))\n",
    "print('OKT 명사 추출: ',okt.nouns(\"열심히 코딩한 당신, 연휴에는 여행을 가봐요\"))"
   ]
  },
  {
   "cell_type": "code",
   "execution_count": 25,
   "metadata": {},
   "outputs": [
    {
     "name": "stdout",
     "output_type": "stream",
     "text": [
      "꼬꼬마 형태소 분석:  ['열심히', '코딩', '하', 'ㄴ', '당신', ',', '연휴', '에', '는', '여행', '을', '가보', '아요']\n",
      "꼬꼬마 품사 태깅:  [('열심히', 'MAG'), ('코딩', 'NNG'), ('하', 'XSV'), ('ㄴ', 'ETD'), ('당신', 'NP'), (',', 'SP'), ('연휴', 'NNG'), ('에', 'JKM'), ('는', 'JX'), ('여행', 'NNG'), ('을', 'JKO'), ('가보', 'VV'), ('아요', 'EFN')]\n",
      "꼬꼬마 명사 추출:  ['코딩', '당신', '연휴', '여행']\n"
     ]
    }
   ],
   "source": [
    "kkma = Kkma()\n",
    "\n",
    "print('꼬꼬마 형태소 분석: ',kkma.morphs(\"열심히 코딩한 당신, 연휴에는 여행을 가봐요\"))\n",
    "print('꼬꼬마 품사 태깅: ',kkma.pos(\"열심히 코딩한 당신, 연휴에는 여행을 가봐요\"))\n",
    "print('꼬꼬마 명사 추출: ',kkma.nouns(\"열심히 코딩한 당신, 연휴에는 여행을 가봐요\"))"
   ]
  },
  {
   "cell_type": "markdown",
   "metadata": {},
   "source": [
    "# 끝"
   ]
  }
 ],
 "metadata": {
  "kernelspec": {
   "display_name": "base",
   "language": "python",
   "name": "python3"
  },
  "language_info": {
   "codemirror_mode": {
    "name": "ipython",
    "version": 3
   },
   "file_extension": ".py",
   "mimetype": "text/x-python",
   "name": "python",
   "nbconvert_exporter": "python",
   "pygments_lexer": "ipython3",
   "version": "3.11.5"
  }
 },
 "nbformat": 4,
 "nbformat_minor": 2
}
