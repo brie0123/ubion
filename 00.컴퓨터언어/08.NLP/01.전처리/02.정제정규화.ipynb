{
 "cells": [
  {
   "cell_type": "markdown",
   "metadata": {},
   "source": [
    "# 정제 Cleaning\n",
    ": 텍스트 데이터를 정리하고 깨끗하게 만드는 과정\n",
    "* 데이터(=corpus)의 노이즈, 불필요한 정보, 오류, 형식의 일관성 부재 등을 제거 혹은 수정\n",
    "* 데이터를 표준화하고 분식에 적합한 형태로 만듬"
   ]
  },
  {
   "cell_type": "code",
   "execution_count": null,
   "metadata": {},
   "outputs": [],
   "source": []
  },
  {
   "cell_type": "code",
   "execution_count": null,
   "metadata": {},
   "outputs": [],
   "source": []
  },
  {
   "cell_type": "code",
   "execution_count": null,
   "metadata": {},
   "outputs": [],
   "source": []
  },
  {
   "cell_type": "code",
   "execution_count": null,
   "metadata": {},
   "outputs": [],
   "source": []
  },
  {
   "cell_type": "markdown",
   "metadata": {},
   "source": [
    "# 정규화 Normalization\n",
    ": 텍스트 데이터를 일관된 형태로 가공하는 과정\n",
    "* 텍스트의 다양한 형태를 유사한 형태로 변환하여 데이터를 표준화\n",
    "* 단어의 대소문자 통일, 특수 문자나 숫자의 제거, 어간 추출 등을 포함"
   ]
  },
  {
   "cell_type": "code",
   "execution_count": null,
   "metadata": {},
   "outputs": [],
   "source": []
  },
  {
   "cell_type": "code",
   "execution_count": null,
   "metadata": {},
   "outputs": [],
   "source": []
  },
  {
   "cell_type": "code",
   "execution_count": null,
   "metadata": {},
   "outputs": [],
   "source": []
  },
  {
   "cell_type": "markdown",
   "metadata": {},
   "source": [
    "## 정규 표현식 Regular Expression"
   ]
  },
  {
   "cell_type": "markdown",
   "metadata": {},
   "source": [
    "### 정규표현식 이해"
   ]
  },
  {
   "cell_type": "markdown",
   "metadata": {},
   "source": [
    "#### 정규표현식 없이 주민등록번호 뒷자리 마스킹"
   ]
  },
  {
   "cell_type": "code",
   "execution_count": 1,
   "metadata": {},
   "outputs": [],
   "source": [
    "data = '''\n",
    "park 981025-1234567\n",
    "kim  030901-3456789\n",
    "'''"
   ]
  },
  {
   "cell_type": "code",
   "execution_count": 2,
   "metadata": {},
   "outputs": [
    {
     "data": {
      "text/plain": [
       "['park 981025-1234567', 'kim  030901-3456789']"
      ]
     },
     "execution_count": 2,
     "metadata": {},
     "output_type": "execute_result"
    }
   ],
   "source": [
    "data = data.split('\\n')\n",
    "data = [data[1], data[2]]\n",
    "data"
   ]
  },
  {
   "cell_type": "code",
   "execution_count": 3,
   "metadata": {},
   "outputs": [
    {
     "data": {
      "text/plain": [
       "[['park', '981025-1234567'], ['kim', '030901-3456789']]"
      ]
     },
     "execution_count": 3,
     "metadata": {},
     "output_type": "execute_result"
    }
   ],
   "source": [
    "for i in range(len(data)):\n",
    "    data[i] = data[i].replace('  ',' ')\n",
    "    data[i] = data[i].split(' ')\n",
    "    \n",
    "data"
   ]
  },
  {
   "cell_type": "code",
   "execution_count": 4,
   "metadata": {},
   "outputs": [
    {
     "data": {
      "text/plain": [
       "[['park', '981025-*******'], ['kim', '030901-*******']]"
      ]
     },
     "execution_count": 4,
     "metadata": {},
     "output_type": "execute_result"
    }
   ],
   "source": [
    "for i in range(len(data)):\n",
    "    a,b = (data[i])[1].split('-')\n",
    "    b = '*'*7\n",
    "    (data[i])[1] = a + '-' +  b\n",
    "data\n"
   ]
  },
  {
   "cell_type": "code",
   "execution_count": 5,
   "metadata": {},
   "outputs": [
    {
     "data": {
      "text/plain": [
       "'030901-*******'"
      ]
     },
     "execution_count": 5,
     "metadata": {},
     "output_type": "execute_result"
    }
   ],
   "source": [
    "(data[1])[1]"
   ]
  },
  {
   "cell_type": "code",
   "execution_count": 6,
   "metadata": {},
   "outputs": [
    {
     "name": "stdout",
     "output_type": "stream",
     "text": [
      "['', 'park 981025-*******', 'kim  030901-*******', '']\n",
      "\n",
      "park 981025-*******\n",
      "kim  030901-*******\n",
      "\n"
     ]
    }
   ],
   "source": [
    "data = '''\n",
    "park 981025-1234567\n",
    "kim  030901-3456789\n",
    "'''\n",
    "\n",
    "results = []\n",
    "for line in data.split('\\n'):\n",
    "    word_result = []\n",
    "    for word in line.split(' '):\n",
    "        if len(word) == 14 and word[:6].isdigit() and word[7:].isdigit():\n",
    "            word = word[:6] + '-' + '*******'\n",
    "            \n",
    "        word_result.append(word)\n",
    "    results.append(' '.join(word_result))\n",
    "print(results)\n",
    "print('\\n'.join(results))"
   ]
  },
  {
   "cell_type": "markdown",
   "metadata": {},
   "source": [
    "#### 정규표현식 써보기"
   ]
  },
  {
   "cell_type": "code",
   "execution_count": 7,
   "metadata": {},
   "outputs": [
    {
     "name": "stdout",
     "output_type": "stream",
     "text": [
      "\n",
      "park 981025-*******\n",
      "kim  030901-*******\n",
      "\n",
      "\n",
      "park 981025-*******\n",
      "kim  030901-*******\n",
      "\n"
     ]
    }
   ],
   "source": [
    "import re\n",
    "\n",
    "data = '''\n",
    "park 981025-1234567\n",
    "kim  030901-3456789\n",
    "'''\n",
    "\n",
    "# .compile: 정규 표현식 패턴 정의\n",
    "#d{6} = 숫자 여섯개 + 하이픈 + d{7} 숫자 일곱개\n",
    "pot = re.compile(\"(\\d{6})[-]\\d{7}\")\n",
    "\n",
    "# 정규표현식과 매칭되는 부분 대체\n",
    "print(pot.sub(r'\\1-*******', data))\n",
    "print(pot.sub('\\g<1>-*******', data))"
   ]
  },
  {
   "cell_type": "code",
   "execution_count": 8,
   "metadata": {},
   "outputs": [
    {
     "name": "stdout",
     "output_type": "stream",
     "text": [
      "\n",
      "park 981025-*******-123\n",
      "kim  030901-*******-123\n",
      "\n"
     ]
    }
   ],
   "source": [
    "import re\n",
    "\n",
    "data2 = '''\n",
    "park 981025-1234567-090\n",
    "kim  030901-3456789-090\n",
    "'''\n",
    "\n",
    "# .compile: 정규 표현식 패턴 정의\n",
    "#d{6} = 숫자 여섯개 + 하이픈 + d{7} 숫자 일곱개\n",
    "pot = re.compile(\"(\\d{6})[-]\\d{7}[-]\\d{3}\")\n",
    "\n",
    "# 정규표현식과 매칭되는 부분 대체\n",
    "print(pot.sub('\\g<1>-*******-123',data2))\n",
    "\n"
   ]
  },
  {
   "cell_type": "markdown",
   "metadata": {},
   "source": [
    "### 정규표현식 기초/메타 문자\n",
    "    메타 문자: 원래 가지고 있는 의미가 아닌 특별한 의미를 부여한 문자\n",
    "* $ * ? ( ) [ ] \\ 등"
   ]
  },
  {
   "cell_type": "markdown",
   "metadata": {},
   "source": [
    "#### brackets[], hyphen-, caret^"
   ]
  },
  {
   "cell_type": "code",
   "execution_count": 9,
   "metadata": {},
   "outputs": [
    {
     "data": {
      "text/plain": [
       "\"\\n1. [] 활용: 포함/미포함\\n[abc] : a,b,c 중 한 개의 문자가 포함되면 True\\n문자열 'a','before','dude'\\n\\n'a' -> 'a'가 있으므로 True\\n'before' 'b'가 포함되어 있으므로 True\\n'dude' -> a,b,c 중 어떤 것도 포함되어 있지 않으므로 False\\n    \\n2. - 활용: 범위(between)의 의미\\n[a-c] : a부터 c까지\\n[a-zA-Z]: a부터 대문자 Z까지\\n[0-9]: 0부터 9까지 (=모든 숫자)\\n\\n3. ^ 활용: 반대의 의미\\n[^0-9] : (0-9)에 포함되지 않는 것 = (모든 숫자)가 아닌 것 = 문자\\n\""
      ]
     },
     "execution_count": 9,
     "metadata": {},
     "output_type": "execute_result"
    }
   ],
   "source": [
    "'''\n",
    "1. [] 활용: 포함/미포함\n",
    "[abc] : a,b,c 중 한 개의 문자가 포함되면 True\n",
    "문자열 'a','before','dude'\n",
    "\n",
    "'a' -> 'a'가 있으므로 True\n",
    "'before' 'b'가 포함되어 있으므로 True\n",
    "'dude' -> a,b,c 중 어떤 것도 포함되어 있지 않으므로 False\n",
    "\\\n",
    "    \n",
    "2. - 활용: 범위(between)의 의미\n",
    "[a-c] : a부터 c까지\n",
    "[a-zA-Z]: a부터 대문자 Z까지\n",
    "[0-9]: 0부터 9까지 (=모든 숫자)\n",
    "\n",
    "3. ^ 활용: 반대의 의미\n",
    "[^0-9] : (0-9)에 포함되지 않는 것 = (모든 숫자)가 아닌 것 = 문자\n",
    "'''"
   ]
  },
  {
   "cell_type": "code",
   "execution_count": 10,
   "metadata": {},
   "outputs": [
    {
     "data": {
      "text/plain": [
       "'\\n자주 쓰는 문자 클래스(소문자-대문자는 서로 반대의 의미로 작용함)\\n\\n\\\\d : 숫자와 매치\\n\\\\D : 숫자가 아닌 것과 매치 \\n\\n\\\\s : 화이트스페이스 문자와 매치,[ \\t\\n\\r\\x0c\\x0b]와 동일\\n\\\\S : 화이트스페이스가 아닌 것, [^ \\t\\n\\r\\x0c\\x0b]와 동일\\n\\n\\\\w : 문자-숫자와 매치, [a-zA-Z0-9_]와 동일\\n\\\\W : 문자-숫자가 아닌 것, [^a-zA-Z0-9_]와 동일\\n\\n'"
      ]
     },
     "execution_count": 10,
     "metadata": {},
     "output_type": "execute_result"
    }
   ],
   "source": [
    "'''\n",
    "자주 쓰는 문자 클래스(소문자-대문자는 서로 반대의 의미로 작용함)\n",
    "\n",
    "\\d : 숫자와 매치\n",
    "\\D : 숫자가 아닌 것과 매치 \n",
    "\n",
    "\\s : 화이트스페이스 문자와 매치,[ \\t\\n\\r\\f\\v]와 동일\n",
    "\\S : 화이트스페이스가 아닌 것, [^ \\t\\n\\r\\f\\v]와 동일\n",
    "\n",
    "\\w : 문자-숫자와 매치, [a-zA-Z0-9_]와 동일\n",
    "\\W : 문자-숫자가 아닌 것, [^a-zA-Z0-9_]와 동일\n",
    "\n",
    "'''"
   ]
  },
  {
   "cell_type": "markdown",
   "metadata": {},
   "source": [
    "#### dot ."
   ]
  },
  {
   "cell_type": "code",
   "execution_count": 11,
   "metadata": {},
   "outputs": [
    {
     "data": {
      "text/plain": [
       "\"\\n.[dot] 문자 -\\n을 제외한 모든 문자 하나\\na.b = a + 모든 문자 + b\\n\\n문자열 'aab','abb','abc'\\n\\n[]사이에 들어간 . 은 escape\\na[.]b = a + '.' + b\\npattern = re.compile(r'a[.]b')\\na.b -> True\\naab -> False\\n\""
      ]
     },
     "execution_count": 11,
     "metadata": {},
     "output_type": "execute_result"
    }
   ],
   "source": [
    "'''\n",
    ".[dot] 문자 -\\n을 제외한 모든 문자 하나\n",
    "a.b = a + 모든 문자 + b\n",
    "\n",
    "문자열 'aab','abb','abc'\n",
    "\n",
    "[]사이에 들어간 . 은 escape\n",
    "a[.]b = a + '.' + b\n",
    "pattern = re.compile(r'a[.]b')\n",
    "a.b -> True\n",
    "aab -> False\n",
    "'''"
   ]
  },
  {
   "cell_type": "code",
   "execution_count": 12,
   "metadata": {},
   "outputs": [
    {
     "name": "stdout",
     "output_type": "stream",
     "text": [
      "aab matches the pattern: True\n",
      "abb matches the pattern: True\n",
      "abc matches the pattern: False\n",
      "aaab matches the pattern: False\n"
     ]
    }
   ],
   "source": [
    "# .match: 문자열 패턴에 부합하는지 체크\n",
    "import re\n",
    "\n",
    "words = ['aab', 'abb', 'abc','aaab']\n",
    "pattern = re.compile(r'a.b')\n",
    "\n",
    "for word in words:\n",
    "    match = pattern.match(word)\n",
    "    print(f\"{word} matches the pattern: {bool(match)}\")\n"
   ]
  },
  {
   "cell_type": "markdown",
   "metadata": {},
   "source": [
    "#### apostrophe *"
   ]
  },
  {
   "cell_type": "code",
   "execution_count": 13,
   "metadata": {},
   "outputs": [
    {
     "data": {
      "text/plain": [
       "'\\n* : *앞에 있는 문자 중복 허용\\nca*t : 문자 a가 0 부터 무한대까지 반복되어도 c와 t 사이에 있는 한 True\\n\\n'"
      ]
     },
     "execution_count": 13,
     "metadata": {},
     "output_type": "execute_result"
    }
   ],
   "source": [
    "'''\n",
    "* : *앞에 있는 문자 중복 허용\n",
    "ca*t : 문자 a가 0 부터 무한대까지 반복되어도 c와 t 사이에 있는 한 True\n",
    "\n",
    "'''"
   ]
  },
  {
   "cell_type": "code",
   "execution_count": 14,
   "metadata": {},
   "outputs": [
    {
     "name": "stdout",
     "output_type": "stream",
     "text": [
      "cat matches the pattern: True\n",
      "caaaat matches the pattern: True\n",
      "caat matches the pattern: True\n",
      "c.t matches the pattern: False\n",
      "ct matches the pattern: True\n"
     ]
    }
   ],
   "source": [
    "# .match: 문자열 패턴에 부합하는지 체크\n",
    "import re\n",
    "\n",
    "words = ['cat', 'caaaat', 'caat','c.t','ct']\n",
    "pattern = re.compile(r'ca*t')\n",
    "\n",
    "for word in words:\n",
    "    match = pattern.match(word)\n",
    "    print(f\"{word} matches the pattern: {bool(match)}\")\n"
   ]
  },
  {
   "cell_type": "markdown",
   "metadata": {},
   "source": [
    "#### plus +"
   ]
  },
  {
   "cell_type": "code",
   "execution_count": 15,
   "metadata": {},
   "outputs": [
    {
     "data": {
      "text/plain": [
       "'\\n+ : +앞에 있는 문자 중복 허용\\nca+t : + 앞에 있는 문자 a가 최소 1번 이상 반복, c와 t 사이에 있는 한 True\\n'"
      ]
     },
     "execution_count": 15,
     "metadata": {},
     "output_type": "execute_result"
    }
   ],
   "source": [
    "'''\n",
    "+ : +앞에 있는 문자 중복 허용\n",
    "ca+t : + 앞에 있는 문자 a가 최소 1번 이상 반복, c와 t 사이에 있는 한 True\n",
    "'''"
   ]
  },
  {
   "cell_type": "code",
   "execution_count": 16,
   "metadata": {},
   "outputs": [
    {
     "name": "stdout",
     "output_type": "stream",
     "text": [
      "cat matches the pattern: True\n",
      "caaaat matches the pattern: True\n",
      "caat matches the pattern: True\n",
      "c.t matches the pattern: False\n",
      "ct matches the pattern: False\n"
     ]
    }
   ],
   "source": [
    "# .match: 문자열 패턴에 부합하는지 체크\n",
    "import re\n",
    "\n",
    "words = ['cat', 'caaaat', 'caat','c.t','ct']\n",
    "pattern = re.compile(r'ca+t')\n",
    "\n",
    "for word in words:\n",
    "    match = pattern.match(word)\n",
    "    print(f\"{word} matches the pattern: {bool(match)}\")\n"
   ]
  },
  {
   "cell_type": "markdown",
   "metadata": {},
   "source": [
    "#### braces / curly brackets {}"
   ]
  },
  {
   "cell_type": "code",
   "execution_count": 17,
   "metadata": {},
   "outputs": [
    {
     "data": {
      "text/plain": [
       "'\\n* {2}\\nca{2}t = c + a를 반드시 두 번 이상 반복 + t\\n\\n{n,N} : 반복 횟수가 n부터 N까지인 문자와 매치\\n{3,} : 반복 횟수가 3 이상\\n{,3} : 반복 횟수가 3 이하\\n{1,}은 +, {0,}은 *랑 동일\\n\\n\\n*** *, +, ? 는 모두 {} 형식으로 고쳐 쓰는 것이 가능하지만 * + ? 를 쓰는 것을 권장\\n'"
      ]
     },
     "execution_count": 17,
     "metadata": {},
     "output_type": "execute_result"
    }
   ],
   "source": [
    "'''\n",
    "* {2}\n",
    "ca{2}t = c + a를 반드시 두 번 이상 반복 + t\n",
    "\n",
    "{n,N} : 반복 횟수가 n부터 N까지인 문자와 매치\n",
    "{3,} : 반복 횟수가 3 이상\n",
    "{,3} : 반복 횟수가 3 이하\n",
    "{1,}은 +, {0,}은 *랑 동일\n",
    "\n",
    "\n",
    "*** *, +, ? 는 모두 {} 형식으로 고쳐 쓰는 것이 가능하지만 * + ? 를 쓰는 것을 권장\n",
    "'''"
   ]
  },
  {
   "cell_type": "code",
   "execution_count": 18,
   "metadata": {},
   "outputs": [
    {
     "name": "stdout",
     "output_type": "stream",
     "text": [
      "cat matches the pattern: False\n",
      "caaaat matches the pattern: False\n",
      "caat matches the pattern: True\n",
      "c.t matches the pattern: False\n",
      "ct matches the pattern: False\n"
     ]
    }
   ],
   "source": [
    "# .match: 문자열 패턴에 부합하는지 체크\n",
    "import re\n",
    "\n",
    "words = ['cat', 'caaaat', 'caat','c.t','ct']\n",
    "pattern = re.compile(r'ca{2}t')\n",
    "\n",
    "for word in words:\n",
    "    match = pattern.match(word)\n",
    "    print(f\"{word} matches the pattern: {bool(match)}\")\n"
   ]
  },
  {
   "cell_type": "markdown",
   "metadata": {},
   "source": [
    "#### question mark ?"
   ]
  },
  {
   "cell_type": "code",
   "execution_count": 19,
   "metadata": {},
   "outputs": [
    {
     "data": {
      "text/plain": [
       "'\\nab?c = ? 앞에 있는 글자가 있어도 되고 없어도 됨\\n'"
      ]
     },
     "execution_count": 19,
     "metadata": {},
     "output_type": "execute_result"
    }
   ],
   "source": [
    "'''\n",
    "ab?c = ? 앞에 있는 글자가 있어도 되고 없어도 됨\n",
    "'''"
   ]
  },
  {
   "cell_type": "code",
   "execution_count": 20,
   "metadata": {},
   "outputs": [
    {
     "name": "stdout",
     "output_type": "stream",
     "text": [
      "cat matches the pattern: True\n",
      "caaaat matches the pattern: False\n",
      "caat matches the pattern: False\n",
      "c.t matches the pattern: False\n",
      "ct matches the pattern: True\n"
     ]
    }
   ],
   "source": [
    "# .match: 문자열 패턴에 부합하는지 체크\n",
    "import re\n",
    "\n",
    "words = ['cat', 'caaaat', 'caat','c.t','ct']\n",
    "pattern = re.compile(r'ca?t')\n",
    "\n",
    "for word in words:\n",
    "    match = pattern.match(word)\n",
    "    print(f\"{word} matches the pattern: {bool(match)}\")\n"
   ]
  },
  {
   "cell_type": "markdown",
   "metadata": {},
   "source": [
    "### 정규 표현식 모듈 : re\n",
    "    import re"
   ]
  },
  {
   "cell_type": "code",
   "execution_count": 21,
   "metadata": {},
   "outputs": [],
   "source": [
    "import re\n",
    "\n",
    "p = re.compile('ab*')"
   ]
  },
  {
   "cell_type": "markdown",
   "metadata": {},
   "source": [
    "* .match: 문자열 첫자리부터 정규식과 매치되는지 "
   ]
  },
  {
   "cell_type": "code",
   "execution_count": 22,
   "metadata": {},
   "outputs": [
    {
     "name": "stdout",
     "output_type": "stream",
     "text": [
      "None\n"
     ]
    }
   ],
   "source": [
    "p = re.compile('정규표현식')\n",
    "m = p.match('조사할 문자열')\n",
    "if m:\n",
    "    print('Match found: ', m.group())\n",
    "else:\n",
    "    print(m)"
   ]
  },
  {
   "cell_type": "code",
   "execution_count": 30,
   "metadata": {},
   "outputs": [
    {
     "name": "stdout",
     "output_type": "stream",
     "text": [
      "python:  <re.Match object; span=(0, 6), match='python'>\n",
      "---\n",
      "3 python:  None\n",
      "---\n",
      "py333thon:  <re.Match object; span=(0, 2), match='py'>\n",
      "---\n"
     ]
    }
   ],
   "source": [
    "import re\n",
    "p = re.compile('[a-z]+')\n",
    "m = p.match('python')\n",
    "print('python: ',m)\n",
    "print('---')\n",
    "m = p.match('3 python')\n",
    "print('3 python: ',m)\n",
    "print('---')\n",
    "m = p.match('py333thon')\n",
    "print('py333thon: ',m)\n",
    "print('---')"
   ]
  },
  {
   "cell_type": "markdown",
   "metadata": {},
   "source": [
    "* .search: 문자열 전체를 검색하여 정규식과 매치되는지 조사"
   ]
  },
  {
   "cell_type": "code",
   "execution_count": 31,
   "metadata": {},
   "outputs": [
    {
     "name": "stdout",
     "output_type": "stream",
     "text": [
      "python:  <re.Match object; span=(0, 6), match='python'>\n",
      "---\n",
      "3 python:  <re.Match object; span=(2, 8), match='python'>\n",
      "---\n",
      "py333thon:  <re.Match object; span=(0, 2), match='py'>\n",
      "---\n"
     ]
    }
   ],
   "source": [
    "m = p.search('python')\n",
    "print('python: ',m)\n",
    "print('---')\n",
    "m = p.search('3 python')\n",
    "print('3 python: ',m)\n",
    "print('---')\n",
    "m = p.search('py333thon')\n",
    "print('py333thon: ',m)\n",
    "print('---')"
   ]
  },
  {
   "cell_type": "markdown",
   "metadata": {},
   "source": [
    "* .findall: 정규식과 매치되는 모든 문자열을 리스트로 리턴"
   ]
  },
  {
   "cell_type": "code",
   "execution_count": 25,
   "metadata": {},
   "outputs": [
    {
     "name": "stdout",
     "output_type": "stream",
     "text": [
      "Life is too short:  ['ife', 'is', 'too', 'short']\n",
      "---\n",
      "Lifeistoo short:  ['ifeistoo', 'short']\n",
      "---\n"
     ]
    }
   ],
   "source": [
    "m = p.findall('Life is too short')\n",
    "print('Life is too short: ',m)\n",
    "print('---')\n",
    "m = p.findall('Lifeistoo short')\n",
    "print('Lifeistoo short: ',m)\n",
    "print('---')"
   ]
  },
  {
   "cell_type": "markdown",
   "metadata": {},
   "source": [
    "* .finditer: 정규식과 매치되는 모든 문자열을 반복 가능한 객체로 리턴"
   ]
  },
  {
   "cell_type": "code",
   "execution_count": 26,
   "metadata": {},
   "outputs": [
    {
     "name": "stdout",
     "output_type": "stream",
     "text": [
      "<callable_iterator object at 0x1072418d0>\n",
      "---\n",
      "<re.Match object; span=(1, 4), match='ife'>\n",
      "<re.Match object; span=(5, 7), match='is'>\n",
      "<re.Match object; span=(8, 11), match='too'>\n",
      "<re.Match object; span=(12, 17), match='short'>\n"
     ]
    }
   ],
   "source": [
    "result = p.finditer('Life is too short')\n",
    "print(result)\n",
    "print('---')\n",
    "\n",
    "for r in result: print(r)"
   ]
  },
  {
   "cell_type": "markdown",
   "metadata": {},
   "source": [
    "#### .match / search 객체의 메서드\n",
    "* group(): 조건에 맞는 문자 합치기\n",
    "* start(): 조건에 맞는 문자가 시작하는 인덱스\n",
    "* end(): 조건에 맞는 문자가 나오는 마지막 인덱스\n",
    "* span(): 조건에 맞는 문자가 나오는 인덱스 범위"
   ]
  },
  {
   "cell_type": "code",
   "execution_count": 27,
   "metadata": {},
   "outputs": [
    {
     "name": "stdout",
     "output_type": "stream",
     "text": [
      "python\n",
      "0\n",
      "6\n",
      "(0, 6)\n"
     ]
    }
   ],
   "source": [
    "# 메서드 확인 : match 버전\n",
    "p = re.compile('[a-z]+')\n",
    "m = p.match('python')\n",
    "print(m.group())\n",
    "print(m.start())\n",
    "print(m.end())\n",
    "print(m.span())"
   ]
  },
  {
   "cell_type": "code",
   "execution_count": 28,
   "metadata": {},
   "outputs": [
    {
     "name": "stdout",
     "output_type": "stream",
     "text": [
      "python\n",
      "2\n",
      "8\n",
      "(2, 8)\n"
     ]
    }
   ],
   "source": [
    "# 메서드 확인: search 버전\n",
    "p = re.compile('[a-z]+')\n",
    "m = p.search('3 python')\n",
    "print(m.group())\n",
    "print(m.start())\n",
    "print(m.end())\n",
    "print(m.span())"
   ]
  },
  {
   "cell_type": "code",
   "execution_count": null,
   "metadata": {},
   "outputs": [],
   "source": []
  }
 ],
 "metadata": {
  "kernelspec": {
   "display_name": "base",
   "language": "python",
   "name": "python3"
  },
  "language_info": {
   "codemirror_mode": {
    "name": "ipython",
    "version": 3
   },
   "file_extension": ".py",
   "mimetype": "text/x-python",
   "name": "python",
   "nbconvert_exporter": "python",
   "pygments_lexer": "ipython3",
   "version": "3.11.5"
  }
 },
 "nbformat": 4,
 "nbformat_minor": 2
}
