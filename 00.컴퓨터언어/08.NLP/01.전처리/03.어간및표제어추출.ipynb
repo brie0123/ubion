{
 "cells": [
  {
   "cell_type": "markdown",
   "metadata": {},
   "source": [
    "# 어간 및 표제어 추출: Stemming / Lemmatization\n",
    "---"
   ]
  },
  {
   "cell_type": "markdown",
   "metadata": {},
   "source": [
    "## 어간추출 Stemming\n",
    "* 어간 Stem : 단어의 의미가 변하지 않는 핵심 부분\n",
    "* 접사 Affix : 어간에 붙여서 단어의 새로운 의미를 만드는 부분 (접두사 Prefix, 접미사 Suffix)\n",
    "\n",
    "* 어간 추출: 단어의 어간만 남기고 다른 접사 등을 제거햇 단어를 축약하는 과정"
   ]
  },
  {
   "cell_type": "markdown",
   "metadata": {},
   "source": [
    "### PorterStemmer\n",
    "* Martin Porter가 개발한 알고리즘\n",
    "* 규칙 기반의 접근 방식을 사용해서 단어 변환\n",
    "* 단어의 어미를 제거하고 어간을 찾아내어 축약하는 방식으로 적용\n",
    "* 좀더 자주 사용되는 형태를 유지"
   ]
  },
  {
   "cell_type": "code",
   "execution_count": 7,
   "metadata": {},
   "outputs": [
    {
     "name": "stdout",
     "output_type": "stream",
     "text": [
      "원본 단어: policy, 어간 추출 결과: polici\n",
      "원본 단어: doing, 어간 추출 결과: do\n",
      "원본 단어: organization, 어간 추출 결과: organ\n",
      "원본 단어: have, 어간 추출 결과: have\n",
      "원본 단어: going, 어간 추출 결과: go\n",
      "원본 단어: love, 어간 추출 결과: love\n",
      "원본 단어: lives, 어간 추출 결과: live\n",
      "원본 단어: fly, 어간 추출 결과: fli\n",
      "원본 단어: dies, 어간 추출 결과: die\n",
      "원본 단어: watched, 어간 추출 결과: watch\n",
      "원본 단어: has, 어간 추출 결과: ha\n",
      "원본 단어: starting, 어간 추출 결과: start\n"
     ]
    }
   ],
   "source": [
    "from nltk.stem import PorterStemmer\n",
    "\n",
    "porter = PorterStemmer()\n",
    "\n",
    "words = ['policy','doing','organization','have','going','love','lives','fly','dies','watched','has','starting']\n",
    "\n",
    "for word in words:\n",
    "    stemmed_word = porter.stem(word)\n",
    "    print(f'원본 단어: {word}, 어간 추출 결과: {stemmed_word}')"
   ]
  },
  {
   "cell_type": "markdown",
   "metadata": {},
   "source": [
    "### LancasterStemmer\n",
    "* Chris D. R어쩌구가 개발한 알고리즘\n",
    "* PorterStemmer보다 더 적극적인 방식으로 단어 축약\n",
    "* 많은 규칙을 적용하여 단어를 더 짧게 변환"
   ]
  },
  {
   "cell_type": "code",
   "execution_count": 8,
   "metadata": {},
   "outputs": [
    {
     "name": "stdout",
     "output_type": "stream",
     "text": [
      "원본 단어: policy, 어간 추출 결과: policy\n",
      "원본 단어: doing, 어간 추출 결과: doing\n",
      "원본 단어: organization, 어간 추출 결과: org\n",
      "원본 단어: have, 어간 추출 결과: hav\n",
      "원본 단어: going, 어간 추출 결과: going\n",
      "원본 단어: love, 어간 추출 결과: lov\n",
      "원본 단어: lives, 어간 추출 결과: liv\n",
      "원본 단어: fly, 어간 추출 결과: fly\n",
      "원본 단어: dies, 어간 추출 결과: die\n",
      "원본 단어: watched, 어간 추출 결과: watch\n",
      "원본 단어: has, 어간 추출 결과: has\n",
      "원본 단어: starting, 어간 추출 결과: start\n"
     ]
    }
   ],
   "source": [
    "from nltk.stem import LancasterStemmer\n",
    "\n",
    "porter = LancasterStemmer()\n",
    "\n",
    "words = ['policy','doing','organization','have','going','love','lives','fly','dies','watched','has','starting']\n",
    "\n",
    "for word in words:\n",
    "    stemmed_word = porter.stem(word)\n",
    "    print(f'원본 단어: {word}, 어간 추출 결과: {stemmed_word}')"
   ]
  },
  {
   "cell_type": "markdown",
   "metadata": {},
   "source": [
    "### Porter vs Lancaster\n",
    "1. Porter 알고리즘 규칙\n",
    "\n",
    "2. Lancaster 알고리즘 규칙\n",
    "\n"
   ]
  },
  {
   "cell_type": "code",
   "execution_count": 9,
   "metadata": {},
   "outputs": [
    {
     "name": "stdout",
     "output_type": "stream",
     "text": [
      "porter 어간 추출:  ['polici', 'do', 'organ', 'have', 'go', 'love', 'live', 'fli', 'die', 'watch', 'ha', 'start']\n",
      "lancaster 어간 추출:  ['policy', 'doing', 'org', 'hav', 'going', 'lov', 'liv', 'fly', 'die', 'watch', 'has', 'start']\n"
     ]
    }
   ],
   "source": [
    "from nltk.stem import PorterStemmer\n",
    "from nltk.stem import LancasterStemmer\n",
    "\n",
    "porter_stemmer = PorterStemmer()\n",
    "lancaster_stemmer = LancasterStemmer()\n",
    "\n",
    "words = ['policy','doing','organization','have','going','love','lives','fly','dies','watched','has','starting']\n",
    "\n",
    "porter_results = [porter_stemmer.stem(w) for w in words]\n",
    "lancaster_results = [lancaster_stemmer.stem(w) for w in words]\n",
    "\n",
    "print('porter 어간 추출: ', porter_results)\n",
    "print('lancaster 어간 추출: ', lancaster_results)"
   ]
  },
  {
   "cell_type": "markdown",
   "metadata": {},
   "source": [
    "## 표제어추출 Lemmatization\n",
    ": 단어의 원형을 찾아 단어의 형태소적/문법적 특성을 고려해서 사전에 등재된 단어로 변환\n",
    "* 어간 추출보다 정확 ex) am, are -> be\n",
    "* 문법적, 의미적인 측면을 고려하므로 복잡하고 정확한 처리를 수행"
   ]
  },
  {
   "cell_type": "code",
   "execution_count": 10,
   "metadata": {},
   "outputs": [
    {
     "name": "stdout",
     "output_type": "stream",
     "text": [
      "원본 단어:  starting\n",
      "Lemmatization 결과:  ['policy', 'doing', 'organization', 'have', 'going', 'love', 'life', 'fly', 'dy', 'watched', 'ha', 'starting']\n"
     ]
    }
   ],
   "source": [
    "from nltk.stem import WordNetLemmatizer\n",
    "\n",
    "lemmatizer = WordNetLemmatizer()\n",
    "words = ['policy','doing','organization','have','going','love','lives','fly','dies','watched','has','starting']\n",
    "lemmatized_words = [lemmatizer.lemmatize(word) for word in words]\n",
    "\n",
    "print('원본 단어: ', word)\n",
    "print('Lemmatization 결과: ', lemmatized_words)"
   ]
  },
  {
   "cell_type": "code",
   "execution_count": 16,
   "metadata": {},
   "outputs": [
    {
     "name": "stdout",
     "output_type": "stream",
     "text": [
      "die\n",
      "watch\n",
      "have\n"
     ]
    }
   ],
   "source": [
    "# lemmatizer에 단어 품사 지정해주면 좀 더 정확한 단어가 나온다\n",
    "\n",
    "print(lemmatizer.lemmatize('dies','v'))\n",
    "print(lemmatizer.lemmatize('watched','v'))\n",
    "print(lemmatizer.lemmatize('has','v'))"
   ]
  }
 ],
 "metadata": {
  "kernelspec": {
   "display_name": "base",
   "language": "python",
   "name": "python3"
  },
  "language_info": {
   "codemirror_mode": {
    "name": "ipython",
    "version": 3
   },
   "file_extension": ".py",
   "mimetype": "text/x-python",
   "name": "python",
   "nbconvert_exporter": "python",
   "pygments_lexer": "ipython3",
   "version": "3.11.5"
  }
 },
 "nbformat": 4,
 "nbformat_minor": 2
}
