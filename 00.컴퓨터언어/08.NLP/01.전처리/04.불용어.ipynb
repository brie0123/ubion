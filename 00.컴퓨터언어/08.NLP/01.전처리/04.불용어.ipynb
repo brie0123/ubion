{
 "cells": [
  {
   "cell_type": "markdown",
   "metadata": {},
   "source": [
    "# 불용어"
   ]
  },
  {
   "cell_type": "code",
   "execution_count": 3,
   "metadata": {},
   "outputs": [
    {
     "data": {
      "text/plain": [
       "179"
      ]
     },
     "execution_count": 3,
     "metadata": {},
     "output_type": "execute_result"
    }
   ],
   "source": [
    "from nltk.corpus import stopwords\n",
    "from nltk.tokenize import word_tokenize\n",
    "from konlpy.tag import Okt\n",
    "\n",
    "stop_words_list = stopwords.words('english')\n",
    "len(stop_words_list)"
   ]
  },
  {
   "cell_type": "code",
   "execution_count": 4,
   "metadata": {},
   "outputs": [
    {
     "data": {
      "text/plain": [
       "['i', 'me', 'my', 'myself', 'we', 'our', 'ours', 'ourselves', 'you', \"you're\"]"
      ]
     },
     "execution_count": 4,
     "metadata": {},
     "output_type": "execute_result"
    }
   ],
   "source": [
    "stop_words_list[:10]"
   ]
  },
  {
   "cell_type": "markdown",
   "metadata": {},
   "source": [
    "## 불용어 제거"
   ]
  },
  {
   "cell_type": "code",
   "execution_count": 5,
   "metadata": {},
   "outputs": [
    {
     "data": {
      "text/plain": [
       "['Family', 'iportant', 'thing', '.', \"'s\", 'everything']"
      ]
     },
     "execution_count": 5,
     "metadata": {},
     "output_type": "execute_result"
    }
   ],
   "source": [
    "example = \"Family is not an iportant thing. It's everything\"\n",
    "stop_words = set(stopwords.words('english'))\n",
    "word_tokens = word_tokenize(example)\n",
    "word_tokens\n",
    "\n",
    "filtered = []\n",
    "for word in word_tokens:\n",
    "    if word.lower() not in stop_words:\n",
    "        filtered.append(word)\n",
    "    else:\n",
    "        pass\n",
    "filtered"
   ]
  },
  {
   "cell_type": "code",
   "execution_count": 6,
   "metadata": {},
   "outputs": [
    {
     "name": "stdout",
     "output_type": "stream",
     "text": [
      "filtered:  ['Family', 'iportant', 'thing', '.', 'It', \"'s\", 'everything']\n",
      "filtered 2:  ['Family', 'iportant', 'thing', '.', \"'s\", 'everything']\n"
     ]
    }
   ],
   "source": [
    "filtered = []\n",
    "for word in word_tokens:\n",
    "    if word not in stop_words:\n",
    "        filtered.append(word)\n",
    "    else:\n",
    "        pass\n",
    "print('filtered: ', filtered)\n",
    "\n",
    "filtered2 = [word for word in word_tokens if word.lower() not in stop_words]\n",
    "print('filtered 2: ', filtered2)"
   ]
  },
  {
   "cell_type": "code",
   "execution_count": 7,
   "metadata": {},
   "outputs": [
    {
     "data": {
      "text/plain": [
       "['Family', 'important', 'thing', '.', \"'s\", 'everything']"
      ]
     },
     "execution_count": 7,
     "metadata": {},
     "output_type": "execute_result"
    }
   ],
   "source": [
    "# chatGPT에게 문의한 more streamlined version\n",
    "from nltk.corpus import stopwords\n",
    "from nltk.tokenize import word_tokenize\n",
    "\n",
    "example = \"Family is not an important thing. It's everything\"\n",
    "stop_words = set(stopwords.words('english'))\n",
    "\n",
    "word_tokens = word_tokenize(example)\n",
    "filtered = [word for word in word_tokens if word.lower() not in stop_words]\n",
    "filtered\n"
   ]
  },
  {
   "cell_type": "markdown",
   "metadata": {},
   "source": [
    "## 한국어 불용어 처리"
   ]
  },
  {
   "cell_type": "code",
   "execution_count": 8,
   "metadata": {},
   "outputs": [
    {
     "name": "stdout",
     "output_type": "stream",
     "text": [
      "['삶은', '짧고', '소중하며', ',', '어떤', '상황', '에서도', '감사하고', '살아가야', '한다', '.']\n",
      "['삶은', '짧고', '소중하며,', '상황에서도', '감사하고', '살아가야', '한다.']\n"
     ]
    }
   ],
   "source": [
    "\n",
    "okt = Okt()\n",
    "\n",
    "example = '삶은 짧고 소중하며, 어떤 상황에서도 감사하고 살아가야 한다.'\n",
    "stop_words = '은 하며 어떤 하고 가야'\n",
    "\n",
    "words = okt.morphs(example)\n",
    "words\n",
    "\n",
    "stop_words = stop_words.split(' ')\n",
    "stop_words\n",
    "\n",
    "filtered = [word for word in example.split(' ') if word not in stop_words]\n",
    "print(words)\n",
    "print(filtered)"
   ]
  }
 ],
 "metadata": {
  "kernelspec": {
   "display_name": "base",
   "language": "python",
   "name": "python3"
  },
  "language_info": {
   "codemirror_mode": {
    "name": "ipython",
    "version": 3
   },
   "file_extension": ".py",
   "mimetype": "text/x-python",
   "name": "python",
   "nbconvert_exporter": "python",
   "pygments_lexer": "ipython3",
   "version": "3.11.5"
  }
 },
 "nbformat": 4,
 "nbformat_minor": 2
}
