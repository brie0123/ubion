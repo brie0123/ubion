{
 "cells": [
  {
   "cell_type": "markdown",
   "metadata": {},
   "source": [
    "# TF-IDF \n",
    ": Term Frequency-Inverse Document Frequency\n",
    "---"
   ]
  },
  {
   "cell_type": "code",
   "execution_count": 2,
   "metadata": {},
   "outputs": [
    {
     "data": {
      "text/html": [
       "<div>\n",
       "<style scoped>\n",
       "    .dataframe tbody tr th:only-of-type {\n",
       "        vertical-align: middle;\n",
       "    }\n",
       "\n",
       "    .dataframe tbody tr th {\n",
       "        vertical-align: top;\n",
       "    }\n",
       "\n",
       "    .dataframe thead th {\n",
       "        text-align: right;\n",
       "    }\n",
       "</style>\n",
       "<table border=\"1\" class=\"dataframe\">\n",
       "  <thead>\n",
       "    <tr style=\"text-align: right;\">\n",
       "      <th></th>\n",
       "      <th>review</th>\n",
       "      <th>sentiment</th>\n",
       "    </tr>\n",
       "  </thead>\n",
       "  <tbody>\n",
       "    <tr>\n",
       "      <th>0</th>\n",
       "      <td>A very, very, very slow-moving, aimless movie ...</td>\n",
       "      <td>0</td>\n",
       "    </tr>\n",
       "    <tr>\n",
       "      <th>1</th>\n",
       "      <td>Not sure who was more lost - the flat characte...</td>\n",
       "      <td>0</td>\n",
       "    </tr>\n",
       "    <tr>\n",
       "      <th>2</th>\n",
       "      <td>Attempting artiness with black &amp; white and cle...</td>\n",
       "      <td>0</td>\n",
       "    </tr>\n",
       "    <tr>\n",
       "      <th>3</th>\n",
       "      <td>Very little music or anything to speak of.</td>\n",
       "      <td>0</td>\n",
       "    </tr>\n",
       "    <tr>\n",
       "      <th>4</th>\n",
       "      <td>The best scene in the movie was when Gerardo i...</td>\n",
       "      <td>1</td>\n",
       "    </tr>\n",
       "    <tr>\n",
       "      <th>...</th>\n",
       "      <td>...</td>\n",
       "      <td>...</td>\n",
       "    </tr>\n",
       "    <tr>\n",
       "      <th>743</th>\n",
       "      <td>I just got bored watching Jessice Lange take h...</td>\n",
       "      <td>0</td>\n",
       "    </tr>\n",
       "    <tr>\n",
       "      <th>744</th>\n",
       "      <td>Unfortunately, any virtue in this film's produ...</td>\n",
       "      <td>0</td>\n",
       "    </tr>\n",
       "    <tr>\n",
       "      <th>745</th>\n",
       "      <td>In a word, it is embarrassing.</td>\n",
       "      <td>0</td>\n",
       "    </tr>\n",
       "    <tr>\n",
       "      <th>746</th>\n",
       "      <td>Exceptionally bad!</td>\n",
       "      <td>0</td>\n",
       "    </tr>\n",
       "    <tr>\n",
       "      <th>747</th>\n",
       "      <td>All in all its an insult to one's intelligence...</td>\n",
       "      <td>0</td>\n",
       "    </tr>\n",
       "  </tbody>\n",
       "</table>\n",
       "<p>748 rows × 2 columns</p>\n",
       "</div>"
      ],
      "text/plain": [
       "                                                review  sentiment\n",
       "0    A very, very, very slow-moving, aimless movie ...          0\n",
       "1    Not sure who was more lost - the flat characte...          0\n",
       "2    Attempting artiness with black & white and cle...          0\n",
       "3         Very little music or anything to speak of.            0\n",
       "4    The best scene in the movie was when Gerardo i...          1\n",
       "..                                                 ...        ...\n",
       "743  I just got bored watching Jessice Lange take h...          0\n",
       "744  Unfortunately, any virtue in this film's produ...          0\n",
       "745                   In a word, it is embarrassing.            0\n",
       "746                               Exceptionally bad!            0\n",
       "747  All in all its an insult to one's intelligence...          0\n",
       "\n",
       "[748 rows x 2 columns]"
      ]
     },
     "execution_count": 2,
     "metadata": {},
     "output_type": "execute_result"
    }
   ],
   "source": [
    "import pandas as pd\n",
    "\n",
    "df = pd.read_excel('./data/imdb.xlsx',index_col=0)\n",
    "df"
   ]
  },
  {
   "cell_type": "markdown",
   "metadata": {},
   "source": [
    "### TfidfVectorizer\n",
    "    from sklearn.feature_extraction.text import TfidfVectorizer  "
   ]
  },
  {
   "cell_type": "code",
   "execution_count": 5,
   "metadata": {},
   "outputs": [
    {
     "name": "stdout",
     "output_type": "stream",
     "text": [
      "  (0, 264)\t0.43676152065842583\n",
      "  (0, 499)\t0.5112421488050499\n",
      "  (0, 284)\t0.23148088751652843\n",
      "  (0, 286)\t0.5112421488050499\n",
      "  (0, 385)\t0.48261672511123166\n",
      "  (1, 185)\t0.4508252485652821\n",
      "  (1, 27)\t0.4630757536620436\n",
      "  (1, 61)\t0.330043211383874\n",
      "  (1, 253)\t0.4775650258680223\n",
      "  (1, 417)\t0.4952984618525246\n",
      "  (2, 293)\t0.3326996842333155\n",
      "  (2, 242)\t0.30667834544717537\n",
      "  (2, 319)\t0.24142314513946203\n",
      "  (2, 321)\t0.3140711939059074\n",
      "  (2, 5)\t0.22041303500891976\n",
      "  (2, 354)\t0.32260561111952785\n",
      "  (2, 108)\t0.3140711939059074\n",
      "  (2, 54)\t0.28904743387646237\n",
      "  (2, 71)\t0.32260561111952785\n",
      "  (2, 475)\t0.30015739096222105\n",
      "  (2, 43)\t0.2943241984036562\n",
      "  (2, 284)\t0.15064019733663225\n",
      "  (3, 394)\t0.6747516922530599\n",
      "  (3, 287)\t0.5316526285937699\n",
      "  (3, 244)\t0.5119137000618044\n",
      "  :\t:\n",
      "  (739, 146)\t1.0\n",
      "  (740, 9)\t0.83021432552157\n",
      "  (740, 182)\t0.5574443234070686\n",
      "  (741, 250)\t0.6167137686897144\n",
      "  (741, 481)\t0.4797072301038725\n",
      "  (741, 405)\t0.4694360111750707\n",
      "  (741, 239)\t0.41130880407139175\n",
      "  (742, 284)\t1.0\n",
      "  (743, 46)\t0.5981049664516604\n",
      "  (743, 179)\t0.5396026349269978\n",
      "  (743, 473)\t0.46523248115164195\n",
      "  (743, 225)\t0.36695801390238936\n",
      "  (744, 456)\t0.4787210520194807\n",
      "  (744, 369)\t0.3723703953368651\n",
      "  (744, 484)\t0.3723703953368651\n",
      "  (744, 333)\t0.4641967061027434\n",
      "  (744, 153)\t0.22103009773200638\n",
      "  (744, 253)\t0.4787210520194807\n",
      "  (745, 483)\t1.0\n",
      "  (746, 33)\t1.0\n",
      "  (747, 215)\t0.46489396551779516\n",
      "  (747, 216)\t0.46489396551779516\n",
      "  (747, 205)\t0.46489396551779516\n",
      "  (747, 283)\t0.45078913193819853\n",
      "  (747, 468)\t0.3852401342043984\n"
     ]
    }
   ],
   "source": [
    "from sklearn.feature_extraction.text import TfidfVectorizer\n",
    "\n",
    "tfidf = TfidfVectorizer(max_features=500, stop_words='english')\n",
    "tdm = tfidf.fit_transform(df['review'])\n",
    "\n",
    "print(tdm)"
   ]
  },
  {
   "cell_type": "code",
   "execution_count": 6,
   "metadata": {},
   "outputs": [
    {
     "data": {
      "text/html": [
       "<div>\n",
       "<style scoped>\n",
       "    .dataframe tbody tr th:only-of-type {\n",
       "        vertical-align: middle;\n",
       "    }\n",
       "\n",
       "    .dataframe tbody tr th {\n",
       "        vertical-align: top;\n",
       "    }\n",
       "\n",
       "    .dataframe thead th {\n",
       "        text-align: right;\n",
       "    }\n",
       "</style>\n",
       "<table border=\"1\" class=\"dataframe\">\n",
       "  <thead>\n",
       "    <tr style=\"text-align: right;\">\n",
       "      <th></th>\n",
       "      <th>단어</th>\n",
       "      <th>tf-idf</th>\n",
       "    </tr>\n",
       "  </thead>\n",
       "  <tbody>\n",
       "    <tr>\n",
       "      <th>284</th>\n",
       "      <td>movie</td>\n",
       "      <td>44.917213</td>\n",
       "    </tr>\n",
       "    <tr>\n",
       "      <th>153</th>\n",
       "      <td>film</td>\n",
       "      <td>40.356390</td>\n",
       "    </tr>\n",
       "    <tr>\n",
       "      <th>33</th>\n",
       "      <td>bad</td>\n",
       "      <td>25.258572</td>\n",
       "    </tr>\n",
       "    <tr>\n",
       "      <th>225</th>\n",
       "      <td>just</td>\n",
       "      <td>20.296871</td>\n",
       "    </tr>\n",
       "    <tr>\n",
       "      <th>178</th>\n",
       "      <td>good</td>\n",
       "      <td>18.604656</td>\n",
       "    </tr>\n",
       "  </tbody>\n",
       "</table>\n",
       "</div>"
      ],
      "text/plain": [
       "        단어     tf-idf\n",
       "284  movie  44.917213\n",
       "153   film  40.356390\n",
       "33     bad  25.258572\n",
       "225   just  20.296871\n",
       "178   good  18.604656"
      ]
     },
     "execution_count": 6,
     "metadata": {},
     "output_type": "execute_result"
    }
   ],
   "source": [
    "word_count = pd.DataFrame({\n",
    "    '단어':tfidf.get_feature_names_out(),\n",
    "    'tf-idf':tdm.sum(axis=0).flat\n",
    "})\n",
    "\n",
    "word_count.sort_values('tf-idf',ascending=False).head(5)"
   ]
  },
  {
   "cell_type": "markdown",
   "metadata": {},
   "source": [
    "### CountVectorizer() + TfidfTransformer() \n",
    "    from sklearn.feature_extraction.text import CountVectorizer\n",
    "    from sklearn.feature_extraction.text import TfidfTransformer\n",
    "    "
   ]
  },
  {
   "cell_type": "code",
   "execution_count": 8,
   "metadata": {},
   "outputs": [
    {
     "data": {
      "text/plain": [
       "<748x500 sparse matrix of type '<class 'numpy.float64'>'\n",
       "\twith 3434 stored elements in Compressed Sparse Row format>"
      ]
     },
     "execution_count": 8,
     "metadata": {},
     "output_type": "execute_result"
    }
   ],
   "source": [
    "from sklearn.feature_extraction.text import CountVectorizer\n",
    "from sklearn.feature_extraction.text import TfidfTransformer\n",
    "\n",
    "cv = CountVectorizer(max_features=500, stop_words='english')\n",
    "tdm2 = cv.fit_transform(df['review'])\n",
    "\n",
    "trans = TfidfTransformer()\n",
    "tdm3 = trans.fit_transform(tdm2)\n",
    "tdm3"
   ]
  },
  {
   "cell_type": "code",
   "execution_count": 9,
   "metadata": {},
   "outputs": [
    {
     "data": {
      "text/html": [
       "<div>\n",
       "<style scoped>\n",
       "    .dataframe tbody tr th:only-of-type {\n",
       "        vertical-align: middle;\n",
       "    }\n",
       "\n",
       "    .dataframe tbody tr th {\n",
       "        vertical-align: top;\n",
       "    }\n",
       "\n",
       "    .dataframe thead th {\n",
       "        text-align: right;\n",
       "    }\n",
       "</style>\n",
       "<table border=\"1\" class=\"dataframe\">\n",
       "  <thead>\n",
       "    <tr style=\"text-align: right;\">\n",
       "      <th></th>\n",
       "      <th>단어</th>\n",
       "      <th>tf-idf</th>\n",
       "    </tr>\n",
       "  </thead>\n",
       "  <tbody>\n",
       "    <tr>\n",
       "      <th>284</th>\n",
       "      <td>movie</td>\n",
       "      <td>44.917213</td>\n",
       "    </tr>\n",
       "    <tr>\n",
       "      <th>153</th>\n",
       "      <td>film</td>\n",
       "      <td>40.356390</td>\n",
       "    </tr>\n",
       "    <tr>\n",
       "      <th>33</th>\n",
       "      <td>bad</td>\n",
       "      <td>25.258572</td>\n",
       "    </tr>\n",
       "    <tr>\n",
       "      <th>225</th>\n",
       "      <td>just</td>\n",
       "      <td>20.296871</td>\n",
       "    </tr>\n",
       "    <tr>\n",
       "      <th>178</th>\n",
       "      <td>good</td>\n",
       "      <td>18.604656</td>\n",
       "    </tr>\n",
       "  </tbody>\n",
       "</table>\n",
       "</div>"
      ],
      "text/plain": [
       "        단어     tf-idf\n",
       "284  movie  44.917213\n",
       "153   film  40.356390\n",
       "33     bad  25.258572\n",
       "225   just  20.296871\n",
       "178   good  18.604656"
      ]
     },
     "execution_count": 9,
     "metadata": {},
     "output_type": "execute_result"
    }
   ],
   "source": [
    "wc2 = pd.DataFrame({\n",
    "    '단어':cv.get_feature_names_out(),\n",
    "    'tf-idf':tdm3.sum(axis=0).flat\n",
    "})\n",
    "wc2.sort_values('tf-idf',ascending=False).head()"
   ]
  },
  {
   "cell_type": "markdown",
   "metadata": {},
   "source": [
    "### 두가지 방법으로 만든 tdm 비교"
   ]
  },
  {
   "cell_type": "code",
   "execution_count": 10,
   "metadata": {},
   "outputs": [
    {
     "data": {
      "text/plain": [
       "True"
      ]
     },
     "execution_count": 10,
     "metadata": {},
     "output_type": "execute_result"
    }
   ],
   "source": [
    "import numpy as np\n",
    "np.allclose(tdm.A, tdm3.A)\n",
    "## .A는 압축된(Compressed) tdm,tdm3을 압출풀기 알집같은 거임."
   ]
  }
 ],
 "metadata": {
  "kernelspec": {
   "display_name": "base",
   "language": "python",
   "name": "python3"
  },
  "language_info": {
   "codemirror_mode": {
    "name": "ipython",
    "version": 3
   },
   "file_extension": ".py",
   "mimetype": "text/x-python",
   "name": "python",
   "nbconvert_exporter": "python",
   "pygments_lexer": "ipython3",
   "version": "3.11.5"
  }
 },
 "nbformat": 4,
 "nbformat_minor": 2
}
