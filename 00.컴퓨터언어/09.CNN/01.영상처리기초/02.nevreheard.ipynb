{
 "cells": [
  {
   "cell_type": "code",
   "execution_count": 3,
   "metadata": {},
   "outputs": [
    {
     "name": "stdout",
     "output_type": "stream",
     "text": [
      "type(image1): <class 'numpy.ndarray'>\n",
      "img1.shape: (480, 640)\n",
      "type(image2): <class 'numpy.ndarray'>\n",
      "img1.dtype: uint8\n"
     ]
    },
    {
     "ename": "ValueError",
     "evalue": "not enough values to unpack (expected 2, got 1)",
     "output_type": "error",
     "traceback": [
      "\u001b[0;31m---------------------------------------------------------------------------\u001b[0m",
      "\u001b[0;31mValueError\u001b[0m                                Traceback (most recent call last)",
      "Cell \u001b[0;32mIn[3], line 21\u001b[0m\n\u001b[1;32m     18\u001b[0m cv2\u001b[38;5;241m.\u001b[39mwaitKey()\n\u001b[1;32m     20\u001b[0m \u001b[38;5;66;03m# 영상의 크기 참조\u001b[39;00m\n\u001b[0;32m---> 21\u001b[0m h,w \u001b[38;5;241m=\u001b[39m img2\u001b[38;5;241m.\u001b[39mshape[:\u001b[38;5;241m1\u001b[39m]\n\u001b[1;32m     22\u001b[0m \u001b[38;5;28mprint\u001b[39m(\u001b[38;5;124m'\u001b[39m\u001b[38;5;124mimg2 size::\u001b[39m\u001b[38;5;132;01m{}\u001b[39;00m\u001b[38;5;124m * \u001b[39m\u001b[38;5;132;01m{}\u001b[39;00m\u001b[38;5;124m'\u001b[39m\u001b[38;5;241m.\u001b[39mformat(w,h))\n\u001b[1;32m     24\u001b[0m \u001b[38;5;28;01mif\u001b[39;00m \u001b[38;5;28mlen\u001b[39m(img1\u001b[38;5;241m.\u001b[39mshape) \u001b[38;5;241m==\u001b[39m \u001b[38;5;241m2\u001b[39m:\n",
      "\u001b[0;31mValueError\u001b[0m: not enough values to unpack (expected 2, got 1)"
     ]
    }
   ],
   "source": [
    "import sys\n",
    "import cv2\n",
    "\n",
    "img1 = cv2.imread('./images/cat.bmp', cv2.IMREAD_GRAYSCALE)\n",
    "img2 = cv2.imread('./images/cat.bmp', cv2.IMREAD_COLOR)\n",
    "\n",
    "if img1 is None or img2 is None:\n",
    "    print('Image load failed')\n",
    "    sys.exit()\n",
    "    \n",
    "print('type(image1):', type(img1))\n",
    "print('img1.shape:',img1.shape)\n",
    "print('type(image2):', type(img2))\n",
    "print('img1.dtype:',img1.dtype)\n",
    "\n",
    "cv2.imshow('img1',img1)\n",
    "cv2.imshow('img2',img2)\n",
    "cv2.waitKey()\n",
    "\n",
    "# 영상의 크기 참조\n",
    "h,w = img2.shape[:1]\n",
    "print('img2 size::{} * {}'.format(w,h))\n",
    "\n",
    "if len(img1.shape) == 2:\n",
    "    print('img1 is a grayscale image')\n",
    "elif len(img1.shape) == 3:\n",
    "    print('img1 is a truecolor image')\n",
    "\n",
    "\n",
    "# 영상 픽셀 값  참조\n",
    "for y in range(h):\n",
    "    for x in range(w):\n",
    "        img1[y,x] = 255\n",
    "        img2[y,x] = (0,0,255)\n",
    "        \n",
    "# # 위 for문과 동일한 효과\n",
    "# img1[:,:] = 255\n",
    "# img2[:,:] = (0,0,255)\n",
    "\n",
    "\n",
    "cv2.imshow('img1',img1)\n",
    "cv2.imshow('img2',img2)\n",
    "cv2.waitKey()\n",
    "\n",
    "cv2.destroyAllWindos()"
   ]
  },
  {
   "cell_type": "code",
   "execution_count": null,
   "metadata": {},
   "outputs": [],
   "source": []
  }
 ],
 "metadata": {
  "kernelspec": {
   "display_name": "Python 3",
   "language": "python",
   "name": "python3"
  },
  "language_info": {
   "codemirror_mode": {
    "name": "ipython",
    "version": 3
   },
   "file_extension": ".py",
   "mimetype": "text/x-python",
   "name": "python",
   "nbconvert_exporter": "python",
   "pygments_lexer": "ipython3",
   "version": "3.11.7"
  }
 },
 "nbformat": 4,
 "nbformat_minor": 2
}
