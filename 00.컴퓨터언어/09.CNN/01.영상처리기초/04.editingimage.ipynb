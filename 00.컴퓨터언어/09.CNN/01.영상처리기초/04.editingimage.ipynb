{
 "cells": [
  {
   "cell_type": "markdown",
   "metadata": {},
   "source": [
    "---\n",
    "# openCV로 영상 편집\n",
    "---"
   ]
  },
  {
   "cell_type": "code",
   "execution_count": 6,
   "metadata": {},
   "outputs": [],
   "source": [
    "import numpy as np\n",
    "import cv2\n",
    "\n",
    "#새 영상 생성하기\n",
    "img1 = np.empty((240,320),dtype=np.uint8)                   # grayscale image\n",
    "img2 = np.zeros((240,320,3), dtype=np.uint8)                # color image\n",
    "img3 = np.ones ((240,320), dtype=np.uint8) * 255            # white\n",
    "img4 = np.full((240,320,3),(0,255,255),dtype=np.uint8)      # yellow\n",
    "\n",
    "# 이미지 출력\n",
    "cv2.imshow('img1', img1)\n",
    "cv2.imshow('img2', img2)\n",
    "cv2.imshow('img3', img3)\n",
    "cv2.imshow('img4', img4)\n",
    "\n",
    "cv2.waitKey()\n",
    "cv2.destroyAllWindows()"
   ]
  },
  {
   "cell_type": "markdown",
   "metadata": {},
   "source": [
    "## .copy() : 영상 복사"
   ]
  },
  {
   "cell_type": "code",
   "execution_count": 7,
   "metadata": {},
   "outputs": [],
   "source": [
    "img1 = cv2.imread('./images/Happyfish.jpg')\n",
    "\n",
    "img2 = img1         # 참조\n",
    "img3 = img1.copy()  # 복사\n",
    "\n",
    "cv2.imshow('img1',img1)\n",
    "cv2.imshow('img2',img2)\n",
    "cv2.imshow('img3',img3)\n",
    "\n",
    "cv2.waitKey()\n",
    "cv2.destroyAllWindows()"
   ]
  },
  {
   "cell_type": "code",
   "execution_count": 8,
   "metadata": {},
   "outputs": [],
   "source": [
    "# 부분 영상 추출\n",
    "img2 = img1[40:120,30:150]      #numpy.ndarray의 슬라이싱으로 픽셀을 슬라이싱 해옴\n",
    "img3 = img1[40:120,30:150].copy()\n",
    "\n",
    "img2.fill(0)                    # img2 남은 부분 채우기\n",
    "\n",
    "cv2.imshow('img1',img1)\n",
    "cv2.imshow('img2',img2)\n",
    "cv2.imshow('img3',img3)\n",
    "\n",
    "cv2.waitKey()\n",
    "cv2.destroyAllWindows()"
   ]
  },
  {
   "cell_type": "code",
   "execution_count": null,
   "metadata": {},
   "outputs": [],
   "source": []
  }
 ],
 "metadata": {
  "kernelspec": {
   "display_name": "Python 3",
   "language": "python",
   "name": "python3"
  },
  "language_info": {
   "codemirror_mode": {
    "name": "ipython",
    "version": 3
   },
   "file_extension": ".py",
   "mimetype": "text/x-python",
   "name": "python",
   "nbconvert_exporter": "python",
   "pygments_lexer": "ipython3",
   "version": "3.11.7"
  }
 },
 "nbformat": 4,
 "nbformat_minor": 2
}
