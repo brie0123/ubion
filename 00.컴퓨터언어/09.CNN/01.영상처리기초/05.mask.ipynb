{
 "cells": [
  {
   "cell_type": "markdown",
   "metadata": {},
   "source": [
    "---\n",
    "# ROI region of interest : 관심 영역 이미지 마스킹\n",
    "---"
   ]
  },
  {
   "cell_type": "markdown",
   "metadata": {},
   "source": [
    "## .copyTo(src, mask, dst) : src에서 mask 부분만 잘라서 dst에 붙여넣기"
   ]
  },
  {
   "cell_type": "code",
   "execution_count": 3,
   "metadata": {},
   "outputs": [],
   "source": [
    "import sys\n",
    "import cv2\n",
    "\n",
    "src = cv2.imread('./images/airplane.bmp', cv2.IMREAD_COLOR)\n",
    "mask = cv2.imread('./images/mask_plane.bmp',cv2.IMREAD_GRAYSCALE)\n",
    "dst = cv2.imread('./images/field.bmp',cv2.IMREAD_COLOR)\n",
    "\n",
    "if src is None or mask is None or dst is None:\n",
    "    print('Image load failed')\n",
    "    sys.exit()\n",
    "    \n",
    "cv2.copyTo(src, mask, dst)\n",
    "\n",
    "cv2.imshow('src',src)\n",
    "cv2.imshow('dst',dst)\n",
    "cv2.imshow('mask',mask)\n",
    "\n",
    "cv2.waitKey()\n",
    "cv2.destroyAllWindows()"
   ]
  },
  {
   "cell_type": "markdown",
   "metadata": {},
   "source": [
    "## 알파 채널을 마스크 영역으로 추출하기"
   ]
  },
  {
   "cell_type": "code",
   "execution_count": 5,
   "metadata": {},
   "outputs": [],
   "source": [
    "src = cv2.imread('./images/cat.bmp', cv2.IMREAD_COLOR)\n",
    "logo = cv2.imread('./images/opencv-logo-white.png', cv2.IMREAD_UNCHANGED)        #IMREAD_UNCHANGED : 알파채널까지 들고 오는 속성\n",
    "\n",
    "if src is None or logo is None:\n",
    "    print('Image load failed')\n",
    "    sys.exit()\n",
    "    \n",
    "mask = logo[:,:,3]      #logo가 4차원 이미지이기 때문에 마지막 차원 = 알파채널이라 3으로 세팅\n",
    "logo = logo[:,:,:-1]    #logo는 b,g,r 3채널로 구성된 컬러 영상\n",
    "\n",
    "\n",
    "cv2.imshow('logo',logo)\n",
    "cv2.imshow('mask',mask)\n",
    "\n",
    "cv2.waitKey()\n",
    "cv2.destroyAllWindows()"
   ]
  },
  {
   "cell_type": "code",
   "execution_count": 7,
   "metadata": {},
   "outputs": [],
   "source": [
    "h,w = mask.shape[:2]            # mask, logo의 크기 값 구하기\n",
    "crop = src[10:10+h,10:10+w]     # mask, logo와 같은 크기로 영상 추출\n",
    "\n",
    "cv2.copyTo(logo,mask,crop)\n",
    "\n",
    "cv2.imshow('src',src)\n",
    "cv2.imshow('logo',logo)\n",
    "cv2.imshow('mask',mask)\n",
    "\n",
    "cv2.waitKey()\n",
    "cv2.destroyAllWindows()"
   ]
  },
  {
   "cell_type": "code",
   "execution_count": 8,
   "metadata": {},
   "outputs": [],
   "source": [
    "cv2.copyTo(logo,mask,src)\n",
    "\n",
    "cv2.imshow('src',src)\n",
    "cv2.waitKey()\n",
    "cv2.destroyAllWindows()"
   ]
  },
  {
   "cell_type": "code",
   "execution_count": null,
   "metadata": {},
   "outputs": [],
   "source": []
  }
 ],
 "metadata": {
  "kernelspec": {
   "display_name": "Python 3",
   "language": "python",
   "name": "python3"
  },
  "language_info": {
   "codemirror_mode": {
    "name": "ipython",
    "version": 3
   },
   "file_extension": ".py",
   "mimetype": "text/x-python",
   "name": "python",
   "nbconvert_exporter": "python",
   "pygments_lexer": "ipython3",
   "version": "3.11.7"
  }
 },
 "nbformat": 4,
 "nbformat_minor": 2
}
