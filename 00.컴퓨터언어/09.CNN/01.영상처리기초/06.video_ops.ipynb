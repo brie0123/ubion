{
 "cells": [
  {
   "cell_type": "markdown",
   "metadata": {},
   "source": [
    "---\n",
    "# 비디오 편집\n",
    "---"
   ]
  },
  {
   "cell_type": "code",
   "execution_count": 1,
   "metadata": {},
   "outputs": [],
   "source": [
    "import sys\n",
    "import numpy as np\n",
    "import cv2"
   ]
  },
  {
   "cell_type": "code",
   "execution_count": 5,
   "metadata": {},
   "outputs": [
    {
     "name": "stdout",
     "output_type": "stream",
     "text": [
      "video open failed\n"
     ]
    },
    {
     "ename": "SystemExit",
     "evalue": "",
     "output_type": "error",
     "traceback": [
      "An exception has occurred, use %tb to see the full traceback.\n",
      "\u001b[0;31mSystemExit\u001b[0m\n"
     ]
    }
   ],
   "source": [
    "# cap1 = cv2.VideoCapture('./images/video1.mp4')\n",
    "# cap2 = cv2.VideoCapture('./images/video2.mp4')\n",
    "\n",
    "# if not cap1.isOpened() or cap2.isOpened():\n",
    "#     print('video open failed')\n",
    "#     sys.exit()"
   ]
  },
  {
   "cell_type": "code",
   "execution_count": 16,
   "metadata": {},
   "outputs": [
    {
     "name": "stdout",
     "output_type": "stream",
     "text": [
      "frame_cnt1:  85\n",
      "frame_cnt2:  121\n",
      "FPS:  24.0\n",
      "('delay: ', 41)\n",
      "output.avi file is successfully generated\n",
      ",,,,,,,,,,,,,,,,,,,,,,,,,,,,,,,,,,,,,,,,,,,,,,,,,,,,,,,,,,,,,,,,,,,,,,,,,,,,,,,,,,,,,,,,,,,,,,,,,,,,,,,,,,,,,,,,,,,,,,,,,"
     ]
    }
   ],
   "source": [
    "import cv2\n",
    "import sys\n",
    "\n",
    "cap1 = cv2.VideoCapture('./images/video1.mp4')      # 3.54초\n",
    "cap2 = cv2.VideoCapture('./images/video2.mp4')      # 5.04초\n",
    "\n",
    "if not (cap1.isOpened() and cap2.isOpened()):\n",
    "    print('One or both videos failed to open')\n",
    "    if not cap1.isOpened():\n",
    "        print('Video 1 failed to open')\n",
    "    if not cap2.isOpened():\n",
    "        print('Video 2 failed to open')\n",
    "    sys.exit()\n",
    "\n",
    "# Continue with your code if both videos are opened successfully\n",
    "\n",
    "# FPS : frame per second 초당 프레임 수 24FPS = 1초당 24프레임\n",
    "\n",
    "frame_cnt1 = round(cap1.get(cv2.CAP_PROP_FRAME_COUNT))\n",
    "frame_cnt2 = round(cap2.get(cv2.CAP_PROP_FRAME_COUNT))\n",
    "\n",
    "fps = cap1.get(cv2.CAP_PROP_FPS)\n",
    "effect_frames = int(fps*2)                              # 영상들이 겹쳐지는 프레임 수(fps가 1초 동안 겹쳐지는 프레임 수니까 두 배 하면 2초 동안 겹쳐지는 프레임 수)\n",
    "\n",
    "print('frame_cnt1: ', frame_cnt1)\n",
    "print('frame_cnt2: ', frame_cnt2)\n",
    "print('FPS: ', fps)\n",
    "\n",
    "delay = int(1000 / fps)             #밀리 초 단위로 딜레이 초수 출력\n",
    "print(('delay: ', delay))\n",
    "\n",
    "w = round(cap1.get(cv2.CAP_PROP_FRAME_WIDTH))\n",
    "h = round(cap1.get(cv2.CAP_PROP_FRAME_HEIGHT))\n",
    "fourcc = cv2.VideoWriter_fourcc(*'DIVX')    # 비디오 코덱 설정\n",
    "\n",
    "\n",
    "# 출력 동영상 객체 설정\n",
    "out = cv2.VideoWriter('output.avi',fourcc, fps,(w,h))\n",
    "\n",
    "#1번 동영상 복사 *겹쳐지는 부분 제외하고 풀스크린으로 복사해올 파트 : 85프레임에서 48프레임 빼기\n",
    "for i in range(frame_cnt1 - effect_frames):     #85프레임에서 48프레임 빼기\n",
    "    ret1, frame1 = cap1.read()\n",
    "    \n",
    "    if not ret1:\n",
    "        print('frame read error')\n",
    "        sys.exit()\n",
    "    out.write(frame1)\n",
    "    cv2.imshow('output',frame1)     #for문을 돌리면서 프레임한장한장을 보여주기\n",
    "    cv2.waitKey(delay)              #waitKey(초수) : 초수만큼 대기\n",
    "    \n",
    "print('output.avi file is successfully generated')\n",
    "\n",
    "#동영상들 겹쳐지는 부분\n",
    "for i in range(effect_frames):\n",
    "    ret1, frame1 = cap1.read()\n",
    "    ret2, frame2 = cap2.read()\n",
    "    \n",
    "    if not ret1 or not ret2:\n",
    "        print('frame read error')\n",
    "        sys.exit()\n",
    "    \n",
    "    # 합성 프레임 만들기\n",
    "    dx = int(w/effect_frames) * i\n",
    "    frame = np.zeros((h,w,3),dtype=np.uint8)        # 빈 프레임 만들기\n",
    "    frame[:,0:dx,:] = frame2[:,0:dx,:]              # 빈 프레임에 frame2 부분 복사 0부터 dx까지\n",
    "    frame[:,dx:w,:] = frame1[:,dx:w,:]              # 빈 프레임에 frame2 부분 복사 dx부터 w까지\n",
    "    \n",
    "    out.write(frame)                                # 결과물에 합성 프레임 복사\n",
    "    print(',', end='')\n",
    "    \n",
    "    cv2.imshow('output',frame)\n",
    "    cv2.waitKey(delay)\n",
    "    \n",
    "# 2번 동영상 풀스크린 복사\n",
    "for i in range(effect_frames, frame_cnt2):\n",
    "    ret2,frame2 = cap2.read()\n",
    "    \n",
    "    if not ret2:\n",
    "        print('frame read error')\n",
    "        sys.exit()\n",
    "        \n",
    "    out.write(frame2)\n",
    "    print(',',end='')\n",
    "    \n",
    "    cv2.imshow('output', frame2)\n",
    "    cv2.waitKey(delay)\n",
    "    \n",
    "    \n",
    "cap1.release()\n",
    "cap2.release()\n",
    "out.release()\n",
    "cv2.destroyAllWindows()"
   ]
  },
  {
   "cell_type": "code",
   "execution_count": null,
   "metadata": {},
   "outputs": [],
   "source": []
  }
 ],
 "metadata": {
  "kernelspec": {
   "display_name": "Python 3",
   "language": "python",
   "name": "python3"
  },
  "language_info": {
   "codemirror_mode": {
    "name": "ipython",
    "version": 3
   },
   "file_extension": ".py",
   "mimetype": "text/x-python",
   "name": "python",
   "nbconvert_exporter": "python",
   "pygments_lexer": "ipython3",
   "version": "3.11.7"
  }
 },
 "nbformat": 4,
 "nbformat_minor": 2
}
