{
 "cells": [
  {
   "cell_type": "markdown",
   "metadata": {},
   "source": [
    "***\n",
    "# __데이터 분석__\n",
    "***"
   ]
  },
  {
   "cell_type": "markdown",
   "metadata": {},
   "source": [
    "# 1. __서울시 자치구별 순위분석__"
   ]
  },
  {
   "cell_type": "code",
   "execution_count": 14,
   "metadata": {},
   "outputs": [
    {
     "data": {
      "text/html": [
       "<div>\n",
       "<style scoped>\n",
       "    .dataframe tbody tr th:only-of-type {\n",
       "        vertical-align: middle;\n",
       "    }\n",
       "\n",
       "    .dataframe tbody tr th {\n",
       "        vertical-align: top;\n",
       "    }\n",
       "\n",
       "    .dataframe thead th {\n",
       "        text-align: right;\n",
       "    }\n",
       "</style>\n",
       "<table border=\"1\" class=\"dataframe\">\n",
       "  <thead>\n",
       "    <tr style=\"text-align: right;\">\n",
       "      <th></th>\n",
       "      <th>자치구</th>\n",
       "      <th>위도</th>\n",
       "      <th>경도</th>\n",
       "      <th>인구 수 (명)</th>\n",
       "      <th>인구밀도 (명/㎢)</th>\n",
       "      <th>스타벅스 지점 수</th>\n",
       "      <th>리저브 매장</th>\n",
       "      <th>지점 당 인구수 (명)</th>\n",
       "      <th>소득구간</th>\n",
       "      <th>월평균소득</th>\n",
       "      <th>총지출액</th>\n",
       "    </tr>\n",
       "  </thead>\n",
       "  <tbody>\n",
       "    <tr>\n",
       "      <th>0</th>\n",
       "      <td>강남구</td>\n",
       "      <td>37.495985</td>\n",
       "      <td>127.066409</td>\n",
       "      <td>542327</td>\n",
       "      <td>84271</td>\n",
       "      <td>90</td>\n",
       "      <td>11</td>\n",
       "      <td>6025</td>\n",
       "      <td>9</td>\n",
       "      <td>4943841</td>\n",
       "      <td>2608201860000</td>\n",
       "    </tr>\n",
       "    <tr>\n",
       "      <th>1</th>\n",
       "      <td>강동구</td>\n",
       "      <td>37.549208</td>\n",
       "      <td>127.146482</td>\n",
       "      <td>463005</td>\n",
       "      <td>80589</td>\n",
       "      <td>17</td>\n",
       "      <td>1</td>\n",
       "      <td>27235</td>\n",
       "      <td>7</td>\n",
       "      <td>3292857</td>\n",
       "      <td>160400134000</td>\n",
       "    </tr>\n",
       "    <tr>\n",
       "      <th>2</th>\n",
       "      <td>강북구</td>\n",
       "      <td>37.646995</td>\n",
       "      <td>127.014716</td>\n",
       "      <td>295773</td>\n",
       "      <td>67566</td>\n",
       "      <td>6</td>\n",
       "      <td>0</td>\n",
       "      <td>49295</td>\n",
       "      <td>6</td>\n",
       "      <td>2547460</td>\n",
       "      <td>61629372000</td>\n",
       "    </tr>\n",
       "    <tr>\n",
       "      <th>3</th>\n",
       "      <td>강서구</td>\n",
       "      <td>37.565762</td>\n",
       "      <td>126.822656</td>\n",
       "      <td>572382</td>\n",
       "      <td>99690</td>\n",
       "      <td>27</td>\n",
       "      <td>1</td>\n",
       "      <td>21199</td>\n",
       "      <td>7</td>\n",
       "      <td>3160623</td>\n",
       "      <td>196544942000</td>\n",
       "    </tr>\n",
       "    <tr>\n",
       "      <th>4</th>\n",
       "      <td>관악구</td>\n",
       "      <td>37.465399</td>\n",
       "      <td>126.943807</td>\n",
       "      <td>502430</td>\n",
       "      <td>83932</td>\n",
       "      <td>12</td>\n",
       "      <td>1</td>\n",
       "      <td>41869</td>\n",
       "      <td>6</td>\n",
       "      <td>2771927</td>\n",
       "      <td>118122959000</td>\n",
       "    </tr>\n",
       "  </tbody>\n",
       "</table>\n",
       "</div>"
      ],
      "text/plain": [
       "   자치구         위도          경도  인구 수 (명)  인구밀도 (명/㎢)  스타벅스 지점 수  리저브 매장  \\\n",
       "0  강남구  37.495985  127.066409    542327       84271         90      11   \n",
       "1  강동구  37.549208  127.146482    463005       80589         17       1   \n",
       "2  강북구  37.646995  127.014716    295773       67566          6       0   \n",
       "3  강서구  37.565762  126.822656    572382       99690         27       1   \n",
       "4  관악구  37.465399  126.943807    502430       83932         12       1   \n",
       "\n",
       "   지점 당 인구수 (명)  소득구간    월평균소득           총지출액  \n",
       "0          6025     9  4943841  2608201860000  \n",
       "1         27235     7  3292857   160400134000  \n",
       "2         49295     6  2547460    61629372000  \n",
       "3         21199     7  3160623   196544942000  \n",
       "4         41869     6  2771927   118122959000  "
      ]
     },
     "execution_count": 14,
     "metadata": {},
     "output_type": "execute_result"
    }
   ],
   "source": [
    "import pandas as pd\n",
    "\n",
    "final_df = pd.read_excel('../Starbucks Data/final_df.xlsx')\n",
    "final_df.head()"
   ]
  },
  {
   "cell_type": "markdown",
   "metadata": {},
   "source": [
    "### 1-1. 지점 개수 순위 확인"
   ]
  },
  {
   "cell_type": "code",
   "execution_count": 15,
   "metadata": {},
   "outputs": [
    {
     "data": {
      "text/html": [
       "<div>\n",
       "<style scoped>\n",
       "    .dataframe tbody tr th:only-of-type {\n",
       "        vertical-align: middle;\n",
       "    }\n",
       "\n",
       "    .dataframe tbody tr th {\n",
       "        vertical-align: top;\n",
       "    }\n",
       "\n",
       "    .dataframe thead th {\n",
       "        text-align: right;\n",
       "    }\n",
       "</style>\n",
       "<table border=\"1\" class=\"dataframe\">\n",
       "  <thead>\n",
       "    <tr style=\"text-align: right;\">\n",
       "      <th></th>\n",
       "      <th>자치구</th>\n",
       "      <th>위도</th>\n",
       "      <th>경도</th>\n",
       "      <th>인구 수 (명)</th>\n",
       "      <th>인구밀도 (명/㎢)</th>\n",
       "      <th>스타벅스 지점 수</th>\n",
       "      <th>리저브 매장</th>\n",
       "      <th>지점 당 인구수 (명)</th>\n",
       "      <th>소득구간</th>\n",
       "      <th>월평균소득</th>\n",
       "      <th>총지출액</th>\n",
       "    </tr>\n",
       "  </thead>\n",
       "  <tbody>\n",
       "    <tr>\n",
       "      <th>1</th>\n",
       "      <td>강남구</td>\n",
       "      <td>37.495985</td>\n",
       "      <td>127.066409</td>\n",
       "      <td>542327</td>\n",
       "      <td>84271</td>\n",
       "      <td>90</td>\n",
       "      <td>11</td>\n",
       "      <td>6025</td>\n",
       "      <td>9</td>\n",
       "      <td>4943841</td>\n",
       "      <td>2608201860000</td>\n",
       "    </tr>\n",
       "    <tr>\n",
       "      <th>2</th>\n",
       "      <td>중구</td>\n",
       "      <td>37.557945</td>\n",
       "      <td>126.994190</td>\n",
       "      <td>132054</td>\n",
       "      <td>25546</td>\n",
       "      <td>54</td>\n",
       "      <td>4</td>\n",
       "      <td>2445</td>\n",
       "      <td>7</td>\n",
       "      <td>3513603</td>\n",
       "      <td>2531979244000</td>\n",
       "    </tr>\n",
       "    <tr>\n",
       "      <th>3</th>\n",
       "      <td>서초구</td>\n",
       "      <td>37.476953</td>\n",
       "      <td>127.037810</td>\n",
       "      <td>408753</td>\n",
       "      <td>63822</td>\n",
       "      <td>48</td>\n",
       "      <td>4</td>\n",
       "      <td>8515</td>\n",
       "      <td>9</td>\n",
       "      <td>4912401</td>\n",
       "      <td>622104358000</td>\n",
       "    </tr>\n",
       "  </tbody>\n",
       "</table>\n",
       "</div>"
      ],
      "text/plain": [
       "   자치구         위도          경도  인구 수 (명)  인구밀도 (명/㎢)  스타벅스 지점 수  리저브 매장  \\\n",
       "1  강남구  37.495985  127.066409    542327       84271         90      11   \n",
       "2   중구  37.557945  126.994190    132054       25546         54       4   \n",
       "3  서초구  37.476953  127.037810    408753       63822         48       4   \n",
       "\n",
       "   지점 당 인구수 (명)  소득구간    월평균소득           총지출액  \n",
       "1          6025     9  4943841  2608201860000  \n",
       "2          2445     7  3513603  2531979244000  \n",
       "3          8515     9  4912401   622104358000  "
      ]
     },
     "execution_count": 15,
     "metadata": {},
     "output_type": "execute_result"
    }
   ],
   "source": [
    "sb_cnt_rank = final_df.sort_values(by='스타벅스 지점 수', ascending=False)\n",
    "sb_cnt_rank.index = list(range(1, len(final_df) + 1))\n",
    "\n",
    "sb_cnt_rank.head(3)"
   ]
  },
  {
   "cell_type": "markdown",
   "metadata": {},
   "source": [
    "### 1-2. 리저브 매장 개수 순위 확인"
   ]
  },
  {
   "cell_type": "code",
   "execution_count": 16,
   "metadata": {},
   "outputs": [
    {
     "data": {
      "text/html": [
       "<div>\n",
       "<style scoped>\n",
       "    .dataframe tbody tr th:only-of-type {\n",
       "        vertical-align: middle;\n",
       "    }\n",
       "\n",
       "    .dataframe tbody tr th {\n",
       "        vertical-align: top;\n",
       "    }\n",
       "\n",
       "    .dataframe thead th {\n",
       "        text-align: right;\n",
       "    }\n",
       "</style>\n",
       "<table border=\"1\" class=\"dataframe\">\n",
       "  <thead>\n",
       "    <tr style=\"text-align: right;\">\n",
       "      <th></th>\n",
       "      <th>자치구</th>\n",
       "      <th>위도</th>\n",
       "      <th>경도</th>\n",
       "      <th>인구 수 (명)</th>\n",
       "      <th>인구밀도 (명/㎢)</th>\n",
       "      <th>스타벅스 지점 수</th>\n",
       "      <th>리저브 매장</th>\n",
       "      <th>지점 당 인구수 (명)</th>\n",
       "      <th>소득구간</th>\n",
       "      <th>월평균소득</th>\n",
       "      <th>총지출액</th>\n",
       "    </tr>\n",
       "  </thead>\n",
       "  <tbody>\n",
       "    <tr>\n",
       "      <th>1</th>\n",
       "      <td>강남구</td>\n",
       "      <td>37.495985</td>\n",
       "      <td>127.066409</td>\n",
       "      <td>542327</td>\n",
       "      <td>84271</td>\n",
       "      <td>90</td>\n",
       "      <td>11</td>\n",
       "      <td>6025</td>\n",
       "      <td>9</td>\n",
       "      <td>4943841</td>\n",
       "      <td>2608201860000</td>\n",
       "    </tr>\n",
       "    <tr>\n",
       "      <th>2</th>\n",
       "      <td>영등포구</td>\n",
       "      <td>37.520641</td>\n",
       "      <td>126.913924</td>\n",
       "      <td>398842</td>\n",
       "      <td>66362</td>\n",
       "      <td>42</td>\n",
       "      <td>6</td>\n",
       "      <td>9496</td>\n",
       "      <td>7</td>\n",
       "      <td>3604887</td>\n",
       "      <td>217071132000</td>\n",
       "    </tr>\n",
       "    <tr>\n",
       "      <th>3</th>\n",
       "      <td>서초구</td>\n",
       "      <td>37.476953</td>\n",
       "      <td>127.037810</td>\n",
       "      <td>408753</td>\n",
       "      <td>63822</td>\n",
       "      <td>48</td>\n",
       "      <td>4</td>\n",
       "      <td>8515</td>\n",
       "      <td>9</td>\n",
       "      <td>4912401</td>\n",
       "      <td>622104358000</td>\n",
       "    </tr>\n",
       "  </tbody>\n",
       "</table>\n",
       "</div>"
      ],
      "text/plain": [
       "    자치구         위도          경도  인구 수 (명)  인구밀도 (명/㎢)  스타벅스 지점 수  리저브 매장  \\\n",
       "1   강남구  37.495985  127.066409    542327       84271         90      11   \n",
       "2  영등포구  37.520641  126.913924    398842       66362         42       6   \n",
       "3   서초구  37.476953  127.037810    408753       63822         48       4   \n",
       "\n",
       "   지점 당 인구수 (명)  소득구간    월평균소득           총지출액  \n",
       "1          6025     9  4943841  2608201860000  \n",
       "2          9496     7  3604887   217071132000  \n",
       "3          8515     9  4912401   622104358000  "
      ]
     },
     "execution_count": 16,
     "metadata": {},
     "output_type": "execute_result"
    }
   ],
   "source": [
    "reserve_cnt_rank = final_df.sort_values(by='리저브 매장', ascending=False)\n",
    "reserve_cnt_rank.index = list(range(1, len(final_df) + 1))\n",
    "\n",
    "reserve_cnt_rank.head(3)"
   ]
  },
  {
   "cell_type": "markdown",
   "metadata": {},
   "source": [
    "### 1-3. 지점 당 인구수(=스타벅스 밀집 정도) 순위 확인"
   ]
  },
  {
   "cell_type": "code",
   "execution_count": 17,
   "metadata": {},
   "outputs": [
    {
     "data": {
      "text/html": [
       "<div>\n",
       "<style scoped>\n",
       "    .dataframe tbody tr th:only-of-type {\n",
       "        vertical-align: middle;\n",
       "    }\n",
       "\n",
       "    .dataframe tbody tr th {\n",
       "        vertical-align: top;\n",
       "    }\n",
       "\n",
       "    .dataframe thead th {\n",
       "        text-align: right;\n",
       "    }\n",
       "</style>\n",
       "<table border=\"1\" class=\"dataframe\">\n",
       "  <thead>\n",
       "    <tr style=\"text-align: right;\">\n",
       "      <th></th>\n",
       "      <th>자치구</th>\n",
       "      <th>위도</th>\n",
       "      <th>경도</th>\n",
       "      <th>인구 수 (명)</th>\n",
       "      <th>인구밀도 (명/㎢)</th>\n",
       "      <th>스타벅스 지점 수</th>\n",
       "      <th>리저브 매장</th>\n",
       "      <th>지점 당 인구수 (명)</th>\n",
       "      <th>소득구간</th>\n",
       "      <th>월평균소득</th>\n",
       "      <th>총지출액</th>\n",
       "    </tr>\n",
       "  </thead>\n",
       "  <tbody>\n",
       "    <tr>\n",
       "      <th>1</th>\n",
       "      <td>중구</td>\n",
       "      <td>37.557945</td>\n",
       "      <td>126.994190</td>\n",
       "      <td>132054</td>\n",
       "      <td>25546</td>\n",
       "      <td>54</td>\n",
       "      <td>4</td>\n",
       "      <td>2445</td>\n",
       "      <td>7</td>\n",
       "      <td>3513603</td>\n",
       "      <td>2531979244000</td>\n",
       "    </tr>\n",
       "    <tr>\n",
       "      <th>2</th>\n",
       "      <td>종로구</td>\n",
       "      <td>37.599100</td>\n",
       "      <td>126.986149</td>\n",
       "      <td>151349</td>\n",
       "      <td>28383</td>\n",
       "      <td>40</td>\n",
       "      <td>2</td>\n",
       "      <td>3783</td>\n",
       "      <td>7</td>\n",
       "      <td>3725859</td>\n",
       "      <td>322465198000</td>\n",
       "    </tr>\n",
       "    <tr>\n",
       "      <th>3</th>\n",
       "      <td>강남구</td>\n",
       "      <td>37.495985</td>\n",
       "      <td>127.066409</td>\n",
       "      <td>542327</td>\n",
       "      <td>84271</td>\n",
       "      <td>90</td>\n",
       "      <td>11</td>\n",
       "      <td>6025</td>\n",
       "      <td>9</td>\n",
       "      <td>4943841</td>\n",
       "      <td>2608201860000</td>\n",
       "    </tr>\n",
       "  </tbody>\n",
       "</table>\n",
       "</div>"
      ],
      "text/plain": [
       "   자치구         위도          경도  인구 수 (명)  인구밀도 (명/㎢)  스타벅스 지점 수  리저브 매장  \\\n",
       "1   중구  37.557945  126.994190    132054       25546         54       4   \n",
       "2  종로구  37.599100  126.986149    151349       28383         40       2   \n",
       "3  강남구  37.495985  127.066409    542327       84271         90      11   \n",
       "\n",
       "   지점 당 인구수 (명)  소득구간    월평균소득           총지출액  \n",
       "1          2445     7  3513603  2531979244000  \n",
       "2          3783     7  3725859   322465198000  \n",
       "3          6025     9  4943841  2608201860000  "
      ]
     },
     "execution_count": 17,
     "metadata": {},
     "output_type": "execute_result"
    }
   ],
   "source": [
    "popul_by_store_rank = final_df.sort_values(by='지점 당 인구수 (명)', ascending=True)\n",
    "popul_by_store_rank.index = list(range(1, len(final_df) + 1))\n",
    "\n",
    "popul_by_store_rank.head(3)"
   ]
  },
  {
   "cell_type": "markdown",
   "metadata": {},
   "source": [
    "### 1-4. 월평균소득 순위 확인"
   ]
  },
  {
   "cell_type": "code",
   "execution_count": 18,
   "metadata": {},
   "outputs": [
    {
     "data": {
      "text/html": [
       "<div>\n",
       "<style scoped>\n",
       "    .dataframe tbody tr th:only-of-type {\n",
       "        vertical-align: middle;\n",
       "    }\n",
       "\n",
       "    .dataframe tbody tr th {\n",
       "        vertical-align: top;\n",
       "    }\n",
       "\n",
       "    .dataframe thead th {\n",
       "        text-align: right;\n",
       "    }\n",
       "</style>\n",
       "<table border=\"1\" class=\"dataframe\">\n",
       "  <thead>\n",
       "    <tr style=\"text-align: right;\">\n",
       "      <th></th>\n",
       "      <th>자치구</th>\n",
       "      <th>위도</th>\n",
       "      <th>경도</th>\n",
       "      <th>인구 수 (명)</th>\n",
       "      <th>인구밀도 (명/㎢)</th>\n",
       "      <th>스타벅스 지점 수</th>\n",
       "      <th>리저브 매장</th>\n",
       "      <th>지점 당 인구수 (명)</th>\n",
       "      <th>소득구간</th>\n",
       "      <th>월평균소득</th>\n",
       "      <th>총지출액</th>\n",
       "    </tr>\n",
       "  </thead>\n",
       "  <tbody>\n",
       "    <tr>\n",
       "      <th>1</th>\n",
       "      <td>강남구</td>\n",
       "      <td>37.495985</td>\n",
       "      <td>127.066409</td>\n",
       "      <td>542327</td>\n",
       "      <td>84271</td>\n",
       "      <td>90</td>\n",
       "      <td>11</td>\n",
       "      <td>6025</td>\n",
       "      <td>9</td>\n",
       "      <td>4943841</td>\n",
       "      <td>2608201860000</td>\n",
       "    </tr>\n",
       "    <tr>\n",
       "      <th>2</th>\n",
       "      <td>서초구</td>\n",
       "      <td>37.476953</td>\n",
       "      <td>127.037810</td>\n",
       "      <td>408753</td>\n",
       "      <td>63822</td>\n",
       "      <td>48</td>\n",
       "      <td>4</td>\n",
       "      <td>8515</td>\n",
       "      <td>9</td>\n",
       "      <td>4912401</td>\n",
       "      <td>622104358000</td>\n",
       "    </tr>\n",
       "    <tr>\n",
       "      <th>3</th>\n",
       "      <td>송파구</td>\n",
       "      <td>37.504853</td>\n",
       "      <td>127.114482</td>\n",
       "      <td>662872</td>\n",
       "      <td>106281</td>\n",
       "      <td>36</td>\n",
       "      <td>2</td>\n",
       "      <td>18413</td>\n",
       "      <td>8</td>\n",
       "      <td>3995905</td>\n",
       "      <td>200981264000</td>\n",
       "    </tr>\n",
       "  </tbody>\n",
       "</table>\n",
       "</div>"
      ],
      "text/plain": [
       "   자치구         위도          경도  인구 수 (명)  인구밀도 (명/㎢)  스타벅스 지점 수  리저브 매장  \\\n",
       "1  강남구  37.495985  127.066409    542327       84271         90      11   \n",
       "2  서초구  37.476953  127.037810    408753       63822         48       4   \n",
       "3  송파구  37.504853  127.114482    662872      106281         36       2   \n",
       "\n",
       "   지점 당 인구수 (명)  소득구간    월평균소득           총지출액  \n",
       "1          6025     9  4943841  2608201860000  \n",
       "2          8515     9  4912401   622104358000  \n",
       "3         18413     8  3995905   200981264000  "
      ]
     },
     "execution_count": 18,
     "metadata": {},
     "output_type": "execute_result"
    }
   ],
   "source": [
    "# 지역구 월 평균소득 순위\n",
    "income_rank = final_df.sort_values(by='월평균소득', ascending=False)\n",
    "income_rank.index = list(range(1, len(final_df) + 1))\n",
    "\n",
    "income_rank.head(3)"
   ]
  },
  {
   "cell_type": "markdown",
   "metadata": {},
   "source": [
    "### 1-5. 지출액 순위 확인"
   ]
  },
  {
   "cell_type": "code",
   "execution_count": 19,
   "metadata": {},
   "outputs": [
    {
     "data": {
      "text/html": [
       "<div>\n",
       "<style scoped>\n",
       "    .dataframe tbody tr th:only-of-type {\n",
       "        vertical-align: middle;\n",
       "    }\n",
       "\n",
       "    .dataframe tbody tr th {\n",
       "        vertical-align: top;\n",
       "    }\n",
       "\n",
       "    .dataframe thead th {\n",
       "        text-align: right;\n",
       "    }\n",
       "</style>\n",
       "<table border=\"1\" class=\"dataframe\">\n",
       "  <thead>\n",
       "    <tr style=\"text-align: right;\">\n",
       "      <th></th>\n",
       "      <th>자치구</th>\n",
       "      <th>위도</th>\n",
       "      <th>경도</th>\n",
       "      <th>인구 수 (명)</th>\n",
       "      <th>인구밀도 (명/㎢)</th>\n",
       "      <th>스타벅스 지점 수</th>\n",
       "      <th>리저브 매장</th>\n",
       "      <th>지점 당 인구수 (명)</th>\n",
       "      <th>소득구간</th>\n",
       "      <th>월평균소득</th>\n",
       "      <th>총지출액</th>\n",
       "    </tr>\n",
       "  </thead>\n",
       "  <tbody>\n",
       "    <tr>\n",
       "      <th>1</th>\n",
       "      <td>강남구</td>\n",
       "      <td>37.495985</td>\n",
       "      <td>127.066409</td>\n",
       "      <td>542327</td>\n",
       "      <td>84271</td>\n",
       "      <td>90</td>\n",
       "      <td>11</td>\n",
       "      <td>6025</td>\n",
       "      <td>9</td>\n",
       "      <td>4943841</td>\n",
       "      <td>2608201860000</td>\n",
       "    </tr>\n",
       "    <tr>\n",
       "      <th>2</th>\n",
       "      <td>중구</td>\n",
       "      <td>37.557945</td>\n",
       "      <td>126.994190</td>\n",
       "      <td>132054</td>\n",
       "      <td>25546</td>\n",
       "      <td>54</td>\n",
       "      <td>4</td>\n",
       "      <td>2445</td>\n",
       "      <td>7</td>\n",
       "      <td>3513603</td>\n",
       "      <td>2531979244000</td>\n",
       "    </tr>\n",
       "    <tr>\n",
       "      <th>3</th>\n",
       "      <td>구로구</td>\n",
       "      <td>37.495486</td>\n",
       "      <td>126.858121</td>\n",
       "      <td>417774</td>\n",
       "      <td>78150</td>\n",
       "      <td>14</td>\n",
       "      <td>0</td>\n",
       "      <td>29841</td>\n",
       "      <td>7</td>\n",
       "      <td>2994059</td>\n",
       "      <td>1370077164000</td>\n",
       "    </tr>\n",
       "  </tbody>\n",
       "</table>\n",
       "</div>"
      ],
      "text/plain": [
       "   자치구         위도          경도  인구 수 (명)  인구밀도 (명/㎢)  스타벅스 지점 수  리저브 매장  \\\n",
       "1  강남구  37.495985  127.066409    542327       84271         90      11   \n",
       "2   중구  37.557945  126.994190    132054       25546         54       4   \n",
       "3  구로구  37.495486  126.858121    417774       78150         14       0   \n",
       "\n",
       "   지점 당 인구수 (명)  소득구간    월평균소득           총지출액  \n",
       "1          6025     9  4943841  2608201860000  \n",
       "2          2445     7  3513603  2531979244000  \n",
       "3         29841     7  2994059  1370077164000  "
      ]
     },
     "execution_count": 19,
     "metadata": {},
     "output_type": "execute_result"
    }
   ],
   "source": [
    "expense_rank = final_df.sort_values(by='총지출액', ascending=False)\n",
    "expense_rank.index = list(range(1, len(final_df) + 1))\n",
    "\n",
    "expense_rank.head(3)"
   ]
  },
  {
   "cell_type": "markdown",
   "metadata": {},
   "source": [
    "***\n",
    "# 2. __상관계수 분석__"
   ]
  },
  {
   "cell_type": "code",
   "execution_count": 20,
   "metadata": {},
   "outputs": [],
   "source": [
    "# 분석 데이터:\n",
    "import pandas as pd\n",
    "final_df = pd.read_excel('../Starbucks Data/final_df.xlsx')\n",
    "corr = pd.read_excel('../Starbucks Data/seoul_income.xlsx')"
   ]
  },
  {
   "cell_type": "markdown",
   "metadata": {},
   "source": [
    "### 2-1. 월평균소득 - 스타벅스 매장수의 상관계수 분석:\n",
    "0.80으로 상당히 높은 연관성을 보이고 있으며, p-value 0.000000184로 유의하다."
   ]
  },
  {
   "cell_type": "code",
   "execution_count": 21,
   "metadata": {},
   "outputs": [
    {
     "data": {
      "text/plain": [
       "PearsonRResult(statistic=0.7971977250893262, pvalue=1.8386298926655236e-06)"
      ]
     },
     "execution_count": 21,
     "metadata": {},
     "output_type": "execute_result"
    }
   ],
   "source": [
    "import scipy.stats as stats\n",
    "stats.pearsonr(final_df['스타벅스 지점 수'],final_df['월평균소득'])\n",
    "\n",
    "# final_df[['스타벅스 지점 수','월평균소득']].corr()        # .corr() 함수 : 상관계수를 dataframe 형태로 보여줌"
   ]
  },
  {
   "cell_type": "markdown",
   "metadata": {},
   "source": [
    "### 2-2. 월평균소득 - 스타벅스 리저브 매장수의 상관계수 분석:\n",
    "0.73으로 상당히 높은 연관성을 보이고 있으며, p-value 0.00000354로 유의하다."
   ]
  },
  {
   "cell_type": "code",
   "execution_count": 22,
   "metadata": {},
   "outputs": [
    {
     "data": {
      "text/plain": [
       "PearsonRResult(statistic=0.729243827915415, pvalue=3.5421190583132025e-05)"
      ]
     },
     "execution_count": 22,
     "metadata": {},
     "output_type": "execute_result"
    }
   ],
   "source": [
    "# 상관계수가 유의미한가\n",
    "import scipy.stats as stats \n",
    "stats.pearsonr(final_df['리저브 매장'],final_df['월평균소득'])\n",
    "\n",
    "# final_df[['리저브 매장','월평균소득']].corr()"
   ]
  },
  {
   "cell_type": "markdown",
   "metadata": {},
   "source": [
    "### 2-3. 월평균소득과 지출의 상관관계"
   ]
  },
  {
   "cell_type": "code",
   "execution_count": 23,
   "metadata": {},
   "outputs": [
    {
     "data": {
      "text/html": [
       "<div>\n",
       "<style scoped>\n",
       "    .dataframe tbody tr th:only-of-type {\n",
       "        vertical-align: middle;\n",
       "    }\n",
       "\n",
       "    .dataframe tbody tr th {\n",
       "        vertical-align: top;\n",
       "    }\n",
       "\n",
       "    .dataframe thead th {\n",
       "        text-align: right;\n",
       "    }\n",
       "</style>\n",
       "<table border=\"1\" class=\"dataframe\">\n",
       "  <thead>\n",
       "    <tr style=\"text-align: right;\">\n",
       "      <th></th>\n",
       "      <th>월평균소득</th>\n",
       "      <th>지출_total</th>\n",
       "    </tr>\n",
       "  </thead>\n",
       "  <tbody>\n",
       "    <tr>\n",
       "      <th>월평균소득</th>\n",
       "      <td>1.000000</td>\n",
       "      <td>0.469383</td>\n",
       "    </tr>\n",
       "    <tr>\n",
       "      <th>지출_total</th>\n",
       "      <td>0.469383</td>\n",
       "      <td>1.000000</td>\n",
       "    </tr>\n",
       "  </tbody>\n",
       "</table>\n",
       "</div>"
      ],
      "text/plain": [
       "             월평균소득  지출_total\n",
       "월평균소득     1.000000  0.469383\n",
       "지출_total  0.469383  1.000000"
      ]
     },
     "execution_count": 23,
     "metadata": {},
     "output_type": "execute_result"
    }
   ],
   "source": [
    "# 소득 - 지출 상관계수 도출 : 0.47로 뚜렷한 양적 선형 관계를 보임\n",
    "corr[['월평균소득', '지출_total']].corr()"
   ]
  },
  {
   "cell_type": "code",
   "execution_count": 24,
   "metadata": {},
   "outputs": [
    {
     "data": {
      "text/plain": [
       "PearsonRResult(statistic=0.469382996062172, pvalue=0.017923801954677444)"
      ]
     },
     "execution_count": 24,
     "metadata": {},
     "output_type": "execute_result"
    }
   ],
   "source": [
    "# 피어슨상관계수 -> pvalue 0.017923801954677444 로 유의미\n",
    "import scipy.stats as stats\n",
    "stats.pearsonr(corr['월평균소득'],corr['지출_total'])\n",
    "result = stats.pearsonr(corr['월평균소득'],corr['지출_total'])\n",
    "result"
   ]
  },
  {
   "cell_type": "markdown",
   "metadata": {},
   "source": [
    "### 2-4. 스타벅스 지점수 - 지출 유형별 상관계수 분석"
   ]
  },
  {
   "cell_type": "code",
   "execution_count": 25,
   "metadata": {},
   "outputs": [],
   "source": [
    "corr_income = []\n",
    "col_name = []\n",
    "corr_coe = []\n",
    "p_values = []\n",
    "\n",
    "for col in corr.columns[-10:-1]:\n",
    "    corr_income = stats.pearsonr(corr['스타벅스 지점 수'],corr[col])\n",
    "    correlation_coefficient = round(corr_income.correlation,2)\n",
    "    p_value = round(corr_income.pvalue,10)\n",
    "    \n",
    "    col_name.append(col)\n",
    "    corr_coe.append(correlation_coefficient)\n",
    "    p_values.append(p_value)\n"
   ]
  },
  {
   "cell_type": "markdown",
   "metadata": {},
   "source": [
    "### corr_df 엑셀파일로 저장"
   ]
  },
  {
   "cell_type": "code",
   "execution_count": 26,
   "metadata": {},
   "outputs": [],
   "source": [
    "data = {\n",
    "    '지출유형': col_name,\n",
    "    '상관계수': corr_coe,\n",
    "    'p-value': p_values\n",
    "}\n",
    "\n",
    "corr_df = pd.DataFrame(data=data)\n",
    "corr_df\n",
    "\n",
    "corr_df.to_excel('../Starbucks Data/corr_df.xlsx')"
   ]
  }
 ],
 "metadata": {
  "kernelspec": {
   "display_name": "base",
   "language": "python",
   "name": "python3"
  },
  "language_info": {
   "codemirror_mode": {
    "name": "ipython",
    "version": 3
   },
   "file_extension": ".py",
   "mimetype": "text/x-python",
   "name": "python",
   "nbconvert_exporter": "python",
   "pygments_lexer": "ipython3",
   "version": "3.11.5"
  }
 },
 "nbformat": 4,
 "nbformat_minor": 2
}
