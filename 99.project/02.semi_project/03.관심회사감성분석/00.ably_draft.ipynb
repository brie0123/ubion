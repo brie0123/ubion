{
 "cells": [
  {
   "cell_type": "markdown",
   "metadata": {},
   "source": [
    "# 서비스 기획 _ 에이블리 뷰티 리뷰 분석\n",
    "---"
   ]
  },
  {
   "cell_type": "markdown",
   "metadata": {},
   "source": [
    "# 데이터 수집"
   ]
  },
  {
   "cell_type": "code",
   "execution_count": 2,
   "metadata": {},
   "outputs": [],
   "source": [
    "# 크롤링\n",
    "\n",
    "# url = 'product'\n",
    "\n",
    "from selenium import webdriver\n",
    "from webdriver_manager.chrome import ChromeDriverManager\n",
    "from selenium.webdriver.chrome.service import Service\n",
    "from selenium.webdriver.common.by import By\n",
    "from selenium.webdriver.common.keys import Keys\n",
    "import requests\n",
    "from selenium.webdriver.support import expected_conditions as EC\n",
    "import time\n",
    "from selenium.webdriver.support.ui import WebDriverWait\n",
    "\n",
    "service = Service()\n",
    "options = webdriver.ChromeOptions()\n",
    "\n"
   ]
  },
  {
   "cell_type": "code",
   "execution_count": 13,
   "metadata": {},
   "outputs": [
    {
     "ename": "ValueError",
     "evalue": "I/O operation on closed file",
     "output_type": "error",
     "traceback": [
      "\u001b[0;31m---------------------------------------------------------------------------\u001b[0m",
      "\u001b[0;31mValueError\u001b[0m                                Traceback (most recent call last)",
      "Cell \u001b[0;32mIn[13], line 2\u001b[0m\n\u001b[1;32m      1\u001b[0m url \u001b[38;5;241m=\u001b[39m \u001b[38;5;124m'\u001b[39m\u001b[38;5;124mhttps://play.google.com/store/apps/details?id=com.banhala.android&hl=ko&gl=KR\u001b[39m\u001b[38;5;124m'\u001b[39m\n\u001b[0;32m----> 2\u001b[0m driver \u001b[38;5;241m=\u001b[39m webdriver\u001b[38;5;241m.\u001b[39mChrome(service\u001b[38;5;241m=\u001b[39mservice,options\u001b[38;5;241m=\u001b[39moptions)\n\u001b[1;32m      3\u001b[0m driver\u001b[38;5;241m.\u001b[39mget(url)\n\u001b[1;32m      5\u001b[0m time\u001b[38;5;241m.\u001b[39msleep(\u001b[38;5;241m3\u001b[39m)\n",
      "File \u001b[0;32m~/anaconda3/lib/python3.11/site-packages/selenium/webdriver/chrome/webdriver.py:45\u001b[0m, in \u001b[0;36mWebDriver.__init__\u001b[0;34m(self, options, service, keep_alive)\u001b[0m\n\u001b[1;32m     42\u001b[0m service \u001b[38;5;241m=\u001b[39m service \u001b[38;5;28;01mif\u001b[39;00m service \u001b[38;5;28;01melse\u001b[39;00m Service()\n\u001b[1;32m     43\u001b[0m options \u001b[38;5;241m=\u001b[39m options \u001b[38;5;28;01mif\u001b[39;00m options \u001b[38;5;28;01melse\u001b[39;00m Options()\n\u001b[0;32m---> 45\u001b[0m \u001b[38;5;28msuper\u001b[39m()\u001b[38;5;241m.\u001b[39m\u001b[38;5;21m__init__\u001b[39m(\n\u001b[1;32m     46\u001b[0m     DesiredCapabilities\u001b[38;5;241m.\u001b[39mCHROME[\u001b[38;5;124m\"\u001b[39m\u001b[38;5;124mbrowserName\u001b[39m\u001b[38;5;124m\"\u001b[39m],\n\u001b[1;32m     47\u001b[0m     \u001b[38;5;124m\"\u001b[39m\u001b[38;5;124mgoog\u001b[39m\u001b[38;5;124m\"\u001b[39m,\n\u001b[1;32m     48\u001b[0m     options,\n\u001b[1;32m     49\u001b[0m     service,\n\u001b[1;32m     50\u001b[0m     keep_alive,\n\u001b[1;32m     51\u001b[0m )\n",
      "File \u001b[0;32m~/anaconda3/lib/python3.11/site-packages/selenium/webdriver/chromium/webdriver.py:53\u001b[0m, in \u001b[0;36mChromiumDriver.__init__\u001b[0;34m(self, browser_name, vendor_prefix, options, service, keep_alive)\u001b[0m\n\u001b[1;32m     49\u001b[0m \u001b[38;5;28mself\u001b[39m\u001b[38;5;241m.\u001b[39mservice \u001b[38;5;241m=\u001b[39m service\n\u001b[1;32m     51\u001b[0m \u001b[38;5;28mself\u001b[39m\u001b[38;5;241m.\u001b[39mservice\u001b[38;5;241m.\u001b[39mpath \u001b[38;5;241m=\u001b[39m DriverFinder\u001b[38;5;241m.\u001b[39mget_path(\u001b[38;5;28mself\u001b[39m\u001b[38;5;241m.\u001b[39mservice, options)\n\u001b[0;32m---> 53\u001b[0m \u001b[38;5;28mself\u001b[39m\u001b[38;5;241m.\u001b[39mservice\u001b[38;5;241m.\u001b[39mstart()\n\u001b[1;32m     55\u001b[0m \u001b[38;5;28;01mtry\u001b[39;00m:\n\u001b[1;32m     56\u001b[0m     \u001b[38;5;28msuper\u001b[39m()\u001b[38;5;241m.\u001b[39m\u001b[38;5;21m__init__\u001b[39m(\n\u001b[1;32m     57\u001b[0m         command_executor\u001b[38;5;241m=\u001b[39mChromiumRemoteConnection(\n\u001b[1;32m     58\u001b[0m             remote_server_addr\u001b[38;5;241m=\u001b[39m\u001b[38;5;28mself\u001b[39m\u001b[38;5;241m.\u001b[39mservice\u001b[38;5;241m.\u001b[39mservice_url,\n\u001b[0;32m   (...)\u001b[0m\n\u001b[1;32m     64\u001b[0m         options\u001b[38;5;241m=\u001b[39moptions,\n\u001b[1;32m     65\u001b[0m     )\n",
      "File \u001b[0;32m~/anaconda3/lib/python3.11/site-packages/selenium/webdriver/common/service.py:98\u001b[0m, in \u001b[0;36mService.start\u001b[0;34m(self)\u001b[0m\n\u001b[1;32m     91\u001b[0m \u001b[38;5;28;01mdef\u001b[39;00m \u001b[38;5;21mstart\u001b[39m(\u001b[38;5;28mself\u001b[39m) \u001b[38;5;241m-\u001b[39m\u001b[38;5;241m>\u001b[39m \u001b[38;5;28;01mNone\u001b[39;00m:\n\u001b[1;32m     92\u001b[0m \u001b[38;5;250m    \u001b[39m\u001b[38;5;124;03m\"\"\"Starts the Service.\u001b[39;00m\n\u001b[1;32m     93\u001b[0m \n\u001b[1;32m     94\u001b[0m \u001b[38;5;124;03m    :Exceptions:\u001b[39;00m\n\u001b[1;32m     95\u001b[0m \u001b[38;5;124;03m     - WebDriverException : Raised either when it can't start the service\u001b[39;00m\n\u001b[1;32m     96\u001b[0m \u001b[38;5;124;03m       or when it can't connect to the service\u001b[39;00m\n\u001b[1;32m     97\u001b[0m \u001b[38;5;124;03m    \"\"\"\u001b[39;00m\n\u001b[0;32m---> 98\u001b[0m     \u001b[38;5;28mself\u001b[39m\u001b[38;5;241m.\u001b[39m_start_process(\u001b[38;5;28mself\u001b[39m\u001b[38;5;241m.\u001b[39m_path)\n\u001b[1;32m    100\u001b[0m     count \u001b[38;5;241m=\u001b[39m \u001b[38;5;241m0\u001b[39m\n\u001b[1;32m    101\u001b[0m     \u001b[38;5;28;01mwhile\u001b[39;00m \u001b[38;5;28;01mTrue\u001b[39;00m:\n",
      "File \u001b[0;32m~/anaconda3/lib/python3.11/site-packages/selenium/webdriver/common/service.py:204\u001b[0m, in \u001b[0;36mService._start_process\u001b[0;34m(self, path)\u001b[0m\n\u001b[1;32m    201\u001b[0m         start_info\u001b[38;5;241m.\u001b[39mdwFlags \u001b[38;5;241m=\u001b[39m subprocess\u001b[38;5;241m.\u001b[39mCREATE_NEW_CONSOLE \u001b[38;5;241m|\u001b[39m subprocess\u001b[38;5;241m.\u001b[39mSTARTF_USESHOWWINDOW\n\u001b[1;32m    202\u001b[0m         start_info\u001b[38;5;241m.\u001b[39mwShowWindow \u001b[38;5;241m=\u001b[39m subprocess\u001b[38;5;241m.\u001b[39mSW_HIDE\n\u001b[0;32m--> 204\u001b[0m     \u001b[38;5;28mself\u001b[39m\u001b[38;5;241m.\u001b[39mprocess \u001b[38;5;241m=\u001b[39m subprocess\u001b[38;5;241m.\u001b[39mPopen(\n\u001b[1;32m    205\u001b[0m         cmd,\n\u001b[1;32m    206\u001b[0m         env\u001b[38;5;241m=\u001b[39m\u001b[38;5;28mself\u001b[39m\u001b[38;5;241m.\u001b[39menv,\n\u001b[1;32m    207\u001b[0m         close_fds\u001b[38;5;241m=\u001b[39mclose_file_descriptors,\n\u001b[1;32m    208\u001b[0m         stdout\u001b[38;5;241m=\u001b[39m\u001b[38;5;28mself\u001b[39m\u001b[38;5;241m.\u001b[39mlog_output,\n\u001b[1;32m    209\u001b[0m         stderr\u001b[38;5;241m=\u001b[39m\u001b[38;5;28mself\u001b[39m\u001b[38;5;241m.\u001b[39mlog_output,\n\u001b[1;32m    210\u001b[0m         stdin\u001b[38;5;241m=\u001b[39mPIPE,\n\u001b[1;32m    211\u001b[0m         creationflags\u001b[38;5;241m=\u001b[39m\u001b[38;5;28mself\u001b[39m\u001b[38;5;241m.\u001b[39mcreation_flags,\n\u001b[1;32m    212\u001b[0m         startupinfo\u001b[38;5;241m=\u001b[39mstart_info,\n\u001b[1;32m    213\u001b[0m         \u001b[38;5;241m*\u001b[39m\u001b[38;5;241m*\u001b[39m\u001b[38;5;28mself\u001b[39m\u001b[38;5;241m.\u001b[39mpopen_kw,\n\u001b[1;32m    214\u001b[0m     )\n\u001b[1;32m    215\u001b[0m     logger\u001b[38;5;241m.\u001b[39mdebug(\u001b[38;5;124m\"\u001b[39m\u001b[38;5;124mStarted executable: `\u001b[39m\u001b[38;5;132;01m%s\u001b[39;00m\u001b[38;5;124m` in a child process with pid: \u001b[39m\u001b[38;5;132;01m%s\u001b[39;00m\u001b[38;5;124m\"\u001b[39m, \u001b[38;5;28mself\u001b[39m\u001b[38;5;241m.\u001b[39m_path, \u001b[38;5;28mself\u001b[39m\u001b[38;5;241m.\u001b[39mprocess\u001b[38;5;241m.\u001b[39mpid)\n\u001b[1;32m    216\u001b[0m \u001b[38;5;28;01mexcept\u001b[39;00m \u001b[38;5;167;01mTypeError\u001b[39;00m:\n",
      "File \u001b[0;32m~/anaconda3/lib/python3.11/subprocess.py:992\u001b[0m, in \u001b[0;36mPopen.__init__\u001b[0;34m(self, args, bufsize, executable, stdin, stdout, stderr, preexec_fn, close_fds, shell, cwd, env, universal_newlines, startupinfo, creationflags, restore_signals, start_new_session, pass_fds, user, group, extra_groups, encoding, errors, text, umask, pipesize, process_group)\u001b[0m\n\u001b[1;32m    973\u001b[0m         \u001b[38;5;28;01mraise\u001b[39;00m \u001b[38;5;167;01mValueError\u001b[39;00m(\u001b[38;5;124mf\u001b[39m\u001b[38;5;124m\"\u001b[39m\u001b[38;5;124mUser ID cannot be negative, got \u001b[39m\u001b[38;5;132;01m{\u001b[39;00muid\u001b[38;5;132;01m}\u001b[39;00m\u001b[38;5;124m\"\u001b[39m)\n\u001b[1;32m    975\u001b[0m \u001b[38;5;66;03m# Input and output objects. The general principle is like\u001b[39;00m\n\u001b[1;32m    976\u001b[0m \u001b[38;5;66;03m# this:\u001b[39;00m\n\u001b[1;32m    977\u001b[0m \u001b[38;5;66;03m#\u001b[39;00m\n\u001b[0;32m   (...)\u001b[0m\n\u001b[1;32m    987\u001b[0m \u001b[38;5;66;03m# are -1 when not using PIPEs. The child objects are -1\u001b[39;00m\n\u001b[1;32m    988\u001b[0m \u001b[38;5;66;03m# when not redirecting.\u001b[39;00m\n\u001b[1;32m    990\u001b[0m (p2cread, p2cwrite,\n\u001b[1;32m    991\u001b[0m  c2pread, c2pwrite,\n\u001b[0;32m--> 992\u001b[0m  errread, errwrite) \u001b[38;5;241m=\u001b[39m \u001b[38;5;28mself\u001b[39m\u001b[38;5;241m.\u001b[39m_get_handles(stdin, stdout, stderr)\n\u001b[1;32m    994\u001b[0m \u001b[38;5;66;03m# From here on, raising exceptions may cause file descriptor leakage\u001b[39;00m\n\u001b[1;32m    995\u001b[0m \n\u001b[1;32m    996\u001b[0m \u001b[38;5;66;03m# We wrap OS handles *before* launching the child, otherwise a\u001b[39;00m\n\u001b[1;32m    997\u001b[0m \u001b[38;5;66;03m# quickly terminating child could make our fds unwrappable\u001b[39;00m\n\u001b[1;32m    998\u001b[0m \u001b[38;5;66;03m# (see #8458).\u001b[39;00m\n\u001b[1;32m   1000\u001b[0m \u001b[38;5;28;01mif\u001b[39;00m _mswindows:\n",
      "File \u001b[0;32m~/anaconda3/lib/python3.11/subprocess.py:1723\u001b[0m, in \u001b[0;36mPopen._get_handles\u001b[0;34m(self, stdin, stdout, stderr)\u001b[0m\n\u001b[1;32m   1720\u001b[0m     c2pwrite \u001b[38;5;241m=\u001b[39m stdout\n\u001b[1;32m   1721\u001b[0m \u001b[38;5;28;01melse\u001b[39;00m:\n\u001b[1;32m   1722\u001b[0m     \u001b[38;5;66;03m# Assuming file-like object\u001b[39;00m\n\u001b[0;32m-> 1723\u001b[0m     c2pwrite \u001b[38;5;241m=\u001b[39m stdout\u001b[38;5;241m.\u001b[39mfileno()\n\u001b[1;32m   1725\u001b[0m \u001b[38;5;28;01mif\u001b[39;00m stderr \u001b[38;5;129;01mis\u001b[39;00m \u001b[38;5;28;01mNone\u001b[39;00m:\n\u001b[1;32m   1726\u001b[0m     \u001b[38;5;28;01mpass\u001b[39;00m\n",
      "\u001b[0;31mValueError\u001b[0m: I/O operation on closed file"
     ]
    }
   ],
   "source": [
    "url = 'https://play.google.com/store/apps/details?id=com.banhala.android&hl=ko&gl=KR'\n",
    "driver = webdriver.Chrome(service=service,options=options)\n",
    "driver.get(url)\n",
    "\n",
    "time.sleep(3)\n",
    "\n",
    "btn_allreview = driver.find_element(By.CLASS_NAME,\"XfZNbf\")\n",
    "try: \n",
    "    driver.execute_script(\"arguments[0].scrollIntoView(True);\", btn_allreview)\n",
    "    btn_allreview.click()\n",
    "except:\n",
    "    pass\n",
    "finally:\n",
    "    # 브라우저 종료\n",
    "    driver.quit()"
   ]
  },
  {
   "cell_type": "code",
   "execution_count": 5,
   "metadata": {},
   "outputs": [
    {
     "ename": "JavascriptException",
     "evalue": "Message: javascript error: True is not defined\n  (Session info: chrome=120.0.6099.129)\nStacktrace:\n0   chromedriver                        0x0000000105b38cc8 chromedriver + 4844744\n1   chromedriver                        0x0000000105b30243 chromedriver + 4809283\n2   chromedriver                        0x00000001056fe77d chromedriver + 411517\n3   chromedriver                        0x0000000105704c90 chromedriver + 437392\n4   chromedriver                        0x000000010570779e chromedriver + 448414\n5   chromedriver                        0x0000000105798913 chromedriver + 1042707\n6   chromedriver                        0x0000000105778cc2 chromedriver + 912578\n7   chromedriver                        0x0000000105797d42 chromedriver + 1039682\n8   chromedriver                        0x0000000105778a63 chromedriver + 911971\n9   chromedriver                        0x00000001057401b3 chromedriver + 680371\n10  chromedriver                        0x00000001057417ce chromedriver + 686030\n11  chromedriver                        0x0000000105af8642 chromedriver + 4580930\n12  chromedriver                        0x0000000105afd9cc chromedriver + 4602316\n13  chromedriver                        0x0000000105adde11 chromedriver + 4472337\n14  chromedriver                        0x0000000105afe746 chromedriver + 4605766\n15  chromedriver                        0x0000000105acf39c chromedriver + 4412316\n16  chromedriver                        0x0000000105b1e868 chromedriver + 4737128\n17  chromedriver                        0x0000000105b1ea1e chromedriver + 4737566\n18  chromedriver                        0x0000000105b2fe83 chromedriver + 4808323\n19  libsystem_pthread.dylib             0x00007ff81055b202 _pthread_start + 99\n20  libsystem_pthread.dylib             0x00007ff810556bab thread_start + 15\n",
     "output_type": "error",
     "traceback": [
      "\u001b[0;31m---------------------------------------------------------------------------\u001b[0m",
      "\u001b[0;31mJavascriptException\u001b[0m                       Traceback (most recent call last)",
      "Cell \u001b[0;32mIn[5], line 11\u001b[0m\n\u001b[1;32m      5\u001b[0m \u001b[38;5;66;03m# element = WebDriverWait(driver, 10).until(EC.visibility_of_element_located((By.CLASS_NAME,\"aoJE7e\")))\u001b[39;00m\n\u001b[1;32m      6\u001b[0m \u001b[38;5;66;03m# driver.execute_script(\"window.scrollTo(0, document.body.scrollHeight);\")\u001b[39;00m\n\u001b[1;32m      7\u001b[0m \u001b[38;5;66;03m# footer = WebDriverWait(driver, 10).until(EC.visibility_of_element_located((By.CLASS_NAME,\"yhtbu\")))\u001b[39;00m\n\u001b[1;32m      8\u001b[0m \u001b[38;5;66;03m# driver.execute_script(\"window.scrollTo(0, document.body.scrollHeight);\")\u001b[39;00m\n\u001b[1;32m     10\u001b[0m review_section \u001b[38;5;241m=\u001b[39m WebDriverWait(driver, \u001b[38;5;241m10\u001b[39m)\u001b[38;5;241m.\u001b[39muntil(EC\u001b[38;5;241m.\u001b[39mvisibility_of_element_located((By\u001b[38;5;241m.\u001b[39mCLASS_NAME,\u001b[38;5;124m\"\u001b[39m\u001b[38;5;124mHcyOxe\u001b[39m\u001b[38;5;124m\"\u001b[39m)))\n\u001b[0;32m---> 11\u001b[0m driver\u001b[38;5;241m.\u001b[39mexecute_script(\u001b[38;5;124m\"\u001b[39m\u001b[38;5;124marguments[0].scrollIntoView(True);\u001b[39m\u001b[38;5;124m\"\u001b[39m, review_section)\n\u001b[1;32m     12\u001b[0m driver\u001b[38;5;241m.\u001b[39mexecute_script(\u001b[38;5;124m\"\u001b[39m\u001b[38;5;124mtry \u001b[39m\u001b[38;5;124m{\u001b[39m\u001b[38;5;124m invalidFunction(); } catch (e) \u001b[39m\u001b[38;5;124m{\u001b[39m\u001b[38;5;124m console.error(e.message); }\u001b[39m\u001b[38;5;124m\"\u001b[39m)\n\u001b[1;32m     14\u001b[0m time\u001b[38;5;241m.\u001b[39msleep(\u001b[38;5;241m1.0\u001b[39m)\n",
      "File \u001b[0;32m~/anaconda3/lib/python3.11/site-packages/selenium/webdriver/remote/webdriver.py:407\u001b[0m, in \u001b[0;36mWebDriver.execute_script\u001b[0;34m(self, script, *args)\u001b[0m\n\u001b[1;32m    404\u001b[0m converted_args \u001b[38;5;241m=\u001b[39m \u001b[38;5;28mlist\u001b[39m(args)\n\u001b[1;32m    405\u001b[0m command \u001b[38;5;241m=\u001b[39m Command\u001b[38;5;241m.\u001b[39mW3C_EXECUTE_SCRIPT\n\u001b[0;32m--> 407\u001b[0m \u001b[38;5;28;01mreturn\u001b[39;00m \u001b[38;5;28mself\u001b[39m\u001b[38;5;241m.\u001b[39mexecute(command, {\u001b[38;5;124m\"\u001b[39m\u001b[38;5;124mscript\u001b[39m\u001b[38;5;124m\"\u001b[39m: script, \u001b[38;5;124m\"\u001b[39m\u001b[38;5;124margs\u001b[39m\u001b[38;5;124m\"\u001b[39m: converted_args})[\u001b[38;5;124m\"\u001b[39m\u001b[38;5;124mvalue\u001b[39m\u001b[38;5;124m\"\u001b[39m]\n",
      "File \u001b[0;32m~/anaconda3/lib/python3.11/site-packages/selenium/webdriver/remote/webdriver.py:347\u001b[0m, in \u001b[0;36mWebDriver.execute\u001b[0;34m(self, driver_command, params)\u001b[0m\n\u001b[1;32m    345\u001b[0m response \u001b[38;5;241m=\u001b[39m \u001b[38;5;28mself\u001b[39m\u001b[38;5;241m.\u001b[39mcommand_executor\u001b[38;5;241m.\u001b[39mexecute(driver_command, params)\n\u001b[1;32m    346\u001b[0m \u001b[38;5;28;01mif\u001b[39;00m response:\n\u001b[0;32m--> 347\u001b[0m     \u001b[38;5;28mself\u001b[39m\u001b[38;5;241m.\u001b[39merror_handler\u001b[38;5;241m.\u001b[39mcheck_response(response)\n\u001b[1;32m    348\u001b[0m     response[\u001b[38;5;124m\"\u001b[39m\u001b[38;5;124mvalue\u001b[39m\u001b[38;5;124m\"\u001b[39m] \u001b[38;5;241m=\u001b[39m \u001b[38;5;28mself\u001b[39m\u001b[38;5;241m.\u001b[39m_unwrap_value(response\u001b[38;5;241m.\u001b[39mget(\u001b[38;5;124m\"\u001b[39m\u001b[38;5;124mvalue\u001b[39m\u001b[38;5;124m\"\u001b[39m, \u001b[38;5;28;01mNone\u001b[39;00m))\n\u001b[1;32m    349\u001b[0m     \u001b[38;5;28;01mreturn\u001b[39;00m response\n",
      "File \u001b[0;32m~/anaconda3/lib/python3.11/site-packages/selenium/webdriver/remote/errorhandler.py:229\u001b[0m, in \u001b[0;36mErrorHandler.check_response\u001b[0;34m(self, response)\u001b[0m\n\u001b[1;32m    227\u001b[0m         alert_text \u001b[38;5;241m=\u001b[39m value[\u001b[38;5;124m\"\u001b[39m\u001b[38;5;124malert\u001b[39m\u001b[38;5;124m\"\u001b[39m]\u001b[38;5;241m.\u001b[39mget(\u001b[38;5;124m\"\u001b[39m\u001b[38;5;124mtext\u001b[39m\u001b[38;5;124m\"\u001b[39m)\n\u001b[1;32m    228\u001b[0m     \u001b[38;5;28;01mraise\u001b[39;00m exception_class(message, screen, stacktrace, alert_text)  \u001b[38;5;66;03m# type: ignore[call-arg]  # mypy is not smart enough here\u001b[39;00m\n\u001b[0;32m--> 229\u001b[0m \u001b[38;5;28;01mraise\u001b[39;00m exception_class(message, screen, stacktrace)\n",
      "\u001b[0;31mJavascriptException\u001b[0m: Message: javascript error: True is not defined\n  (Session info: chrome=120.0.6099.129)\nStacktrace:\n0   chromedriver                        0x0000000105b38cc8 chromedriver + 4844744\n1   chromedriver                        0x0000000105b30243 chromedriver + 4809283\n2   chromedriver                        0x00000001056fe77d chromedriver + 411517\n3   chromedriver                        0x0000000105704c90 chromedriver + 437392\n4   chromedriver                        0x000000010570779e chromedriver + 448414\n5   chromedriver                        0x0000000105798913 chromedriver + 1042707\n6   chromedriver                        0x0000000105778cc2 chromedriver + 912578\n7   chromedriver                        0x0000000105797d42 chromedriver + 1039682\n8   chromedriver                        0x0000000105778a63 chromedriver + 911971\n9   chromedriver                        0x00000001057401b3 chromedriver + 680371\n10  chromedriver                        0x00000001057417ce chromedriver + 686030\n11  chromedriver                        0x0000000105af8642 chromedriver + 4580930\n12  chromedriver                        0x0000000105afd9cc chromedriver + 4602316\n13  chromedriver                        0x0000000105adde11 chromedriver + 4472337\n14  chromedriver                        0x0000000105afe746 chromedriver + 4605766\n15  chromedriver                        0x0000000105acf39c chromedriver + 4412316\n16  chromedriver                        0x0000000105b1e868 chromedriver + 4737128\n17  chromedriver                        0x0000000105b1ea1e chromedriver + 4737566\n18  chromedriver                        0x0000000105b2fe83 chromedriver + 4808323\n19  libsystem_pthread.dylib             0x00007ff81055b202 _pthread_start + 99\n20  libsystem_pthread.dylib             0x00007ff810556bab thread_start + 15\n"
     ]
    }
   ],
   "source": [
    "url = 'https://play.google.com/store/apps/details?id=com.banhala.android&hl=ko&gl=KR'\n",
    "driver = webdriver.Chrome(service=service,options=options)\n",
    "driver.get(url)\n",
    "\n",
    "# element = WebDriverWait(driver, 10).until(EC.visibility_of_element_located((By.CLASS_NAME,\"aoJE7e\")))\n",
    "# driver.execute_script(\"window.scrollTo(0, document.body.scrollHeight);\")\n",
    "# footer = WebDriverWait(driver, 10).until(EC.visibility_of_element_located((By.CLASS_NAME,\"yhtbu\")))\n",
    "# driver.execute_script(\"window.scrollTo(0, document.body.scrollHeight);\")\n",
    "\n",
    "review_section = WebDriverWait(driver, 10).until(EC.visibility_of_element_located((By.CLASS_NAME,\"HcyOxe\")))\n",
    "driver.execute_script(\"arguments[0].scrollIntoView(True);\", review_section)\n",
    "driver.execute_script(\"try { invalidFunction(); } catch (e) { console.error(e.message); }\")\n",
    "\n",
    "time.sleep(1.0)\n",
    "# position = driver.find_element(By.CLASS_NAME,\"HcyOxe\")\n",
    "# time.sleep(0.3)\n",
    "btn_allreview = driver.find_element(By.CLASS_NAME,\"VfPpkd-vQzf8d\")\n",
    "# btn_allreview2 = driver.find_element(By.CLASS_NAME,\"XfZNbf\")\n",
    "# driver.execute_script(\"arguments[0].scrollIntoView();\", btn_allreview)\n",
    "btn_allreview = WebDriverWait(driver, 10).until(EC.element_to_be_clickable((By.CLASS_NAME,\"VfPpkd-vQzf8d\")))\n",
    "\n",
    "btn_allreview.click()\n",
    "# btn_allreview2.click()\n",
    "\n",
    "\n",
    "# btn_allreview = driver.find_element(By.CLASS_NAME,\"VMq4uf\")\n",
    "# # btn_allreview = driver.find_element(By.CSS_SELECTOR,\"#ow455 > section > div > div.Jwxk6d > div:nth-child(5) > div > div > button\")\n",
    "# # btn_allreview = driver.find_element(by=By.XPATH,value='//*[@id=\"ow455\"]/section/div/div[2]/div[5]/div/div/button')\n",
    "\n",
    "# driver.execute_script(\"arguments[0].scrollIntoView();\", btn_allreview)\n",
    "# if btn_allreview.is_displayed():\n",
    "#     btn_allreview.click()\n",
    "\n",
    "companies = []        # 회사명              # class=\"sc-tdjdw3-0 frpBAf text title\"\n",
    "prdNames = []         # 제품명              # class=\"sc-tdjdw3-0 frpBAf text detail\"\n",
    "prdPrices = []        # 가격                # 가격섹션 (sc-jpuob9-3 iEzjpB prdc-price) 정가(sc-tdjdw3-0 frpBAf text customer-price) 할인율(sc-tdjdw3-0 frpBAf text final-discount) 최종할인가(sc-tdjdw3-0 frpBAf text final-price)\n",
    "prdRatings = []       # 별점                # class=\"score\"\n",
    "prdWish = []          # 관심상품             # class=\"sc-tdjdw3-0 frpBAf text cnt\"\n",
    "\n",
    "btn_product = ''      # 상품 상세로 이동       # class=\"sc-16sqvmz-0 hajYLp btn sc-jpuob9-7 ertTIN area-click\"\n",
    "btn_review = ''       # 상품 리뷰로 이동        # ul id=\"detail\" - selector #detail > li:nth-child(2) > a\n",
    "btn_list = ''         # 상품 리스트로 이동      #\n",
    "\n",
    "\n",
    "sec = 0.5\n",
    "time.sleep(sec)\n",
    "\n",
    "\n",
    "reviews = driver.find_elements(By.CLASS_NAME,\"RHo1pe\")\n",
    "# try:\n",
    "#     for idx, product in enumerate(products):\n",
    "#         # companies.append(product.find_element(By.CLASS_NAME,\"title\").text)\n",
    "#         # prdNames.append(product.find_element(By.CLASS_NAME,\"detail\").text)\n",
    "#         # prdPrices.append(product.find_element(By.CLASS_NAME,\"final-price\").text)\n",
    "#         # prdRatings.append(product.find_element(By.CLASS_NAME,\"score\").text)\n",
    "#         # prdWish.append(product.find_element(By.CLASS_NAME,\"cnt\").text)\n",
    "        \n",
    "        \n",
    "        \n",
    "#         time.sleep(sec)\n",
    "#         driver.execute_script(\"window.scrollTo(0, 1500);\")\n",
    "#         btn_review = driver.find_element(By.CSS_SELECTOR,\"#detail > li:nth-child(2) > a\")\n",
    "#         btn_review.click()\n",
    "\n",
    "# except Exception as e:  \n",
    "#     pass\n",
    "\n",
    "driver.quit()"
   ]
  },
  {
   "cell_type": "code",
   "execution_count": 34,
   "metadata": {},
   "outputs": [
    {
     "data": {
      "text/plain": [
       "40"
      ]
     },
     "execution_count": 34,
     "metadata": {},
     "output_type": "execute_result"
    }
   ],
   "source": [
    "from selenium import webdriver\n",
    "from selenium.webdriver.common.keys import Keys\n",
    " \n",
    "driver = webdriver.Chrome('path/to/chromedriver')\n",
    " \n",
    "# 페이지 접속\n",
    "driver.get('https://www.example.com')\n",
    " \n",
    "# 다른 요소로 스크롤하여 클릭하려는 요소가 보이도록 만들기\n",
    "try:\n",
    "    target_element = driver.find_element_by_id('target-element')\n",
    "    driver.execute_script(\"arguments[0].scrollIntoView(true);\", target_element)\n",
    "    target_element.click()\n",
    "except ElementClickInterceptedException as e:\n",
    "    print(\"요소를 클릭할 수 없습니다.\")\n",
    "finally:\n",
    "    # 브라우저 종료\n",
    "    driver.quit()"
   ]
  },
  {
   "cell_type": "code",
   "execution_count": 6,
   "metadata": {},
   "outputs": [
    {
     "ename": "NoSuchElementException",
     "evalue": "Message: no such element: Unable to locate element: {\"method\":\"css selector\",\"selector\":\"button.VfPpkd-Bz112c-LgbsSe.yHy1rc.eT1oJ.QDwDD.DiOXab.VxpoF[aria-label='평가 및 리뷰 자세히 알아보기']\"}\n  (Session info: chrome=120.0.6099.129); For documentation on this error, please visit: https://www.selenium.dev/documentation/webdriver/troubleshooting/errors#no-such-element-exception\nStacktrace:\n0   chromedriver                        0x000000010f99fcc8 chromedriver + 4844744\n1   chromedriver                        0x000000010f997243 chromedriver + 4809283\n2   chromedriver                        0x000000010f56577d chromedriver + 411517\n3   chromedriver                        0x000000010f5b5ee0 chromedriver + 741088\n4   chromedriver                        0x000000010f5b6091 chromedriver + 741521\n5   chromedriver                        0x000000010f601ab4 chromedriver + 1051316\n6   chromedriver                        0x000000010f5dfced chromedriver + 912621\n7   chromedriver                        0x000000010f5fed42 chromedriver + 1039682\n8   chromedriver                        0x000000010f5dfa63 chromedriver + 911971\n9   chromedriver                        0x000000010f5a71b3 chromedriver + 680371\n10  chromedriver                        0x000000010f5a87ce chromedriver + 686030\n11  chromedriver                        0x000000010f95f642 chromedriver + 4580930\n12  chromedriver                        0x000000010f9649cc chromedriver + 4602316\n13  chromedriver                        0x000000010f944e11 chromedriver + 4472337\n14  chromedriver                        0x000000010f965746 chromedriver + 4605766\n15  chromedriver                        0x000000010f93639c chromedriver + 4412316\n16  chromedriver                        0x000000010f985868 chromedriver + 4737128\n17  chromedriver                        0x000000010f985a1e chromedriver + 4737566\n18  chromedriver                        0x000000010f996e83 chromedriver + 4808323\n19  libsystem_pthread.dylib             0x00007ff81055b202 _pthread_start + 99\n20  libsystem_pthread.dylib             0x00007ff810556bab thread_start + 15\n",
     "output_type": "error",
     "traceback": [
      "\u001b[0;31m---------------------------------------------------------------------------\u001b[0m",
      "\u001b[0;31mNoSuchElementException\u001b[0m                    Traceback (most recent call last)",
      "Cell \u001b[0;32mIn[6], line 12\u001b[0m\n\u001b[1;32m      9\u001b[0m driver\u001b[38;5;241m.\u001b[39mget(url)\n\u001b[1;32m     10\u001b[0m time\u001b[38;5;241m.\u001b[39msleep(\u001b[38;5;241m3\u001b[39m)\n\u001b[0;32m---> 12\u001b[0m click_element(driver)\n",
      "Cell \u001b[0;32mIn[6], line 4\u001b[0m, in \u001b[0;36mclick_element\u001b[0;34m(driver)\u001b[0m\n\u001b[1;32m      3\u001b[0m \u001b[38;5;28;01mdef\u001b[39;00m \u001b[38;5;21mclick_element\u001b[39m(driver):\n\u001b[0;32m----> 4\u001b[0m     click_target \u001b[38;5;241m=\u001b[39m driver\u001b[38;5;241m.\u001b[39mfind_element(by\u001b[38;5;241m=\u001b[39mBy\u001b[38;5;241m.\u001b[39mCSS_SELECTOR, value\u001b[38;5;241m=\u001b[39melement)\n\u001b[1;32m      5\u001b[0m     click_target\u001b[38;5;241m.\u001b[39mclick()\n\u001b[1;32m      6\u001b[0m     time\u001b[38;5;241m.\u001b[39msleep(\u001b[38;5;241m3\u001b[39m)\n",
      "File \u001b[0;32m~/anaconda3/lib/python3.11/site-packages/selenium/webdriver/remote/webdriver.py:741\u001b[0m, in \u001b[0;36mWebDriver.find_element\u001b[0;34m(self, by, value)\u001b[0m\n\u001b[1;32m    738\u001b[0m     by \u001b[38;5;241m=\u001b[39m By\u001b[38;5;241m.\u001b[39mCSS_SELECTOR\n\u001b[1;32m    739\u001b[0m     value \u001b[38;5;241m=\u001b[39m \u001b[38;5;124mf\u001b[39m\u001b[38;5;124m'\u001b[39m\u001b[38;5;124m[name=\u001b[39m\u001b[38;5;124m\"\u001b[39m\u001b[38;5;132;01m{\u001b[39;00mvalue\u001b[38;5;132;01m}\u001b[39;00m\u001b[38;5;124m\"\u001b[39m\u001b[38;5;124m]\u001b[39m\u001b[38;5;124m'\u001b[39m\n\u001b[0;32m--> 741\u001b[0m \u001b[38;5;28;01mreturn\u001b[39;00m \u001b[38;5;28mself\u001b[39m\u001b[38;5;241m.\u001b[39mexecute(Command\u001b[38;5;241m.\u001b[39mFIND_ELEMENT, {\u001b[38;5;124m\"\u001b[39m\u001b[38;5;124musing\u001b[39m\u001b[38;5;124m\"\u001b[39m: by, \u001b[38;5;124m\"\u001b[39m\u001b[38;5;124mvalue\u001b[39m\u001b[38;5;124m\"\u001b[39m: value})[\u001b[38;5;124m\"\u001b[39m\u001b[38;5;124mvalue\u001b[39m\u001b[38;5;124m\"\u001b[39m]\n",
      "File \u001b[0;32m~/anaconda3/lib/python3.11/site-packages/selenium/webdriver/remote/webdriver.py:347\u001b[0m, in \u001b[0;36mWebDriver.execute\u001b[0;34m(self, driver_command, params)\u001b[0m\n\u001b[1;32m    345\u001b[0m response \u001b[38;5;241m=\u001b[39m \u001b[38;5;28mself\u001b[39m\u001b[38;5;241m.\u001b[39mcommand_executor\u001b[38;5;241m.\u001b[39mexecute(driver_command, params)\n\u001b[1;32m    346\u001b[0m \u001b[38;5;28;01mif\u001b[39;00m response:\n\u001b[0;32m--> 347\u001b[0m     \u001b[38;5;28mself\u001b[39m\u001b[38;5;241m.\u001b[39merror_handler\u001b[38;5;241m.\u001b[39mcheck_response(response)\n\u001b[1;32m    348\u001b[0m     response[\u001b[38;5;124m\"\u001b[39m\u001b[38;5;124mvalue\u001b[39m\u001b[38;5;124m\"\u001b[39m] \u001b[38;5;241m=\u001b[39m \u001b[38;5;28mself\u001b[39m\u001b[38;5;241m.\u001b[39m_unwrap_value(response\u001b[38;5;241m.\u001b[39mget(\u001b[38;5;124m\"\u001b[39m\u001b[38;5;124mvalue\u001b[39m\u001b[38;5;124m\"\u001b[39m, \u001b[38;5;28;01mNone\u001b[39;00m))\n\u001b[1;32m    349\u001b[0m     \u001b[38;5;28;01mreturn\u001b[39;00m response\n",
      "File \u001b[0;32m~/anaconda3/lib/python3.11/site-packages/selenium/webdriver/remote/errorhandler.py:229\u001b[0m, in \u001b[0;36mErrorHandler.check_response\u001b[0;34m(self, response)\u001b[0m\n\u001b[1;32m    227\u001b[0m         alert_text \u001b[38;5;241m=\u001b[39m value[\u001b[38;5;124m\"\u001b[39m\u001b[38;5;124malert\u001b[39m\u001b[38;5;124m\"\u001b[39m]\u001b[38;5;241m.\u001b[39mget(\u001b[38;5;124m\"\u001b[39m\u001b[38;5;124mtext\u001b[39m\u001b[38;5;124m\"\u001b[39m)\n\u001b[1;32m    228\u001b[0m     \u001b[38;5;28;01mraise\u001b[39;00m exception_class(message, screen, stacktrace, alert_text)  \u001b[38;5;66;03m# type: ignore[call-arg]  # mypy is not smart enough here\u001b[39;00m\n\u001b[0;32m--> 229\u001b[0m \u001b[38;5;28;01mraise\u001b[39;00m exception_class(message, screen, stacktrace)\n",
      "\u001b[0;31mNoSuchElementException\u001b[0m: Message: no such element: Unable to locate element: {\"method\":\"css selector\",\"selector\":\"button.VfPpkd-Bz112c-LgbsSe.yHy1rc.eT1oJ.QDwDD.DiOXab.VxpoF[aria-label='평가 및 리뷰 자세히 알아보기']\"}\n  (Session info: chrome=120.0.6099.129); For documentation on this error, please visit: https://www.selenium.dev/documentation/webdriver/troubleshooting/errors#no-such-element-exception\nStacktrace:\n0   chromedriver                        0x000000010f99fcc8 chromedriver + 4844744\n1   chromedriver                        0x000000010f997243 chromedriver + 4809283\n2   chromedriver                        0x000000010f56577d chromedriver + 411517\n3   chromedriver                        0x000000010f5b5ee0 chromedriver + 741088\n4   chromedriver                        0x000000010f5b6091 chromedriver + 741521\n5   chromedriver                        0x000000010f601ab4 chromedriver + 1051316\n6   chromedriver                        0x000000010f5dfced chromedriver + 912621\n7   chromedriver                        0x000000010f5fed42 chromedriver + 1039682\n8   chromedriver                        0x000000010f5dfa63 chromedriver + 911971\n9   chromedriver                        0x000000010f5a71b3 chromedriver + 680371\n10  chromedriver                        0x000000010f5a87ce chromedriver + 686030\n11  chromedriver                        0x000000010f95f642 chromedriver + 4580930\n12  chromedriver                        0x000000010f9649cc chromedriver + 4602316\n13  chromedriver                        0x000000010f944e11 chromedriver + 4472337\n14  chromedriver                        0x000000010f965746 chromedriver + 4605766\n15  chromedriver                        0x000000010f93639c chromedriver + 4412316\n16  chromedriver                        0x000000010f985868 chromedriver + 4737128\n17  chromedriver                        0x000000010f985a1e chromedriver + 4737566\n18  chromedriver                        0x000000010f996e83 chromedriver + 4808323\n19  libsystem_pthread.dylib             0x00007ff81055b202 _pthread_start + 99\n20  libsystem_pthread.dylib             0x00007ff810556bab thread_start + 15\n"
     ]
    }
   ],
   "source": [
    "element = \"button.VfPpkd-Bz112c-LgbsSe.yHy1rc.eT1oJ.QDwDD.DiOXab.VxpoF[aria-label='평가 및 리뷰 자세히 알아보기']\"\n",
    "\n",
    "def click_element(driver):\n",
    "    click_target = driver.find_element(by=By.CSS_SELECTOR, value=element)\n",
    "    click_target.click()\n",
    "    time.sleep(3)\n",
    "    \n",
    "driver = webdriver.Chrome()\n",
    "driver.get(url)\n",
    "time.sleep(3)\n",
    "\n",
    "click_element(driver)"
   ]
  },
  {
   "cell_type": "code",
   "execution_count": 7,
   "metadata": {},
   "outputs": [
    {
     "ename": "ExtraHTTPError",
     "evalue": "App not found. Status code 400 returned.",
     "output_type": "error",
     "traceback": [
      "\u001b[0;31m---------------------------------------------------------------------------\u001b[0m",
      "\u001b[0;31mHTTPError\u001b[0m                                 Traceback (most recent call last)",
      "File \u001b[0;32m~/anaconda3/lib/python3.11/site-packages/google_play_scraper/utils/request.py:10\u001b[0m, in \u001b[0;36m_urlopen\u001b[0;34m(obj)\u001b[0m\n\u001b[1;32m      9\u001b[0m \u001b[38;5;28;01mtry\u001b[39;00m:\n\u001b[0;32m---> 10\u001b[0m     resp \u001b[38;5;241m=\u001b[39m urlopen(obj)\n\u001b[1;32m     11\u001b[0m \u001b[38;5;28;01mexcept\u001b[39;00m HTTPError \u001b[38;5;28;01mas\u001b[39;00m e:\n",
      "File \u001b[0;32m~/anaconda3/lib/python3.11/urllib/request.py:216\u001b[0m, in \u001b[0;36murlopen\u001b[0;34m(url, data, timeout, cafile, capath, cadefault, context)\u001b[0m\n\u001b[1;32m    215\u001b[0m     opener \u001b[38;5;241m=\u001b[39m _opener\n\u001b[0;32m--> 216\u001b[0m \u001b[38;5;28;01mreturn\u001b[39;00m opener\u001b[38;5;241m.\u001b[39mopen(url, data, timeout)\n",
      "File \u001b[0;32m~/anaconda3/lib/python3.11/urllib/request.py:525\u001b[0m, in \u001b[0;36mOpenerDirector.open\u001b[0;34m(self, fullurl, data, timeout)\u001b[0m\n\u001b[1;32m    524\u001b[0m     meth \u001b[38;5;241m=\u001b[39m \u001b[38;5;28mgetattr\u001b[39m(processor, meth_name)\n\u001b[0;32m--> 525\u001b[0m     response \u001b[38;5;241m=\u001b[39m meth(req, response)\n\u001b[1;32m    527\u001b[0m \u001b[38;5;28;01mreturn\u001b[39;00m response\n",
      "File \u001b[0;32m~/anaconda3/lib/python3.11/urllib/request.py:634\u001b[0m, in \u001b[0;36mHTTPErrorProcessor.http_response\u001b[0;34m(self, request, response)\u001b[0m\n\u001b[1;32m    633\u001b[0m \u001b[38;5;28;01mif\u001b[39;00m \u001b[38;5;129;01mnot\u001b[39;00m (\u001b[38;5;241m200\u001b[39m \u001b[38;5;241m<\u001b[39m\u001b[38;5;241m=\u001b[39m code \u001b[38;5;241m<\u001b[39m \u001b[38;5;241m300\u001b[39m):\n\u001b[0;32m--> 634\u001b[0m     response \u001b[38;5;241m=\u001b[39m \u001b[38;5;28mself\u001b[39m\u001b[38;5;241m.\u001b[39mparent\u001b[38;5;241m.\u001b[39merror(\n\u001b[1;32m    635\u001b[0m         \u001b[38;5;124m'\u001b[39m\u001b[38;5;124mhttp\u001b[39m\u001b[38;5;124m'\u001b[39m, request, response, code, msg, hdrs)\n\u001b[1;32m    637\u001b[0m \u001b[38;5;28;01mreturn\u001b[39;00m response\n",
      "File \u001b[0;32m~/anaconda3/lib/python3.11/urllib/request.py:563\u001b[0m, in \u001b[0;36mOpenerDirector.error\u001b[0;34m(self, proto, *args)\u001b[0m\n\u001b[1;32m    562\u001b[0m args \u001b[38;5;241m=\u001b[39m (\u001b[38;5;28mdict\u001b[39m, \u001b[38;5;124m'\u001b[39m\u001b[38;5;124mdefault\u001b[39m\u001b[38;5;124m'\u001b[39m, \u001b[38;5;124m'\u001b[39m\u001b[38;5;124mhttp_error_default\u001b[39m\u001b[38;5;124m'\u001b[39m) \u001b[38;5;241m+\u001b[39m orig_args\n\u001b[0;32m--> 563\u001b[0m \u001b[38;5;28;01mreturn\u001b[39;00m \u001b[38;5;28mself\u001b[39m\u001b[38;5;241m.\u001b[39m_call_chain(\u001b[38;5;241m*\u001b[39margs)\n",
      "File \u001b[0;32m~/anaconda3/lib/python3.11/urllib/request.py:496\u001b[0m, in \u001b[0;36mOpenerDirector._call_chain\u001b[0;34m(self, chain, kind, meth_name, *args)\u001b[0m\n\u001b[1;32m    495\u001b[0m func \u001b[38;5;241m=\u001b[39m \u001b[38;5;28mgetattr\u001b[39m(handler, meth_name)\n\u001b[0;32m--> 496\u001b[0m result \u001b[38;5;241m=\u001b[39m func(\u001b[38;5;241m*\u001b[39margs)\n\u001b[1;32m    497\u001b[0m \u001b[38;5;28;01mif\u001b[39;00m result \u001b[38;5;129;01mis\u001b[39;00m \u001b[38;5;129;01mnot\u001b[39;00m \u001b[38;5;28;01mNone\u001b[39;00m:\n",
      "File \u001b[0;32m~/anaconda3/lib/python3.11/urllib/request.py:643\u001b[0m, in \u001b[0;36mHTTPDefaultErrorHandler.http_error_default\u001b[0;34m(self, req, fp, code, msg, hdrs)\u001b[0m\n\u001b[1;32m    642\u001b[0m \u001b[38;5;28;01mdef\u001b[39;00m \u001b[38;5;21mhttp_error_default\u001b[39m(\u001b[38;5;28mself\u001b[39m, req, fp, code, msg, hdrs):\n\u001b[0;32m--> 643\u001b[0m     \u001b[38;5;28;01mraise\u001b[39;00m HTTPError(req\u001b[38;5;241m.\u001b[39mfull_url, code, msg, hdrs, fp)\n",
      "\u001b[0;31mHTTPError\u001b[0m: HTTP Error 400: Bad Request",
      "\nDuring handling of the above exception, another exception occurred:\n",
      "\u001b[0;31mExtraHTTPError\u001b[0m                            Traceback (most recent call last)",
      "Cell \u001b[0;32mIn[7], line 11\u001b[0m\n\u001b[1;32m      8\u001b[0m lang \u001b[38;5;241m=\u001b[39m \u001b[38;5;124m'\u001b[39m\u001b[38;5;124mko\u001b[39m\u001b[38;5;124m'\u001b[39m\n\u001b[1;32m      9\u001b[0m \u001b[38;5;28mid\u001b[39m \u001b[38;5;241m=\u001b[39m \u001b[38;5;124m'\u001b[39m\u001b[38;5;124mcom.banhala.android\u001b[39m\u001b[38;5;124m'\u001b[39m\n\u001b[0;32m---> 11\u001b[0m info \u001b[38;5;241m=\u001b[39m gps\u001b[38;5;241m.\u001b[39mapp(\u001b[38;5;28mid\u001b[39m, lang \u001b[38;5;241m=\u001b[39m lang , country \u001b[38;5;241m=\u001b[39m country)\n\u001b[1;32m     13\u001b[0m result_a  \u001b[38;5;241m=\u001b[39m gps\u001b[38;5;241m.\u001b[39mreviews_all(\n\u001b[1;32m     14\u001b[0m     \u001b[38;5;28mid\u001b[39m,\n\u001b[1;32m     15\u001b[0m     sleep_milliseconds\u001b[38;5;241m=\u001b[39m\u001b[38;5;241m2000\u001b[39m,  \u001b[38;5;66;03m# defaults to 0\u001b[39;00m\n\u001b[0;32m   (...)\u001b[0m\n\u001b[1;32m     19\u001b[0m     filter_score_with\u001b[38;5;241m=\u001b[39m\u001b[38;5;28;01mNone\u001b[39;00m  \u001b[38;5;66;03m# defaults to None(means all score)\u001b[39;00m\n\u001b[1;32m     20\u001b[0m )\n\u001b[1;32m     23\u001b[0m \u001b[38;5;28;01mfor\u001b[39;00m item \u001b[38;5;129;01min\u001b[39;00m result_a:\n",
      "File \u001b[0;32m~/anaconda3/lib/python3.11/site-packages/google_play_scraper/features/app.py:15\u001b[0m, in \u001b[0;36mapp\u001b[0;34m(app_id, lang, country)\u001b[0m\n\u001b[1;32m     12\u001b[0m url \u001b[38;5;241m=\u001b[39m Formats\u001b[38;5;241m.\u001b[39mDetail\u001b[38;5;241m.\u001b[39mbuild(app_id\u001b[38;5;241m=\u001b[39mapp_id, lang\u001b[38;5;241m=\u001b[39mlang, country\u001b[38;5;241m=\u001b[39mcountry)\n\u001b[1;32m     14\u001b[0m \u001b[38;5;28;01mtry\u001b[39;00m:\n\u001b[0;32m---> 15\u001b[0m     dom \u001b[38;5;241m=\u001b[39m get(url)\n\u001b[1;32m     16\u001b[0m \u001b[38;5;28;01mexcept\u001b[39;00m NotFoundError:\n\u001b[1;32m     17\u001b[0m     url \u001b[38;5;241m=\u001b[39m Formats\u001b[38;5;241m.\u001b[39mDetail\u001b[38;5;241m.\u001b[39mfallback_build(app_id\u001b[38;5;241m=\u001b[39mapp_id, lang\u001b[38;5;241m=\u001b[39mlang)\n",
      "File \u001b[0;32m~/anaconda3/lib/python3.11/site-packages/google_play_scraper/utils/request.py:27\u001b[0m, in \u001b[0;36mget\u001b[0;34m(url)\u001b[0m\n\u001b[1;32m     26\u001b[0m \u001b[38;5;28;01mdef\u001b[39;00m \u001b[38;5;21mget\u001b[39m(url: \u001b[38;5;28mstr\u001b[39m) \u001b[38;5;241m-\u001b[39m\u001b[38;5;241m>\u001b[39m \u001b[38;5;28mstr\u001b[39m:\n\u001b[0;32m---> 27\u001b[0m     \u001b[38;5;28;01mreturn\u001b[39;00m _urlopen(url)\n",
      "File \u001b[0;32m~/anaconda3/lib/python3.11/site-packages/google_play_scraper/utils/request.py:15\u001b[0m, in \u001b[0;36m_urlopen\u001b[0;34m(obj)\u001b[0m\n\u001b[1;32m     13\u001b[0m         \u001b[38;5;28;01mraise\u001b[39;00m NotFoundError(\u001b[38;5;124m\"\u001b[39m\u001b[38;5;124mApp not found(404).\u001b[39m\u001b[38;5;124m\"\u001b[39m)\n\u001b[1;32m     14\u001b[0m     \u001b[38;5;28;01melse\u001b[39;00m:\n\u001b[0;32m---> 15\u001b[0m         \u001b[38;5;28;01mraise\u001b[39;00m ExtraHTTPError(\n\u001b[1;32m     16\u001b[0m             \u001b[38;5;124m\"\u001b[39m\u001b[38;5;124mApp not found. Status code \u001b[39m\u001b[38;5;132;01m{}\u001b[39;00m\u001b[38;5;124m returned.\u001b[39m\u001b[38;5;124m\"\u001b[39m\u001b[38;5;241m.\u001b[39mformat(e\u001b[38;5;241m.\u001b[39mcode)\n\u001b[1;32m     17\u001b[0m         )\n\u001b[1;32m     19\u001b[0m \u001b[38;5;28;01mreturn\u001b[39;00m resp\u001b[38;5;241m.\u001b[39mread()\u001b[38;5;241m.\u001b[39mdecode(\u001b[38;5;124m\"\u001b[39m\u001b[38;5;124mUTF-8\u001b[39m\u001b[38;5;124m\"\u001b[39m)\n",
      "\u001b[0;31mExtraHTTPError\u001b[0m: App not found. Status code 400 returned."
     ]
    }
   ],
   "source": [
    "import pandas as pd\n",
    "import numpy as np\n",
    "import matplotlib.pyplot as plt\n",
    "import google_play_scraper as gps\n",
    "\n",
    "\n",
    "country = 'ko'\n",
    "lang = 'ko'\n",
    "id = 'com.banhala.android'\n",
    "\n",
    "info = gps.app(id, lang = lang , country = country)\n",
    "\n",
    "result_a  = gps.reviews_all(\n",
    "    id,\n",
    "    sleep_milliseconds=2000,  # defaults to 0\n",
    "    lang=lang,  # defaults to 'en'\n",
    "    country=country,  # defaults to 'us'\n",
    "    sort=gps.Sort.NEWEST,  # defaults to Sort.MOST_RELEVANT\n",
    "    filter_score_with=None  # defaults to None(means all score)\n",
    ")\n",
    "\n",
    "\n",
    "for item in result_a:\n",
    "    if item['at'].year >= 2023 and item['at'].month >= 5 :\n",
    "        print(str(item['at'])+'\\t'+item['userName']+'\\t'+str(item['score'])+'\\t'+item['content'])"
   ]
  },
  {
   "cell_type": "code",
   "execution_count": null,
   "metadata": {},
   "outputs": [],
   "source": []
  }
 ],
 "metadata": {
  "kernelspec": {
   "display_name": "base",
   "language": "python",
   "name": "python3"
  },
  "language_info": {
   "codemirror_mode": {
    "name": "ipython",
    "version": 3
   },
   "file_extension": ".py",
   "mimetype": "text/x-python",
   "name": "python",
   "nbconvert_exporter": "python",
   "pygments_lexer": "ipython3",
   "version": "3.11.5"
  }
 },
 "nbformat": 4,
 "nbformat_minor": 2
}
