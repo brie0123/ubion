{
 "cells": [
  {
   "cell_type": "markdown",
   "metadata": {},
   "source": [
    "## wconcept 추천 시스템"
   ]
  },
  {
   "cell_type": "code",
   "execution_count": 1,
   "metadata": {},
   "outputs": [],
   "source": [
    "# 검색어 '바라클라바' 추천순 제품 10개 댓글 긍부정 분석\n",
    "# 제품 10개 각각 하단 you may also like 상품 세개~다섯개 댓글 긍부정 확인\n",
    "# -> 각각의 긍정키워드 / 부정키워드 분석 (긍부정 비율 + 긍정 이유 및 부정 이유의 유사성 확인)\n",
    "\n",
    "# -> 추천 시스템 작동 원리 확인...?"
   ]
  },
  {
   "cell_type": "markdown",
   "metadata": {},
   "source": [
    "# 데이터 수집"
   ]
  },
  {
   "cell_type": "code",
   "execution_count": 2,
   "metadata": {},
   "outputs": [],
   "source": [
    "# 크롤링\n",
    "\n",
    "# url = 'product'\n",
    "\n",
    "from selenium import webdriver\n",
    "from webdriver_manager.chrome import ChromeDriverManager\n",
    "from selenium.webdriver.chrome.service import Service\n",
    "from selenium.webdriver.common.by import By\n",
    "from selenium.webdriver.common.keys import Keys\n",
    "import requests\n",
    "from selenium.webdriver.support import expected_conditions as EC\n",
    "import time\n",
    "from selenium.webdriver.support.ui import WebDriverWait\n",
    "\n",
    "service = Service()\n",
    "options = webdriver.ChromeOptions()\n",
    "\n",
    "page = 1\n",
    "\n",
    "# url = \"https://www.e-himart.co.kr/app/display/showDisplayCategory?dispNo=1011030000#pageCount={}\".format(page)\n",
    "url = 'https://display.wconcept.co.kr/search?kwd=%EB%B0%94%EB%9D%BC%ED%81%B4%EB%9D%BC%EB%B0%94&sort=WCK&type=popular'\n",
    "driver = webdriver.Chrome(service=service,options=options)\n",
    "driver.get(url)"
   ]
  },
  {
   "cell_type": "code",
   "execution_count": 3,
   "metadata": {},
   "outputs": [],
   "source": [
    "# url = 'https://display.wconcept.co.kr/search?kwd=%EB%B0%94%EB%9D%BC%ED%81%B4%EB%9D%BC%EB%B0%94&sort=WCK&type=popular'\n",
    "# driver = webdriver.Chrome(service=service,options=options)\n",
    "# driver.get(url)\n",
    "\n",
    "# driver.execute_script(\"window.scrollTo(0, 1000);\")\n",
    "\n",
    "contents = driver.find_element(By.ID,\"product\")\n",
    "products = contents.find_elements(By.CLASS_NAME,\"product-item\")     # 조금 더 좁히면 class=\"area-info\"\n",
    "\n",
    "companies = []        # 회사명              # class=\"sc-tdjdw3-0 frpBAf text title\"\n",
    "prdNames = []         # 제품명              # class=\"sc-tdjdw3-0 frpBAf text detail\"\n",
    "prdPrices = []        # 가격                # 가격섹션 (sc-jpuob9-3 iEzjpB prdc-price) 정가(sc-tdjdw3-0 frpBAf text customer-price) 할인율(sc-tdjdw3-0 frpBAf text final-discount) 최종할인가(sc-tdjdw3-0 frpBAf text final-price)\n",
    "prdRatings = []       # 별점                # class=\"score\"\n",
    "prdWish = []          # 관심상품             # class=\"sc-tdjdw3-0 frpBAf text cnt\"\n",
    "\n",
    "btn_product = ''      # 상품 상세로 이동       # class=\"sc-16sqvmz-0 hajYLp btn sc-jpuob9-7 ertTIN area-click\"\n",
    "btn_review = ''       # 상품 리뷰로 이동        # ul id=\"detail\" - selector #detail > li:nth-child(2) > a\n",
    "btn_list = ''         # 상품 리스트로 이동      #\n",
    "\n",
    "\n",
    "sec = 0.5\n",
    "time.sleep(sec)\n",
    "\n",
    "try:\n",
    "    for idx, product in enumerate(products):\n",
    "        # companies.append(product.find_element(By.CLASS_NAME,\"title\").text)\n",
    "        # prdNames.append(product.find_element(By.CLASS_NAME,\"detail\").text)\n",
    "        # prdPrices.append(product.find_element(By.CLASS_NAME,\"final-price\").text)\n",
    "        # prdRatings.append(product.find_element(By.CLASS_NAME,\"score\").text)\n",
    "        # prdWish.append(product.find_element(By.CLASS_NAME,\"cnt\").text)\n",
    "        \n",
    "        btn_product = product.find_element(By.CLASS_NAME,\"area-click\")\n",
    "        btn_product.click()\n",
    "        time.sleep(sec)\n",
    "        driver.execute_script(\"window.scrollTo(0, 1500);\")\n",
    "        btn_review = driver.find_element(By.CSS_SELECTOR,\"#detail > li:nth-child(2) > a\")\n",
    "        btn_review.click()\n",
    "\n",
    "except Exception as e:  \n",
    "    pass\n"
   ]
  },
  {
   "cell_type": "code",
   "execution_count": 11,
   "metadata": {},
   "outputs": [
    {
     "ename": "ElementClickInterceptedException",
     "evalue": "Message: element click intercepted: Element <li>...</li> is not clickable at point (504, 11). Other element would receive the click: <a href=\"/BRAND\" onclick=\"GA4EventPush('gnb_click', '...', 'gnb', 'gnb_list_tab', '7'); AMPLITUDE.LogClickGnbHeader(1,'click_gnb','gnb_no7', 'DESIGNER', '7','/BRAND');\">DESIGNER</a>\n  (Session info: chrome=120.0.6099.129)\nStacktrace:\n0   chromedriver                        0x000000010618fcc8 chromedriver + 4844744\n1   chromedriver                        0x0000000106187243 chromedriver + 4809283\n2   chromedriver                        0x0000000105d5577d chromedriver + 411517\n3   chromedriver                        0x0000000105dae522 chromedriver + 775458\n4   chromedriver                        0x0000000105dabcb6 chromedriver + 765110\n5   chromedriver                        0x0000000105da8f57 chromedriver + 753495\n6   chromedriver                        0x0000000105da7a6b chromedriver + 748139\n7   chromedriver                        0x0000000105d998bd chromedriver + 690365\n8   chromedriver                        0x0000000105dcfcc2 chromedriver + 912578\n9   chromedriver                        0x0000000105d99118 chromedriver + 688408\n10  chromedriver                        0x0000000105dd031e chromedriver + 914206\n11  chromedriver                        0x0000000105deed42 chromedriver + 1039682\n12  chromedriver                        0x0000000105dcfa63 chromedriver + 911971\n13  chromedriver                        0x0000000105d971b3 chromedriver + 680371\n14  chromedriver                        0x0000000105d987ce chromedriver + 686030\n15  chromedriver                        0x000000010614f642 chromedriver + 4580930\n16  chromedriver                        0x00000001061549cc chromedriver + 4602316\n17  chromedriver                        0x0000000106134e11 chromedriver + 4472337\n18  chromedriver                        0x0000000106155746 chromedriver + 4605766\n19  chromedriver                        0x000000010612639c chromedriver + 4412316\n20  chromedriver                        0x0000000106175868 chromedriver + 4737128\n21  chromedriver                        0x0000000106175a1e chromedriver + 4737566\n22  chromedriver                        0x0000000106186e83 chromedriver + 4808323\n23  libsystem_pthread.dylib             0x00007ff80fed4202 _pthread_start + 99\n24  libsystem_pthread.dylib             0x00007ff80fecfbab thread_start + 15\n",
     "output_type": "error",
     "traceback": [
      "\u001b[0;31m---------------------------------------------------------------------------\u001b[0m",
      "\u001b[0;31mElementClickInterceptedException\u001b[0m          Traceback (most recent call last)",
      "Cell \u001b[0;32mIn[11], line 34\u001b[0m\n\u001b[1;32m     32\u001b[0m btns \u001b[38;5;241m=\u001b[39m pages\u001b[38;5;241m.\u001b[39mfind_elements(By\u001b[38;5;241m.\u001b[39mTAG_NAME,\u001b[38;5;124m\"\u001b[39m\u001b[38;5;124mli\u001b[39m\u001b[38;5;124m\"\u001b[39m)\n\u001b[1;32m     33\u001b[0m btn_next \u001b[38;5;241m=\u001b[39m btns[i\u001b[38;5;241m+\u001b[39m\u001b[38;5;241m3\u001b[39m]\n\u001b[0;32m---> 34\u001b[0m btn_next\u001b[38;5;241m.\u001b[39mclick()\n",
      "File \u001b[0;32m~/anaconda3/lib/python3.11/site-packages/selenium/webdriver/remote/webelement.py:93\u001b[0m, in \u001b[0;36mWebElement.click\u001b[0;34m(self)\u001b[0m\n\u001b[1;32m     91\u001b[0m \u001b[38;5;28;01mdef\u001b[39;00m \u001b[38;5;21mclick\u001b[39m(\u001b[38;5;28mself\u001b[39m) \u001b[38;5;241m-\u001b[39m\u001b[38;5;241m>\u001b[39m \u001b[38;5;28;01mNone\u001b[39;00m:\n\u001b[1;32m     92\u001b[0m \u001b[38;5;250m    \u001b[39m\u001b[38;5;124;03m\"\"\"Clicks the element.\"\"\"\u001b[39;00m\n\u001b[0;32m---> 93\u001b[0m     \u001b[38;5;28mself\u001b[39m\u001b[38;5;241m.\u001b[39m_execute(Command\u001b[38;5;241m.\u001b[39mCLICK_ELEMENT)\n",
      "File \u001b[0;32m~/anaconda3/lib/python3.11/site-packages/selenium/webdriver/remote/webelement.py:394\u001b[0m, in \u001b[0;36mWebElement._execute\u001b[0;34m(self, command, params)\u001b[0m\n\u001b[1;32m    392\u001b[0m     params \u001b[38;5;241m=\u001b[39m {}\n\u001b[1;32m    393\u001b[0m params[\u001b[38;5;124m\"\u001b[39m\u001b[38;5;124mid\u001b[39m\u001b[38;5;124m\"\u001b[39m] \u001b[38;5;241m=\u001b[39m \u001b[38;5;28mself\u001b[39m\u001b[38;5;241m.\u001b[39m_id\n\u001b[0;32m--> 394\u001b[0m \u001b[38;5;28;01mreturn\u001b[39;00m \u001b[38;5;28mself\u001b[39m\u001b[38;5;241m.\u001b[39m_parent\u001b[38;5;241m.\u001b[39mexecute(command, params)\n",
      "File \u001b[0;32m~/anaconda3/lib/python3.11/site-packages/selenium/webdriver/remote/webdriver.py:347\u001b[0m, in \u001b[0;36mWebDriver.execute\u001b[0;34m(self, driver_command, params)\u001b[0m\n\u001b[1;32m    345\u001b[0m response \u001b[38;5;241m=\u001b[39m \u001b[38;5;28mself\u001b[39m\u001b[38;5;241m.\u001b[39mcommand_executor\u001b[38;5;241m.\u001b[39mexecute(driver_command, params)\n\u001b[1;32m    346\u001b[0m \u001b[38;5;28;01mif\u001b[39;00m response:\n\u001b[0;32m--> 347\u001b[0m     \u001b[38;5;28mself\u001b[39m\u001b[38;5;241m.\u001b[39merror_handler\u001b[38;5;241m.\u001b[39mcheck_response(response)\n\u001b[1;32m    348\u001b[0m     response[\u001b[38;5;124m\"\u001b[39m\u001b[38;5;124mvalue\u001b[39m\u001b[38;5;124m\"\u001b[39m] \u001b[38;5;241m=\u001b[39m \u001b[38;5;28mself\u001b[39m\u001b[38;5;241m.\u001b[39m_unwrap_value(response\u001b[38;5;241m.\u001b[39mget(\u001b[38;5;124m\"\u001b[39m\u001b[38;5;124mvalue\u001b[39m\u001b[38;5;124m\"\u001b[39m, \u001b[38;5;28;01mNone\u001b[39;00m))\n\u001b[1;32m    349\u001b[0m     \u001b[38;5;28;01mreturn\u001b[39;00m response\n",
      "File \u001b[0;32m~/anaconda3/lib/python3.11/site-packages/selenium/webdriver/remote/errorhandler.py:229\u001b[0m, in \u001b[0;36mErrorHandler.check_response\u001b[0;34m(self, response)\u001b[0m\n\u001b[1;32m    227\u001b[0m         alert_text \u001b[38;5;241m=\u001b[39m value[\u001b[38;5;124m\"\u001b[39m\u001b[38;5;124malert\u001b[39m\u001b[38;5;124m\"\u001b[39m]\u001b[38;5;241m.\u001b[39mget(\u001b[38;5;124m\"\u001b[39m\u001b[38;5;124mtext\u001b[39m\u001b[38;5;124m\"\u001b[39m)\n\u001b[1;32m    228\u001b[0m     \u001b[38;5;28;01mraise\u001b[39;00m exception_class(message, screen, stacktrace, alert_text)  \u001b[38;5;66;03m# type: ignore[call-arg]  # mypy is not smart enough here\u001b[39;00m\n\u001b[0;32m--> 229\u001b[0m \u001b[38;5;28;01mraise\u001b[39;00m exception_class(message, screen, stacktrace)\n",
      "\u001b[0;31mElementClickInterceptedException\u001b[0m: Message: element click intercepted: Element <li>...</li> is not clickable at point (504, 11). Other element would receive the click: <a href=\"/BRAND\" onclick=\"GA4EventPush('gnb_click', '...', 'gnb', 'gnb_list_tab', '7'); AMPLITUDE.LogClickGnbHeader(1,'click_gnb','gnb_no7', 'DESIGNER', '7','/BRAND');\">DESIGNER</a>\n  (Session info: chrome=120.0.6099.129)\nStacktrace:\n0   chromedriver                        0x000000010618fcc8 chromedriver + 4844744\n1   chromedriver                        0x0000000106187243 chromedriver + 4809283\n2   chromedriver                        0x0000000105d5577d chromedriver + 411517\n3   chromedriver                        0x0000000105dae522 chromedriver + 775458\n4   chromedriver                        0x0000000105dabcb6 chromedriver + 765110\n5   chromedriver                        0x0000000105da8f57 chromedriver + 753495\n6   chromedriver                        0x0000000105da7a6b chromedriver + 748139\n7   chromedriver                        0x0000000105d998bd chromedriver + 690365\n8   chromedriver                        0x0000000105dcfcc2 chromedriver + 912578\n9   chromedriver                        0x0000000105d99118 chromedriver + 688408\n10  chromedriver                        0x0000000105dd031e chromedriver + 914206\n11  chromedriver                        0x0000000105deed42 chromedriver + 1039682\n12  chromedriver                        0x0000000105dcfa63 chromedriver + 911971\n13  chromedriver                        0x0000000105d971b3 chromedriver + 680371\n14  chromedriver                        0x0000000105d987ce chromedriver + 686030\n15  chromedriver                        0x000000010614f642 chromedriver + 4580930\n16  chromedriver                        0x00000001061549cc chromedriver + 4602316\n17  chromedriver                        0x0000000106134e11 chromedriver + 4472337\n18  chromedriver                        0x0000000106155746 chromedriver + 4605766\n19  chromedriver                        0x000000010612639c chromedriver + 4412316\n20  chromedriver                        0x0000000106175868 chromedriver + 4737128\n21  chromedriver                        0x0000000106175a1e chromedriver + 4737566\n22  chromedriver                        0x0000000106186e83 chromedriver + 4808323\n23  libsystem_pthread.dylib             0x00007ff80fed4202 _pthread_start + 99\n24  libsystem_pthread.dylib             0x00007ff80fecfbab thread_start + 15\n"
     ]
    }
   ],
   "source": [
    "url = \"https://www.wconcept.co.kr/Product/303885631?entry_channel=search&rccode=mo_search&search_menu=ranking#review\"\n",
    "driver = webdriver.Chrome(service=service,options=options)\n",
    "driver.get(url)\n",
    "\n",
    "reviews = []\n",
    "driver.execute_script(\"window.scrollTo(0, 1500);\")\n",
    "btn_review = driver.find_element(By.CSS_SELECTOR,\"#detail > li:nth-child(2) > a\")\n",
    "btn_review.click()\n",
    "\n",
    "for i in range(0,10):\n",
    "    \n",
    "    position = driver.find_element(By.CLASS_NAME,\"pdt_review_table\")\n",
    "    driver.execute_script(\"arguments[0].scrollIntoView();\", position)\n",
    "    \n",
    "    \n",
    "    review_list = WebDriverWait(driver, 10).until(EC.element_to_be_clickable((By.ID,\"reviewList\")))\n",
    "    review_list = driver.find_element(By.ID,\"reviewList\") # -> 해당 페이지의 리뷰 모두 나옴\n",
    "    review_info = review_list.find_elements(By.CLASS_NAME,\"pdt_review_info\")\n",
    "    review_grade = review_list.find_elements(By.TAG_NAME,\"strong\")\n",
    "    review_detail = review_list.find_elements(By.CLASS_NAME,\"pdt_review_text\")\n",
    "    \n",
    "\n",
    "\n",
    "    for info, grade, detail in zip(review_info, review_grade, review_detail):\n",
    "        review = [info.text, grade.get_attribute('style'), detail.text]\n",
    "        reviews.append(review)\n",
    "\n",
    "    time.sleep(sec)\n",
    "    \n",
    "    pages = WebDriverWait(driver,10).until(EC.visibility_of_element_located((By.CLASS_NAME,\"pagination\")))\n",
    "    driver.execute_script(\"arguments[0].scrollIntoView();\", pages)\n",
    "    btns = pages.find_elements(By.TAG_NAME,\"li\")\n",
    "    btn_next = btns[i+3]\n",
    "    btn_next.click()\n"
   ]
  },
  {
   "cell_type": "code",
   "execution_count": 9,
   "metadata": {},
   "outputs": [
    {
     "data": {
      "text/plain": [
       "[['구매옵션 : grey\\nja******** 2023.12.27',\n",
       "  'width: 100%;',\n",
       "  '가격이 좀 비싸긴했는데 그만큼 소재도\\n도톰하고 따뜻할거같아요\\n더세일을 하네요 아쉽지만 색상이랑 다마음에\\n들어요'],\n",
       " ['구매옵션 : grey\\nrl******** 2023.12.27',\n",
       "  'width: 100%;',\n",
       "  '친구 선물로 줫는데 아주좋아합니당 ㅎㅎ 잘쓸게요'],\n",
       " ['구매옵션 : charcoal\\nja******** 2023.12.27',\n",
       "  'width: 100%;',\n",
       "  '얼굴에 달라붙지 않고 여유 있어서 부담스럽지않아요\\n맨투맨 니트조끼 패팅 어디에나 희뚜루 마뚜루 템'],\n",
       " ['구매옵션 : beige\\nqk******** 2023.12.27', 'width: 100%;', '귀여워요'],\n",
       " ['구매옵션 : black\\nhe******** 2023.12.27',\n",
       "  'width: 100%;',\n",
       "  '보풀이 좀 잘 일어나는 소재지만 따뜻해서 좋아요'],\n",
       " ['구매옵션 : grey\\nwc******** 2023.12.27',\n",
       "  'width: 100%;',\n",
       "  '처음받았을때는 이상한 냄새가나는게 쫌 안좋았지만 그래도 이쁘고 따뜻해서 잘 쓰고있습니다\\n무난하고 좋아요'],\n",
       " ['구매옵션 : grey\\nja******** 2023.12.27',\n",
       "  'width: 100%;',\n",
       "  '가격이 좀 비싸긴했는데 그만큼 소재도\\n도톰하고 따뜻할거같아요\\n더세일을 하네요 아쉽지만 색상이랑 다마음에\\n들어요'],\n",
       " ['구매옵션 : grey\\nrl******** 2023.12.27',\n",
       "  'width: 100%;',\n",
       "  '친구 선물로 줫는데 아주좋아합니당 ㅎㅎ 잘쓸게요'],\n",
       " ['구매옵션 : charcoal\\nja******** 2023.12.27',\n",
       "  'width: 100%;',\n",
       "  '얼굴에 달라붙지 않고 여유 있어서 부담스럽지않아요\\n맨투맨 니트조끼 패팅 어디에나 희뚜루 마뚜루 템'],\n",
       " ['구매옵션 : beige\\nqk******** 2023.12.27', 'width: 100%;', '귀여워요'],\n",
       " ['구매옵션 : black\\nhe******** 2023.12.27',\n",
       "  'width: 100%;',\n",
       "  '보풀이 좀 잘 일어나는 소재지만 따뜻해서 좋아요'],\n",
       " ['구매옵션 : grey\\nwc******** 2023.12.27',\n",
       "  'width: 100%;',\n",
       "  '처음받았을때는 이상한 냄새가나는게 쫌 안좋았지만 그래도 이쁘고 따뜻해서 잘 쓰고있습니다\\n무난하고 좋아요']]"
      ]
     },
     "execution_count": 9,
     "metadata": {},
     "output_type": "execute_result"
    }
   ],
   "source": [
    "reviews"
   ]
  },
  {
   "cell_type": "code",
   "execution_count": null,
   "metadata": {},
   "outputs": [],
   "source": []
  },
  {
   "cell_type": "code",
   "execution_count": null,
   "metadata": {},
   "outputs": [],
   "source": []
  },
  {
   "cell_type": "code",
   "execution_count": null,
   "metadata": {},
   "outputs": [],
   "source": []
  },
  {
   "cell_type": "markdown",
   "metadata": {},
   "source": [
    "# 성공 코드 모아놓기"
   ]
  },
  {
   "cell_type": "code",
   "execution_count": null,
   "metadata": {},
   "outputs": [],
   "source": [
    "# 상품 정보만 크롤링하기\n",
    "# contents = driver.find_element(By.ID,\"product\")\n",
    "# products = contents.find_elements(By.CLASS_NAME,\"product-item\")     # 조금 더 좁히면 class=\"area-info\"\n",
    "\n",
    "# companies = []        # 회사명        # sc-tdjdw3-0 frpBAf text title\n",
    "# prdNames = []         # 제품명        # sc-tdjdw3-0 frpBAf text detail\n",
    "# prdPrices = []        # 가격          # 가격섹션 (sc-jpuob9-3 iEzjpB prdc-price) 정가(sc-tdjdw3-0 frpBAf text customer-price) 할인율(sc-tdjdw3-0 frpBAf text final-discount) 최종할인가(sc-tdjdw3-0 frpBAf text final-price)\n",
    "# prdRatings = []       # 별점          # score\n",
    "# prdWish = []          # 관심상품      # sc-tdjdw3-0 frpBAf text cnt\n",
    "# sec = 0.5\n",
    "# time.sleep(sec)\n",
    "\n",
    "# try:\n",
    "#     for idx, product in enumerate(products):\n",
    "#         companies.append(product.find_element(By.CLASS_NAME,\"title\").text)\n",
    "#         prdNames.append(product.find_element(By.CLASS_NAME,\"detail\").text)\n",
    "#         prdPrices.append(product.find_element(By.CLASS_NAME,\"final-price\").text)\n",
    "#         prdRatings.append(product.find_element(By.CLASS_NAME,\"score\").text)\n",
    "#         prdWish.append(product.find_element(By.CLASS_NAME,\"cnt\").text)\n",
    "        \n",
    "        \n",
    "#         if idx > 10:\n",
    "#             break\n",
    "# except Exception as e:  \n",
    "#     pass\n"
   ]
  },
  {
   "cell_type": "code",
   "execution_count": null,
   "metadata": {},
   "outputs": [],
   "source": [
    "# 리뷰페이지까지 입성\n",
    "\n",
    "# url = 'https://display.wconcept.co.kr/search?kwd=%EB%B0%94%EB%9D%BC%ED%81%B4%EB%9D%BC%EB%B0%94&sort=WCK&type=popular'\n",
    "# driver = webdriver.Chrome(service=service,options=options)\n",
    "# driver.get(url)\n",
    "\n",
    "# contents = driver.find_element(By.ID,\"product\")\n",
    "# products = contents.find_elements(By.CLASS_NAME,\"product-item\")     # 조금 더 좁히면 class=\"area-info\"\n",
    "\n",
    "# companies = []        # 회사명              # class=\"sc-tdjdw3-0 frpBAf text title\"\n",
    "# prdNames = []         # 제품명              # class=\"sc-tdjdw3-0 frpBAf text detail\"\n",
    "# prdPrices = []        # 가격                # 가격섹션 (sc-jpuob9-3 iEzjpB prdc-price) 정가(sc-tdjdw3-0 frpBAf text customer-price) 할인율(sc-tdjdw3-0 frpBAf text final-discount) 최종할인가(sc-tdjdw3-0 frpBAf text final-price)\n",
    "# prdRatings = []       # 별점                # class=\"score\"\n",
    "# prdWish = []          # 관심상품             # class=\"sc-tdjdw3-0 frpBAf text cnt\"\n",
    "\n",
    "# btn_product = ''      # 상품 상세로 이동       # class=\"sc-16sqvmz-0 hajYLp btn sc-jpuob9-7 ertTIN area-click\"\n",
    "# btn_review = ''       # 상품 리뷰로 이동        # ul id=\"detail\" - selector #detail > li:nth-child(2) > a\n",
    "# btn_list = ''         # 상품 리스트로 이동      #\n",
    "\n",
    "\n",
    "# sec = 0.5\n",
    "# time.sleep(sec)\n",
    "\n",
    "# try:\n",
    "#     for idx, product in enumerate(products):\n",
    "#         # companies.append(product.find_element(By.CLASS_NAME,\"title\").text)\n",
    "#         # prdNames.append(product.find_element(By.CLASS_NAME,\"detail\").text)\n",
    "#         # prdPrices.append(product.find_element(By.CLASS_NAME,\"final-price\").text)\n",
    "#         # prdRatings.append(product.find_element(By.CLASS_NAME,\"score\").text)\n",
    "#         # prdWish.append(product.find_element(By.CLASS_NAME,\"cnt\").text)\n",
    "        \n",
    "#         btn_product = product.find_element(By.CLASS_NAME,\"area-click\")\n",
    "#         btn_product.click()\n",
    "#         time.sleep(sec)\n",
    "#         driver.execute_script(\"window.scrollTo(0, 1500);\")\n",
    "#         btn_review = driver.find_element(By.CSS_SELECTOR,\"#detail > li:nth-child(2) > a\")\n",
    "#         btn_review.click()\n",
    " \n",
    "\n",
    "#         if idx > 10:\n",
    "#             break\n",
    "# except Exception as e:  \n",
    "#     pass\n"
   ]
  }
 ],
 "metadata": {
  "kernelspec": {
   "display_name": "base",
   "language": "python",
   "name": "python3"
  },
  "language_info": {
   "codemirror_mode": {
    "name": "ipython",
    "version": 3
   },
   "file_extension": ".py",
   "mimetype": "text/x-python",
   "name": "python",
   "nbconvert_exporter": "python",
   "pygments_lexer": "ipython3",
   "version": "3.11.5"
  }
 },
 "nbformat": 4,
 "nbformat_minor": 2
}
