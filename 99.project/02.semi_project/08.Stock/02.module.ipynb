{
 "cells": [
  {
   "cell_type": "markdown",
   "metadata": {},
   "source": [
    "---\n",
    "# Stock Project 02.module.py 셀바이셀 검증용\n",
    "---"
   ]
  },
  {
   "cell_type": "code",
   "execution_count": 11,
   "metadata": {},
   "outputs": [],
   "source": [
    "import pandas as pd\n",
    "import pymysql\n",
    "from datetime import datetime\n",
    "from datetime import timedelta\n",
    "import re\n"
   ]
  },
  {
   "cell_type": "code",
   "execution_count": 19,
   "metadata": {},
   "outputs": [],
   "source": [
    "\n",
    "class MarketDB:\n",
    "    def __init__(self):\n",
    "        self.conn = pymysql.connect(host='localhost', user='root', password='apple123!!', db='investar', charset='utf8')\n",
    "        self.conn.commit()\n",
    "        pass\n",
    "    \n",
    "    \n",
    "    def __del__(self):\n",
    "        self.conn.close()\n",
    "        pass\n",
    "    \n",
    "    # 종목의 일별 시세 DB에서 가져오기\n",
    "    def get_daily_prices(self, code, start_date=None, end_date=None):\n",
    "            today = datetime.today().strftime('%Y-%m-%d')\n",
    "            if end_date is None:\n",
    "                if start_date is not None:\n",
    "                    end_date = (datetime.strptime(start_date, '%Y-%m-%d') - timedelta(days=365)).strftime('%Y-%m-%d')\n",
    "                else:\n",
    "                    start_date = today\n",
    "                    end_date = (datetime.today() - timedelta(days=365)).strftime('%Y-%m-%d')    \n",
    "                \n",
    "            sql = f\"\"\"\n",
    "            select *  from daily_price\n",
    "            where code = '{code}' and (date >='{start_date}' AND date <= '{end_date}');\n",
    "            \"\"\"\n",
    "            \n",
    "            df = pd.read_sql(sql, self.conn)\n",
    "            return df\n",
    "\n",
    "\n",
    "\n",
    "\n",
    "        \n",
    "#     1. KRX 종목의 일별 시세를 \n",
    "#     investar DB에서 가지고 와서 \n",
    "#     데이터 프레임 형태로 변환하기\n"
   ]
  },
  {
   "cell_type": "code",
   "execution_count": 45,
   "metadata": {},
   "outputs": [
    {
     "name": "stdout",
     "output_type": "stream",
     "text": [
      "Empty DataFrame\n",
      "Columns: [code, date, open, high, low, close, diff, value]\n",
      "Index: []\n"
     ]
    },
    {
     "name": "stderr",
     "output_type": "stream",
     "text": [
      "/var/folders/y6/tjfrq8vj411cyf6zll2ppq_w0000gn/T/ipykernel_1807/3599134096.py:27: UserWarning: pandas only supports SQLAlchemy connectable (engine/connection) or database string URI or sqlite3 DBAPI2 connection. Other DBAPI2 objects are not tested. Please consider using SQLAlchemy.\n",
      "  df = pd.read_sql(sql, self.conn)\n"
     ]
    }
   ],
   "source": [
    "  \n",
    "mk = MarketDB()\n",
    "raw_df = mk.get_daily_prices('000059', '2020-01-01','2023-12-10')\n",
    "print(raw_df)  "
   ]
  },
  {
   "cell_type": "code",
   "execution_count": 46,
   "metadata": {},
   "outputs": [
    {
     "data": {
      "text/html": [
       "<div>\n",
       "<style scoped>\n",
       "    .dataframe tbody tr th:only-of-type {\n",
       "        vertical-align: middle;\n",
       "    }\n",
       "\n",
       "    .dataframe tbody tr th {\n",
       "        vertical-align: top;\n",
       "    }\n",
       "\n",
       "    .dataframe thead th {\n",
       "        text-align: right;\n",
       "    }\n",
       "</style>\n",
       "<table border=\"1\" class=\"dataframe\">\n",
       "  <thead>\n",
       "    <tr style=\"text-align: right;\">\n",
       "      <th></th>\n",
       "      <th>code</th>\n",
       "      <th>date</th>\n",
       "      <th>open</th>\n",
       "      <th>high</th>\n",
       "      <th>low</th>\n",
       "      <th>close</th>\n",
       "      <th>diff</th>\n",
       "      <th>value</th>\n",
       "    </tr>\n",
       "  </thead>\n",
       "  <tbody>\n",
       "  </tbody>\n",
       "</table>\n",
       "</div>"
      ],
      "text/plain": [
       "Empty DataFrame\n",
       "Columns: [code, date, open, high, low, close, diff, value]\n",
       "Index: []"
      ]
     },
     "execution_count": 46,
     "metadata": {},
     "output_type": "execute_result"
    }
   ],
   "source": [
    "raw_df"
   ]
  },
  {
   "cell_type": "code",
   "execution_count": 44,
   "metadata": {},
   "outputs": [
    {
     "data": {
      "text/plain": [
       "1"
      ]
     },
     "execution_count": 44,
     "metadata": {},
     "output_type": "execute_result"
    }
   ],
   "source": []
  },
  {
   "cell_type": "code",
   "execution_count": null,
   "metadata": {},
   "outputs": [],
   "source": []
  }
 ],
 "metadata": {
  "kernelspec": {
   "display_name": "base",
   "language": "python",
   "name": "python3"
  },
  "language_info": {
   "codemirror_mode": {
    "name": "ipython",
    "version": 3
   },
   "file_extension": ".py",
   "mimetype": "text/x-python",
   "name": "python",
   "nbconvert_exporter": "python",
   "pygments_lexer": "ipython3",
   "version": "3.11.5"
  }
 },
 "nbformat": 4,
 "nbformat_minor": 2
}
