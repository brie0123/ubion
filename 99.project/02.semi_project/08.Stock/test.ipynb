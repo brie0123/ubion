{
 "cells": [
  {
   "cell_type": "code",
   "execution_count": 1,
   "metadata": {},
   "outputs": [
    {
     "name": "stderr",
     "output_type": "stream",
     "text": [
      "2024-01-16 11:05:02.971320: I tensorflow/core/platform/cpu_feature_guard.cc:182] This TensorFlow binary is optimized to use available CPU instructions in performance-critical operations.\n",
      "To enable the following instructions: AVX2 AVX512F AVX512_VNNI FMA, in other operations, rebuild TensorFlow with the appropriate compiler flags.\n"
     ]
    },
    {
     "ename": "ModuleNotFoundError",
     "evalue": "No module named 'matplotlip'",
     "output_type": "error",
     "traceback": [
      "\u001b[0;31m---------------------------------------------------------------------------\u001b[0m",
      "\u001b[0;31mModuleNotFoundError\u001b[0m                       Traceback (most recent call last)",
      "Cell \u001b[0;32mIn[1], line 4\u001b[0m\n\u001b[1;32m      2\u001b[0m \u001b[38;5;28;01mfrom\u001b[39;00m \u001b[38;5;21;01mtensorflow\u001b[39;00m\u001b[38;5;21;01m.\u001b[39;00m\u001b[38;5;21;01mkeras\u001b[39;00m\u001b[38;5;21;01m.\u001b[39;00m\u001b[38;5;21;01mlayers\u001b[39;00m \u001b[38;5;28;01mimport\u001b[39;00m Dense, LSTM, Dropout\n\u001b[1;32m      3\u001b[0m \u001b[38;5;28;01mimport\u001b[39;00m \u001b[38;5;21;01mnumpy\u001b[39;00m \u001b[38;5;28;01mas\u001b[39;00m \u001b[38;5;21;01mnp\u001b[39;00m\n\u001b[0;32m----> 4\u001b[0m \u001b[38;5;28;01mimport\u001b[39;00m \u001b[38;5;21;01mmatplotlip\u001b[39;00m\u001b[38;5;21;01m.\u001b[39;00m\u001b[38;5;21;01mpyplot\u001b[39;00m \u001b[38;5;28;01mas\u001b[39;00m \u001b[38;5;21;01mplt\u001b[39;00m\n\u001b[1;32m      5\u001b[0m \u001b[38;5;28;01mimport\u001b[39;00m \u001b[38;5;21;01manalyzer\u001b[39;00m\n\u001b[1;32m      7\u001b[0m mk \u001b[38;5;241m=\u001b[39m analyzer\u001b[38;5;241m.\u001b[39mMarketDB()\n",
      "\u001b[0;31mModuleNotFoundError\u001b[0m: No module named 'matplotlip'"
     ]
    }
   ],
   "source": [
    "from tensorflow.keras.models import Sequential\n",
    "from tensorflow.keras.layers import Dense, LSTM, Dropout\n",
    "import numpy as np\n",
    "# import matplotlip.pyplot as plt\n",
    "import analyzer\n",
    "\n",
    "mk = analyzer.MarketDB()\n",
    "raw_df = mk.get_daily_price('000020','2021-01-15','2023-01-15')\n",
    "\n",
    "window_size = 10\n",
    "data_size = 5\n",
    "\n",
    "def MinMaxScaler(data):\n",
    "    numerator = data - np.min(data,0)\n",
    "    denominator = np.max(data,0) - np.min(data,0)\n",
    "    return numerator / denominator + 1e-7\n",
    "\n",
    "dfx = raw_df[['open','high','low','close']]\n",
    "dfx = MinMaxScaler(dfx)\n",
    "dfy = dfx[['close']]\n",
    "\n",
    "x = dfx.values.tolist()\n",
    "y = dfy.values.tolist()\n",
    "\n",
    "print(dfx, dfy)\n",
    "\n",
    "data_x = []\n",
    "data_y = []\n",
    "\n",
    "\n",
    "for i in range(len(y) - window_size):\n",
    "    _x = x[i: i + window_size]\n",
    "    _y = y[i + window_size]\n",
    "    data_x.append(_x)\n",
    "    data_y.append(_y)\n",
    "    # print(_x, \"-\"),_y\n",
    "    \n",
    "train_size = int(len(data_y) * 0.7)\n",
    "train_x = np.array(data_x[0 : train_size])\n",
    "train_y = np.array(data_y[0: train_size])\n",
    "\n",
    "test_size = len(data_y) - train_size\n",
    "test_x = np.array(data_x[train_size:len(data_x)])\n",
    "test_y = np.array(data_y[train_size:len(data_y)])\n",
    "\n",
    "# 모델 생성\n",
    "model = Sequential()\n",
    "model.add(LSTM(units=10, activation='relu', return_sequences=True, input_shape=(window_size, data_size)))\n",
    "model.add(Dropout(0.1))\n",
    "model.add(LSTM(units=10, activation='relu'))\n",
    "model.add(Dropout(0.1))\n",
    "model.add(Dense(units=1))\n",
    "model.summary()\n",
    "\n",
    "model.compile(optimizer='adam',loss='mean_squared_error')\n",
    "history = model.fit(train_x, train_y, epochs=60, batch_size=30)\n",
    "\n",
    "\n",
    "pred_y = model.predict(test_x)\n",
    "print(pred_y)"
   ]
  },
  {
   "cell_type": "code",
   "execution_count": 2,
   "metadata": {},
   "outputs": [
    {
     "data": {
      "text/plain": [
       "'/Users/brielle/Desktop/Career/02.Side Project/00.In Progress/01.Ubion/03.Offline/00.컴퓨터언어/99.project/02.semi_project/08.Stock'"
      ]
     },
     "execution_count": 2,
     "metadata": {},
     "output_type": "execute_result"
    }
   ],
   "source": [
    "import os\n",
    "os.getcwd()"
   ]
  },
  {
   "cell_type": "code",
   "execution_count": null,
   "metadata": {},
   "outputs": [],
   "source": [
    "--"
   ]
  }
 ],
 "metadata": {
  "kernelspec": {
   "display_name": "base",
   "language": "python",
   "name": "python3"
  },
  "language_info": {
   "codemirror_mode": {
    "name": "ipython",
    "version": 3
   },
   "file_extension": ".py",
   "mimetype": "text/x-python",
   "name": "python",
   "nbconvert_exporter": "python",
   "pygments_lexer": "ipython3",
   "version": "3.11.5"
  }
 },
 "nbformat": 4,
 "nbformat_minor": 2
}
