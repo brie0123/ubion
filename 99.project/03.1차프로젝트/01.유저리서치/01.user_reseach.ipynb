{
 "cells": [
  {
   "cell_type": "markdown",
   "metadata": {},
   "source": [
    "---\n",
    "# 유저 리서치 응답 결과 시각화\n",
    "---"
   ]
  },
  {
   "cell_type": "code",
   "execution_count": 2,
   "metadata": {},
   "outputs": [],
   "source": [
    "import pandas as pd\n",
    "import seaborn as sns\n",
    "import matplotlib.pyplot as plt"
   ]
  },
  {
   "cell_type": "code",
   "execution_count": 3,
   "metadata": {},
   "outputs": [
    {
     "data": {
      "text/plain": [
       "Index(['타임스탬프', '1. 온라인 뷰티 플랫폼을 이용하신 경험이 있습니까?',\n",
       "       '1-1. 아래 온라인뷰티 플랫폼 중 이용하신 플랫폼을 모두 골라주세요.',\n",
       "       '1-2. 그 중 제일 선호하는 온라인 뷰티플랫폼과 이유를 적어주세요.',\n",
       "       '1-3. 제일 비선호하는 온라인 뷰티플랫폼과 이유를 적어주세요.',\n",
       "       '[화장품 기초]\\n2. 기초 화장품 구매시, 정보를 얻는 방법은 무엇인가요?\\n(제품상세페이지를 확인하는 방법 외) (중복 가능)',\n",
       "       '[화장품 기초]\\n3. 기초 화장품 구매시, 주요 구매 고려요인은 무엇인가요?\\n(중복가능)',\n",
       "       '[화장품 색조]\\n4. 색조 화장품 구매시, 정보를 얻는 방법은 무엇인가요?\\n(제품상세페이지를 확인하는 방법 외)(중복가능)',\n",
       "       '[화장품 색조]\\n5. 색조 화장품 구매시, 주요 구매 고려요인은 무엇인가요?\\n(중복가능)',\n",
       "       '6. 평소 화장품 제품을 다 소진하고, 새로운 제품을 구매하시나요?',\n",
       "       '6-1. 화장품 제품을 다 쓰지 못한 이유는 무엇입니까?', '7. 평소 화장품 유효기간을 확인하여 정리하시나요?',\n",
       "       '8. 지속적으로 재구매하는 제품이 있으시다면, 제품군을 선택해주세요.\\n(중복투표 가능)',\n",
       "       '9. 그 제품을 재구매시, 구매하게 되는 가장 큰 요인은 무엇인가요',\n",
       "       '10. 제품군을 지속적으로 구매할 때, 그 시기가 어떻습니까? ',\n",
       "       '11. AI(알고리즘)추천으로 뷰티제품을 구매한 경험이 있으십니까?',\n",
       "       '12. 뷰티제품 구매 시, 알고리즘이 자신에게 잘 맞다고 생각하시나요?아니면 맞지 않다고 생각하시나요?\\n그렇게 생각한 이유를 작성해주세요!',\n",
       "       '13. 화장품 샘플을 받으면,', '13-1. 샘플을 사용 후, 구매까지 이어진 경험이 있으십니까?',\n",
       "       '13-2. 샘플을 사용하지 않은 이유는 무엇입니까?', '14. 평소 남은 샘플들을 어떻게 처리하시나요?\\n(중복가능)',\n",
       "       '😀지금까지 설문해주셔서 감사합니다! 😀\\n추첨을 통해, 9명에게 커피 기프티콘을 증정하려고 합니다.\\n이메일 주소나 전화번호를 남겨주시면, 당첨되신 분들에 한 해, 해당 연락처로 연락드리겠습니다.\\n1/31까지 설문받고, 추첨연락드리겠습니다.\\n감사합니다!❤️',\n",
       "       '[기본정보] 본인의 연령대는?', '[기본정보] 본인의 성별은?', 'Unnamed: 24', '[기본정보]'],\n",
       "      dtype='object')"
      ]
     },
     "execution_count": 3,
     "metadata": {},
     "output_type": "execute_result"
    }
   ],
   "source": [
    "df = pd.read_excel('./03.유저 리서치 - 고객 의견 설문(응답).xlsx')\n",
    "df.columns"
   ]
  },
  {
   "cell_type": "markdown",
   "metadata": {},
   "source": [
    "## 시각화 1: 이용 실태"
   ]
  },
  {
   "cell_type": "code",
   "execution_count": 24,
   "metadata": {},
   "outputs": [
    {
     "data": {
      "text/plain": [
       "'1. 온라인 뷰티 플랫폼을 이용하신 경험이 있습니까?'"
      ]
     },
     "execution_count": 24,
     "metadata": {},
     "output_type": "execute_result"
    }
   ],
   "source": [
    "df.columns[1]"
   ]
  },
  {
   "cell_type": "code",
   "execution_count": 21,
   "metadata": {},
   "outputs": [],
   "source": [
    "answers = df[df.columns[1]].unique().tolist()\n",
    "answer_counts = df[df.columns[1]].value_counts().tolist()"
   ]
  },
  {
   "cell_type": "code",
   "execution_count": 35,
   "metadata": {},
   "outputs": [
    {
     "data": {
      "text/html": [
       "<div>\n",
       "<style scoped>\n",
       "    .dataframe tbody tr th:only-of-type {\n",
       "        vertical-align: middle;\n",
       "    }\n",
       "\n",
       "    .dataframe tbody tr th {\n",
       "        vertical-align: top;\n",
       "    }\n",
       "\n",
       "    .dataframe thead th {\n",
       "        text-align: right;\n",
       "    }\n",
       "</style>\n",
       "<table border=\"1\" class=\"dataframe\">\n",
       "  <thead>\n",
       "    <tr style=\"text-align: right;\">\n",
       "      <th></th>\n",
       "      <th>예</th>\n",
       "      <th>아니오</th>\n",
       "    </tr>\n",
       "  </thead>\n",
       "  <tbody>\n",
       "    <tr>\n",
       "      <th>0</th>\n",
       "      <td>91.549296</td>\n",
       "      <td>8.450704</td>\n",
       "    </tr>\n",
       "  </tbody>\n",
       "</table>\n",
       "</div>"
      ],
      "text/plain": [
       "           예       아니오\n",
       "0  91.549296  8.450704"
      ]
     },
     "execution_count": 35,
     "metadata": {},
     "output_type": "execute_result"
    }
   ],
   "source": [
    "data = {answers[0]:answer_counts[0]/(answer_counts[0]+answer_counts[1])*100,answers[1]:answer_counts[1]/(answer_counts[0]+answer_counts[1])*100}\n",
    "\n",
    "question1 = pd.DataFrame(data=data,index=[0])\n",
    "question1"
   ]
  },
  {
   "cell_type": "code",
   "execution_count": 38,
   "metadata": {},
   "outputs": [
    {
     "data": {
      "text/plain": [
       "[91.54929577464789, 8.450704225352112]"
      ]
     },
     "execution_count": 38,
     "metadata": {},
     "output_type": "execute_result"
    }
   ],
   "source": [
    "percents = [answer_counts[0]/(answer_counts[0]+answer_counts[1])*100,answer_counts[1]/(answer_counts[0]+answer_counts[1])*100]\n",
    "percents"
   ]
  },
  {
   "cell_type": "code",
   "execution_count": 50,
   "metadata": {},
   "outputs": [
    {
     "data": {
      "image/png": "[encoded data removed]",
      "text/plain": [
       "<Figure size 640x480 with 1 Axes>"
      ]
     },
     "metadata": {},
     "output_type": "display_data"
    }
   ],
   "source": [
    "plt.rcParams['font.family'] = 'paybooc'\n",
    "\n",
    "plt.pie(percents, labels = answers, autopct='%.1f%%',colors=['darkseagreen','darkgreen'])\n",
    "plt.title(df.columns[1])\n",
    "plt.show()"
   ]
  },
  {
   "cell_type": "code",
   "execution_count": 51,
   "metadata": {},
   "outputs": [
    {
     "data": {
      "text/plain": [
       "'1-1. 아래 온라인뷰티 플랫폼 중 이용하신 플랫폼을 모두 골라주세요.'"
      ]
     },
     "execution_count": 51,
     "metadata": {},
     "output_type": "execute_result"
    }
   ],
   "source": [
    "df.columns[2]"
   ]
  },
  {
   "cell_type": "code",
   "execution_count": 66,
   "metadata": {},
   "outputs": [
    {
     "data": {
      "text/html": [
       "<div>\n",
       "<style scoped>\n",
       "    .dataframe tbody tr th:only-of-type {\n",
       "        vertical-align: middle;\n",
       "    }\n",
       "\n",
       "    .dataframe tbody tr th {\n",
       "        vertical-align: top;\n",
       "    }\n",
       "\n",
       "    .dataframe thead th {\n",
       "        text-align: right;\n",
       "    }\n",
       "</style>\n",
       "<table border=\"1\" class=\"dataframe\">\n",
       "  <thead>\n",
       "    <tr style=\"text-align: right;\">\n",
       "      <th></th>\n",
       "      <th>answer</th>\n",
       "    </tr>\n",
       "  </thead>\n",
       "  <tbody>\n",
       "    <tr>\n",
       "      <th>0</th>\n",
       "      <td>네이버쇼핑</td>\n",
       "    </tr>\n",
       "    <tr>\n",
       "      <th>1</th>\n",
       "      <td>올리브영, 네이버쇼핑, 쿠팡, 무신사(뷰티)</td>\n",
       "    </tr>\n",
       "    <tr>\n",
       "      <th>2</th>\n",
       "      <td>올리브영, 화해, 네이버쇼핑</td>\n",
       "    </tr>\n",
       "    <tr>\n",
       "      <th>3</th>\n",
       "      <td>올리브영, 네이버쇼핑, 뷰티컬리(마켓컬리)</td>\n",
       "    </tr>\n",
       "    <tr>\n",
       "      <th>4</th>\n",
       "      <td>-</td>\n",
       "    </tr>\n",
       "    <tr>\n",
       "      <th>...</th>\n",
       "      <td>...</td>\n",
       "    </tr>\n",
       "    <tr>\n",
       "      <th>66</th>\n",
       "      <td>올리브영, 네이버쇼핑, 쿠팡, 무신사(뷰티), 에이블리(뷰티), 지그재그(뷰티)</td>\n",
       "    </tr>\n",
       "    <tr>\n",
       "      <th>67</th>\n",
       "      <td>올리브영, 네이버쇼핑, 쿠팡, 뷰티컬리(마켓컬리), 에이블리(뷰티), 지그재그(뷰티)</td>\n",
       "    </tr>\n",
       "    <tr>\n",
       "      <th>68</th>\n",
       "      <td>올리브영, 네이버쇼핑, 뷰티컬리(마켓컬리)</td>\n",
       "    </tr>\n",
       "    <tr>\n",
       "      <th>69</th>\n",
       "      <td>올리브영, 네이버쇼핑, 쿠팡, 지그재그(뷰티), 브랜디</td>\n",
       "    </tr>\n",
       "    <tr>\n",
       "      <th>70</th>\n",
       "      <td>올리브영, 화해, 네이버쇼핑, 쿠팡, 뷰티컬리(마켓컬리), 무신사(뷰티), 에이블리...</td>\n",
       "    </tr>\n",
       "  </tbody>\n",
       "</table>\n",
       "<p>71 rows × 1 columns</p>\n",
       "</div>"
      ],
      "text/plain": [
       "                                               answer\n",
       "0                                               네이버쇼핑\n",
       "1                            올리브영, 네이버쇼핑, 쿠팡, 무신사(뷰티)\n",
       "2                                     올리브영, 화해, 네이버쇼핑\n",
       "3                             올리브영, 네이버쇼핑, 뷰티컬리(마켓컬리)\n",
       "4                                                   -\n",
       "..                                                ...\n",
       "66       올리브영, 네이버쇼핑, 쿠팡, 무신사(뷰티), 에이블리(뷰티), 지그재그(뷰티)\n",
       "67    올리브영, 네이버쇼핑, 쿠팡, 뷰티컬리(마켓컬리), 에이블리(뷰티), 지그재그(뷰티)\n",
       "68                            올리브영, 네이버쇼핑, 뷰티컬리(마켓컬리)\n",
       "69                     올리브영, 네이버쇼핑, 쿠팡, 지그재그(뷰티), 브랜디\n",
       "70  올리브영, 화해, 네이버쇼핑, 쿠팡, 뷰티컬리(마켓컬리), 무신사(뷰티), 에이블리...\n",
       "\n",
       "[71 rows x 1 columns]"
      ]
     },
     "execution_count": 66,
     "metadata": {},
     "output_type": "execute_result"
    }
   ],
   "source": [
    "platforms = df[df.columns[2]].values.tolist()\n",
    "platforms = pd.DataFrame(platforms,columns=['answer'])\n",
    "platforms = platforms.fillna(\"-\")\n",
    "platforms\n"
   ]
  },
  {
   "cell_type": "code",
   "execution_count": null,
   "metadata": {},
   "outputs": [],
   "source": []
  },
  {
   "cell_type": "code",
   "execution_count": null,
   "metadata": {},
   "outputs": [],
   "source": []
  },
  {
   "cell_type": "markdown",
   "metadata": {},
   "source": [
    "## 시각화 2:"
   ]
  },
  {
   "cell_type": "code",
   "execution_count": 1,
   "metadata": {},
   "outputs": [
    {
     "ename": "NameError",
     "evalue": "name 'df' is not defined",
     "output_type": "error",
     "traceback": [
      "\u001b[0;31m---------------------------------------------------------------------------\u001b[0m",
      "\u001b[0;31mNameError\u001b[0m                                 Traceback (most recent call last)",
      "Cell \u001b[0;32mIn[1], line 1\u001b[0m\n\u001b[0;32m----> 1\u001b[0m df\u001b[38;5;241m.\u001b[39mcolumns[\u001b[38;5;241m4\u001b[39m]\n",
      "\u001b[0;31mNameError\u001b[0m: name 'df' is not defined"
     ]
    }
   ],
   "source": [
    "df.columns[4]"
   ]
  },
  {
   "cell_type": "code",
   "execution_count": null,
   "metadata": {},
   "outputs": [],
   "source": []
  }
 ],
 "metadata": {
  "kernelspec": {
   "display_name": "base",
   "language": "python",
   "name": "python3"
  },
  "language_info": {
   "codemirror_mode": {
    "name": "ipython",
    "version": 3
   },
   "file_extension": ".py",
   "mimetype": "text/x-python",
   "name": "python",
   "nbconvert_exporter": "python",
   "pygments_lexer": "ipython3",
   "version": "3.11.5"
  }
 },
 "nbformat": 4,
 "nbformat_minor": 2
}
