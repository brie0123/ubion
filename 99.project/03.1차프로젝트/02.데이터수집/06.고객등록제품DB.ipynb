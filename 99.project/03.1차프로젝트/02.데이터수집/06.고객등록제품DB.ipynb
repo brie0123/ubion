{
 "cells": [
  {
   "cell_type": "markdown",
   "metadata": {},
   "source": [
    "---\n",
    "# 고객 등록 화장품 목록 만들기\n",
    "---"
   ]
  },
  {
   "cell_type": "code",
   "execution_count": 1,
   "metadata": {},
   "outputs": [],
   "source": [
    "import pymysql\n",
    "import pandas as pd"
   ]
  },
  {
   "cell_type": "code",
   "execution_count": 14,
   "metadata": {},
   "outputs": [
    {
     "data": {
      "text/html": [
       "<div>\n",
       "<style scoped>\n",
       "    .dataframe tbody tr th:only-of-type {\n",
       "        vertical-align: middle;\n",
       "    }\n",
       "\n",
       "    .dataframe tbody tr th {\n",
       "        vertical-align: top;\n",
       "    }\n",
       "\n",
       "    .dataframe thead th {\n",
       "        text-align: right;\n",
       "    }\n",
       "</style>\n",
       "<table border=\"1\" class=\"dataframe\">\n",
       "  <thead>\n",
       "    <tr style=\"text-align: right;\">\n",
       "      <th></th>\n",
       "      <th>regis_num</th>\n",
       "      <th>regis_date</th>\n",
       "      <th>userID</th>\n",
       "      <th>prd_brand</th>\n",
       "      <th>prd_name</th>\n",
       "      <th>pay_date</th>\n",
       "      <th>pay_price</th>\n",
       "      <th>op_date</th>\n",
       "    </tr>\n",
       "  </thead>\n",
       "  <tbody>\n",
       "    <tr>\n",
       "      <th>0</th>\n",
       "      <td>240123_F0002_00</td>\n",
       "      <td>2024-01-23</td>\n",
       "      <td>F0002</td>\n",
       "      <td>얼트루</td>\n",
       "      <td>아임쏘리포마이스킨 릴렉싱 앰플</td>\n",
       "      <td>NaN</td>\n",
       "      <td>NaN</td>\n",
       "      <td>NaN</td>\n",
       "    </tr>\n",
       "    <tr>\n",
       "      <th>1</th>\n",
       "      <td>240123_F0002_01</td>\n",
       "      <td>2024-01-23</td>\n",
       "      <td>F0002</td>\n",
       "      <td>닥터지</td>\n",
       "      <td>에이클리어 스팟 포 페이스 세럼</td>\n",
       "      <td>NaN</td>\n",
       "      <td>NaN</td>\n",
       "      <td>NaN</td>\n",
       "    </tr>\n",
       "    <tr>\n",
       "      <th>2</th>\n",
       "      <td>240123_F0002_02</td>\n",
       "      <td>2024-01-23</td>\n",
       "      <td>F0002</td>\n",
       "      <td>라운드랩</td>\n",
       "      <td>1025 독도 토너</td>\n",
       "      <td>NaN</td>\n",
       "      <td>NaN</td>\n",
       "      <td>NaN</td>\n",
       "    </tr>\n",
       "    <tr>\n",
       "      <th>3</th>\n",
       "      <td>240123_F0002_03</td>\n",
       "      <td>2024-01-23</td>\n",
       "      <td>F0002</td>\n",
       "      <td>아벤느</td>\n",
       "      <td>트릭세라 로션</td>\n",
       "      <td>NaN</td>\n",
       "      <td>NaN</td>\n",
       "      <td>NaN</td>\n",
       "    </tr>\n",
       "    <tr>\n",
       "      <th>4</th>\n",
       "      <td>240123_F0002_04</td>\n",
       "      <td>2024-01-23</td>\n",
       "      <td>F0002</td>\n",
       "      <td>에스트라</td>\n",
       "      <td>아토베리어365 하이드로 수딩크림</td>\n",
       "      <td>NaN</td>\n",
       "      <td>NaN</td>\n",
       "      <td>NaN</td>\n",
       "    </tr>\n",
       "    <tr>\n",
       "      <th>...</th>\n",
       "      <td>...</td>\n",
       "      <td>...</td>\n",
       "      <td>...</td>\n",
       "      <td>...</td>\n",
       "      <td>...</td>\n",
       "      <td>...</td>\n",
       "      <td>...</td>\n",
       "      <td>...</td>\n",
       "    </tr>\n",
       "    <tr>\n",
       "      <th>49990</th>\n",
       "      <td>240123_M9994_00</td>\n",
       "      <td>2024-01-23</td>\n",
       "      <td>M9994</td>\n",
       "      <td>메디필</td>\n",
       "      <td>히알루론산 레이어 물톡스 앰플 더블 기획</td>\n",
       "      <td>NaN</td>\n",
       "      <td>NaN</td>\n",
       "      <td>NaN</td>\n",
       "    </tr>\n",
       "    <tr>\n",
       "      <th>49991</th>\n",
       "      <td>240123_M9994_01</td>\n",
       "      <td>2024-01-23</td>\n",
       "      <td>M9994</td>\n",
       "      <td>닐스야드 레머디스</td>\n",
       "      <td>레머디스 와일드 로즈 뷰티 세럼</td>\n",
       "      <td>NaN</td>\n",
       "      <td>NaN</td>\n",
       "      <td>NaN</td>\n",
       "    </tr>\n",
       "    <tr>\n",
       "      <th>49992</th>\n",
       "      <td>240123_M9994_02</td>\n",
       "      <td>2024-01-23</td>\n",
       "      <td>M9994</td>\n",
       "      <td>닥터지</td>\n",
       "      <td>더모이스처 배리어 D 리퀴드</td>\n",
       "      <td>NaN</td>\n",
       "      <td>NaN</td>\n",
       "      <td>NaN</td>\n",
       "    </tr>\n",
       "    <tr>\n",
       "      <th>49993</th>\n",
       "      <td>240123_M9994_03</td>\n",
       "      <td>2024-01-23</td>\n",
       "      <td>M9994</td>\n",
       "      <td>아크네스</td>\n",
       "      <td>모이스처 플루이드</td>\n",
       "      <td>NaN</td>\n",
       "      <td>NaN</td>\n",
       "      <td>NaN</td>\n",
       "    </tr>\n",
       "    <tr>\n",
       "      <th>49994</th>\n",
       "      <td>240123_M9994_04</td>\n",
       "      <td>2024-01-23</td>\n",
       "      <td>M9994</td>\n",
       "      <td>닥터자르트</td>\n",
       "      <td>시카페어 인텐시브 수딩 리페어 크림</td>\n",
       "      <td>NaN</td>\n",
       "      <td>NaN</td>\n",
       "      <td>NaN</td>\n",
       "    </tr>\n",
       "  </tbody>\n",
       "</table>\n",
       "<p>49995 rows × 8 columns</p>\n",
       "</div>"
      ],
      "text/plain": [
       "             regis_num  regis_date userID  prd_brand                prd_name  \\\n",
       "0      240123_F0002_00  2024-01-23  F0002        얼트루        아임쏘리포마이스킨 릴렉싱 앰플   \n",
       "1      240123_F0002_01  2024-01-23  F0002        닥터지       에이클리어 스팟 포 페이스 세럼   \n",
       "2      240123_F0002_02  2024-01-23  F0002       라운드랩              1025 독도 토너   \n",
       "3      240123_F0002_03  2024-01-23  F0002        아벤느                 트릭세라 로션   \n",
       "4      240123_F0002_04  2024-01-23  F0002       에스트라      아토베리어365 하이드로 수딩크림   \n",
       "...                ...         ...    ...        ...                     ...   \n",
       "49990  240123_M9994_00  2024-01-23  M9994        메디필  히알루론산 레이어 물톡스 앰플 더블 기획   \n",
       "49991  240123_M9994_01  2024-01-23  M9994  닐스야드 레머디스       레머디스 와일드 로즈 뷰티 세럼   \n",
       "49992  240123_M9994_02  2024-01-23  M9994        닥터지         더모이스처 배리어 D 리퀴드   \n",
       "49993  240123_M9994_03  2024-01-23  M9994       아크네스               모이스처 플루이드   \n",
       "49994  240123_M9994_04  2024-01-23  M9994      닥터자르트     시카페어 인텐시브 수딩 리페어 크림   \n",
       "\n",
       "       pay_date  pay_price  op_date  \n",
       "0           NaN        NaN      NaN  \n",
       "1           NaN        NaN      NaN  \n",
       "2           NaN        NaN      NaN  \n",
       "3           NaN        NaN      NaN  \n",
       "4           NaN        NaN      NaN  \n",
       "...         ...        ...      ...  \n",
       "49990       NaN        NaN      NaN  \n",
       "49991       NaN        NaN      NaN  \n",
       "49992       NaN        NaN      NaN  \n",
       "49993       NaN        NaN      NaN  \n",
       "49994       NaN        NaN      NaN  \n",
       "\n",
       "[49995 rows x 8 columns]"
      ]
     },
     "execution_count": 14,
     "metadata": {},
     "output_type": "execute_result"
    }
   ],
   "source": [
    "import pandas as pd \n",
    "df = pd.read_csv('./06.customer_regis_sampling.csv')\n",
    "df"
   ]
  },
  {
   "cell_type": "code",
   "execution_count": null,
   "metadata": {},
   "outputs": [],
   "source": [
    "df['등록번호']"
   ]
  },
  {
   "cell_type": "code",
   "execution_count": 32,
   "metadata": {},
   "outputs": [],
   "source": [
    "\n",
    "conn = pymysql.connect(host='localhost', user='root', password='apple123!!', db = 'beaulol', charset='utf8')\n",
    "cur= conn.cursor()\n",
    "\n",
    "insert_sql = \"INSERT INTO customer_regis(regis_num, regis_date, userID, prd_brand, prd_name) values(%s, %s, %s, %s, %s)\"\n",
    "create_sql = \"\"\" \n",
    "        create table if not exists customer_regis ( \n",
    "        regis_num VARCHAR(30) NOT NULL UNIQUE,\n",
    "        regis_date DATE,\n",
    "        userID VARCHAR(10) NOT NULL,\n",
    "        prd_brand VARCHAR(50) NOT NULL, \n",
    "        prd_name VARCHAR(500) NOT NULL, \n",
    "        pay_date DATE, \n",
    "        pay_price VARCHAR(10),\n",
    "        op_date DATE,\n",
    "        PRIMARY KEY(regis_num)\n",
    "        );\n",
    "        \"\"\"\n",
    "\n",
    "\n",
    "cur.execute(create_sql)\n",
    "for i in range(len(df['regis_num'])):\n",
    "    cur.execute(insert_sql,(df['regis_num'][i],'2024-01-23',df['userID'][i],df['prd_brand'][i],df['prd_name'][i]))\n",
    "        \n",
    "conn.commit()\n",
    "conn.close()"
   ]
  },
  {
   "cell_type": "markdown",
   "metadata": {},
   "source": [
    "# 랜덤으로 데이터 샘플링"
   ]
  },
  {
   "cell_type": "markdown",
   "metadata": {},
   "source": [
    "## DB에 저장된 고객 및 상품 정보 가져오기"
   ]
  },
  {
   "cell_type": "code",
   "execution_count": 4,
   "metadata": {},
   "outputs": [
    {
     "name": "stderr",
     "output_type": "stream",
     "text": [
      "/var/folders/y6/tjfrq8vj411cyf6zll2ppq_w0000gn/T/ipykernel_988/688440226.py:6: UserWarning: pandas only supports SQLAlchemy connectable (engine/connection) or database string URI or sqlite3 DBAPI2 connection. Other DBAPI2 objects are not tested. Please consider using SQLAlchemy.\n",
      "  customer_info = pd.read_sql(sql, conn)\n",
      "/var/folders/y6/tjfrq8vj411cyf6zll2ppq_w0000gn/T/ipykernel_988/688440226.py:7: UserWarning: pandas only supports SQLAlchemy connectable (engine/connection) or database string URI or sqlite3 DBAPI2 connection. Other DBAPI2 objects are not tested. Please consider using SQLAlchemy.\n",
      "  product_info = pd.read_sql(sql3,conn)\n"
     ]
    }
   ],
   "source": [
    "conn = pymysql.connect(host='localhost', user='root', password='apple123!!', db = 'beaulol', charset='utf8')\n",
    "cur= conn.cursor()\n",
    "\n",
    "sql = \"\"\"select * from customer_info\"\"\"\n",
    "sql3 = \"\"\"select * from product_info where prd_ingredients like '%,%'\"\"\"\n",
    "customer_info = pd.read_sql(sql, conn)\n",
    "product_info = pd.read_sql(sql3,conn)"
   ]
  },
  {
   "cell_type": "code",
   "execution_count": 5,
   "metadata": {},
   "outputs": [
    {
     "name": "stdout",
     "output_type": "stream",
     "text": [
      "<class 'pandas.core.frame.DataFrame'>\n",
      "RangeIndex: 9999 entries, 0 to 9998\n",
      "Data columns (total 9 columns):\n",
      " #   Column  Non-Null Count  Dtype \n",
      "---  ------  --------------  ----- \n",
      " 0   userID  9999 non-null   object\n",
      " 1   성함      9999 non-null   object\n",
      " 2   주소      9999 non-null   object\n",
      " 3   이메일     9999 non-null   object\n",
      " 4   연락처     9999 non-null   object\n",
      " 5   아이디     9999 non-null   object\n",
      " 6   비밀번호    9999 non-null   object\n",
      " 7   생년월일    9999 non-null   object\n",
      " 8   성별      9999 non-null   object\n",
      "dtypes: object(9)\n",
      "memory usage: 703.2+ KB\n"
     ]
    }
   ],
   "source": [
    "customer_info.info()"
   ]
  },
  {
   "cell_type": "code",
   "execution_count": 6,
   "metadata": {},
   "outputs": [
    {
     "name": "stdout",
     "output_type": "stream",
     "text": [
      "<class 'pandas.core.frame.DataFrame'>\n",
      "RangeIndex: 393 entries, 0 to 392\n",
      "Data columns (total 7 columns):\n",
      " #   Column           Non-Null Count  Dtype \n",
      "---  ------           --------------  ----- \n",
      " 0   prd_name         393 non-null    object\n",
      " 1   prd_brand        393 non-null    object\n",
      " 2   prd_price        393 non-null    object\n",
      " 3   prd_capa         393 non-null    object\n",
      " 4   prd_ingredients  393 non-null    object\n",
      " 5   prd_exp          393 non-null    object\n",
      " 6   prd_category     393 non-null    object\n",
      "dtypes: object(7)\n",
      "memory usage: 21.6+ KB\n"
     ]
    }
   ],
   "source": [
    "product_info.info()"
   ]
  },
  {
   "cell_type": "markdown",
   "metadata": {},
   "source": [
    "## 랜덤뽑기 잘 되는지 확인"
   ]
  },
  {
   "cell_type": "code",
   "execution_count": 7,
   "metadata": {},
   "outputs": [
    {
     "data": {
      "text/plain": [
       "'레티놀 흔적 리페어 앰플'"
      ]
     },
     "execution_count": 7,
     "metadata": {},
     "output_type": "execute_result"
    }
   ],
   "source": [
    "import numpy as np\n",
    "product = np.random.choice(list(product_info.loc[product_info['prd_category']=='세럼']['prd_name'].unique()),1)[0]\n",
    "product"
   ]
  },
  {
   "cell_type": "code",
   "execution_count": 8,
   "metadata": {},
   "outputs": [
    {
     "data": {
      "text/plain": [
       "89    시드물\n",
       "Name: prd_brand, dtype: object"
      ]
     },
     "execution_count": 8,
     "metadata": {},
     "output_type": "execute_result"
    }
   ],
   "source": [
    "product_info.loc[product_info['prd_name']==product]['prd_brand']"
   ]
  },
  {
   "cell_type": "markdown",
   "metadata": {},
   "source": [
    "## DB 저장"
   ]
  },
  {
   "cell_type": "code",
   "execution_count": 9,
   "metadata": {},
   "outputs": [],
   "source": [
    "conn = pymysql.connect(host='localhost', user='root', password='apple123!!', db = 'beaulol', charset='utf8')\n",
    "cur= conn.cursor()\n",
    "\n",
    "create_sql = \"\"\" \n",
    "        create table if not exists customer_regis ( \n",
    "        regis_num VARCHAR(30) NOT NULL UNIQUE,\n",
    "        regis_date DATE,\n",
    "        userID VARCHAR(10) NOT NULL,\n",
    "        prd_brand VARCHAR(50) NOT NULL, \n",
    "        prd_name VARCHAR(500) NOT NULL, \n",
    "        pay_date DATE, \n",
    "        pay_price VARCHAR(10),\n",
    "        op_date DATE,\n",
    "        PRIMARY KEY(regis_num)\n",
    "        );\n",
    "        \"\"\"\n",
    "\n",
    "cur.execute(create_sql)\n",
    "        \n",
    "conn.commit()\n",
    "conn.close()"
   ]
  },
  {
   "cell_type": "code",
   "execution_count": 10,
   "metadata": {},
   "outputs": [],
   "source": [
    "conn = pymysql.connect(host='localhost', user='root', password='apple123!!', db = 'beaulol', charset='utf8')\n",
    "cur= conn.cursor()\n",
    "\n",
    "insert_sql = \"INSERT INTO customer_regis(regis_num, regis_date ,userID, prd_brand, prd_name) values(%s, %s, %s, %s, %s)\"\n",
    "\n",
    "for user in customer_info['userID']:\n",
    "    for i in range(0,5):\n",
    "        if i == 0 or i == 1:\n",
    "            product = np.random.choice(list(product_info.loc[product_info['prd_category']=='세럼']['prd_name'].unique()),1)[0]\n",
    "        if i == 2:\n",
    "            product = np.random.choice(list(product_info.loc[product_info['prd_category']=='스킨토너']['prd_name'].unique()),1)[0]\n",
    "        if i == 3:\n",
    "            product = np.random.choice(list(product_info.loc[product_info['prd_category']=='로션']['prd_name'].unique()),1)[0]\n",
    "        if i == 4:\n",
    "            product = np.random.choice(list(product_info.loc[product_info['prd_category']=='크림']['prd_name'].unique()),1)[0]\n",
    "        brand = product_info.loc[product_info['prd_name']==product]['prd_brand'].iloc[0]\n",
    "        reginum = '240123' + \"_\" + str(user) + \"_0\" + str(i)\n",
    "        \n",
    "        cur.execute(insert_sql,(reginum,'2024-01-23',user,brand,product))\n",
    "        \n",
    "conn.commit()\n",
    "conn.close()"
   ]
  },
  {
   "cell_type": "markdown",
   "metadata": {},
   "source": [
    "# DB에 저장한 데이터 데이터프레임으로 파일 저장"
   ]
  },
  {
   "cell_type": "code",
   "execution_count": 11,
   "metadata": {},
   "outputs": [
    {
     "name": "stderr",
     "output_type": "stream",
     "text": [
      "/var/folders/y6/tjfrq8vj411cyf6zll2ppq_w0000gn/T/ipykernel_988/1284692759.py:5: UserWarning: pandas only supports SQLAlchemy connectable (engine/connection) or database string URI or sqlite3 DBAPI2 connection. Other DBAPI2 objects are not tested. Please consider using SQLAlchemy.\n",
      "  dfs = pd.read_sql(from_sql,conn)\n"
     ]
    },
    {
     "data": {
      "text/html": [
       "<div>\n",
       "<style scoped>\n",
       "    .dataframe tbody tr th:only-of-type {\n",
       "        vertical-align: middle;\n",
       "    }\n",
       "\n",
       "    .dataframe tbody tr th {\n",
       "        vertical-align: top;\n",
       "    }\n",
       "\n",
       "    .dataframe thead th {\n",
       "        text-align: right;\n",
       "    }\n",
       "</style>\n",
       "<table border=\"1\" class=\"dataframe\">\n",
       "  <thead>\n",
       "    <tr style=\"text-align: right;\">\n",
       "      <th></th>\n",
       "      <th>regis_num</th>\n",
       "      <th>regis_date</th>\n",
       "      <th>userID</th>\n",
       "      <th>prd_brand</th>\n",
       "      <th>prd_name</th>\n",
       "      <th>pay_date</th>\n",
       "      <th>pay_price</th>\n",
       "      <th>op_date</th>\n",
       "    </tr>\n",
       "  </thead>\n",
       "  <tbody>\n",
       "    <tr>\n",
       "      <th>0</th>\n",
       "      <td>240123_F0002_00</td>\n",
       "      <td>2024-01-23</td>\n",
       "      <td>F0002</td>\n",
       "      <td>얼트루</td>\n",
       "      <td>아임쏘리포마이스킨 릴렉싱 앰플</td>\n",
       "      <td>None</td>\n",
       "      <td>None</td>\n",
       "      <td>None</td>\n",
       "    </tr>\n",
       "    <tr>\n",
       "      <th>1</th>\n",
       "      <td>240123_F0002_01</td>\n",
       "      <td>2024-01-23</td>\n",
       "      <td>F0002</td>\n",
       "      <td>닥터지</td>\n",
       "      <td>에이클리어 스팟 포 페이스 세럼</td>\n",
       "      <td>None</td>\n",
       "      <td>None</td>\n",
       "      <td>None</td>\n",
       "    </tr>\n",
       "    <tr>\n",
       "      <th>2</th>\n",
       "      <td>240123_F0002_02</td>\n",
       "      <td>2024-01-23</td>\n",
       "      <td>F0002</td>\n",
       "      <td>라운드랩</td>\n",
       "      <td>1025 독도 토너</td>\n",
       "      <td>None</td>\n",
       "      <td>None</td>\n",
       "      <td>None</td>\n",
       "    </tr>\n",
       "    <tr>\n",
       "      <th>3</th>\n",
       "      <td>240123_F0002_03</td>\n",
       "      <td>2024-01-23</td>\n",
       "      <td>F0002</td>\n",
       "      <td>아벤느</td>\n",
       "      <td>트릭세라 로션</td>\n",
       "      <td>None</td>\n",
       "      <td>None</td>\n",
       "      <td>None</td>\n",
       "    </tr>\n",
       "    <tr>\n",
       "      <th>4</th>\n",
       "      <td>240123_F0002_04</td>\n",
       "      <td>2024-01-23</td>\n",
       "      <td>F0002</td>\n",
       "      <td>에스트라</td>\n",
       "      <td>아토베리어365 하이드로 수딩크림</td>\n",
       "      <td>None</td>\n",
       "      <td>None</td>\n",
       "      <td>None</td>\n",
       "    </tr>\n",
       "    <tr>\n",
       "      <th>...</th>\n",
       "      <td>...</td>\n",
       "      <td>...</td>\n",
       "      <td>...</td>\n",
       "      <td>...</td>\n",
       "      <td>...</td>\n",
       "      <td>...</td>\n",
       "      <td>...</td>\n",
       "      <td>...</td>\n",
       "    </tr>\n",
       "    <tr>\n",
       "      <th>49990</th>\n",
       "      <td>240123_M9994_00</td>\n",
       "      <td>2024-01-23</td>\n",
       "      <td>M9994</td>\n",
       "      <td>메디필</td>\n",
       "      <td>히알루론산 레이어 물톡스 앰플 더블 기획</td>\n",
       "      <td>None</td>\n",
       "      <td>None</td>\n",
       "      <td>None</td>\n",
       "    </tr>\n",
       "    <tr>\n",
       "      <th>49991</th>\n",
       "      <td>240123_M9994_01</td>\n",
       "      <td>2024-01-23</td>\n",
       "      <td>M9994</td>\n",
       "      <td>닐스야드 레머디스</td>\n",
       "      <td>레머디스 와일드 로즈 뷰티 세럼</td>\n",
       "      <td>None</td>\n",
       "      <td>None</td>\n",
       "      <td>None</td>\n",
       "    </tr>\n",
       "    <tr>\n",
       "      <th>49992</th>\n",
       "      <td>240123_M9994_02</td>\n",
       "      <td>2024-01-23</td>\n",
       "      <td>M9994</td>\n",
       "      <td>닥터지</td>\n",
       "      <td>더모이스처 배리어 D 리퀴드</td>\n",
       "      <td>None</td>\n",
       "      <td>None</td>\n",
       "      <td>None</td>\n",
       "    </tr>\n",
       "    <tr>\n",
       "      <th>49993</th>\n",
       "      <td>240123_M9994_03</td>\n",
       "      <td>2024-01-23</td>\n",
       "      <td>M9994</td>\n",
       "      <td>아크네스</td>\n",
       "      <td>모이스처 플루이드</td>\n",
       "      <td>None</td>\n",
       "      <td>None</td>\n",
       "      <td>None</td>\n",
       "    </tr>\n",
       "    <tr>\n",
       "      <th>49994</th>\n",
       "      <td>240123_M9994_04</td>\n",
       "      <td>2024-01-23</td>\n",
       "      <td>M9994</td>\n",
       "      <td>닥터자르트</td>\n",
       "      <td>시카페어 인텐시브 수딩 리페어 크림</td>\n",
       "      <td>None</td>\n",
       "      <td>None</td>\n",
       "      <td>None</td>\n",
       "    </tr>\n",
       "  </tbody>\n",
       "</table>\n",
       "<p>49995 rows × 8 columns</p>\n",
       "</div>"
      ],
      "text/plain": [
       "             regis_num  regis_date userID  prd_brand                prd_name  \\\n",
       "0      240123_F0002_00  2024-01-23  F0002        얼트루        아임쏘리포마이스킨 릴렉싱 앰플   \n",
       "1      240123_F0002_01  2024-01-23  F0002        닥터지       에이클리어 스팟 포 페이스 세럼   \n",
       "2      240123_F0002_02  2024-01-23  F0002       라운드랩              1025 독도 토너   \n",
       "3      240123_F0002_03  2024-01-23  F0002        아벤느                 트릭세라 로션   \n",
       "4      240123_F0002_04  2024-01-23  F0002       에스트라      아토베리어365 하이드로 수딩크림   \n",
       "...                ...         ...    ...        ...                     ...   \n",
       "49990  240123_M9994_00  2024-01-23  M9994        메디필  히알루론산 레이어 물톡스 앰플 더블 기획   \n",
       "49991  240123_M9994_01  2024-01-23  M9994  닐스야드 레머디스       레머디스 와일드 로즈 뷰티 세럼   \n",
       "49992  240123_M9994_02  2024-01-23  M9994        닥터지         더모이스처 배리어 D 리퀴드   \n",
       "49993  240123_M9994_03  2024-01-23  M9994       아크네스               모이스처 플루이드   \n",
       "49994  240123_M9994_04  2024-01-23  M9994      닥터자르트     시카페어 인텐시브 수딩 리페어 크림   \n",
       "\n",
       "      pay_date pay_price op_date  \n",
       "0         None      None    None  \n",
       "1         None      None    None  \n",
       "2         None      None    None  \n",
       "3         None      None    None  \n",
       "4         None      None    None  \n",
       "...        ...       ...     ...  \n",
       "49990     None      None    None  \n",
       "49991     None      None    None  \n",
       "49992     None      None    None  \n",
       "49993     None      None    None  \n",
       "49994     None      None    None  \n",
       "\n",
       "[49995 rows x 8 columns]"
      ]
     },
     "execution_count": 11,
     "metadata": {},
     "output_type": "execute_result"
    }
   ],
   "source": [
    "conn = pymysql.connect(host='localhost', user='root', password='apple123!!', db = 'beaulol', charset='utf8')\n",
    "cur= conn.cursor()\n",
    "\n",
    "from_sql = \"select * from customer_regis\"\n",
    "dfs = pd.read_sql(from_sql,conn)\n",
    "dfs"
   ]
  },
  {
   "cell_type": "code",
   "execution_count": 13,
   "metadata": {},
   "outputs": [],
   "source": [
    "dfs.to_csv('./06.customer_regis_sampling.csv',index=False)"
   ]
  },
  {
   "cell_type": "code",
   "execution_count": null,
   "metadata": {},
   "outputs": [],
   "source": []
  }
 ],
 "metadata": {
  "kernelspec": {
   "display_name": "base",
   "language": "python",
   "name": "python3"
  },
  "language_info": {
   "codemirror_mode": {
    "name": "ipython",
    "version": 3
   },
   "file_extension": ".py",
   "mimetype": "text/x-python",
   "name": "python",
   "nbconvert_exporter": "python",
   "pygments_lexer": "ipython3",
   "version": "3.11.5"
  }
 },
 "nbformat": 4,
 "nbformat_minor": 2
}
