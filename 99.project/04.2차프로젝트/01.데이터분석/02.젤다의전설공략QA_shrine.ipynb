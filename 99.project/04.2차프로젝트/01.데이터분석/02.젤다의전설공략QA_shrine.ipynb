{
 "cells": [
  {
   "cell_type": "markdown",
   "metadata": {},
   "source": [
    "---\n",
    "# 게임 Q&A 세트 만들기\n",
    "- 크롤링 : 네이버 지식인 '왕눈 사당' 검색 결과\n",
    "- 데이터프레임 저장\n",
    "---"
   ]
  },
  {
   "cell_type": "markdown",
   "metadata": {},
   "source": [
    "## 지식in 질문 답변 크롤링"
   ]
  },
  {
   "cell_type": "code",
   "execution_count": 17,
   "metadata": {},
   "outputs": [],
   "source": [
    "from selenium import webdriver\n",
    "from webdriver_manager.chrome import ChromeDriverManager\n",
    "from selenium.webdriver.chrome.service import Service\n",
    "from selenium.webdriver.common.by import By\n",
    "from selenium.webdriver.common.keys import Keys\n",
    "from bs4 import BeautifulSoup\n",
    "import requests\n",
    "import time\n",
    "from selenium.webdriver.support import expected_conditions as EC\n",
    "from selenium.webdriver.support.ui import WebDriverWait\n",
    "\n",
    "service = Service()\n",
    "options = webdriver.ChromeOptions()"
   ]
  },
  {
   "cell_type": "code",
   "execution_count": 18,
   "metadata": {},
   "outputs": [],
   "source": [
    "driver = webdriver.Chrome(service=service,options=options)\n",
    "time.sleep(0.2)\n",
    "\n",
    "\n",
    "url = \"https://kin.naver.com/search/list.naver?query=%EC%99%95%EB%88%88%20%EC%82%AC%EB%8B%B9&page=1\"\n",
    "driver.get(url)\n",
    "zelda_questions = []\n",
    "zelda_answers=[]\n",
    "quest_clicks=[]\n",
    "question_table = driver.find_element(By.CLASS_NAME,\"basic1\")\n",
    "questions = question_table.find_elements(By.TAG_NAME,\"li\")\n",
    "for question in questions:    \n",
    "    quest_text = question.find_elements(By.TAG_NAME,\"dd\")\n",
    "    zelda_questions.append(quest_text[1].text)\n",
    "    quest_clicks.append(question.find_element(By.TAG_NAME,\"a\").get_attribute(\"href\"))\n",
    "\n",
    "for quest_click in quest_clicks:\n",
    "    zelda_answer=[]\n",
    "    driver.get(quest_click)\n",
    "    driver.execute_script(\"window.scrollTo(0, document.body.scrollHeight);\")\n",
    "    answers = driver.find_elements(By.CLASS_NAME,\"se-module-text\")\n",
    "    answers_n = []\n",
    "    for texts in answers:\n",
    "        zelda_answer.append(texts.text)\n",
    "    zelda_answers.append(zelda_answer)"
   ]
  },
  {
   "cell_type": "code",
   "execution_count": 19,
   "metadata": {},
   "outputs": [
    {
     "name": "stdout",
     "output_type": "stream",
     "text": [
      "10 10\n"
     ]
    }
   ],
   "source": [
    "print(len(zelda_questions),len(zelda_answers))"
   ]
  },
  {
   "cell_type": "code",
   "execution_count": 20,
   "metadata": {},
   "outputs": [
    {
     "name": "stdout",
     "output_type": "stream",
     "text": [
      "젤다 왕눈 꼭 모든사당 깨야하나요? 전혀요. 시작의하늘섬에 있는 사당을 제외하면 하나도 안 깨도 엔딩볼 수 있습니다. ['전혀요. 시작의하늘섬에 있는 사당을 제외하면 하나도 안 깨도 엔딩볼 수 있습니다.', '아니요 입에서 녹여드셔도 되시지요']\n",
      "제가 사당 151개를 깼습니다. 하늘에 위치한 사당과 지저의 뿌리는 다 찾았는데 지상의 사당 한개를 못 찾겠어요ㅜㅜ 찾아주세요 안녕하세요? 하늘섬 다시 확인해... ['안녕하세요?\\n하늘섬 다시 확인해 보시겠어요?\\n하늘섬에 32개고, 지상은 120개 입니다. ']\n",
      "... 질문에 대한 답변: 젤다 왕눈 사당에서 152개의 모든 사당을 클리어하고 조나우 갑옷을 받으셨다면 축하드립니다. 하지만 사진과 같이 사당 퀘스트를 보면 31/31이 아닌... ['예 퀘스트를 받지 않고 바로 깬 것입니다\\n퀘스트 받으시면 아마 바로 클리어가 될겁니다\\n(근데 어디 퀘스트인지는 노가다로 찾아야 합니다)', '   게임에 빠져 사는 ᵔᴥᵔ게임광ᵔᴥᵔ\\u200d 인사드립니다 ꒰⸝⸝•ᴗ•⸝⸝꒱੭⁾⁾\\n     최대한 간결하고 정확한 답변 드려볼게요!\\n 질문에 대한 답변: \\n  젤다 왕눈 사당에서 152개의 모든 사당을 클리어하고 조나우 갑옷을 받으셨다면 축하드립니다. 하지만 사진과 같이 사당 퀘스트를 보면 31/31이 아닌 30/31로 나타나는 경우 버그 일 수 있습니다. \\n  아니면 원래 퀘스트를 받을 때 누락된 부분이 있는 것일 수 있습니다. 게임 제작사에 문의하여 조치를 취해보시는 것이 가장 좋을 것입니다.\\n  ᵔᴥᵔ답변에 만족하셨다면 채택 부탁드려요ᵔᴥᵔ\\n      ᵔᴥᵔ궁금하신점이 또 있으시다면 추가질문을 부탁드리겠습니다ᵔᴥᵔ\\n ']\n",
      "이미 클리어한 사당 안한 사당 구분하는 방법 있나요? 사당 이름 옆에 상자 표시는 뭔가요? 맵보시면 클리어한 사당은 파랑색으로 표시되고 클리어하지 못한 사당은 파랑색에... ['맵보시면 클리어한 사당은 파랑색으로 표시되고\\n클리어하지 못한 사당은 파랑색에 주황색으로 표시됩니다.\\n상자표시는 내가 사당에 상자를 발견했나 안했나 표시해주는 겁니다.']\n",
      "사당 안간곳을 못찾겠는데 어디에 있나요? 아직 체력 3칸 못채웠고 축복의 빛은 3개 있어요 이거 하나 비었네요 원래 체력은 꽉 못채우고 두칸 비어요 ['이거 하나 비었네요 원래 체력은 꽉 못채우고 두칸 비어요']\n",
      "왕눈도 전작 야숨처럼 들어갔다가 덜깨고 나온 사당은 붉은색으로 지도에 워프 표시해주나요? 아니면 아예 표시 안해서 워프도 못하나요. 저번에 하나 들어갔다가 그냥... ['사당 문 열고 클리어를 안 했으면 아이콘 테두리는 파란색, 중앙은 주황색으로 표시됩니다.\\n야숨이랑 같아요.']\n",
      "... 한 군데 남으신거 같은데요? 맞나요? 이미지가 작아서 잘은 안보이는데요... 빨간 원으로 친 부분에는 사당이 두 군데 입니다. 여기가 맞을 듯 싶네요... ['안녕하세요?\\n한 군데 남으신거 같은데요? 맞나요?', '이미지가 작아서 잘은 안보이는데요...\\n빨간 원으로 친 부분에는 사당이 두 군데 입니다. 여기가 맞을 듯 싶네요...', '']\n",
      "... 왕눈의 사당은 사당 이름에 띄어쓰기가 없어요. ~의 사당에서 의v사당 부분을 제외하면요. 지식인에는 헛소리를 당당하게 해 대는 ai들이 차고 넘치기 때문에 적당히 보고... ['아무리 찾아도 없는 거면 없는 거죠. 왕눈의 사당은 사당 이름에 띄어쓰기가 없어요. ~의 사당에서 의v사당 부분을 제외하면요. 지식인에는 헛소리를 당당하게 해 대는 ai들이 차고 넘치기 때문에 적당히 보고 ai를 구분할 수 있는 능력이 필요합니다.\\n다잉 리올의 사당 답변 나온 질문 찾아봤는데요. 답변에 문제가 매우 많았습니다. 왕눈 질문에 야숨으로 답변하는 건 기본. 사당을 클리어하면 마스터소드를 얻는 퀘스트를 할 수 있다는 왕눈이고 야숨이고 존재하지 않는 내용을 사실인 것 처럼 답변하는(야숨이고 왕눈이고 마스터소드는 특정 사당의 클리어를 요구하지 않음) ai를 채택하셨더라고요. ', '   게임에 빠져 사는 ᵔᴥᵔ게임광ᵔᴥᵔ\\u200d 인사드립니다 ꒰⸝⸝•ᴗ•⸝⸝꒱੭⁾⁾\\n      최대한 간결하고 정확한 답변 드려볼게요!\\n    질문에 대한 답변: \\n다잉 리올의 사당은 게임 \"젤다의 전설: 브레스 오브 더 와일드\"에 등장하는 장소입니다. 게임 내에서 이 사당을 찾기 위해서는 지도를 사용하거나 검색 엔진을 활용하는 것이 좋습니다. \\n 게임 커뮤니티나 포럼에서 도움을 구하는 것도 좋은 방법이 될 수 있습니다. 공략 영상이 없는 경우는 꽤 드물며, 출시 이후 많은 플레이어들이 이 사당을 찾기 위한 방법들을 공유해왔습니다. \\n  계속해서 더 관련된 정보를 찾아보시면 도움이 될 것입니다. 행운을 빕니다!\\n  ᵔᴥᵔ답변에 만족하셨다면 채택 부탁드려요ᵔᴥᵔ\\n       ᵔᴥᵔ궁금하신점이 또 있으시다면 추가질문을 부탁드리겠습니다ᵔᴥᵔ\\n ', '안녕하십니까? 답변드려요.\\n다잉 리올의 사당은 젤다 왕눈 게임에서 중요한 장소 중 하나입니다. 이 사당은 게임 내에서 필수적으로 방문해야 하는 장소이기 때문에 찾기 어렵거나 누락된 것은 아닐 것입니다.\\n사실, 다잉 리올의 사당은 게임 내에서 상당히 잘 숨겨져 있기 때문에 찾기가 어려울 수 있습니다. 유튜브 공략 영상을 찾아도 찾기 어려울 수 있으니 조금 더 시간을 투자해서 찾아보셔야 할 것 같습니다.\\n아래에는 다잉 리올의 사당을 찾는데 도움이 될 수 있는 몇 가지 단계를 안내해 드리겠습니다:\\n1. 다잉 리올의 사당은 젤다 왕눈의 메인 퀘스트 중 하나인 \"저주받은 산\"과 관련되어 있습니다. 이 퀘스트를 진행하면서 사당을 찾게 될 것입니다.\\n2. 일단 \"저주받은 산\" 퀘스트를 받으신 후, 지도를 확인해 보세요. 사당은 주변 지역에 표시됩니다. 지도에서 사당의 위치를 파악하고, 그곳으로 이동하세요.\\n3. 사당을 찾기 위해서는 주변 지형과 환경을 주의 깊게 살펴보아야 합니다. 게임 내에서 사당은 종종 동굴이나 암벽 등의 숨겨진 곳에 위치해 있을 수 있습니다.\\n4. 만약 여전히 사당을 찾기 어렵다면, 게임 내에서 사용 가능한 아이템이나 능력을 이용해 주변 환경을 조사해 보세요. 예를 들어, 망원경을 사용하여 먼 거리에서 사당을 발견할 수도 있습니다.\\n5. 마지막으로, 사당을 찾는 과정에서 어려움을 겪는다면 인터넷 검색 엔진을 활용해 보세요. 다른 플레이어들이 사당을 찾는 데 어떤 전략이나 팁을 사용했는지 알아볼 수 있습니다.\\n위의 단계를 따라가면서 다잉 리올의 사당을 찾을 수 있을 것입니다. 게임 내에서 숨겨진 장소를 찾는 것은 게임의 재미와 도전이기 때문에 조금 더 노력해 보시기 바랍니다. 행운을 빕니다!\\n도움이 되시면 좋겠습니다.    ', '젤다 왕눈 다잉 리올의 사당은 젤다의 전설: 브레스 오브 더 와일드 게임에 있는 장소입니다. 이 사당은 하이랜드 지역에 위치하고 있으며 어려움이 있어 찾기가 어려울 수 있습니다. 게임 내에서 힌트나 지도를 제공하는 NPC나 온라인 커뮤니티를 통해 위치를 알 수 있을 것입니다. 좀 더 자세한 공략을 원한다면 게임 가이드북이나 공식 포럼을 참고해보시는 것을 추천드립니다. 많은 분들이 공략 영상을 찾고 있어 아마도 공략 영상이 준비되어 있을 것입니다.']\n",
      "... 페러세일 필요 없이 클리어 가능한 사당 이름종여..... 있는 사당이 있습니다. 그 중 하나는 '다잉 리올'입니다. 이 사당은 하이랄 평야 지역에 위치하고 있으며, 해당... [\"    게임에 빠져 사는 ᵔᴥᵔ게임광ᵔᴥᵔ\\u200d 인사드립니다 ꒰⸝⸝•ᴗ•⸝⸝꒱੭⁾⁾\\n      최대한 간결하고 정확한 답변 드려볼게요!\\n  질문에 대한 답변: \\n  안녕하세요! 젤다의 전설: 브레스 오브 더 와일드에서는 페러세일 없이도 클리어할 수 있는 사당이 있습니다. 그 중 하나는 '다잉 리올'입니다. \\n  이 사당은 하이랄 평야 지역에 위치하고 있으며, 해당 사당을 클리어하면 마스터 소드를 얻을 수 있는 퀘스트를 진행할 수 있습니다. 행운을 빕니다!\\n   ᵔᴥᵔ답변에 만족하셨다면 채택 부탁드려요ᵔᴥᵔ\\n         ᵔᴥᵔ궁금하신점이 또 있으시다면 추가질문을 부탁드리겠습니다ᵔᴥᵔ\\n \"]\n",
      "... 사당 고대돌기둥군 꼭대기에 있다고 하는데 전 그자리에 동굴 유적밖에 없거든요..?사당이 아예 안보이는데 어떻게된걸까요ㅜ버그인가요...?아님 제가 못찾는건가요 사당... ['티나 쿄자의 사당은 야숨 사당입니다.']\n"
     ]
    }
   ],
   "source": [
    "for i in range(len(zelda_questions)):\n",
    "    print(zelda_questions[i],zelda_answers[i])"
   ]
  },
  {
   "cell_type": "code",
   "execution_count": 21,
   "metadata": {},
   "outputs": [
    {
     "ename": "NoSuchElementException",
     "evalue": "Message: no such element: Unable to locate element: {\"method\":\"css selector\",\"selector\":\".basic1\"}\n  (Session info: chrome=121.0.6167.160); For documentation on this error, please visit: https://www.selenium.dev/documentation/webdriver/troubleshooting/errors#no-such-element-exception\nStacktrace:\n0   chromedriver                        0x000000010b33a168 chromedriver + 4673896\n1   chromedriver                        0x000000010b3319c3 chromedriver + 4639171\n2   chromedriver                        0x000000010af25fdd chromedriver + 397277\n3   chromedriver                        0x000000010af71bfc chromedriver + 707580\n4   chromedriver                        0x000000010af71dd1 chromedriver + 708049\n5   chromedriver                        0x000000010afb6284 chromedriver + 987780\n6   chromedriver                        0x000000010af948ed chromedriver + 850157\n7   chromedriver                        0x000000010afb3796 chromedriver + 976790\n8   chromedriver                        0x000000010af94663 chromedriver + 849507\n9   chromedriver                        0x000000010af641cf chromedriver + 651727\n10  chromedriver                        0x000000010af651ae chromedriver + 655790\n11  chromedriver                        0x000000010b2fa380 chromedriver + 4412288\n12  chromedriver                        0x000000010b2ff798 chromedriver + 4433816\n13  chromedriver                        0x000000010b2ded71 chromedriver + 4300145\n14  chromedriver                        0x000000010b3004e6 chromedriver + 4437222\n15  chromedriver                        0x000000010b2d0d3c chromedriver + 4242748\n16  chromedriver                        0x000000010b320208 chromedriver + 4567560\n17  chromedriver                        0x000000010b3203be chromedriver + 4567998\n18  chromedriver                        0x000000010b331603 chromedriver + 4638211\n19  libsystem_pthread.dylib             0x00007ff806030202 _pthread_start + 99\n20  libsystem_pthread.dylib             0x00007ff80602bbab thread_start + 15\n",
     "output_type": "error",
     "traceback": [
      "\u001b[0;31m---------------------------------------------------------------------------\u001b[0m",
      "\u001b[0;31mNoSuchElementException\u001b[0m                    Traceback (most recent call last)",
      "Cell \u001b[0;32mIn[21], line 9\u001b[0m\n\u001b[1;32m      7\u001b[0m driver\u001b[38;5;241m.\u001b[39mget(url)\n\u001b[1;32m      8\u001b[0m quest_clicks\u001b[38;5;241m=\u001b[39m[]\n\u001b[0;32m----> 9\u001b[0m question_table \u001b[38;5;241m=\u001b[39m driver\u001b[38;5;241m.\u001b[39mfind_element(By\u001b[38;5;241m.\u001b[39mCLASS_NAME,\u001b[38;5;124m\"\u001b[39m\u001b[38;5;124mbasic1\u001b[39m\u001b[38;5;124m\"\u001b[39m)\n\u001b[1;32m     10\u001b[0m questions \u001b[38;5;241m=\u001b[39m question_table\u001b[38;5;241m.\u001b[39mfind_elements(By\u001b[38;5;241m.\u001b[39mTAG_NAME,\u001b[38;5;124m\"\u001b[39m\u001b[38;5;124mli\u001b[39m\u001b[38;5;124m\"\u001b[39m)\n\u001b[1;32m     11\u001b[0m \u001b[38;5;28;01mfor\u001b[39;00m question \u001b[38;5;129;01min\u001b[39;00m questions:    \n",
      "File \u001b[0;32m/usr/local/Caskroom/miniconda/base/lib/python3.11/site-packages/selenium/webdriver/remote/webdriver.py:741\u001b[0m, in \u001b[0;36mWebDriver.find_element\u001b[0;34m(self, by, value)\u001b[0m\n\u001b[1;32m    738\u001b[0m     by \u001b[38;5;241m=\u001b[39m By\u001b[38;5;241m.\u001b[39mCSS_SELECTOR\n\u001b[1;32m    739\u001b[0m     value \u001b[38;5;241m=\u001b[39m \u001b[38;5;124mf\u001b[39m\u001b[38;5;124m'\u001b[39m\u001b[38;5;124m[name=\u001b[39m\u001b[38;5;124m\"\u001b[39m\u001b[38;5;132;01m{\u001b[39;00mvalue\u001b[38;5;132;01m}\u001b[39;00m\u001b[38;5;124m\"\u001b[39m\u001b[38;5;124m]\u001b[39m\u001b[38;5;124m'\u001b[39m\n\u001b[0;32m--> 741\u001b[0m \u001b[38;5;28;01mreturn\u001b[39;00m \u001b[38;5;28mself\u001b[39m\u001b[38;5;241m.\u001b[39mexecute(Command\u001b[38;5;241m.\u001b[39mFIND_ELEMENT, {\u001b[38;5;124m\"\u001b[39m\u001b[38;5;124musing\u001b[39m\u001b[38;5;124m\"\u001b[39m: by, \u001b[38;5;124m\"\u001b[39m\u001b[38;5;124mvalue\u001b[39m\u001b[38;5;124m\"\u001b[39m: value})[\u001b[38;5;124m\"\u001b[39m\u001b[38;5;124mvalue\u001b[39m\u001b[38;5;124m\"\u001b[39m]\n",
      "File \u001b[0;32m/usr/local/Caskroom/miniconda/base/lib/python3.11/site-packages/selenium/webdriver/remote/webdriver.py:347\u001b[0m, in \u001b[0;36mWebDriver.execute\u001b[0;34m(self, driver_command, params)\u001b[0m\n\u001b[1;32m    345\u001b[0m response \u001b[38;5;241m=\u001b[39m \u001b[38;5;28mself\u001b[39m\u001b[38;5;241m.\u001b[39mcommand_executor\u001b[38;5;241m.\u001b[39mexecute(driver_command, params)\n\u001b[1;32m    346\u001b[0m \u001b[38;5;28;01mif\u001b[39;00m response:\n\u001b[0;32m--> 347\u001b[0m     \u001b[38;5;28mself\u001b[39m\u001b[38;5;241m.\u001b[39merror_handler\u001b[38;5;241m.\u001b[39mcheck_response(response)\n\u001b[1;32m    348\u001b[0m     response[\u001b[38;5;124m\"\u001b[39m\u001b[38;5;124mvalue\u001b[39m\u001b[38;5;124m\"\u001b[39m] \u001b[38;5;241m=\u001b[39m \u001b[38;5;28mself\u001b[39m\u001b[38;5;241m.\u001b[39m_unwrap_value(response\u001b[38;5;241m.\u001b[39mget(\u001b[38;5;124m\"\u001b[39m\u001b[38;5;124mvalue\u001b[39m\u001b[38;5;124m\"\u001b[39m, \u001b[38;5;28;01mNone\u001b[39;00m))\n\u001b[1;32m    349\u001b[0m     \u001b[38;5;28;01mreturn\u001b[39;00m response\n",
      "File \u001b[0;32m/usr/local/Caskroom/miniconda/base/lib/python3.11/site-packages/selenium/webdriver/remote/errorhandler.py:229\u001b[0m, in \u001b[0;36mErrorHandler.check_response\u001b[0;34m(self, response)\u001b[0m\n\u001b[1;32m    227\u001b[0m         alert_text \u001b[38;5;241m=\u001b[39m value[\u001b[38;5;124m\"\u001b[39m\u001b[38;5;124malert\u001b[39m\u001b[38;5;124m\"\u001b[39m]\u001b[38;5;241m.\u001b[39mget(\u001b[38;5;124m\"\u001b[39m\u001b[38;5;124mtext\u001b[39m\u001b[38;5;124m\"\u001b[39m)\n\u001b[1;32m    228\u001b[0m     \u001b[38;5;28;01mraise\u001b[39;00m exception_class(message, screen, stacktrace, alert_text)  \u001b[38;5;66;03m# type: ignore[call-arg]  # mypy is not smart enough here\u001b[39;00m\n\u001b[0;32m--> 229\u001b[0m \u001b[38;5;28;01mraise\u001b[39;00m exception_class(message, screen, stacktrace)\n",
      "\u001b[0;31mNoSuchElementException\u001b[0m: Message: no such element: Unable to locate element: {\"method\":\"css selector\",\"selector\":\".basic1\"}\n  (Session info: chrome=121.0.6167.160); For documentation on this error, please visit: https://www.selenium.dev/documentation/webdriver/troubleshooting/errors#no-such-element-exception\nStacktrace:\n0   chromedriver                        0x000000010b33a168 chromedriver + 4673896\n1   chromedriver                        0x000000010b3319c3 chromedriver + 4639171\n2   chromedriver                        0x000000010af25fdd chromedriver + 397277\n3   chromedriver                        0x000000010af71bfc chromedriver + 707580\n4   chromedriver                        0x000000010af71dd1 chromedriver + 708049\n5   chromedriver                        0x000000010afb6284 chromedriver + 987780\n6   chromedriver                        0x000000010af948ed chromedriver + 850157\n7   chromedriver                        0x000000010afb3796 chromedriver + 976790\n8   chromedriver                        0x000000010af94663 chromedriver + 849507\n9   chromedriver                        0x000000010af641cf chromedriver + 651727\n10  chromedriver                        0x000000010af651ae chromedriver + 655790\n11  chromedriver                        0x000000010b2fa380 chromedriver + 4412288\n12  chromedriver                        0x000000010b2ff798 chromedriver + 4433816\n13  chromedriver                        0x000000010b2ded71 chromedriver + 4300145\n14  chromedriver                        0x000000010b3004e6 chromedriver + 4437222\n15  chromedriver                        0x000000010b2d0d3c chromedriver + 4242748\n16  chromedriver                        0x000000010b320208 chromedriver + 4567560\n17  chromedriver                        0x000000010b3203be chromedriver + 4567998\n18  chromedriver                        0x000000010b331603 chromedriver + 4638211\n19  libsystem_pthread.dylib             0x00007ff806030202 _pthread_start + 99\n20  libsystem_pthread.dylib             0x00007ff80602bbab thread_start + 15\n"
     ]
    }
   ],
   "source": [
    "zelda_questions = []\n",
    "zelda_answers=[]\n",
    "zelda_questions_unique = []\n",
    "\n",
    "for i in range(0,17):\n",
    "    url = f\"https://kin.naver.com/search/list.naver?query=%EC%99%95%EB%88%88%20%EC%82%AC%EB%8B%B9&page={i+1}\"\n",
    "    driver.get(url)\n",
    "    quest_clicks=[]\n",
    "    question_table = driver.find_element(By.CLASS_NAME,\"basic1\")\n",
    "    questions = question_table.find_elements(By.TAG_NAME,\"li\")\n",
    "    for question in questions:    \n",
    "        quest_text = question.find_elements(By.TAG_NAME,\"dd\")\n",
    "        zelda_questions_unique.append(quest_text[1].text)\n",
    "        quest_clicks.append(question.find_element(By.TAG_NAME,\"a\").get_attribute(\"href\"))\n",
    "\n",
    "    for idx,quest_click in enumerate(quest_clicks):\n",
    "        zelda_answer=[]\n",
    "        driver.get(quest_click)\n",
    "        driver.execute_script(\"window.scrollTo(0, document.body.scrollHeight);\")\n",
    "        answers = driver.find_elements(By.CLASS_NAME,\"se-module-text\")\n",
    "        answers_n = []\n",
    "        for texts in answers:\n",
    "            if texts.text != \"\" : \n",
    "                zelda_answers.append(texts.text)\n",
    "                zelda_questions.append(zelda_questions_unique[idx])\n",
    "        # zelda_answers.append(zelda_answer)\n",
    "        # zelda_questions.append(zelda_questions_unique[idx])"
   ]
  },
  {
   "cell_type": "code",
   "execution_count": 22,
   "metadata": {},
   "outputs": [
    {
     "name": "stdout",
     "output_type": "stream",
     "text": [
      "315 315\n"
     ]
    }
   ],
   "source": [
    "print(len(zelda_questions),len(zelda_answers))"
   ]
  },
  {
   "cell_type": "markdown",
   "metadata": {},
   "source": [
    "## 데이터프레임 변환 및 전처리"
   ]
  },
  {
   "cell_type": "markdown",
   "metadata": {},
   "source": [
    "* 데이터프레임 변환"
   ]
  },
  {
   "cell_type": "code",
   "execution_count": 23,
   "metadata": {},
   "outputs": [],
   "source": [
    "# !pip install pandas\n",
    "import pandas as pd"
   ]
  },
  {
   "cell_type": "code",
   "execution_count": 25,
   "metadata": {},
   "outputs": [
    {
     "data": {
      "text/html": [
       "<div>\n",
       "<style scoped>\n",
       "    .dataframe tbody tr th:only-of-type {\n",
       "        vertical-align: middle;\n",
       "    }\n",
       "\n",
       "    .dataframe tbody tr th {\n",
       "        vertical-align: top;\n",
       "    }\n",
       "\n",
       "    .dataframe thead th {\n",
       "        text-align: right;\n",
       "    }\n",
       "</style>\n",
       "<table border=\"1\" class=\"dataframe\">\n",
       "  <thead>\n",
       "    <tr style=\"text-align: right;\">\n",
       "      <th></th>\n",
       "      <th>question</th>\n",
       "      <th>answers</th>\n",
       "    </tr>\n",
       "  </thead>\n",
       "  <tbody>\n",
       "    <tr>\n",
       "      <th>0</th>\n",
       "      <td>젤다 왕눈 꼭 모든사당 깨야하나요? 전혀요. 시작의하늘섬에 있는 사당을 제외하면 하...</td>\n",
       "      <td>전혀요. 시작의하늘섬에 있는 사당을 제외하면 하나도 안 깨도 엔딩볼 수 있습니다.</td>\n",
       "    </tr>\n",
       "    <tr>\n",
       "      <th>1</th>\n",
       "      <td>젤다 왕눈 꼭 모든사당 깨야하나요? 전혀요. 시작의하늘섬에 있는 사당을 제외하면 하...</td>\n",
       "      <td>아니요 입에서 녹여드셔도 되시지요</td>\n",
       "    </tr>\n",
       "    <tr>\n",
       "      <th>2</th>\n",
       "      <td>제가 사당 151개를 깼습니다. 하늘에 위치한 사당과 지저의 뿌리는 다 찾았는데 지...</td>\n",
       "      <td>안녕하세요?\\n하늘섬 다시 확인해 보시겠어요?\\n하늘섬에 32개고, 지상은 120개...</td>\n",
       "    </tr>\n",
       "    <tr>\n",
       "      <th>3</th>\n",
       "      <td>... 질문에 대한 답변: 젤다 왕눈 사당에서 152개의 모든 사당을 클리어하고 조...</td>\n",
       "      <td>예 퀘스트를 받지 않고 바로 깬 것입니다\\n퀘스트 받으시면 아마 바로 클리어가 될겁...</td>\n",
       "    </tr>\n",
       "    <tr>\n",
       "      <th>4</th>\n",
       "      <td>... 질문에 대한 답변: 젤다 왕눈 사당에서 152개의 모든 사당을 클리어하고 조...</td>\n",
       "      <td>게임에 빠져 사는 ᵔᴥᵔ게임광ᵔᴥᵔ‍ 인사드립니다 ꒰⸝⸝•ᴗ•⸝⸝꒱੭⁾⁾\\n ...</td>\n",
       "    </tr>\n",
       "    <tr>\n",
       "      <th>...</th>\n",
       "      <td>...</td>\n",
       "      <td>...</td>\n",
       "    </tr>\n",
       "    <tr>\n",
       "      <th>310</th>\n",
       "      <td>왕눈도 전작 야숨처럼 들어갔다가 덜깨고 나온 사당은 붉은색으로 지도에 워프 표시해주...</td>\n",
       "      <td>저 같은 경우는 사당을 먼저 많이 깼어요.\\n사당을 깨서 스테미나와 하트를 늘리고,...</td>\n",
       "    </tr>\n",
       "    <tr>\n",
       "      <th>311</th>\n",
       "      <td>왕눈도 전작 야숨처럼 들어갔다가 덜깨고 나온 사당은 붉은색으로 지도에 워프 표시해주...</td>\n",
       "      <td>저는 모르고 마지막으로 갔지만 고론 지역이 가장 쉬운 것 같아요.</td>\n",
       "    </tr>\n",
       "    <tr>\n",
       "      <th>312</th>\n",
       "      <td>... 한 군데 남으신거 같은데요? 맞나요? 이미지가 작아서 잘은 안보이는데요......</td>\n",
       "      <td>스크린 샷 찍어서 올리시면 더 좋은 답변이 달릴겁니다. 너무 안보이네요.\\n참고로,...</td>\n",
       "    </tr>\n",
       "    <tr>\n",
       "      <th>313</th>\n",
       "      <td>... 한 군데 남으신거 같은데요? 맞나요? 이미지가 작아서 잘은 안보이는데요......</td>\n",
       "      <td>지상의 사당은 뿌리,\\n지상의 물(바다,강등)은\\n벽입니다\\n제가 보기는 오른쪽 아...</td>\n",
       "    </tr>\n",
       "    <tr>\n",
       "      <th>314</th>\n",
       "      <td>... 한 군데 남으신거 같은데요? 맞나요? 이미지가 작아서 잘은 안보이는데요......</td>\n",
       "      <td>안녕하세요?\\n지저맵의 윗부분이 잘려있네요.. 그 곳에 15군데의 뿌리가 있거든요....</td>\n",
       "    </tr>\n",
       "  </tbody>\n",
       "</table>\n",
       "<p>315 rows × 2 columns</p>\n",
       "</div>"
      ],
      "text/plain": [
       "                                              question  \\\n",
       "0    젤다 왕눈 꼭 모든사당 깨야하나요? 전혀요. 시작의하늘섬에 있는 사당을 제외하면 하...   \n",
       "1    젤다 왕눈 꼭 모든사당 깨야하나요? 전혀요. 시작의하늘섬에 있는 사당을 제외하면 하...   \n",
       "2    제가 사당 151개를 깼습니다. 하늘에 위치한 사당과 지저의 뿌리는 다 찾았는데 지...   \n",
       "3    ... 질문에 대한 답변: 젤다 왕눈 사당에서 152개의 모든 사당을 클리어하고 조...   \n",
       "4    ... 질문에 대한 답변: 젤다 왕눈 사당에서 152개의 모든 사당을 클리어하고 조...   \n",
       "..                                                 ...   \n",
       "310  왕눈도 전작 야숨처럼 들어갔다가 덜깨고 나온 사당은 붉은색으로 지도에 워프 표시해주...   \n",
       "311  왕눈도 전작 야숨처럼 들어갔다가 덜깨고 나온 사당은 붉은색으로 지도에 워프 표시해주...   \n",
       "312  ... 한 군데 남으신거 같은데요? 맞나요? 이미지가 작아서 잘은 안보이는데요......   \n",
       "313  ... 한 군데 남으신거 같은데요? 맞나요? 이미지가 작아서 잘은 안보이는데요......   \n",
       "314  ... 한 군데 남으신거 같은데요? 맞나요? 이미지가 작아서 잘은 안보이는데요......   \n",
       "\n",
       "                                               answers  \n",
       "0        전혀요. 시작의하늘섬에 있는 사당을 제외하면 하나도 안 깨도 엔딩볼 수 있습니다.  \n",
       "1                                   아니요 입에서 녹여드셔도 되시지요  \n",
       "2    안녕하세요?\\n하늘섬 다시 확인해 보시겠어요?\\n하늘섬에 32개고, 지상은 120개...  \n",
       "3    예 퀘스트를 받지 않고 바로 깬 것입니다\\n퀘스트 받으시면 아마 바로 클리어가 될겁...  \n",
       "4       게임에 빠져 사는 ᵔᴥᵔ게임광ᵔᴥᵔ‍ 인사드립니다 ꒰⸝⸝•ᴗ•⸝⸝꒱੭⁾⁾\\n ...  \n",
       "..                                                 ...  \n",
       "310  저 같은 경우는 사당을 먼저 많이 깼어요.\\n사당을 깨서 스테미나와 하트를 늘리고,...  \n",
       "311               저는 모르고 마지막으로 갔지만 고론 지역이 가장 쉬운 것 같아요.  \n",
       "312  스크린 샷 찍어서 올리시면 더 좋은 답변이 달릴겁니다. 너무 안보이네요.\\n참고로,...  \n",
       "313  지상의 사당은 뿌리,\\n지상의 물(바다,강등)은\\n벽입니다\\n제가 보기는 오른쪽 아...  \n",
       "314  안녕하세요?\\n지저맵의 윗부분이 잘려있네요.. 그 곳에 15군데의 뿌리가 있거든요....  \n",
       "\n",
       "[315 rows x 2 columns]"
      ]
     },
     "execution_count": 25,
     "metadata": {},
     "output_type": "execute_result"
    }
   ],
   "source": [
    "data = pd.DataFrame()\n",
    "data['question'] = zelda_questions\n",
    "data['answers'] = zelda_answers\n",
    "data"
   ]
  },
  {
   "cell_type": "code",
   "execution_count": 26,
   "metadata": {},
   "outputs": [],
   "source": [
    "# 크롤링 어게인을 방지하기 위한 1차 저장\n",
    "data.to_csv('./data/zelda_qna_shrine.csv',index=False)"
   ]
  },
  {
   "cell_type": "code",
   "execution_count": 28,
   "metadata": {},
   "outputs": [
    {
     "data": {
      "text/html": [
       "<div>\n",
       "<style scoped>\n",
       "    .dataframe tbody tr th:only-of-type {\n",
       "        vertical-align: middle;\n",
       "    }\n",
       "\n",
       "    .dataframe tbody tr th {\n",
       "        vertical-align: top;\n",
       "    }\n",
       "\n",
       "    .dataframe thead th {\n",
       "        text-align: right;\n",
       "    }\n",
       "</style>\n",
       "<table border=\"1\" class=\"dataframe\">\n",
       "  <thead>\n",
       "    <tr style=\"text-align: right;\">\n",
       "      <th></th>\n",
       "      <th>question</th>\n",
       "      <th>answers</th>\n",
       "    </tr>\n",
       "  </thead>\n",
       "  <tbody>\n",
       "    <tr>\n",
       "      <th>0</th>\n",
       "      <td>젤다 왕눈 꼭 모든사당 깨야하나요? 전혀요. 시작의하늘섬에 있는 사당을 제외하면 하...</td>\n",
       "      <td>전혀요. 시작의하늘섬에 있는 사당을 제외하면 하나도 안 깨도 엔딩볼 수 있습니다.</td>\n",
       "    </tr>\n",
       "    <tr>\n",
       "      <th>1</th>\n",
       "      <td>젤다 왕눈 꼭 모든사당 깨야하나요? 전혀요. 시작의하늘섬에 있는 사당을 제외하면 하...</td>\n",
       "      <td>아니요 입에서 녹여드셔도 되시지요</td>\n",
       "    </tr>\n",
       "    <tr>\n",
       "      <th>2</th>\n",
       "      <td>제가 사당 151개를 깼습니다. 하늘에 위치한 사당과 지저의 뿌리는 다 찾았는데 지...</td>\n",
       "      <td>안녕하세요?\\n하늘섬 다시 확인해 보시겠어요?\\n하늘섬에 32개고, 지상은 120개...</td>\n",
       "    </tr>\n",
       "    <tr>\n",
       "      <th>3</th>\n",
       "      <td>... 질문에 대한 답변: 젤다 왕눈 사당에서 152개의 모든 사당을 클리어하고 조...</td>\n",
       "      <td>예 퀘스트를 받지 않고 바로 깬 것입니다\\n퀘스트 받으시면 아마 바로 클리어가 될겁...</td>\n",
       "    </tr>\n",
       "    <tr>\n",
       "      <th>4</th>\n",
       "      <td>... 질문에 대한 답변: 젤다 왕눈 사당에서 152개의 모든 사당을 클리어하고 조...</td>\n",
       "      <td>게임에 빠져 사는 ᵔᴥᵔ게임광ᵔᴥᵔ‍ 인사드립니다 ꒰⸝⸝•ᴗ•⸝⸝꒱੭⁾⁾\\n ...</td>\n",
       "    </tr>\n",
       "    <tr>\n",
       "      <th>...</th>\n",
       "      <td>...</td>\n",
       "      <td>...</td>\n",
       "    </tr>\n",
       "    <tr>\n",
       "      <th>310</th>\n",
       "      <td>왕눈도 전작 야숨처럼 들어갔다가 덜깨고 나온 사당은 붉은색으로 지도에 워프 표시해주...</td>\n",
       "      <td>저 같은 경우는 사당을 먼저 많이 깼어요.\\n사당을 깨서 스테미나와 하트를 늘리고,...</td>\n",
       "    </tr>\n",
       "    <tr>\n",
       "      <th>311</th>\n",
       "      <td>왕눈도 전작 야숨처럼 들어갔다가 덜깨고 나온 사당은 붉은색으로 지도에 워프 표시해주...</td>\n",
       "      <td>저는 모르고 마지막으로 갔지만 고론 지역이 가장 쉬운 것 같아요.</td>\n",
       "    </tr>\n",
       "    <tr>\n",
       "      <th>312</th>\n",
       "      <td>... 한 군데 남으신거 같은데요? 맞나요? 이미지가 작아서 잘은 안보이는데요......</td>\n",
       "      <td>스크린 샷 찍어서 올리시면 더 좋은 답변이 달릴겁니다. 너무 안보이네요.\\n참고로,...</td>\n",
       "    </tr>\n",
       "    <tr>\n",
       "      <th>313</th>\n",
       "      <td>... 한 군데 남으신거 같은데요? 맞나요? 이미지가 작아서 잘은 안보이는데요......</td>\n",
       "      <td>지상의 사당은 뿌리,\\n지상의 물(바다,강등)은\\n벽입니다\\n제가 보기는 오른쪽 아...</td>\n",
       "    </tr>\n",
       "    <tr>\n",
       "      <th>314</th>\n",
       "      <td>... 한 군데 남으신거 같은데요? 맞나요? 이미지가 작아서 잘은 안보이는데요......</td>\n",
       "      <td>안녕하세요?\\n지저맵의 윗부분이 잘려있네요.. 그 곳에 15군데의 뿌리가 있거든요....</td>\n",
       "    </tr>\n",
       "  </tbody>\n",
       "</table>\n",
       "<p>315 rows × 2 columns</p>\n",
       "</div>"
      ],
      "text/plain": [
       "                                              question  \\\n",
       "0    젤다 왕눈 꼭 모든사당 깨야하나요? 전혀요. 시작의하늘섬에 있는 사당을 제외하면 하...   \n",
       "1    젤다 왕눈 꼭 모든사당 깨야하나요? 전혀요. 시작의하늘섬에 있는 사당을 제외하면 하...   \n",
       "2    제가 사당 151개를 깼습니다. 하늘에 위치한 사당과 지저의 뿌리는 다 찾았는데 지...   \n",
       "3    ... 질문에 대한 답변: 젤다 왕눈 사당에서 152개의 모든 사당을 클리어하고 조...   \n",
       "4    ... 질문에 대한 답변: 젤다 왕눈 사당에서 152개의 모든 사당을 클리어하고 조...   \n",
       "..                                                 ...   \n",
       "310  왕눈도 전작 야숨처럼 들어갔다가 덜깨고 나온 사당은 붉은색으로 지도에 워프 표시해주...   \n",
       "311  왕눈도 전작 야숨처럼 들어갔다가 덜깨고 나온 사당은 붉은색으로 지도에 워프 표시해주...   \n",
       "312  ... 한 군데 남으신거 같은데요? 맞나요? 이미지가 작아서 잘은 안보이는데요......   \n",
       "313  ... 한 군데 남으신거 같은데요? 맞나요? 이미지가 작아서 잘은 안보이는데요......   \n",
       "314  ... 한 군데 남으신거 같은데요? 맞나요? 이미지가 작아서 잘은 안보이는데요......   \n",
       "\n",
       "                                               answers  \n",
       "0        전혀요. 시작의하늘섬에 있는 사당을 제외하면 하나도 안 깨도 엔딩볼 수 있습니다.  \n",
       "1                                   아니요 입에서 녹여드셔도 되시지요  \n",
       "2    안녕하세요?\\n하늘섬 다시 확인해 보시겠어요?\\n하늘섬에 32개고, 지상은 120개...  \n",
       "3    예 퀘스트를 받지 않고 바로 깬 것입니다\\n퀘스트 받으시면 아마 바로 클리어가 될겁...  \n",
       "4       게임에 빠져 사는 ᵔᴥᵔ게임광ᵔᴥᵔ‍ 인사드립니다 ꒰⸝⸝•ᴗ•⸝⸝꒱੭⁾⁾\\n ...  \n",
       "..                                                 ...  \n",
       "310  저 같은 경우는 사당을 먼저 많이 깼어요.\\n사당을 깨서 스테미나와 하트를 늘리고,...  \n",
       "311               저는 모르고 마지막으로 갔지만 고론 지역이 가장 쉬운 것 같아요.  \n",
       "312  스크린 샷 찍어서 올리시면 더 좋은 답변이 달릴겁니다. 너무 안보이네요.\\n참고로,...  \n",
       "313  지상의 사당은 뿌리,\\n지상의 물(바다,강등)은\\n벽입니다\\n제가 보기는 오른쪽 아...  \n",
       "314  안녕하세요?\\n지저맵의 윗부분이 잘려있네요.. 그 곳에 15군데의 뿌리가 있거든요....  \n",
       "\n",
       "[315 rows x 2 columns]"
      ]
     },
     "execution_count": 28,
     "metadata": {},
     "output_type": "execute_result"
    }
   ],
   "source": [
    "import pandas as pd\n",
    "data = pd.read_csv('./data/zelda_qna_shrine.csv')\n",
    "data"
   ]
  },
  {
   "cell_type": "markdown",
   "metadata": {},
   "source": [
    "# 데이터베이스 저장(optional)"
   ]
  },
  {
   "cell_type": "code",
   "execution_count": null,
   "metadata": {},
   "outputs": [],
   "source": []
  }
 ],
 "metadata": {
  "kernelspec": {
   "display_name": "Python 3",
   "language": "python",
   "name": "python3"
  },
  "language_info": {
   "codemirror_mode": {
    "name": "ipython",
    "version": 3
   },
   "file_extension": ".py",
   "mimetype": "text/x-python",
   "name": "python",
   "nbconvert_exporter": "python",
   "pygments_lexer": "ipython3",
   "version": "3.11.7"
  }
 },
 "nbformat": 4,
 "nbformat_minor": 2
}
